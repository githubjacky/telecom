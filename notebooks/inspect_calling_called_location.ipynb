{
 "cells": [
  {
   "cell_type": "markdown",
   "id": "eae2a0b8-bfcb-483c-95e3-a751da4420b9",
   "metadata": {},
   "source": [
    "# Introduction\n",
    "\n",
    "## Question\n",
    "How to identify the location associated with each call record to be the proxy of the calling or called\n",
    "\n",
    "## Key Assumption\n",
    "The rule should exist; that is, the rule for the location assignment in each call record is not random during the data collection process \n",
    "\n",
    "> Another related question can be asked: what is the data collection process supposed to be?\n",
    ">> Suppose a company wants to collect the calling detail records within Deyang. There must be three types of calls: calls within Deyang, calls into Deyang, and calls out from Deyang. For each type of call, if either calling number or called number is the company's client, retain it and for the other case, exclude it.\n",
    "\n",
    "## Rules\n",
    "1. calling\n",
    "2. called\n",
    "3. client\n",
    "\n",
    "\n",
    "## Setup\n",
    "If both the calling and called area code is 838, which means both the calling and called agent is within deyang, then it's impossible to identify the tower location is the proxy of the calling or called, as they are all 838.\n",
    "\n",
    "> The tower area code is infered from the corresponding address of the lontitude and latude of the tower.\n",
    "\n",
    "Therefore, we should consider those call records that only one of the calling and called area code is 838.\n",
    "\n",
    "If the tower location is the proxy of the calling, then all the calling area code should be consistent with the tower area code, etc. Notice that the \"client area code\" is infered from the \"client number\". If the client number is the calling number, the client area code is the calling area code, etc."
   ]
  },
  {
   "cell_type": "code",
   "execution_count": 1,
   "id": "856f59a5-dba4-4ace-b5f9-c0da3e2e655d",
   "metadata": {
    "execution": {
     "iopub.execute_input": "2024-03-04T06:02:53.643776Z",
     "iopub.status.busy": "2024-03-04T06:02:53.643098Z",
     "iopub.status.idle": "2024-03-04T06:02:59.684077Z",
     "shell.execute_reply": "2024-03-04T06:02:59.683030Z",
     "shell.execute_reply.started": "2024-03-04T06:02:53.643702Z"
    },
    "tags": []
   },
   "outputs": [
    {
     "name": "stderr",
     "output_type": "stream",
     "text": [
      "/usr/local/lib/python3.10/site-packages/distributed/node.py:182: UserWarning: Port 8787 is already in use.\n",
      "Perhaps you already have a cluster running?\n",
      "Hosting the HTTP server on port 43061 instead\n",
      "  warnings.warn(\n"
     ]
    },
    {
     "data": {
      "text/html": [
       "<div>\n",
       "    <div style=\"width: 24px; height: 24px; background-color: #e1e1e1; border: 3px solid #9D9D9D; border-radius: 5px; position: absolute;\"> </div>\n",
       "    <div style=\"margin-left: 48px;\">\n",
       "        <h3 style=\"margin-bottom: 0px;\">Client</h3>\n",
       "        <p style=\"color: #9D9D9D; margin-bottom: 0px;\">Client-da7e9968-d9ec-11ee-80a9-3cecef285f9e</p>\n",
       "        <table style=\"width: 100%; text-align: left;\">\n",
       "\n",
       "        <tr>\n",
       "        \n",
       "            <td style=\"text-align: left;\"><strong>Connection method:</strong> Cluster object</td>\n",
       "            <td style=\"text-align: left;\"><strong>Cluster type:</strong> dask_cuda.LocalCUDACluster</td>\n",
       "        \n",
       "        </tr>\n",
       "\n",
       "        \n",
       "            <tr>\n",
       "                <td style=\"text-align: left;\">\n",
       "                    <strong>Dashboard: </strong> <a href=\"http://127.0.0.1:43061/status\" target=\"_blank\">http://127.0.0.1:43061/status</a>\n",
       "                </td>\n",
       "                <td style=\"text-align: left;\"></td>\n",
       "            </tr>\n",
       "        \n",
       "\n",
       "        </table>\n",
       "\n",
       "        \n",
       "            <button style=\"margin-bottom: 12px;\" data-commandlinker-command=\"dask:populate-and-launch-layout\" data-commandlinker-args='{\"url\": \"http://127.0.0.1:43061/status\" }'>\n",
       "                Launch dashboard in JupyterLab\n",
       "            </button>\n",
       "        \n",
       "\n",
       "        \n",
       "            <details>\n",
       "            <summary style=\"margin-bottom: 20px;\"><h3 style=\"display: inline;\">Cluster Info</h3></summary>\n",
       "            <div class=\"jp-RenderedHTMLCommon jp-RenderedHTML jp-mod-trusted jp-OutputArea-output\">\n",
       "    <div style=\"width: 24px; height: 24px; background-color: #e1e1e1; border: 3px solid #9D9D9D; border-radius: 5px; position: absolute;\">\n",
       "    </div>\n",
       "    <div style=\"margin-left: 48px;\">\n",
       "        <h3 style=\"margin-bottom: 0px; margin-top: 0px;\">LocalCUDACluster</h3>\n",
       "        <p style=\"color: #9D9D9D; margin-bottom: 0px;\">f5dba82c</p>\n",
       "        <table style=\"width: 100%; text-align: left;\">\n",
       "            <tr>\n",
       "                <td style=\"text-align: left;\">\n",
       "                    <strong>Dashboard:</strong> <a href=\"http://127.0.0.1:43061/status\" target=\"_blank\">http://127.0.0.1:43061/status</a>\n",
       "                </td>\n",
       "                <td style=\"text-align: left;\">\n",
       "                    <strong>Workers:</strong> 2\n",
       "                </td>\n",
       "            </tr>\n",
       "            <tr>\n",
       "                <td style=\"text-align: left;\">\n",
       "                    <strong>Total threads:</strong> 2\n",
       "                </td>\n",
       "                <td style=\"text-align: left;\">\n",
       "                    <strong>Total memory:</strong> 502.58 GiB\n",
       "                </td>\n",
       "            </tr>\n",
       "            \n",
       "            <tr>\n",
       "    <td style=\"text-align: left;\"><strong>Status:</strong> running</td>\n",
       "    <td style=\"text-align: left;\"><strong>Using processes:</strong> True</td>\n",
       "</tr>\n",
       "\n",
       "            \n",
       "        </table>\n",
       "\n",
       "        <details>\n",
       "            <summary style=\"margin-bottom: 20px;\">\n",
       "                <h3 style=\"display: inline;\">Scheduler Info</h3>\n",
       "            </summary>\n",
       "\n",
       "            <div style=\"\">\n",
       "    <div>\n",
       "        <div style=\"width: 24px; height: 24px; background-color: #FFF7E5; border: 3px solid #FF6132; border-radius: 5px; position: absolute;\"> </div>\n",
       "        <div style=\"margin-left: 48px;\">\n",
       "            <h3 style=\"margin-bottom: 0px;\">Scheduler</h3>\n",
       "            <p style=\"color: #9D9D9D; margin-bottom: 0px;\">Scheduler-aeb836df-05dd-40d6-a8ec-8381abfa7849</p>\n",
       "            <table style=\"width: 100%; text-align: left;\">\n",
       "                <tr>\n",
       "                    <td style=\"text-align: left;\">\n",
       "                        <strong>Comm:</strong> ucx://127.0.0.1:33271\n",
       "                    </td>\n",
       "                    <td style=\"text-align: left;\">\n",
       "                        <strong>Workers:</strong> 2\n",
       "                    </td>\n",
       "                </tr>\n",
       "                <tr>\n",
       "                    <td style=\"text-align: left;\">\n",
       "                        <strong>Dashboard:</strong> <a href=\"http://127.0.0.1:43061/status\" target=\"_blank\">http://127.0.0.1:43061/status</a>\n",
       "                    </td>\n",
       "                    <td style=\"text-align: left;\">\n",
       "                        <strong>Total threads:</strong> 2\n",
       "                    </td>\n",
       "                </tr>\n",
       "                <tr>\n",
       "                    <td style=\"text-align: left;\">\n",
       "                        <strong>Started:</strong> Just now\n",
       "                    </td>\n",
       "                    <td style=\"text-align: left;\">\n",
       "                        <strong>Total memory:</strong> 502.58 GiB\n",
       "                    </td>\n",
       "                </tr>\n",
       "            </table>\n",
       "        </div>\n",
       "    </div>\n",
       "\n",
       "    <details style=\"margin-left: 48px;\">\n",
       "        <summary style=\"margin-bottom: 20px;\">\n",
       "            <h3 style=\"display: inline;\">Workers</h3>\n",
       "        </summary>\n",
       "\n",
       "        \n",
       "        <div style=\"margin-bottom: 20px;\">\n",
       "            <div style=\"width: 24px; height: 24px; background-color: #DBF5FF; border: 3px solid #4CC9FF; border-radius: 5px; position: absolute;\"> </div>\n",
       "            <div style=\"margin-left: 48px;\">\n",
       "            <details>\n",
       "                <summary>\n",
       "                    <h4 style=\"margin-bottom: 0px; display: inline;\">Worker: 0</h4>\n",
       "                </summary>\n",
       "                <table style=\"width: 100%; text-align: left;\">\n",
       "                    <tr>\n",
       "                        <td style=\"text-align: left;\">\n",
       "                            <strong>Comm: </strong> ucx://127.0.0.1:53435\n",
       "                        </td>\n",
       "                        <td style=\"text-align: left;\">\n",
       "                            <strong>Total threads: </strong> 1\n",
       "                        </td>\n",
       "                    </tr>\n",
       "                    <tr>\n",
       "                        <td style=\"text-align: left;\">\n",
       "                            <strong>Dashboard: </strong> <a href=\"http://127.0.0.1:36303/status\" target=\"_blank\">http://127.0.0.1:36303/status</a>\n",
       "                        </td>\n",
       "                        <td style=\"text-align: left;\">\n",
       "                            <strong>Memory: </strong> 251.29 GiB\n",
       "                        </td>\n",
       "                    </tr>\n",
       "                    <tr>\n",
       "                        <td style=\"text-align: left;\">\n",
       "                            <strong>Nanny: </strong> ucx://127.0.0.1:56911\n",
       "                        </td>\n",
       "                        <td style=\"text-align: left;\"></td>\n",
       "                    </tr>\n",
       "                    <tr>\n",
       "                        <td colspan=\"2\" style=\"text-align: left;\">\n",
       "                            <strong>Local directory: </strong> /tmp/dask-scratch-space/worker-rwybmhv4\n",
       "                        </td>\n",
       "                    </tr>\n",
       "\n",
       "                    \n",
       "                    <tr>\n",
       "                        <td style=\"text-align: left;\">\n",
       "                            <strong>GPU: </strong>NVIDIA GeForce RTX 3090\n",
       "                        </td>\n",
       "                        <td style=\"text-align: left;\">\n",
       "                            <strong>GPU memory: </strong> 24.00 GiB\n",
       "                        </td>\n",
       "                    </tr>\n",
       "                    \n",
       "\n",
       "                    \n",
       "\n",
       "                </table>\n",
       "            </details>\n",
       "            </div>\n",
       "        </div>\n",
       "        \n",
       "        <div style=\"margin-bottom: 20px;\">\n",
       "            <div style=\"width: 24px; height: 24px; background-color: #DBF5FF; border: 3px solid #4CC9FF; border-radius: 5px; position: absolute;\"> </div>\n",
       "            <div style=\"margin-left: 48px;\">\n",
       "            <details>\n",
       "                <summary>\n",
       "                    <h4 style=\"margin-bottom: 0px; display: inline;\">Worker: 1</h4>\n",
       "                </summary>\n",
       "                <table style=\"width: 100%; text-align: left;\">\n",
       "                    <tr>\n",
       "                        <td style=\"text-align: left;\">\n",
       "                            <strong>Comm: </strong> ucx://127.0.0.1:48661\n",
       "                        </td>\n",
       "                        <td style=\"text-align: left;\">\n",
       "                            <strong>Total threads: </strong> 1\n",
       "                        </td>\n",
       "                    </tr>\n",
       "                    <tr>\n",
       "                        <td style=\"text-align: left;\">\n",
       "                            <strong>Dashboard: </strong> <a href=\"http://127.0.0.1:40741/status\" target=\"_blank\">http://127.0.0.1:40741/status</a>\n",
       "                        </td>\n",
       "                        <td style=\"text-align: left;\">\n",
       "                            <strong>Memory: </strong> 251.29 GiB\n",
       "                        </td>\n",
       "                    </tr>\n",
       "                    <tr>\n",
       "                        <td style=\"text-align: left;\">\n",
       "                            <strong>Nanny: </strong> ucx://127.0.0.1:48575\n",
       "                        </td>\n",
       "                        <td style=\"text-align: left;\"></td>\n",
       "                    </tr>\n",
       "                    <tr>\n",
       "                        <td colspan=\"2\" style=\"text-align: left;\">\n",
       "                            <strong>Local directory: </strong> /tmp/dask-scratch-space/worker-o5vgdfmg\n",
       "                        </td>\n",
       "                    </tr>\n",
       "\n",
       "                    \n",
       "                    <tr>\n",
       "                        <td style=\"text-align: left;\">\n",
       "                            <strong>GPU: </strong>NVIDIA RTX A4000\n",
       "                        </td>\n",
       "                        <td style=\"text-align: left;\">\n",
       "                            <strong>GPU memory: </strong> 15.99 GiB\n",
       "                        </td>\n",
       "                    </tr>\n",
       "                    \n",
       "\n",
       "                    \n",
       "\n",
       "                </table>\n",
       "            </details>\n",
       "            </div>\n",
       "        </div>\n",
       "        \n",
       "\n",
       "    </details>\n",
       "</div>\n",
       "\n",
       "        </details>\n",
       "    </div>\n",
       "</div>\n",
       "            </details>\n",
       "        \n",
       "\n",
       "    </div>\n",
       "</div>"
      ],
      "text/plain": [
       "<Client: 'ucx://127.0.0.1:33271' processes=2 threads=2, memory=502.58 GiB>"
      ]
     },
     "execution_count": 1,
     "metadata": {},
     "output_type": "execute_result"
    }
   ],
   "source": [
    "import os\n",
    "os.chdir('..')\n",
    "\n",
    "from dask_cuda import LocalCUDACluster\n",
    "from dask.distributed import Client\n",
    "\n",
    "\n",
    "cluster = LocalCUDACluster(\n",
    "    CUDA_VISIBLE_DEVICES=\"0,1\",\n",
    "    protocol=\"ucx\",\n",
    "    enable_tcp_over_ucx=True,\n",
    "    enable_infiniband=True,\n",
    "    rmm_managed_memory=True,\n",
    "    rmm_pool_size='24GB'\n",
    ")\n",
    "client = Client(cluster)\n",
    "client"
   ]
  },
  {
   "cell_type": "code",
   "execution_count": 2,
   "id": "46f7a76c-a179-4ecd-9d13-71344574db2f",
   "metadata": {
    "execution": {
     "iopub.execute_input": "2024-03-04T06:02:59.686225Z",
     "iopub.status.busy": "2024-03-04T06:02:59.685786Z",
     "iopub.status.idle": "2024-03-04T06:03:06.251734Z",
     "shell.execute_reply": "2024-03-04T06:03:06.249964Z",
     "shell.execute_reply.started": "2024-03-04T06:02:59.686191Z"
    },
    "tags": []
   },
   "outputs": [
    {
     "data": {
      "text/html": [
       "<div>\n",
       "<style scoped>\n",
       "    .dataframe tbody tr th:only-of-type {\n",
       "        vertical-align: middle;\n",
       "    }\n",
       "\n",
       "    .dataframe tbody tr th {\n",
       "        vertical-align: top;\n",
       "    }\n",
       "\n",
       "    .dataframe thead th {\n",
       "        text-align: right;\n",
       "    }\n",
       "</style>\n",
       "<table border=\"1\" class=\"dataframe\">\n",
       "  <thead>\n",
       "    <tr style=\"text-align: right;\">\n",
       "      <th></th>\n",
       "      <th>serv_id</th>\n",
       "      <th>client_nbr</th>\n",
       "      <th>calling_nbr</th>\n",
       "      <th>calling_area_code</th>\n",
       "      <th>duration</th>\n",
       "      <th>called_area_code</th>\n",
       "      <th>called_nbr</th>\n",
       "      <th>cell_id</th>\n",
       "      <th>time</th>\n",
       "      <th>day_of_week</th>\n",
       "      <th>lon</th>\n",
       "      <th>lat</th>\n",
       "      <th>deyang_center_flag</th>\n",
       "      <th>tower_area_code</th>\n",
       "    </tr>\n",
       "  </thead>\n",
       "  <tbody>\n",
       "    <tr>\n",
       "      <th>0</th>\n",
       "      <td>a5fvkt7s</td>\n",
       "      <td>5z06jq6z</td>\n",
       "      <td>5z06jq6z</td>\n",
       "      <td>838</td>\n",
       "      <td>33</td>\n",
       "      <td>838</td>\n",
       "      <td>46rc69e6</td>\n",
       "      <td>348C</td>\n",
       "      <td>21</td>\n",
       "      <td>4</td>\n",
       "      <td>104.263</td>\n",
       "      <td>31.0913</td>\n",
       "      <td>0</td>\n",
       "      <td>838</td>\n",
       "    </tr>\n",
       "    <tr>\n",
       "      <th>1</th>\n",
       "      <td>9fo16vqy</td>\n",
       "      <td>6hz03ag8</td>\n",
       "      <td>gcy0l5w8</td>\n",
       "      <td>838</td>\n",
       "      <td>483</td>\n",
       "      <td>838</td>\n",
       "      <td>6hz03ag8</td>\n",
       "      <td>3B93</td>\n",
       "      <td>21</td>\n",
       "      <td>3</td>\n",
       "      <td>104.709</td>\n",
       "      <td>31.2001</td>\n",
       "      <td>0</td>\n",
       "      <td>838</td>\n",
       "    </tr>\n",
       "    <tr>\n",
       "      <th>2</th>\n",
       "      <td>9mgzc8ht</td>\n",
       "      <td>fq343ibo</td>\n",
       "      <td>7kwzd0j0</td>\n",
       "      <td>838</td>\n",
       "      <td>39</td>\n",
       "      <td>838</td>\n",
       "      <td>fq343ibo</td>\n",
       "      <td>3488</td>\n",
       "      <td>14</td>\n",
       "      <td>5</td>\n",
       "      <td>104.290</td>\n",
       "      <td>30.9884</td>\n",
       "      <td>0</td>\n",
       "      <td>838</td>\n",
       "    </tr>\n",
       "    <tr>\n",
       "      <th>3</th>\n",
       "      <td>8nil2kw1</td>\n",
       "      <td>ce7t2smm</td>\n",
       "      <td>5r0c6xjn</td>\n",
       "      <td>838</td>\n",
       "      <td>25</td>\n",
       "      <td>838</td>\n",
       "      <td>ce7t2smm</td>\n",
       "      <td>390C</td>\n",
       "      <td>8</td>\n",
       "      <td>0</td>\n",
       "      <td>104.245</td>\n",
       "      <td>31.1316</td>\n",
       "      <td>0</td>\n",
       "      <td>838</td>\n",
       "    </tr>\n",
       "    <tr>\n",
       "      <th>4</th>\n",
       "      <td>8uu2mydh</td>\n",
       "      <td>ima05c55</td>\n",
       "      <td>dkhqlzr7</td>\n",
       "      <td>838</td>\n",
       "      <td>129</td>\n",
       "      <td>838</td>\n",
       "      <td>ima05c55</td>\n",
       "      <td>36DB</td>\n",
       "      <td>12</td>\n",
       "      <td>1</td>\n",
       "      <td>104.429</td>\n",
       "      <td>31.1813</td>\n",
       "      <td>0</td>\n",
       "      <td>838</td>\n",
       "    </tr>\n",
       "  </tbody>\n",
       "</table>\n",
       "</div>"
      ],
      "text/plain": [
       "    serv_id client_nbr calling_nbr  calling_area_code  duration  \\\n",
       "0  a5fvkt7s   5z06jq6z    5z06jq6z                838        33   \n",
       "1  9fo16vqy   6hz03ag8    gcy0l5w8                838       483   \n",
       "2  9mgzc8ht   fq343ibo    7kwzd0j0                838        39   \n",
       "3  8nil2kw1   ce7t2smm    5r0c6xjn                838        25   \n",
       "4  8uu2mydh   ima05c55    dkhqlzr7                838       129   \n",
       "\n",
       "   called_area_code called_nbr cell_id  time  day_of_week      lon      lat  \\\n",
       "0               838   46rc69e6    348C    21            4  104.263  31.0913   \n",
       "1               838   6hz03ag8    3B93    21            3  104.709  31.2001   \n",
       "2               838   fq343ibo    3488    14            5  104.290  30.9884   \n",
       "3               838   ce7t2smm    390C     8            0  104.245  31.1316   \n",
       "4               838   ima05c55    36DB    12            1  104.429  31.1813   \n",
       "\n",
       "   deyang_center_flag  tower_area_code  \n",
       "0                   0              838  \n",
       "1                   0              838  \n",
       "2                   0              838  \n",
       "3                   0              838  \n",
       "4                   0              838  "
      ]
     },
     "execution_count": 2,
     "metadata": {},
     "output_type": "execute_result"
    }
   ],
   "source": [
    "import cudf\n",
    "import dask\n",
    "import dask.dataframe as dd\n",
    "\n",
    "dask.config.set({\"dataframe.backend\": \"cudf\"})\n",
    "\n",
    "\n",
    "cdr = dd.read_parquet('data/processed/201308/cdr_loc')\n",
    "N = len(cdr)\n",
    "\n",
    "cdr.head()"
   ]
  },
  {
   "cell_type": "markdown",
   "id": "1c261587-c08b-4aa9-9250-7958eb2cbf62",
   "metadata": {
    "tags": []
   },
   "source": [
    "## Is tower location the location proxy of the calling or called"
   ]
  },
  {
   "cell_type": "code",
   "execution_count": 3,
   "id": "abd2246b-9bbb-4961-8eaa-01a594941d38",
   "metadata": {
    "execution": {
     "iopub.execute_input": "2024-03-04T06:03:06.254583Z",
     "iopub.status.busy": "2024-03-04T06:03:06.253549Z",
     "iopub.status.idle": "2024-03-04T06:03:16.035456Z",
     "shell.execute_reply": "2024-03-04T06:03:16.034197Z",
     "shell.execute_reply.started": "2024-03-04T06:03:06.254519Z"
    },
    "tags": []
   },
   "outputs": [
    {
     "data": {
      "text/plain": [
       "0.053215001881392235"
      ]
     },
     "execution_count": 3,
     "metadata": {},
     "output_type": "execute_result"
    }
   ],
   "source": [
    "# noise ratio, given the call only one of the calling or called is within Deyang, \n",
    "#     but the tower area code is neither the calling area code nor called area code\n",
    "(\n",
    "    cdr[\n",
    "        (cdr.calling_area_code != cdr.called_area_code)\n",
    "        & (cdr.calling_area_code != cdr.tower_area_code)\n",
    "        & (cdr.called_area_code != cdr.tower_area_code)\n",
    "    ].shape[0]\n",
    "    /\n",
    "    cdr[\n",
    "        cdr.calling_area_code != cdr.called_area_code\n",
    "    ].shape[0]\n",
    ").compute()"
   ]
  },
  {
   "cell_type": "code",
   "execution_count": 4,
   "id": "1eabcd81-6fae-4bff-afdd-d8779ef1e595",
   "metadata": {
    "execution": {
     "iopub.execute_input": "2024-03-04T06:03:16.038212Z",
     "iopub.status.busy": "2024-03-04T06:03:16.037556Z",
     "iopub.status.idle": "2024-03-04T06:03:23.948158Z",
     "shell.execute_reply": "2024-03-04T06:03:23.946791Z",
     "shell.execute_reply.started": "2024-03-04T06:03:16.038135Z"
    },
    "tags": []
   },
   "outputs": [
    {
     "data": {
      "text/plain": [
       "8169482"
      ]
     },
     "execution_count": 4,
     "metadata": {},
     "output_type": "execute_result"
    }
   ],
   "source": [
    "group = cdr[\n",
    "    (cdr.calling_area_code != cdr.called_area_code)\n",
    "    # &(\n",
    "    #     (cdr.calling_area_code == cdr.tower_area_code)\n",
    "    #     |(cdr.called_area_code == cdr.tower_area_code)\n",
    "    # )\n",
    "]\n",
    "\n",
    "n = group.shape[0]\n",
    "n.compute()"
   ]
  },
  {
   "cell_type": "code",
   "execution_count": 5,
   "id": "e3ac3ab9-b64e-46be-a0a7-d0fd7927e90b",
   "metadata": {
    "execution": {
     "iopub.execute_input": "2024-03-04T06:03:23.953631Z",
     "iopub.status.busy": "2024-03-04T06:03:23.952949Z",
     "iopub.status.idle": "2024-03-04T06:03:32.685981Z",
     "shell.execute_reply": "2024-03-04T06:03:32.684824Z",
     "shell.execute_reply.started": "2024-03-04T06:03:23.953595Z"
    },
    "tags": []
   },
   "outputs": [
    {
     "data": {
      "text/plain": [
       "0.5061230320355685"
      ]
     },
     "execution_count": 5,
     "metadata": {},
     "output_type": "execute_result"
    }
   ],
   "source": [
    "n1 = (\n",
    "    group[\n",
    "        group.tower_area_code == group.calling_area_code\n",
    "    ]\n",
    "    .shape[0]\n",
    ")\n",
    "\n",
    "(n1 / n).compute()"
   ]
  },
  {
   "cell_type": "code",
   "execution_count": 6,
   "id": "8a8ffa43-7c42-4648-ab7a-b19f77846047",
   "metadata": {
    "execution": {
     "iopub.execute_input": "2024-03-04T06:03:32.688629Z",
     "iopub.status.busy": "2024-03-04T06:03:32.687972Z",
     "iopub.status.idle": "2024-03-04T06:03:41.147030Z",
     "shell.execute_reply": "2024-03-04T06:03:41.145241Z",
     "shell.execute_reply.started": "2024-03-04T06:03:32.688553Z"
    },
    "tags": []
   },
   "outputs": [
    {
     "data": {
      "text/plain": [
       "0.4406619660830393"
      ]
     },
     "execution_count": 6,
     "metadata": {},
     "output_type": "execute_result"
    }
   ],
   "source": [
    "n2 = (\n",
    "    group[\n",
    "        group.tower_area_code == group.called_area_code\n",
    "    ]\n",
    "    .shape[0]\n",
    ")\n",
    "\n",
    "(n2 / n).compute()"
   ]
  },
  {
   "cell_type": "code",
   "execution_count": 7,
   "id": "76f357b3-fea1-415e-80b1-68064c437637",
   "metadata": {
    "execution": {
     "iopub.execute_input": "2024-03-04T06:03:41.150284Z",
     "iopub.status.busy": "2024-03-04T06:03:41.149260Z",
     "iopub.status.idle": "2024-03-04T06:03:50.023792Z",
     "shell.execute_reply": "2024-03-04T06:03:50.021478Z",
     "shell.execute_reply.started": "2024-03-04T06:03:41.150224Z"
    },
    "tags": []
   },
   "outputs": [
    {
     "data": {
      "text/plain": [
       "0.053215001881392235"
      ]
     },
     "execution_count": 7,
     "metadata": {},
     "output_type": "execute_result"
    }
   ],
   "source": [
    "(\n",
    "    group[\n",
    "        (group.calling_area_code != group.tower_area_code)\n",
    "        & (group.called_area_code != group.tower_area_code)\n",
    "    ]\n",
    "    .shape[0]\n",
    "    / n\n",
    ").compute()"
   ]
  },
  {
   "cell_type": "markdown",
   "id": "3be80e2b-9164-4cd3-ad3c-2df2310d67db",
   "metadata": {
    "tags": []
   },
   "source": [
    "## How about the client area code?"
   ]
  },
  {
   "cell_type": "code",
   "execution_count": 8,
   "id": "ebf48986-14dd-405e-b178-b8ec8f31be56",
   "metadata": {
    "execution": {
     "iopub.execute_input": "2024-03-04T06:03:50.027118Z",
     "iopub.status.busy": "2024-03-04T06:03:50.026582Z",
     "iopub.status.idle": "2024-03-04T06:03:50.751245Z",
     "shell.execute_reply": "2024-03-04T06:03:50.749324Z",
     "shell.execute_reply.started": "2024-03-04T06:03:50.027073Z"
    },
    "tags": []
   },
   "outputs": [],
   "source": [
    "official_client = cudf.read_csv('data/processed/201308/clean_user_info.csv')['client_nbr']"
   ]
  },
  {
   "cell_type": "code",
   "execution_count": 9,
   "id": "b240d31a-ece2-4489-b060-9a51509dcc76",
   "metadata": {
    "execution": {
     "iopub.execute_input": "2024-03-04T06:03:50.752758Z",
     "iopub.status.busy": "2024-03-04T06:03:50.752349Z",
     "iopub.status.idle": "2024-03-04T06:03:59.848742Z",
     "shell.execute_reply": "2024-03-04T06:03:59.846683Z",
     "shell.execute_reply.started": "2024-03-04T06:03:50.752728Z"
    },
    "tags": []
   },
   "outputs": [
    {
     "data": {
      "text/plain": [
       "0.5365669084298181"
      ]
     },
     "execution_count": 9,
     "metadata": {},
     "output_type": "execute_result"
    }
   ],
   "source": [
    "(\n",
    "    group[\n",
    "        (group.tower_area_code == group.calling_area_code)\n",
    "        & (group.client_nbr == group.calling_nbr)\n",
    "    ].shape[0]\n",
    "    /\n",
    "    n1\n",
    ").compute()"
   ]
  },
  {
   "cell_type": "code",
   "execution_count": 10,
   "id": "765e30b4-f287-448c-81f5-6f5198d447a0",
   "metadata": {
    "execution": {
     "iopub.execute_input": "2024-03-04T06:03:59.852434Z",
     "iopub.status.busy": "2024-03-04T06:03:59.851759Z",
     "iopub.status.idle": "2024-03-04T06:04:08.961093Z",
     "shell.execute_reply": "2024-03-04T06:04:08.959174Z",
     "shell.execute_reply.started": "2024-03-04T06:03:59.852350Z"
    },
    "tags": []
   },
   "outputs": [
    {
     "data": {
      "text/plain": [
       "0.4036855316737622"
      ]
     },
     "execution_count": 10,
     "metadata": {},
     "output_type": "execute_result"
    }
   ],
   "source": [
    "(\n",
    "    group[\n",
    "        (group.tower_area_code == group.called_area_code)\n",
    "        & (group.client_nbr == group.called_nbr)\n",
    "    ].shape[0]\n",
    "    /\n",
    "    n1\n",
    ").compute()"
   ]
  },
  {
   "cell_type": "markdown",
   "id": "87795372-f319-40ab-91e6-b27f8ce3e316",
   "metadata": {
    "execution": {
     "iopub.execute_input": "2024-03-04T04:35:36.053684Z",
     "iopub.status.busy": "2024-03-04T04:35:36.052608Z",
     "iopub.status.idle": "2024-03-04T04:36:29.328100Z",
     "shell.execute_reply": "2024-03-04T04:36:29.325923Z",
     "shell.execute_reply.started": "2024-03-04T04:35:36.053589Z"
    },
    "tags": []
   },
   "source": [
    "## Extension: Why tower_area_code is calling_area_code but client_nbr is called_nbr ?"
   ]
  },
  {
   "cell_type": "code",
   "execution_count": 11,
   "id": "5281b03c-f220-4e59-a2c8-21bdf89669d4",
   "metadata": {
    "execution": {
     "iopub.execute_input": "2024-03-04T06:04:08.963782Z",
     "iopub.status.busy": "2024-03-04T06:04:08.963158Z",
     "iopub.status.idle": "2024-03-04T06:04:29.434016Z",
     "shell.execute_reply": "2024-03-04T06:04:29.432855Z",
     "shell.execute_reply.started": "2024-03-04T06:04:08.963712Z"
    },
    "tags": []
   },
   "outputs": [
    {
     "data": {
      "text/plain": [
       "1916203"
      ]
     },
     "execution_count": 11,
     "metadata": {},
     "output_type": "execute_result"
    }
   ],
   "source": [
    "_test = group.compute()\n",
    "\n",
    "test = _test[\n",
    "   (_test.tower_area_code == _test.calling_area_code)\n",
    "    & (_test.client_nbr == _test.called_nbr)\n",
    "]\n",
    "test.shape[0]"
   ]
  },
  {
   "cell_type": "code",
   "execution_count": 12,
   "id": "447bcaab-d129-45d1-8cb5-defd0bb60fad",
   "metadata": {
    "execution": {
     "iopub.execute_input": "2024-03-04T06:04:29.435825Z",
     "iopub.status.busy": "2024-03-04T06:04:29.435386Z",
     "iopub.status.idle": "2024-03-04T06:04:29.564463Z",
     "shell.execute_reply": "2024-03-04T06:04:29.563453Z",
     "shell.execute_reply.started": "2024-03-04T06:04:29.435790Z"
    },
    "tags": []
   },
   "outputs": [
    {
     "data": {
      "text/plain": [
       "0.7894048803806277"
      ]
     },
     "execution_count": 12,
     "metadata": {},
     "output_type": "execute_result"
    }
   ],
   "source": [
    "(\n",
    "    test[\n",
    "        ~test.calling_nbr.isin(official_client)\n",
    "    ].shape[0]\n",
    "    /\n",
    "    test.shape[0]\n",
    ")"
   ]
  },
  {
   "cell_type": "code",
   "execution_count": 13,
   "id": "55252dbf-c231-4eae-aa5d-72c6857c3afe",
   "metadata": {
    "execution": {
     "iopub.execute_input": "2024-03-04T06:04:29.566094Z",
     "iopub.status.busy": "2024-03-04T06:04:29.565673Z",
     "iopub.status.idle": "2024-03-04T06:04:29.622216Z",
     "shell.execute_reply": "2024-03-04T06:04:29.620103Z",
     "shell.execute_reply.started": "2024-03-04T06:04:29.566059Z"
    },
    "tags": []
   },
   "outputs": [
    {
     "data": {
      "text/plain": [
       "0.17625011546271455"
      ]
     },
     "execution_count": 13,
     "metadata": {},
     "output_type": "execute_result"
    }
   ],
   "source": [
    "(\n",
    "    test[\n",
    "        (test.calling_nbr.isin(official_client))\n",
    "        &(test.called_nbr.isin(official_client))\n",
    "    ].shape[0]\n",
    "    /\n",
    "    test.shape[0]\n",
    ")"
   ]
  },
  {
   "cell_type": "code",
   "execution_count": 14,
   "id": "c27b1468-1b4c-445f-b5f2-97775320b026",
   "metadata": {
    "execution": {
     "iopub.execute_input": "2024-03-04T06:04:29.627497Z",
     "iopub.status.busy": "2024-03-04T06:04:29.627048Z",
     "iopub.status.idle": "2024-03-04T06:04:29.677593Z",
     "shell.execute_reply": "2024-03-04T06:04:29.676761Z",
     "shell.execute_reply.started": "2024-03-04T06:04:29.627462Z"
    },
    "tags": []
   },
   "outputs": [
    {
     "data": {
      "text/plain": [
       "838    1864294\n",
       "28       50699\n",
       "816        902\n",
       "817         58\n",
       "833         40\n",
       "825         39\n",
       "834         31\n",
       "839         30\n",
       "837         27\n",
       "830         22\n",
       "831         12\n",
       "818          9\n",
       "827          8\n",
       "835          8\n",
       "813          7\n",
       "836          7\n",
       "826          5\n",
       "812          3\n",
       "832          1\n",
       "852          1\n",
       "Name: tower_area_code, dtype: int64"
      ]
     },
     "execution_count": 14,
     "metadata": {},
     "output_type": "execute_result"
    }
   ],
   "source": [
    "test.tower_area_code.value_counts()"
   ]
  },
  {
   "cell_type": "code",
   "execution_count": 15,
   "id": "c39b0ab0-c4e0-4c10-a8aa-0931a29bc862",
   "metadata": {
    "execution": {
     "iopub.execute_input": "2024-03-04T06:04:29.678934Z",
     "iopub.status.busy": "2024-03-04T06:04:29.678676Z",
     "iopub.status.idle": "2024-03-04T06:04:29.701631Z",
     "shell.execute_reply": "2024-03-04T06:04:29.700675Z",
     "shell.execute_reply.started": "2024-03-04T06:04:29.678906Z"
    },
    "tags": []
   },
   "outputs": [
    {
     "data": {
      "text/plain": [
       "1864294"
      ]
     },
     "execution_count": 15,
     "metadata": {},
     "output_type": "execute_result"
    }
   ],
   "source": [
    "test[\n",
    "    test.tower_area_code == 838\n",
    "].shape[0]"
   ]
  },
  {
   "cell_type": "code",
   "execution_count": 16,
   "id": "386a583b-16a7-47a4-9f75-dbf80d7b9dfa",
   "metadata": {
    "execution": {
     "iopub.execute_input": "2024-03-04T06:04:29.702984Z",
     "iopub.status.busy": "2024-03-04T06:04:29.702742Z",
     "iopub.status.idle": "2024-03-04T06:04:29.742527Z",
     "shell.execute_reply": "2024-03-04T06:04:29.741688Z",
     "shell.execute_reply.started": "2024-03-04T06:04:29.702956Z"
    },
    "tags": []
   },
   "outputs": [
    {
     "data": {
      "text/plain": [
       "1468959"
      ]
     },
     "execution_count": 16,
     "metadata": {},
     "output_type": "execute_result"
    }
   ],
   "source": [
    "test[\n",
    "    (~test.calling_nbr.isin(official_client))\n",
    "    &(test.tower_area_code == 838)\n",
    "].shape[0]"
   ]
  },
  {
   "cell_type": "code",
   "execution_count": 17,
   "id": "b1be4f1a-385c-4d15-815d-942fc44c1173",
   "metadata": {
    "execution": {
     "iopub.execute_input": "2024-03-04T06:04:29.743858Z",
     "iopub.status.busy": "2024-03-04T06:04:29.743482Z",
     "iopub.status.idle": "2024-03-04T06:04:29.798803Z",
     "shell.execute_reply": "2024-03-04T06:04:29.797945Z",
     "shell.execute_reply.started": "2024-03-04T06:04:29.743830Z"
    },
    "tags": []
   },
   "outputs": [
    {
     "data": {
      "text/plain": [
       "330556"
      ]
     },
     "execution_count": 17,
     "metadata": {},
     "output_type": "execute_result"
    }
   ],
   "source": [
    "test[\n",
    "    (test.calling_nbr.isin(official_client))\n",
    "    &(test.called_nbr.isin(official_client))\n",
    "    &(test.tower_area_code == 838)\n",
    "].shape[0]"
   ]
  },
  {
   "cell_type": "code",
   "execution_count": 18,
   "id": "88a02326-0b9e-45e6-a670-828236d84fac",
   "metadata": {
    "execution": {
     "iopub.execute_input": "2024-03-04T06:04:29.800472Z",
     "iopub.status.busy": "2024-03-04T06:04:29.799710Z",
     "iopub.status.idle": "2024-03-04T06:04:29.810972Z",
     "shell.execute_reply": "2024-03-04T06:04:29.809428Z",
     "shell.execute_reply.started": "2024-03-04T06:04:29.800443Z"
    },
    "tags": []
   },
   "outputs": [
    {
     "data": {
      "text/plain": [
       "50699"
      ]
     },
     "execution_count": 18,
     "metadata": {},
     "output_type": "execute_result"
    }
   ],
   "source": [
    "test[\n",
    "    test.tower_area_code == 28\n",
    "].shape[0]"
   ]
  },
  {
   "cell_type": "code",
   "execution_count": 19,
   "id": "4735fef2-3a70-49f6-8e6e-d0a939e7ba7e",
   "metadata": {
    "execution": {
     "iopub.execute_input": "2024-03-04T06:04:29.812468Z",
     "iopub.status.busy": "2024-03-04T06:04:29.812066Z",
     "iopub.status.idle": "2024-03-04T06:04:29.843249Z",
     "shell.execute_reply": "2024-03-04T06:04:29.842273Z",
     "shell.execute_reply.started": "2024-03-04T06:04:29.812434Z"
    },
    "tags": []
   },
   "outputs": [
    {
     "data": {
      "text/plain": [
       "42657"
      ]
     },
     "execution_count": 19,
     "metadata": {},
     "output_type": "execute_result"
    }
   ],
   "source": [
    "test[\n",
    "    (~test.calling_nbr.isin(official_client))\n",
    "    &(test.tower_area_code == 28)\n",
    "].shape[0]"
   ]
  },
  {
   "cell_type": "code",
   "execution_count": 20,
   "id": "7284710a-1dae-4633-a9ae-69ac37367ebb",
   "metadata": {
    "execution": {
     "iopub.execute_input": "2024-03-04T06:04:29.844644Z",
     "iopub.status.busy": "2024-03-04T06:04:29.844265Z",
     "iopub.status.idle": "2024-03-04T06:04:29.894791Z",
     "shell.execute_reply": "2024-03-04T06:04:29.893849Z",
     "shell.execute_reply.started": "2024-03-04T06:04:29.844615Z"
    },
    "tags": []
   },
   "outputs": [
    {
     "data": {
      "text/plain": [
       "7032"
      ]
     },
     "execution_count": 20,
     "metadata": {},
     "output_type": "execute_result"
    }
   ],
   "source": [
    "test[\n",
    "    (test.calling_nbr.isin(official_client))\n",
    "    &(test.called_nbr.isin(official_client))\n",
    "    &(test.tower_area_code == 28)\n",
    "].shape[0]"
   ]
  }
 ],
 "metadata": {
  "@webio": {
   "lastCommId": null,
   "lastKernelId": null
  },
  "kernelspec": {
   "display_name": "Poetry",
   "language": "python",
   "name": "poetry-kernel"
  },
  "language_info": {
   "codemirror_mode": {
    "name": "ipython",
    "version": 3
   },
   "file_extension": ".py",
   "mimetype": "text/x-python",
   "name": "python",
   "nbconvert_exporter": "python",
   "pygments_lexer": "ipython3",
   "version": "3.10.13"
  }
 },
 "nbformat": 4,
 "nbformat_minor": 5
}
