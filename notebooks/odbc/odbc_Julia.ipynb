{
 "cells": [
  {
   "cell_type": "code",
   "execution_count": 2,
   "id": "0721cbac",
   "metadata": {},
   "outputs": [
    {
     "data": {
      "text/plain": [
       "ODBC.Connection(telecom)"
      ]
     },
     "execution_count": 2,
     "metadata": {},
     "output_type": "execute_result"
    }
   ],
   "source": [
    "# remember ssh tuneling first\n",
    "# remember set the environment variable OVERRIDE_ODBCJL_CONFIG to true\n",
    "using ODBC, DataFrames\n",
    "\n",
    "# need to set up if yaur ODBC driver manager is unixODBC\n",
    "ODBC.setunixODBC()\n",
    "\n",
    "conn = ODBC.Connection(\"telecom\")"
   ]
  },
  {
   "cell_type": "code",
   "execution_count": 4,
   "id": "73d64fd5",
   "metadata": {},
   "outputs": [
    {
     "data": {
      "text/html": [
       "<div><div style = \"float: left;\"><span>10×20 DataFrame</span></div><div style = \"clear: both;\"></div></div><div class = \"data-frame\" style = \"overflow-x: scroll;\"><table class = \"data-frame\" style = \"margin-bottom: 6px;\"><thead><tr class = \"header\"><th class = \"rowNumber\" style = \"font-weight: bold; text-align: right;\">Row</th><th style = \"text-align: left;\">SERV_ID</th><th style = \"text-align: left;\">ACC_NBR</th><th style = \"text-align: left;\">TRAFFIC</th><th style = \"text-align: left;\">MONTH_NO</th><th style = \"text-align: left;\">CHARGE</th><th style = \"text-align: left;\">DURATION</th><th style = \"text-align: left;\">ACCT_ITEM_TYPE_CODE</th><th style = \"text-align: left;\">START_TIME</th><th style = \"text-align: left;\">END_TIME</th><th style = \"text-align: left;\">ETL_TYPE_ID</th><th style = \"text-align: left;\">CALLED_AREA_CODE</th><th style = \"text-align: left;\">CALLED_NBR</th><th style = \"text-align: left;\">LAC</th><th style = \"text-align: left;\">CELL_ID</th><th style = \"text-align: left;\">RECV_TRAFFIC</th><th style = \"text-align: left;\">CALLING_AREA_CODE</th><th style = \"text-align: left;\">CALLING_NBR</th><th style = \"text-align: left;\">SEND_TRAFFIC</th><th style = \"text-align: left;\">BILLING_DURATION</th><th style = \"text-align: left;\">CALLS</th></tr><tr class = \"subheader headerLastRow\"><th class = \"rowNumber\" style = \"font-weight: bold; text-align: right;\"></th><th title = \"Union{Missing, String}\" style = \"text-align: left;\">String?</th><th title = \"Union{Missing, String}\" style = \"text-align: left;\">String?</th><th title = \"Union{Missing, Int32}\" style = \"text-align: left;\">Int32?</th><th title = \"Union{Missing, String}\" style = \"text-align: left;\">String?</th><th title = \"Union{Missing, Int32}\" style = \"text-align: left;\">Int32?</th><th title = \"Union{Missing, Int32}\" style = \"text-align: left;\">Int32?</th><th title = \"Union{Missing, String}\" style = \"text-align: left;\">String?</th><th title = \"Union{Missing, String}\" style = \"text-align: left;\">String?</th><th title = \"Union{Missing, String}\" style = \"text-align: left;\">String?</th><th title = \"Union{Missing, String}\" style = \"text-align: left;\">String?</th><th title = \"Union{Missing, String}\" style = \"text-align: left;\">String?</th><th title = \"Union{Missing, String}\" style = \"text-align: left;\">String?</th><th title = \"Union{Missing, String}\" style = \"text-align: left;\">String?</th><th title = \"Union{Missing, String}\" style = \"text-align: left;\">String?</th><th title = \"Union{Missing, Int32}\" style = \"text-align: left;\">Int32?</th><th title = \"Union{Missing, String}\" style = \"text-align: left;\">String?</th><th title = \"Union{Missing, String}\" style = \"text-align: left;\">String?</th><th title = \"Union{Missing, Int32}\" style = \"text-align: left;\">Int32?</th><th title = \"Union{Missing, Int32}\" style = \"text-align: left;\">Int32?</th><th title = \"Union{Missing, String}\" style = \"text-align: left;\">String?</th></tr></thead><tbody><tr><td class = \"rowNumber\" style = \"font-weight: bold; text-align: right;\">1</td><td style = \"text-align: left;\">a4zlm2z0</td><td style = \"text-align: left;\">a1cnffy9</td><td style = \"text-align: right;\">0</td><td style = \"text-align: left;\">201308</td><td style = \"text-align: right;\">12</td><td style = \"text-align: right;\">0</td><td style = \"text-align: left;\">020709</td><td style = \"text-align: left;\">2013/8/1 0:00:12</td><td style = \"text-align: left;\">2013/8/1 0:00:12</td><td style = \"text-align: left;\">23</td><td style = \"text-align: left;\">-1</td><td style = \"text-align: left;\">NotMobile_-1</td><td style = \"text-align: left;\">-1</td><td style = \"text-align: left;\">-1</td><td style = \"text-align: right;\">0</td><td style = \"text-align: left;\">-1</td><td style = \"text-align: left;\">NotMobile_-1</td><td style = \"text-align: right;\">0</td><td style = \"text-align: right;\">0</td><td style = \"text-align: left;\">1</td></tr><tr><td class = \"rowNumber\" style = \"font-weight: bold; text-align: right;\">2</td><td style = \"text-align: left;\">a4zlm2z0</td><td style = \"text-align: left;\">a1cnffy9</td><td style = \"text-align: right;\">0</td><td style = \"text-align: left;\">201308</td><td style = \"text-align: right;\">12</td><td style = \"text-align: right;\">1</td><td style = \"text-align: left;\">020709</td><td style = \"text-align: left;\">2013/8/1 0:03:03</td><td style = \"text-align: left;\">2013/8/1 0:03:04</td><td style = \"text-align: left;\">23</td><td style = \"text-align: left;\">-1</td><td style = \"text-align: left;\">NotMobile_-1</td><td style = \"text-align: left;\">-1</td><td style = \"text-align: left;\">-1</td><td style = \"text-align: right;\">0</td><td style = \"text-align: left;\">-1</td><td style = \"text-align: left;\">NotMobile_-1</td><td style = \"text-align: right;\">0</td><td style = \"text-align: right;\">0</td><td style = \"text-align: left;\">1</td></tr><tr><td class = \"rowNumber\" style = \"font-weight: bold; text-align: right;\">3</td><td style = \"text-align: left;\">a4zlm2z0</td><td style = \"text-align: left;\">a1cnffy9</td><td style = \"text-align: right;\">0</td><td style = \"text-align: left;\">201308</td><td style = \"text-align: right;\">12</td><td style = \"text-align: right;\">0</td><td style = \"text-align: left;\">020709</td><td style = \"text-align: left;\">2013/8/1 0:05:52</td><td style = \"text-align: left;\">2013/8/1 0:05:52</td><td style = \"text-align: left;\">23</td><td style = \"text-align: left;\">-1</td><td style = \"text-align: left;\">NotMobile_-1</td><td style = \"text-align: left;\">-1</td><td style = \"text-align: left;\">-1</td><td style = \"text-align: right;\">0</td><td style = \"text-align: left;\">-1</td><td style = \"text-align: left;\">NotMobile_-1</td><td style = \"text-align: right;\">0</td><td style = \"text-align: right;\">0</td><td style = \"text-align: left;\">1</td></tr><tr><td class = \"rowNumber\" style = \"font-weight: bold; text-align: right;\">4</td><td style = \"text-align: left;\">a4zlm2z0</td><td style = \"text-align: left;\">a1cnffy9</td><td style = \"text-align: right;\">0</td><td style = \"text-align: left;\">201308</td><td style = \"text-align: right;\">12</td><td style = \"text-align: right;\">0</td><td style = \"text-align: left;\">020709</td><td style = \"text-align: left;\">2013/8/1 0:08:44</td><td style = \"text-align: left;\">2013/8/1 0:08:44</td><td style = \"text-align: left;\">23</td><td style = \"text-align: left;\">-1</td><td style = \"text-align: left;\">NotMobile_-1</td><td style = \"text-align: left;\">-1</td><td style = \"text-align: left;\">-1</td><td style = \"text-align: right;\">0</td><td style = \"text-align: left;\">-1</td><td style = \"text-align: left;\">NotMobile_-1</td><td style = \"text-align: right;\">0</td><td style = \"text-align: right;\">0</td><td style = \"text-align: left;\">1</td></tr><tr><td class = \"rowNumber\" style = \"font-weight: bold; text-align: right;\">5</td><td style = \"text-align: left;\">a4zlm2z0</td><td style = \"text-align: left;\">a1cnffy9</td><td style = \"text-align: right;\">0</td><td style = \"text-align: left;\">201308</td><td style = \"text-align: right;\">12</td><td style = \"text-align: right;\">0</td><td style = \"text-align: left;\">020709</td><td style = \"text-align: left;\">2013/8/1 0:11:45</td><td style = \"text-align: left;\">2013/8/1 0:11:45</td><td style = \"text-align: left;\">23</td><td style = \"text-align: left;\">-1</td><td style = \"text-align: left;\">NotMobile_-1</td><td style = \"text-align: left;\">-1</td><td style = \"text-align: left;\">-1</td><td style = \"text-align: right;\">0</td><td style = \"text-align: left;\">-1</td><td style = \"text-align: left;\">NotMobile_-1</td><td style = \"text-align: right;\">0</td><td style = \"text-align: right;\">0</td><td style = \"text-align: left;\">1</td></tr><tr><td class = \"rowNumber\" style = \"font-weight: bold; text-align: right;\">6</td><td style = \"text-align: left;\">a4zlm2z0</td><td style = \"text-align: left;\">a1cnffy9</td><td style = \"text-align: right;\">0</td><td style = \"text-align: left;\">201308</td><td style = \"text-align: right;\">12</td><td style = \"text-align: right;\">1</td><td style = \"text-align: left;\">020709</td><td style = \"text-align: left;\">2013/8/1 0:14:34</td><td style = \"text-align: left;\">2013/8/1 0:14:35</td><td style = \"text-align: left;\">23</td><td style = \"text-align: left;\">-1</td><td style = \"text-align: left;\">NotMobile_-1</td><td style = \"text-align: left;\">-1</td><td style = \"text-align: left;\">-1</td><td style = \"text-align: right;\">0</td><td style = \"text-align: left;\">-1</td><td style = \"text-align: left;\">NotMobile_-1</td><td style = \"text-align: right;\">0</td><td style = \"text-align: right;\">0</td><td style = \"text-align: left;\">1</td></tr><tr><td class = \"rowNumber\" style = \"font-weight: bold; text-align: right;\">7</td><td style = \"text-align: left;\">a4zlm2z0</td><td style = \"text-align: left;\">a1cnffy9</td><td style = \"text-align: right;\">0</td><td style = \"text-align: left;\">201308</td><td style = \"text-align: right;\">12</td><td style = \"text-align: right;\">1</td><td style = \"text-align: left;\">020709</td><td style = \"text-align: left;\">2013/8/1 0:20:48</td><td style = \"text-align: left;\">2013/8/1 0:20:49</td><td style = \"text-align: left;\">23</td><td style = \"text-align: left;\">-1</td><td style = \"text-align: left;\">NotMobile_-1</td><td style = \"text-align: left;\">-1</td><td style = \"text-align: left;\">-1</td><td style = \"text-align: right;\">0</td><td style = \"text-align: left;\">-1</td><td style = \"text-align: left;\">NotMobile_-1</td><td style = \"text-align: right;\">0</td><td style = \"text-align: right;\">0</td><td style = \"text-align: left;\">1</td></tr><tr><td class = \"rowNumber\" style = \"font-weight: bold; text-align: right;\">8</td><td style = \"text-align: left;\">a4zlm2z0</td><td style = \"text-align: left;\">a1cnffy9</td><td style = \"text-align: right;\">0</td><td style = \"text-align: left;\">201308</td><td style = \"text-align: right;\">12</td><td style = \"text-align: right;\">1</td><td style = \"text-align: left;\">020709</td><td style = \"text-align: left;\">2013/8/1 0:17:43</td><td style = \"text-align: left;\">2013/8/1 0:17:44</td><td style = \"text-align: left;\">23</td><td style = \"text-align: left;\">-1</td><td style = \"text-align: left;\">NotMobile_-1</td><td style = \"text-align: left;\">-1</td><td style = \"text-align: left;\">-1</td><td style = \"text-align: right;\">0</td><td style = \"text-align: left;\">-1</td><td style = \"text-align: left;\">NotMobile_-1</td><td style = \"text-align: right;\">0</td><td style = \"text-align: right;\">0</td><td style = \"text-align: left;\">1</td></tr><tr><td class = \"rowNumber\" style = \"font-weight: bold; text-align: right;\">9</td><td style = \"text-align: left;\">9009el52</td><td style = \"text-align: left;\">gknb3xak</td><td style = \"text-align: right;\">0</td><td style = \"text-align: left;\">201308</td><td style = \"text-align: right;\">1000</td><td style = \"text-align: right;\">7</td><td style = \"text-align: left;\">120202</td><td style = \"text-align: left;\">2013/8/1 0:19:16</td><td style = \"text-align: left;\">2013/8/1 0:19:23</td><td style = \"text-align: left;\">23</td><td style = \"text-align: left;\">-1</td><td style = \"text-align: left;\">NotMobile_-1</td><td style = \"text-align: left;\">-1</td><td style = \"text-align: left;\">-1</td><td style = \"text-align: right;\">0</td><td style = \"text-align: left;\">-1</td><td style = \"text-align: left;\">NotMobile_-1</td><td style = \"text-align: right;\">0</td><td style = \"text-align: right;\">0</td><td style = \"text-align: left;\">1</td></tr><tr><td class = \"rowNumber\" style = \"font-weight: bold; text-align: right;\">10</td><td style = \"text-align: left;\">a4zlm2z0</td><td style = \"text-align: left;\">a1cnffy9</td><td style = \"text-align: right;\">0</td><td style = \"text-align: left;\">201308</td><td style = \"text-align: right;\">12</td><td style = \"text-align: right;\">1</td><td style = \"text-align: left;\">020709</td><td style = \"text-align: left;\">2013/8/1 0:27:01</td><td style = \"text-align: left;\">2013/8/1 0:27:02</td><td style = \"text-align: left;\">23</td><td style = \"text-align: left;\">-1</td><td style = \"text-align: left;\">NotMobile_-1</td><td style = \"text-align: left;\">-1</td><td style = \"text-align: left;\">-1</td><td style = \"text-align: right;\">0</td><td style = \"text-align: left;\">-1</td><td style = \"text-align: left;\">NotMobile_-1</td><td style = \"text-align: right;\">0</td><td style = \"text-align: right;\">0</td><td style = \"text-align: left;\">1</td></tr></tbody></table></div>"
      ],
      "text/latex": [
       "\\begin{tabular}{r|ccccccccc}\n",
       "\t& SERV\\_ID & ACC\\_NBR & TRAFFIC & MONTH\\_NO & CHARGE & DURATION & ACCT\\_ITEM\\_TYPE\\_CODE & START\\_TIME & \\\\\n",
       "\t\\hline\n",
       "\t& String? & String? & Int32? & String? & Int32? & Int32? & String? & String? & \\\\\n",
       "\t\\hline\n",
       "\t1 & a4zlm2z0 & a1cnffy9 & 0 & 201308 & 12 & 0 & 020709 & 2013/8/1 0:00:12 & $\\dots$ \\\\\n",
       "\t2 & a4zlm2z0 & a1cnffy9 & 0 & 201308 & 12 & 1 & 020709 & 2013/8/1 0:03:03 & $\\dots$ \\\\\n",
       "\t3 & a4zlm2z0 & a1cnffy9 & 0 & 201308 & 12 & 0 & 020709 & 2013/8/1 0:05:52 & $\\dots$ \\\\\n",
       "\t4 & a4zlm2z0 & a1cnffy9 & 0 & 201308 & 12 & 0 & 020709 & 2013/8/1 0:08:44 & $\\dots$ \\\\\n",
       "\t5 & a4zlm2z0 & a1cnffy9 & 0 & 201308 & 12 & 0 & 020709 & 2013/8/1 0:11:45 & $\\dots$ \\\\\n",
       "\t6 & a4zlm2z0 & a1cnffy9 & 0 & 201308 & 12 & 1 & 020709 & 2013/8/1 0:14:34 & $\\dots$ \\\\\n",
       "\t7 & a4zlm2z0 & a1cnffy9 & 0 & 201308 & 12 & 1 & 020709 & 2013/8/1 0:20:48 & $\\dots$ \\\\\n",
       "\t8 & a4zlm2z0 & a1cnffy9 & 0 & 201308 & 12 & 1 & 020709 & 2013/8/1 0:17:43 & $\\dots$ \\\\\n",
       "\t9 & 9009el52 & gknb3xak & 0 & 201308 & 1000 & 7 & 120202 & 2013/8/1 0:19:16 & $\\dots$ \\\\\n",
       "\t10 & a4zlm2z0 & a1cnffy9 & 0 & 201308 & 12 & 1 & 020709 & 2013/8/1 0:27:01 & $\\dots$ \\\\\n",
       "\\end{tabular}\n"
      ],
      "text/plain": [
       "\u001b[1m10×20 DataFrame\u001b[0m\n",
       "\u001b[1m Row \u001b[0m│\u001b[1m SERV_ID  \u001b[0m\u001b[1m ACC_NBR  \u001b[0m\u001b[1m TRAFFIC \u001b[0m\u001b[1m MONTH_NO \u001b[0m\u001b[1m CHARGE \u001b[0m\u001b[1m DURATION \u001b[0m\u001b[1m ACCT_ITEM_TYPE\u001b[0m ⋯\n",
       "     │\u001b[90m String?  \u001b[0m\u001b[90m String?  \u001b[0m\u001b[90m Int32?  \u001b[0m\u001b[90m String?  \u001b[0m\u001b[90m Int32? \u001b[0m\u001b[90m Int32?   \u001b[0m\u001b[90m String?       \u001b[0m ⋯\n",
       "─────┼──────────────────────────────────────────────────────────────────────────\n",
       "   1 │ a4zlm2z0  a1cnffy9        0  201308        12         0  020709         ⋯\n",
       "   2 │ a4zlm2z0  a1cnffy9        0  201308        12         1  020709\n",
       "   3 │ a4zlm2z0  a1cnffy9        0  201308        12         0  020709\n",
       "   4 │ a4zlm2z0  a1cnffy9        0  201308        12         0  020709\n",
       "   5 │ a4zlm2z0  a1cnffy9        0  201308        12         0  020709         ⋯\n",
       "   6 │ a4zlm2z0  a1cnffy9        0  201308        12         1  020709\n",
       "   7 │ a4zlm2z0  a1cnffy9        0  201308        12         1  020709\n",
       "   8 │ a4zlm2z0  a1cnffy9        0  201308        12         1  020709\n",
       "   9 │ 9009el52  gknb3xak        0  201308      1000         7  120202         ⋯\n",
       "  10 │ a4zlm2z0  a1cnffy9        0  201308        12         1  020709\n",
       "\u001b[36m                                                              14 columns omitted\u001b[0m"
      ]
     },
     "execution_count": 4,
     "metadata": {},
     "output_type": "execute_result"
    }
   ],
   "source": [
    "sql = \"\"\"\n",
    "SELECT\n",
    "    *\n",
    "FROM serv_acct_item_0838_201308\n",
    "LIMIT 10;\n",
    "\"\"\"\n",
    "\n",
    "tower = DBInterface.execute(conn, sql) |> DataFrame"
   ]
  }
 ],
 "metadata": {
  "kernelspec": {
   "display_name": "Julia 1.9.1",
   "language": "julia",
   "name": "julia-1.9"
  },
  "language_info": {
   "file_extension": ".jl",
   "mimetype": "application/julia",
   "name": "julia",
   "version": "1.9.1"
  }
 },
 "nbformat": 4,
 "nbformat_minor": 5
}
