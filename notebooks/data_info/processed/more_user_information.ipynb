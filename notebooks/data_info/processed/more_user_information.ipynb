{
 "cells": [
  {
   "cell_type": "code",
   "execution_count": 1,
   "id": "93479513",
   "metadata": {},
   "outputs": [
    {
     "name": "stdout",
     "output_type": "stream",
     "text": [
      "\u001b[33mThere's a new jupysql version available (0.10.0), you're running 0.9.1. To upgrade: pip install jupysql --upgrade\u001b[0m\n"
     ]
    },
    {
     "data": {
      "text/html": [
       "<span style=\"None\">Found pyproject.toml from &#x27;/telecom&#x27;</span>"
      ],
      "text/plain": [
       "Found pyproject.toml from '/telecom'"
      ]
     },
     "metadata": {},
     "output_type": "display_data"
    }
   ],
   "source": [
    "from sqlalchemy import create_engine\n",
    "\n",
    "\n",
    "engine = create_engine('mysql+pyodbc://telecom')\n",
    "%load_ext sql\n",
    "%sql engine\n",
    "%config SqlMagic.autopandas = True"
   ]
  },
  {
   "cell_type": "code",
   "execution_count": 5,
   "id": "d5f795d7",
   "metadata": {},
   "outputs": [
    {
     "data": {
      "text/html": [
       "<span style=\"None\">Running query in &#x27;mysql+pyodbc://telecom&#x27;</span>"
      ],
      "text/plain": [
       "Running query in 'mysql+pyodbc://telecom'"
      ]
     },
     "metadata": {},
     "output_type": "display_data"
    },
    {
     "data": {
      "text/html": [
       "<span style=\"color: green\">432784 rows affected.</span>"
      ],
      "text/plain": [
       "432784 rows affected."
      ]
     },
     "metadata": {},
     "output_type": "display_data"
    },
    {
     "data": {
      "text/html": [
       "<div>\n",
       "<style scoped>\n",
       "    .dataframe tbody tr th:only-of-type {\n",
       "        vertical-align: middle;\n",
       "    }\n",
       "\n",
       "    .dataframe tbody tr th {\n",
       "        vertical-align: top;\n",
       "    }\n",
       "\n",
       "    .dataframe thead th {\n",
       "        text-align: right;\n",
       "    }\n",
       "</style>\n",
       "<table border=\"1\" class=\"dataframe\">\n",
       "  <thead>\n",
       "    <tr style=\"text-align: right;\">\n",
       "      <th></th>\n",
       "    </tr>\n",
       "  </thead>\n",
       "  <tbody>\n",
       "  </tbody>\n",
       "</table>\n",
       "</div>"
      ],
      "text/plain": [
       "Empty DataFrame\n",
       "Columns: []\n",
       "Index: []"
      ]
     },
     "execution_count": 5,
     "metadata": {},
     "output_type": "execute_result"
    }
   ],
   "source": [
    "%%sql\n",
    "\n",
    "CREATE TABLE target_node(\n",
    "    SELECT DISTINCT subquery.client_nbr\n",
    "    FROM(\n",
    "        (\n",
    "            SELECT calling_nbr AS client_nbr\n",
    "            FROM clean_cdr\n",
    "            WHERE calling_nbr in (SELECT MSISDN FROM tb_asz_cdma_0838_201308)\n",
    "        )\n",
    "        UNION\n",
    "        (\n",
    "            SELECT called_nbr AS client_nbr\n",
    "            FROM clean_cdr\n",
    "            WHERE called_nbr in (SELECT MSISDN FROM tb_asz_cdma_0838_201308)\n",
    "        )\n",
    "    ) AS subquery\n",
    ")"
   ]
  },
  {
   "cell_type": "code",
   "execution_count": null,
   "id": "e8205da7",
   "metadata": {},
   "outputs": [],
   "source": [
    "%config SqlMagic.named_parameters=True"
   ]
  },
  {
   "cell_type": "code",
   "execution_count": 239,
   "id": "9ef8367d",
   "metadata": {},
   "outputs": [
    {
     "data": {
      "text/html": [
       "<span style=\"None\">Running query in &#x27;mysql+pyodbc://telecom&#x27;</span>"
      ],
      "text/plain": [
       "Running query in 'mysql+pyodbc://telecom'"
      ]
     },
     "metadata": {},
     "output_type": "display_data"
    },
    {
     "data": {
      "text/html": [
       "<div>\n",
       "<style scoped>\n",
       "    .dataframe tbody tr th:only-of-type {\n",
       "        vertical-align: middle;\n",
       "    }\n",
       "\n",
       "    .dataframe tbody tr th {\n",
       "        vertical-align: top;\n",
       "    }\n",
       "\n",
       "    .dataframe thead th {\n",
       "        text-align: right;\n",
       "    }\n",
       "</style>\n",
       "<table border=\"1\" class=\"dataframe\">\n",
       "  <thead>\n",
       "    <tr style=\"text-align: right;\">\n",
       "      <th></th>\n",
       "    </tr>\n",
       "  </thead>\n",
       "  <tbody>\n",
       "  </tbody>\n",
       "</table>\n",
       "</div>"
      ],
      "text/plain": [
       "Empty DataFrame\n",
       "Columns: []\n",
       "Index: []"
      ]
     },
     "execution_count": 239,
     "metadata": {},
     "output_type": "execute_result"
    }
   ],
   "source": [
    "%sql DROP TABLE a"
   ]
  },
  {
   "cell_type": "code",
   "execution_count": 293,
   "id": "bb006b2c",
   "metadata": {},
   "outputs": [
    {
     "data": {
      "text/html": [
       "<span style=\"None\">Running query in &#x27;mysql+pyodbc://telecom&#x27;</span>"
      ],
      "text/plain": [
       "Running query in 'mysql+pyodbc://telecom'"
      ]
     },
     "metadata": {},
     "output_type": "display_data"
    },
    {
     "data": {
      "text/html": [
       "<span style=\"color: green\">302904 rows affected.</span>"
      ],
      "text/plain": [
       "302904 rows affected."
      ]
     },
     "metadata": {},
     "output_type": "display_data"
    },
    {
     "data": {
      "text/html": [
       "<div>\n",
       "<style scoped>\n",
       "    .dataframe tbody tr th:only-of-type {\n",
       "        vertical-align: middle;\n",
       "    }\n",
       "\n",
       "    .dataframe tbody tr th {\n",
       "        vertical-align: top;\n",
       "    }\n",
       "\n",
       "    .dataframe thead th {\n",
       "        text-align: right;\n",
       "    }\n",
       "</style>\n",
       "<table border=\"1\" class=\"dataframe\">\n",
       "  <thead>\n",
       "    <tr style=\"text-align: right;\">\n",
       "      <th></th>\n",
       "    </tr>\n",
       "  </thead>\n",
       "  <tbody>\n",
       "  </tbody>\n",
       "</table>\n",
       "</div>"
      ],
      "text/plain": [
       "Empty DataFrame\n",
       "Columns: []\n",
       "Index: []"
      ]
     },
     "execution_count": 293,
     "metadata": {},
     "output_type": "execute_result"
    }
   ],
   "source": [
    "%%sql\n",
    "\n",
    "CREATE TABLE clean_user_info(\n",
    "SELECT\n",
    "    MSISDN                                          AS client_nbr,\n",
    "    CI_DISTRICT                                     AS register_district,\n",
    "    2013 - CONVERT(SUBSTR(CERT_NBR,10,4), UNSIGNED) AS age,\n",
    "    HS_CDMA_BRAND                                   AS phone_brand,\n",
    "    CASE HS_CDMA_LAYER \n",
    "        WHEN '超低端' THEN 1\n",
    "        WHEN '低端' THEN 2\n",
    "        WHEN '中端' THEN 3\n",
    "        WHEN '高端' THEN 4\n",
    "        ELSE 5\n",
    "    END                                             AS phone_level,\n",
    "    HS_CDMA_TER_PRICE                               AS phone_price,\n",
    "    CONVERT(HS_CDMA_IS_EVDO, UNSIGNED)              AS evdo_support_flag,\n",
    "    VO_CDMA_MOUOUT_LOCAL_M1                         AS mou_local,\n",
    "    VO_CDMA_MOU_DIST_M1                             AS mou_dist,\n",
    "    VO_NET_VOL_M1                                   AS network_vol,\n",
    "    CONVERT(PD_EVDO_FLAG_M1, UNSIGNED)              AS evdo_use_flag,\n",
    "    CONVERT(PD_1X_FLAG_M1, UNSIGNED)                AS onex_use_flag,\n",
    "    VO_EVDO_VOL_M1                                  AS evdo_vol,\n",
    "    VO_1X_VOL_M1                                    AS onex_vol,\n",
    "    MB_ARPU_CDMA_ALL_M1                             AS arpu,\n",
    "    CONVERT(PL_E9_FLAG, UNSIGNED)                   AS e9_service_flag,\n",
    "    CONVERT(PL_E6_FLAG, UNSIGNED)                   AS e6_service_flag,\n",
    "    CONVERT(IS_E9ZX, UNSIGNED)                      AS e9_service_premium_flag,\n",
    "    CASE IS_8CARD WHEN '是' THEN 1 ELSE 0 END       AS 8card_service_flag,      \n",
    "    CASE IS_INTELLIGENT WHEN '是' THEN 1 ELSE 0 END AS smart_phone_flag,\n",
    "    CASE IS_CARDPHONE WHEN '是' THEN 1 ELSE 0 END   AS card_phone_flag,\n",
    "    CASE WHEN \n",
    "            (\n",
    "                DETAIL_NAME = '农村公众（家庭及个人）' OR\n",
    "                DETAIL_NAME = '农村客户'\n",
    "            ) \n",
    "            OR \n",
    "            PL_IVPN_CAT = '乡情v网' OR \n",
    "            BSS_ORG_ZJ_FLAG = '1'\n",
    "    THEN 1 ELSE 0 END AS rural_flag,\n",
    "    CASE WHEN\n",
    "        (\n",
    "            DETAIL_NAME IS NOT NULL AND \n",
    "            DETAIL_NAME != '个人客户' AND\n",
    "            DETAIL_NAME != '家庭客户' AND\n",
    "            DETAIL_NAME != '农村公众（家庭及个人）' AND \n",
    "            DETAIL_NAME != '农村客户' AND\n",
    "            DETAIL_NAME != '城市个人客户' AND\n",
    "            DETAIL_NAME != '城市家庭客户'\n",
    "        )\n",
    "        OR \n",
    "        (\n",
    "            (CI_IVPN_FLAG=1 OR VPN_FLAG=1) AND \n",
    "            (PL_IVPN_CAT IS NULL OR PL_IVPN_CAT = '虚拟网' OR PL_IVPN_CAT='家庭V网')\n",
    "        )\n",
    "        OR \n",
    "        (\n",
    "            MB_ENPR_FLAG_M1 = 1 OR   # individual works for government\n",
    "            IS_BUSINESS = '1' OR     # wheter pay the fee\n",
    "            RED_MARK = 1 OR          # 省市领导级别的人\n",
    "            PL_BUSINESS_FLAG = 1 OR  # business user\n",
    "            IS_ZQJN = 1 OR           # whether the gorvernment & enterprise cluster\t\n",
    "            IS_ZQHY = 1              # whether the government & enterprise industry\n",
    "        )\n",
    "    THEN 1 ELSE 0 END AS employ_flag,\n",
    "    CASE WHEN \n",
    "        DETAIL_NAME = '高等和职业院校' OR \n",
    "        PL_IVPN_CAT = '校园V网' OR \n",
    "        PL_CAMPUS_FLAG = 1 OR \n",
    "        IS_SCHOOL = '1'\n",
    "    THEN 1 ELSE 0 END AS student_flag\n",
    "FROM tb_asz_cdma_0838_201308\n",
    "WHERE\n",
    "    CERT_NBR RLIKE '[1-8][0-7]-[0-7][0-9]-[0-9][0-9]-[12][09][0-9][0-9]-[01][0-9]-[0-3][0-9]-[01]' AND\n",
    "    (CI_DISTRICT != '德阳市未知营业区' AND CI_DISTRICT != 'None')AND\n",
    "    (\n",
    "        SUBSTR(CERT_NBR,10,4)>='1920' AND \n",
    "        CONVERT(SUBSTR(CERT_NBR,10,4),UNSIGNED)<=CONVERT(SUBSTR(MONTH_NO,1,4),UNSIGNED)-16 AND \n",
    "        SUBSTR(CERT_NBR,15,2)>='01' AND \n",
    "        SUBSTR(CERT_NBR,15,2)<='12' AND \n",
    "        SUBSTR(CERT_NBR,18,2)>='01' AND \n",
    "        SUBSTR(CERT_NBR,18,2)<='31'\n",
    "    )\n",
    "    AND\n",
    "    PD_CDMA_STATUS = '正常' AND\n",
    "    (HS_CDMA_BRAND != 'None' AND HS_CDMA_BRAND != '') AND\n",
    "    HS_CDMA_LAYER != 'None' AND\n",
    "    HS_CDMA_IS_EVDO != 'None' AND\n",
    "    PL_BB_FLAG = 0 AND  # wireless ?\n",
    "    IS_WX_FLAG = 0 AND  # wireless ?\n",
    "    PAYMENT_FLAG = 1 AND\n",
    "    IS_INTELLIGENT != 'None' AND\n",
    "    HS_CDMA_MODEL NOT LIKE '%(固定台)' AND\n",
    "    MSISDN IN (SELECT client_nbr FROM target_node)\n",
    ")"
   ]
  },
  {
   "cell_type": "code",
   "execution_count": 2,
   "id": "1fd632bd",
   "metadata": {},
   "outputs": [
    {
     "data": {
      "text/html": [
       "<span style=\"None\">Running query in &#x27;mysql+pyodbc://telecom&#x27;</span>"
      ],
      "text/plain": [
       "Running query in 'mysql+pyodbc://telecom'"
      ]
     },
     "metadata": {},
     "output_type": "display_data"
    },
    {
     "data": {
      "text/html": [
       "<div>\n",
       "<style scoped>\n",
       "    .dataframe tbody tr th:only-of-type {\n",
       "        vertical-align: middle;\n",
       "    }\n",
       "\n",
       "    .dataframe tbody tr th {\n",
       "        vertical-align: top;\n",
       "    }\n",
       "\n",
       "    .dataframe thead th {\n",
       "        text-align: right;\n",
       "    }\n",
       "</style>\n",
       "<table border=\"1\" class=\"dataframe\">\n",
       "  <thead>\n",
       "    <tr style=\"text-align: right;\">\n",
       "      <th></th>\n",
       "    </tr>\n",
       "  </thead>\n",
       "  <tbody>\n",
       "  </tbody>\n",
       "</table>\n",
       "</div>"
      ],
      "text/plain": [
       "Empty DataFrame\n",
       "Columns: []\n",
       "Index: []"
      ]
     },
     "execution_count": 2,
     "metadata": {},
     "output_type": "execute_result"
    }
   ],
   "source": [
    "%sql DROP TABLE target_node"
   ]
  },
  {
   "cell_type": "code",
   "execution_count": 3,
   "id": "953a3e6e",
   "metadata": {},
   "outputs": [
    {
     "data": {
      "text/html": [
       "<span style=\"None\">Running query in &#x27;mysql+pyodbc://telecom&#x27;</span>"
      ],
      "text/plain": [
       "Running query in 'mysql+pyodbc://telecom'"
      ]
     },
     "metadata": {},
     "output_type": "display_data"
    },
    {
     "data": {
      "text/html": [
       "<span style=\"color: green\">1 rows affected.</span>"
      ],
      "text/plain": [
       "1 rows affected."
      ]
     },
     "metadata": {},
     "output_type": "display_data"
    },
    {
     "data": {
      "text/html": [
       "<div>\n",
       "<style scoped>\n",
       "    .dataframe tbody tr th:only-of-type {\n",
       "        vertical-align: middle;\n",
       "    }\n",
       "\n",
       "    .dataframe tbody tr th {\n",
       "        vertical-align: top;\n",
       "    }\n",
       "\n",
       "    .dataframe thead th {\n",
       "        text-align: right;\n",
       "    }\n",
       "</style>\n",
       "<table border=\"1\" class=\"dataframe\">\n",
       "  <thead>\n",
       "    <tr style=\"text-align: right;\">\n",
       "      <th></th>\n",
       "      <th>COUNT(*)</th>\n",
       "    </tr>\n",
       "  </thead>\n",
       "  <tbody>\n",
       "    <tr>\n",
       "      <th>0</th>\n",
       "      <td>52978357</td>\n",
       "    </tr>\n",
       "  </tbody>\n",
       "</table>\n",
       "</div>"
      ],
      "text/plain": [
       "   COUNT(*)\n",
       "0  52978357"
      ]
     },
     "execution_count": 3,
     "metadata": {},
     "output_type": "execute_result"
    }
   ],
   "source": [
    "%sql SELECT COUNT(*) FROM clean_cdr"
   ]
  },
  {
   "cell_type": "code",
   "execution_count": 4,
   "id": "a1d139b0",
   "metadata": {},
   "outputs": [
    {
     "data": {
      "text/html": [
       "<span style=\"None\">Running query in &#x27;mysql+pyodbc://telecom&#x27;</span>"
      ],
      "text/plain": [
       "Running query in 'mysql+pyodbc://telecom'"
      ]
     },
     "metadata": {},
     "output_type": "display_data"
    },
    {
     "data": {
      "text/html": [
       "<span style=\"color: green\">1 rows affected.</span>"
      ],
      "text/plain": [
       "1 rows affected."
      ]
     },
     "metadata": {},
     "output_type": "display_data"
    },
    {
     "data": {
      "text/html": [
       "<div>\n",
       "<style scoped>\n",
       "    .dataframe tbody tr th:only-of-type {\n",
       "        vertical-align: middle;\n",
       "    }\n",
       "\n",
       "    .dataframe tbody tr th {\n",
       "        vertical-align: top;\n",
       "    }\n",
       "\n",
       "    .dataframe thead th {\n",
       "        text-align: right;\n",
       "    }\n",
       "</style>\n",
       "<table border=\"1\" class=\"dataframe\">\n",
       "  <thead>\n",
       "    <tr style=\"text-align: right;\">\n",
       "      <th></th>\n",
       "      <th>COUNT(*)</th>\n",
       "    </tr>\n",
       "  </thead>\n",
       "  <tbody>\n",
       "    <tr>\n",
       "      <th>0</th>\n",
       "      <td>41985536</td>\n",
       "    </tr>\n",
       "  </tbody>\n",
       "</table>\n",
       "</div>"
      ],
      "text/plain": [
       "   COUNT(*)\n",
       "0  41985536"
      ]
     },
     "execution_count": 4,
     "metadata": {},
     "output_type": "execute_result"
    }
   ],
   "source": [
    "%%sql \n",
    "SELECT COUNT(*)\n",
    "FROM clean_cdr \n",
    "WHERE \n",
    "    calling_nbr in (SELECT client_nbr FROM clean_user_info) OR\n",
    "    called_nbr in (SELECT client_nbr FROM clean_user_info)"
   ]
  },
  {
   "cell_type": "code",
   "execution_count": 5,
   "id": "1d42bbbc",
   "metadata": {},
   "outputs": [
    {
     "data": {
      "text/html": [
       "<span style=\"None\">Running query in &#x27;mysql+pyodbc://telecom&#x27;</span>"
      ],
      "text/plain": [
       "Running query in 'mysql+pyodbc://telecom'"
      ]
     },
     "metadata": {},
     "output_type": "display_data"
    },
    {
     "data": {
      "text/html": [
       "<span style=\"color: green\">41985536 rows affected.</span>"
      ],
      "text/plain": [
       "41985536 rows affected."
      ]
     },
     "metadata": {},
     "output_type": "display_data"
    },
    {
     "data": {
      "text/html": [
       "<div>\n",
       "<style scoped>\n",
       "    .dataframe tbody tr th:only-of-type {\n",
       "        vertical-align: middle;\n",
       "    }\n",
       "\n",
       "    .dataframe tbody tr th {\n",
       "        vertical-align: top;\n",
       "    }\n",
       "\n",
       "    .dataframe thead th {\n",
       "        text-align: right;\n",
       "    }\n",
       "</style>\n",
       "<table border=\"1\" class=\"dataframe\">\n",
       "  <thead>\n",
       "    <tr style=\"text-align: right;\">\n",
       "      <th></th>\n",
       "    </tr>\n",
       "  </thead>\n",
       "  <tbody>\n",
       "  </tbody>\n",
       "</table>\n",
       "</div>"
      ],
      "text/plain": [
       "Empty DataFrame\n",
       "Columns: []\n",
       "Index: []"
      ]
     },
     "execution_count": 5,
     "metadata": {},
     "output_type": "execute_result"
    }
   ],
   "source": [
    "%%sql\n",
    "CREATE TABLE clean_CDR(\n",
    "    SELECT *\n",
    "    FROM clean_cdr \n",
    "    WHERE \n",
    "        calling_nbr in (SELECT client_nbr FROM clean_user_info) OR\n",
    "        called_nbr in (SELECT client_nbr FROM clean_user_info)\n",
    ")"
   ]
  },
  {
   "cell_type": "code",
   "execution_count": 6,
   "id": "a9228320",
   "metadata": {},
   "outputs": [
    {
     "data": {
      "text/html": [
       "<span style=\"None\">Running query in &#x27;mysql+pyodbc://telecom&#x27;</span>"
      ],
      "text/plain": [
       "Running query in 'mysql+pyodbc://telecom'"
      ]
     },
     "metadata": {},
     "output_type": "display_data"
    },
    {
     "data": {
      "text/html": [
       "<div>\n",
       "<style scoped>\n",
       "    .dataframe tbody tr th:only-of-type {\n",
       "        vertical-align: middle;\n",
       "    }\n",
       "\n",
       "    .dataframe tbody tr th {\n",
       "        vertical-align: top;\n",
       "    }\n",
       "\n",
       "    .dataframe thead th {\n",
       "        text-align: right;\n",
       "    }\n",
       "</style>\n",
       "<table border=\"1\" class=\"dataframe\">\n",
       "  <thead>\n",
       "    <tr style=\"text-align: right;\">\n",
       "      <th></th>\n",
       "    </tr>\n",
       "  </thead>\n",
       "  <tbody>\n",
       "  </tbody>\n",
       "</table>\n",
       "</div>"
      ],
      "text/plain": [
       "Empty DataFrame\n",
       "Columns: []\n",
       "Index: []"
      ]
     },
     "execution_count": 6,
     "metadata": {},
     "output_type": "execute_result"
    }
   ],
   "source": [
    "%sql DROP TABLE clean_cdr"
   ]
  },
  {
   "cell_type": "code",
   "execution_count": 3,
   "id": "4a319aa0",
   "metadata": {},
   "outputs": [
    {
     "data": {
      "text/html": [
       "<span style=\"None\">Running query in &#x27;mysql+pyodbc://telecom&#x27;</span>"
      ],
      "text/plain": [
       "Running query in 'mysql+pyodbc://telecom'"
      ]
     },
     "metadata": {},
     "output_type": "display_data"
    },
    {
     "data": {
      "text/html": [
       "<span style=\"color: green\">8600895 rows affected.</span>"
      ],
      "text/plain": [
       "8600895 rows affected."
      ]
     },
     "metadata": {},
     "output_type": "display_data"
    },
    {
     "data": {
      "text/html": [
       "<div>\n",
       "<style scoped>\n",
       "    .dataframe tbody tr th:only-of-type {\n",
       "        vertical-align: middle;\n",
       "    }\n",
       "\n",
       "    .dataframe tbody tr th {\n",
       "        vertical-align: top;\n",
       "    }\n",
       "\n",
       "    .dataframe thead th {\n",
       "        text-align: right;\n",
       "    }\n",
       "</style>\n",
       "<table border=\"1\" class=\"dataframe\">\n",
       "  <thead>\n",
       "    <tr style=\"text-align: right;\">\n",
       "      <th></th>\n",
       "    </tr>\n",
       "  </thead>\n",
       "  <tbody>\n",
       "  </tbody>\n",
       "</table>\n",
       "</div>"
      ],
      "text/plain": [
       "Empty DataFrame\n",
       "Columns: []\n",
       "Index: []"
      ]
     },
     "execution_count": 3,
     "metadata": {},
     "output_type": "execute_result"
    }
   ],
   "source": [
    "%%sql\n",
    "\n",
    "CREATE TABLE network(\n",
    "SELECT\n",
    "    *\n",
    "FROM clean_CDR\n",
    "WHERE \n",
    "    calling_nbr in (SELECT client_nbr FROM clean_user_info) AND\n",
    "    called_nbr in (SELECT client_nbr FROM clean_user_info)\n",
    ")"
   ]
  },
  {
   "cell_type": "code",
   "execution_count": 10,
   "id": "2bc86731",
   "metadata": {},
   "outputs": [
    {
     "data": {
      "text/html": [
       "<span style=\"None\">Running query in &#x27;mysql+pyodbc://telecom&#x27;</span>"
      ],
      "text/plain": [
       "Running query in 'mysql+pyodbc://telecom'"
      ]
     },
     "metadata": {},
     "output_type": "display_data"
    },
    {
     "data": {
      "text/html": [
       "<span style=\"color: green\">1 rows affected.</span>"
      ],
      "text/plain": [
       "1 rows affected."
      ]
     },
     "metadata": {},
     "output_type": "display_data"
    },
    {
     "data": {
      "text/html": [
       "<div>\n",
       "<style scoped>\n",
       "    .dataframe tbody tr th:only-of-type {\n",
       "        vertical-align: middle;\n",
       "    }\n",
       "\n",
       "    .dataframe tbody tr th {\n",
       "        vertical-align: top;\n",
       "    }\n",
       "\n",
       "    .dataframe thead th {\n",
       "        text-align: right;\n",
       "    }\n",
       "</style>\n",
       "<table border=\"1\" class=\"dataframe\">\n",
       "  <thead>\n",
       "    <tr style=\"text-align: right;\">\n",
       "      <th></th>\n",
       "      <th>calling_area_code</th>\n",
       "      <th>called_area_code</th>\n",
       "      <th>COUNT(*)</th>\n",
       "    </tr>\n",
       "  </thead>\n",
       "  <tbody>\n",
       "    <tr>\n",
       "      <th>0</th>\n",
       "      <td>0838</td>\n",
       "      <td>0838</td>\n",
       "      <td>8600895</td>\n",
       "    </tr>\n",
       "  </tbody>\n",
       "</table>\n",
       "</div>"
      ],
      "text/plain": [
       "  calling_area_code called_area_code  COUNT(*)\n",
       "0              0838             0838   8600895"
      ]
     },
     "execution_count": 10,
     "metadata": {},
     "output_type": "execute_result"
    }
   ],
   "source": [
    "%%sql\n",
    "\n",
    "SELECT\n",
    "    calling_area_code, called_area_code, COUNT(*)\n",
    "FROM network\n",
    "GROUP BY calling_area_code, called_area_code"
   ]
  }
 ],
 "metadata": {
  "@webio": {
   "lastCommId": null,
   "lastKernelId": null
  },
  "kernelspec": {
   "display_name": "Poetry",
   "language": "python",
   "name": "poetry-kernel"
  },
  "language_info": {
   "codemirror_mode": {
    "name": "ipython",
    "version": 3
   },
   "file_extension": ".py",
   "mimetype": "text/x-python",
   "name": "python",
   "nbconvert_exporter": "python",
   "pygments_lexer": "ipython3",
   "version": "3.11.4"
  }
 },
 "nbformat": 4,
 "nbformat_minor": 5
}
