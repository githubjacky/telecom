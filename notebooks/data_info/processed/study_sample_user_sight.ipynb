{
 "cells": [
  {
   "cell_type": "code",
   "execution_count": 72,
   "id": "46e22d4d",
   "metadata": {},
   "outputs": [
    {
     "name": "stdout",
     "output_type": "stream",
     "text": [
      "The sql extension is already loaded. To reload it, use:\n",
      "  %reload_ext sql\n"
     ]
    }
   ],
   "source": [
    "from sqlalchemy import create_engine\n",
    "\n",
    "\n",
    "engine = create_engine('mysql+pyodbc://telecom')\n",
    "%load_ext sql\n",
    "%sql engine\n",
    "%config SqlMagic.autopandas = True"
   ]
  },
  {
   "cell_type": "code",
   "execution_count": null,
   "id": "e63aeb6a",
   "metadata": {},
   "outputs": [],
   "source": [
    "%sql SHOW tables"
   ]
  },
  {
   "cell_type": "markdown",
   "id": "81eb566c",
   "metadata": {},
   "source": [
    "# Sample Users\n",
    "```sql\n",
    "CREATE TABLE sample_user_201308 (\n",
    "    # SERV_ID: user_id, MSISDN: cellphone number, CERT_NBR: identity number, CI_BRANCH: branch office\n",
    "\tSELECT SERV_ID, MSISDN, MONTH_NO, CERT_NBR, CI_BRANCH, \n",
    "\t\tCASE WHEN\n",
    "            (\n",
    "                DETAIL_NAME IS NOT NULL AND \n",
    "                DETAIL_NAME!='¸öÈË¿Í»§' AND                # 个人客户\n",
    "                DETAIL_NAME!='¼ÒÍ¥¿Í»§' AND                # 家庭客戶\n",
    "                DETAIL_NAME!='Å©´å¹«ÖÚ£¨¼ÒÍ¥¼°¸öÈË£©' AND  # 农村公众（家庭及个人）\n",
    "                DETAIL_NAME!='Å©´å¿Í»§' AND                # 农村客户\n",
    "                DETAIL_NAME!='³ÇÊÐ¸öÈË¿Í»§' AND            # 城市个人客户\n",
    "                DETAIL_NAME!='³ÇÊÐ¼ÒÍ¥¿Í»§'                # 城市家庭客户\n",
    "             )\n",
    "\t\t\t OR \n",
    "             (\n",
    "                 (CI_IVPN_FLAG=1 OR VPN_FLAG=1) AND \n",
    "                 (PL_IVPN_CAT IS NULL OR PL_IVPN_CAT='ÐéÄâÍø' OR PL_IVPN_CAT='¼¯ÍÅvÍø')  # 虚拟网, 集团v网\n",
    "             )\n",
    "\t\t\tOR \n",
    "            (\n",
    "                MB_ENPR_FLAG_M1=1 OR   # individual works for government\n",
    "                IS_BUSINESS='1' OR     # wheter pay the fee\n",
    "                RED_MARK=1 OR          # 省市领导级别的人\n",
    "                PL_BUSINESS_FLAG=1 OR  # business user\n",
    "                IS_ZQJN=1 OR           # whether the gorvernment & enterprise cluster\t\n",
    "                IS_ZQHY=1              # whether the government & enterprise industry\n",
    "            )\n",
    "\t\tTHEN 1 ELSE 0 END AS EMPLOY_FLAG, \n",
    "\t\tCASE WHEN \n",
    "            DETAIL_NAME='¸ßµÈºÍÖ°ÒµÔºÐ£' OR  # 高等和职业院校\n",
    "            PL_IVPN_CAT='Ð£Ô°VÍø' OR         # 校园V网\n",
    "            PL_CAMPUS_FLAG=1 OR \n",
    "            IS_SCHOOL='1'\n",
    "\t\tTHEN 1 ELSE 0 END AS STUDENT_FLAG, \n",
    "\t\tCASE WHEN \n",
    "            (\n",
    "                DETAIL_NAME='Å©´å¹«ÖÚ£¨¼ÒÍ¥¼°¸öÈË£©' OR  # 农村公众（家庭及个人）\n",
    "                DETAIL_NAME='Å©´å¿Í»§'                   # 农村客户\n",
    "            ) \n",
    "            OR \n",
    "            PL_IVPN_CAT='ÏçÇévÍø' OR  # 乡情v网\n",
    "            BSS_ORG_ZJ_FLAG='1'\n",
    "\t\tTHEN 1 ELSE 0 END AS RURAL_FLAG, \n",
    "\t\tHS_CDMA_BRAND AS TERMINAL_BRAND, \n",
    "        HS_CDMA_MODEL AS TERMINAL_MODEL, \n",
    "\t\tCASE IS_INTELLIGENT WHEN 'ÊÇ' THEN 1 ELSE 0 END AS TERMINAL_SMART_FLAG,  # 是\n",
    "\t\tTERMINAL_TYPE,            # 3G, 1x, None\n",
    "\t\tCASE HS_CDMA_LAYER\n",
    "\t\t\tWHEN '³¬µÍ¶Ë' THEN 1  # 超低端\n",
    "\t\t\tWHEN 'µÍ¶Ë' THEN 2    # 低端\n",
    "\t\t\tWHEN 'ÖÐ¶Ë' THEN 3    # 中端\n",
    "\t\t\tWHEN '¸ß¶Ë' THEN 4    # 高端\n",
    "\t\t\tWHEN '³¬¸ß¶Ë' THEN 5  # 超高端\n",
    "        END AS TERMINAL_LEVEL, \n",
    "\t\tHS_CDMA_TER_PRICE AS TERMINAL_PRICE, \n",
    "\t\tHS_CDMA_CT_DATE, \n",
    "\t\tPD_EVDO_FLAG_M1 AS PD_EVDO_FLAG, \n",
    "        PD_1X_FLAG_M1 AS PD_1X_FLAG, \n",
    "\t\tMB_ARPU_CDMA_M1 AS ARPU, \n",
    "        MB_ARPU_CDMA_ALL_M1 AS ARPU_ALL, \n",
    "\t\tPL_CONTRACT_FLAG AS CONTRACT_FLAG, \n",
    "        PL_EXPIRE_MONTH AS CONTRACT_EXPIRE_MONTH, \n",
    "\t\tVO_CDMA_MOUOUT_LOCAL_M1 AS VO_MOU_LOCAL, \n",
    "        VO_CDMA_MOU_DIST_M1 AS VO_MOU_DIST\n",
    "\tFROM tb_asz_cdma_0838_201308\n",
    "\tWHERE \n",
    "        CERT_NBRR LIKE '[1-8][0-7]-[0-7][0-9]-[0-9][0-9]-[12][09][0-9][0-9]-[01][0-9]-[0-3][0-9]-[01]' AND     \n",
    "        SUBSTR(CERT_NBR,10,4)>='1920' AND \n",
    "        CONVERT(SUBSTR(CERT_NBR,10,4),UNSIGNED)<=CONVERT(SUBSTR(MONTH_NO,1,4),UNSIGNED)-16 AND \n",
    "        SUBSTR(CERT_NBR,15,2)>='01' AND \n",
    "        SUBSTR(CERT_NBR,15,2)<='12' AND \n",
    "        SUBSTR(CERT_NBR,18,2)>='01' AND \n",
    "        SUBSTR(CERT_NBR,18,2)<='31'AND \n",
    "        PL_BB_FLAG=0 AND                       # 是否無線\n",
    "        IS_WX_FLAG=0 AND                       # 是否無線\n",
    "        IS_CARDPHONE='·ñ' AND                  # 非卡式機\n",
    "        HS_CDMA_MODEL NOT LIKE '%(¹Ì¶¨Ì¨)'AND  # 非%(固定台)\n",
    "        IS_INTELLIGENT IS NOT NULL AND \n",
    "        HS_CDMA_LAYER IS NOT NULL AND \n",
    "        PAYMENT_FLAG=1 AND \n",
    "        PD_CDMA_STATUS!='ÓÃ»§ÒªÇóÍ£»ú' AND     # 非用户要求停机\n",
    "        PD_CDMA_STATUS!='Î´Öª×´Ì¬'             # 非未知狀態\n",
    ");\n",
    "CREATE INDEX individual_sampleuser_201308 ON sample_user_201308(SERV_ID, MSISDN);\n",
    "```"
   ]
  },
  {
   "cell_type": "code",
   "execution_count": 51,
   "id": "1abbea75",
   "metadata": {},
   "outputs": [
    {
     "data": {
      "text/html": [
       "<span style=\"None\">Running query in &#x27;mysql+pyodbc://telecom&#x27;</span>"
      ],
      "text/plain": [
       "Running query in 'mysql+pyodbc://telecom'"
      ]
     },
     "metadata": {},
     "output_type": "display_data"
    },
    {
     "data": {
      "text/html": [
       "<span style=\"color: green\">6 rows affected.</span>"
      ],
      "text/plain": [
       "6 rows affected."
      ]
     },
     "metadata": {},
     "output_type": "display_data"
    },
    {
     "data": {
      "text/html": [
       "<div>\n",
       "<style scoped>\n",
       "    .dataframe tbody tr th:only-of-type {\n",
       "        vertical-align: middle;\n",
       "    }\n",
       "\n",
       "    .dataframe tbody tr th {\n",
       "        vertical-align: top;\n",
       "    }\n",
       "\n",
       "    .dataframe thead th {\n",
       "        text-align: right;\n",
       "    }\n",
       "</style>\n",
       "<table border=\"1\" class=\"dataframe\">\n",
       "  <thead>\n",
       "    <tr style=\"text-align: right;\">\n",
       "      <th></th>\n",
       "      <th>HS_CDMA_LAYER</th>\n",
       "    </tr>\n",
       "  </thead>\n",
       "  <tbody>\n",
       "    <tr>\n",
       "      <th>0</th>\n",
       "      <td>超高端</td>\n",
       "    </tr>\n",
       "    <tr>\n",
       "      <th>1</th>\n",
       "      <td>中端</td>\n",
       "    </tr>\n",
       "    <tr>\n",
       "      <th>2</th>\n",
       "      <td>None</td>\n",
       "    </tr>\n",
       "    <tr>\n",
       "      <th>3</th>\n",
       "      <td>低端</td>\n",
       "    </tr>\n",
       "    <tr>\n",
       "      <th>4</th>\n",
       "      <td>超低端</td>\n",
       "    </tr>\n",
       "    <tr>\n",
       "      <th>5</th>\n",
       "      <td>高端</td>\n",
       "    </tr>\n",
       "  </tbody>\n",
       "</table>\n",
       "</div>"
      ],
      "text/plain": [
       "  HS_CDMA_LAYER\n",
       "0           超高端\n",
       "1            中端\n",
       "2          None\n",
       "3            低端\n",
       "4           超低端\n",
       "5            高端"
      ]
     },
     "execution_count": 51,
     "metadata": {},
     "output_type": "execute_result"
    }
   ],
   "source": [
    "%%sql\n",
    "\n",
    "SELECT DISTINCT HS_CDMA_LAYER\n",
    "FROM tb_asz_cdma_0838_201308"
   ]
  },
  {
   "cell_type": "code",
   "execution_count": 88,
   "id": "e6189937",
   "metadata": {},
   "outputs": [
    {
     "name": "stdout",
     "output_type": "stream",
     "text": [
      "DETAIL_NAME\n",
      "农村公众（家庭及个人）\n",
      "农村客户\n",
      "高等和职业院校\n",
      "个人客户\n",
      "家庭客户\n",
      "城市个人客户\n",
      "城市家庭客户\n",
      "\n",
      "PL_IVPN_CAT\n",
      "乡情v网\n",
      "校园V网\n",
      "虚拟网\n",
      "集团v网\n",
      "\n",
      "TERMINAL_LEVEL\n",
      "低端\n",
      "中端\n",
      "高端\n",
      "\n",
      "terminal smart flag\n",
      "是\n",
      "\n",
      "IS_CARD_PHONE\n",
      "否\n",
      "\n",
      "HS_CDMA_MODEL\n",
      "%(固定台)\n",
      "\n",
      "PD_CDMA_STATUS\n",
      "用户要求停机\n",
      "未知状态\n"
     ]
    }
   ],
   "source": [
    "print(\"DETAIL_NAME\")\n",
    "print(\"Å©´å¹«ÖÚ£¨¼ÒÍ¥¼°¸öÈË£©\".encode('iso-8859-1').decode('gbk'))\n",
    "print(\"Å©´å¿Í»§\".encode('iso-8859-1').decode('gbk'))\n",
    "print(\"¸ßµÈºÍÖ°ÒµÔºÐ£\".encode('iso-8859-1').decode('gbk'))\n",
    "print(\"¸öÈË¿Í»§\".encode('iso-8859-1').decode('gbk'))\n",
    "print(\"¼ÒÍ¥¿Í»§\".encode('iso-8859-1').decode('gbk'))\n",
    "print(\"³ÇÊÐ¸öÈË¿Í»§\".encode('iso-8859-1').decode('gbk'))\n",
    "print(\"³ÇÊÐ¼ÒÍ¥¿Í»§\".encode('iso-8859-1').decode('gbk'))\n",
    "print()\n",
    "\n",
    "\n",
    "print(\"PL_IVPN_CAT\")\n",
    "print(\"ÏçÇévÍø\".encode('iso-8859-1').decode('gbk'))\n",
    "print(\"Ð£Ô°VÍø\".encode('iso-8859-1').decode('gbk'))\n",
    "print(\"ÐéÄâÍø\".encode('iso-8859-1').decode('gbk'))\n",
    "print(\"¼¯ÍÅvÍø\".encode('iso-8859-1').decode('gbk'))\n",
    "print()\n",
    "\n",
    "\n",
    "print(\"TERMINAL_LEVEL\")\n",
    "print(\"µÍ¶Ë\".encode('iso-8859-1').decode('gbk'))\n",
    "print(\"ÖÐ¶Ë\".encode('iso-8859-1').decode('gbk'))\n",
    "print(\"¸ß¶Ë\".encode('iso-8859-1').decode('gbk'))\n",
    "print()\n",
    "\n",
    "print(\"terminal smart flag\")\n",
    "print(\"ÊÇ\".encode('iso-8859-1').decode('gbk'))\n",
    "print()\n",
    "\n",
    "print(\"IS_CARD_PHONE\")\n",
    "print(\"·ñ\".encode('iso-8859-1').decode('gbk'))         \n",
    "print()\n",
    "\n",
    "\n",
    "print(\"HS_CDMA_MODEL\")\n",
    "print(\"%(¹Ì¶¨Ì¨)\".encode('iso-8859-1').decode('gbk'))\n",
    "print()\n",
    "\n",
    "\n",
    "print(\"PD_CDMA_STATUS\")\n",
    "print(\"ÓÃ»§ÒªÇóÍ£»ú\".encode('iso-8859-1').decode('gbk'))\n",
    "print(\"Î´Öª×´Ì¬\".encode('iso-8859-1').decode('gbk'))"
   ]
  },
  {
   "cell_type": "markdown",
   "id": "107ab415",
   "metadata": {},
   "source": [
    "## inspect the meaning of the wireless"
   ]
  },
  {
   "cell_type": "code",
   "execution_count": 145,
   "id": "6dd1fb7c",
   "metadata": {},
   "outputs": [
    {
     "data": {
      "text/html": [
       "<span style=\"None\">Running query in &#x27;mysql+pyodbc://telecom&#x27;</span>"
      ],
      "text/plain": [
       "Running query in 'mysql+pyodbc://telecom'"
      ]
     },
     "metadata": {},
     "output_type": "display_data"
    },
    {
     "data": {
      "text/html": [
       "<span style=\"color: green\">1479 rows affected.</span>"
      ],
      "text/plain": [
       "1479 rows affected."
      ]
     },
     "metadata": {},
     "output_type": "display_data"
    }
   ],
   "source": [
    "df = %sql SELECT DISTINCT HS_CDMA_MODEL FROM tb_asz_cdma_0838_201308"
   ]
  },
  {
   "cell_type": "code",
   "execution_count": 144,
   "id": "7f96c358",
   "metadata": {},
   "outputs": [
    {
     "data": {
      "text/plain": [
       "381    中兴-WP228(固定台)\n",
       "Name: HS_CDMA_MODEL, dtype: object"
      ]
     },
     "execution_count": 144,
     "metadata": {},
     "output_type": "execute_result"
    }
   ],
   "source": [
    "check = df.HS_CDMA_MODEL.str.contains(\"台\").apply(lambda x: x if x is not None else False)\n",
    "df.HS_CDMA_MODEL[check]"
   ]
  },
  {
   "cell_type": "code",
   "execution_count": 155,
   "id": "57ef89bf",
   "metadata": {},
   "outputs": [
    {
     "data": {
      "text/html": [
       "<span style=\"None\">Running query in &#x27;mysql+pyodbc://telecom&#x27;</span>"
      ],
      "text/plain": [
       "Running query in 'mysql+pyodbc://telecom'"
      ]
     },
     "metadata": {},
     "output_type": "display_data"
    },
    {
     "data": {
      "text/html": [
       "<span style=\"color: green\">20 rows affected.</span>"
      ],
      "text/plain": [
       "20 rows affected."
      ]
     },
     "metadata": {},
     "output_type": "display_data"
    },
    {
     "data": {
      "text/html": [
       "<div>\n",
       "<style scoped>\n",
       "    .dataframe tbody tr th:only-of-type {\n",
       "        vertical-align: middle;\n",
       "    }\n",
       "\n",
       "    .dataframe tbody tr th {\n",
       "        vertical-align: top;\n",
       "    }\n",
       "\n",
       "    .dataframe thead th {\n",
       "        text-align: right;\n",
       "    }\n",
       "</style>\n",
       "<table border=\"1\" class=\"dataframe\">\n",
       "  <thead>\n",
       "    <tr style=\"text-align: right;\">\n",
       "      <th></th>\n",
       "      <th>DETAIL_NAME</th>\n",
       "      <th>COUNT(*)</th>\n",
       "    </tr>\n",
       "  </thead>\n",
       "  <tbody>\n",
       "    <tr>\n",
       "      <th>0</th>\n",
       "      <td>大企业【不含农村】</td>\n",
       "      <td>3518</td>\n",
       "    </tr>\n",
       "    <tr>\n",
       "      <th>1</th>\n",
       "      <td>个人客户</td>\n",
       "      <td>3355</td>\n",
       "    </tr>\n",
       "    <tr>\n",
       "      <th>2</th>\n",
       "      <td>家庭客户</td>\n",
       "      <td>1975</td>\n",
       "    </tr>\n",
       "    <tr>\n",
       "      <th>3</th>\n",
       "      <td>市县级党政军</td>\n",
       "      <td>1473</td>\n",
       "    </tr>\n",
       "    <tr>\n",
       "      <th>4</th>\n",
       "      <td>金融</td>\n",
       "      <td>1421</td>\n",
       "    </tr>\n",
       "    <tr>\n",
       "      <th>5</th>\n",
       "      <td>农村公众（家庭及个人）</td>\n",
       "      <td>1167</td>\n",
       "    </tr>\n",
       "    <tr>\n",
       "      <th>6</th>\n",
       "      <td>农村政企【不含大企业】</td>\n",
       "      <td>620</td>\n",
       "    </tr>\n",
       "    <tr>\n",
       "      <th>7</th>\n",
       "      <td>医院</td>\n",
       "      <td>378</td>\n",
       "    </tr>\n",
       "    <tr>\n",
       "      <th>8</th>\n",
       "      <td>None</td>\n",
       "      <td>261</td>\n",
       "    </tr>\n",
       "    <tr>\n",
       "      <th>9</th>\n",
       "      <td>中小企业</td>\n",
       "      <td>130</td>\n",
       "    </tr>\n",
       "    <tr>\n",
       "      <th>10</th>\n",
       "      <td>高中</td>\n",
       "      <td>84</td>\n",
       "    </tr>\n",
       "    <tr>\n",
       "      <th>11</th>\n",
       "      <td>高等和职业院校</td>\n",
       "      <td>66</td>\n",
       "    </tr>\n",
       "    <tr>\n",
       "      <th>12</th>\n",
       "      <td>网吧</td>\n",
       "      <td>35</td>\n",
       "    </tr>\n",
       "    <tr>\n",
       "      <th>13</th>\n",
       "      <td>现业区级党政单位</td>\n",
       "      <td>11</td>\n",
       "    </tr>\n",
       "    <tr>\n",
       "      <th>14</th>\n",
       "      <td>临街商铺</td>\n",
       "      <td>7</td>\n",
       "    </tr>\n",
       "    <tr>\n",
       "      <th>15</th>\n",
       "      <td>城市家庭客户</td>\n",
       "      <td>6</td>\n",
       "    </tr>\n",
       "    <tr>\n",
       "      <th>16</th>\n",
       "      <td>专业市场</td>\n",
       "      <td>5</td>\n",
       "    </tr>\n",
       "    <tr>\n",
       "      <th>17</th>\n",
       "      <td>中小学【九年制义务教育】及幼儿园</td>\n",
       "      <td>4</td>\n",
       "    </tr>\n",
       "    <tr>\n",
       "      <th>18</th>\n",
       "      <td>宾馆酒店</td>\n",
       "      <td>3</td>\n",
       "    </tr>\n",
       "    <tr>\n",
       "      <th>19</th>\n",
       "      <td>其他中小聚类</td>\n",
       "      <td>1</td>\n",
       "    </tr>\n",
       "  </tbody>\n",
       "</table>\n",
       "</div>"
      ],
      "text/plain": [
       "         DETAIL_NAME  COUNT(*)\n",
       "0          大企业【不含农村】      3518\n",
       "1               个人客户      3355\n",
       "2               家庭客户      1975\n",
       "3             市县级党政军      1473\n",
       "4                 金融      1421\n",
       "5        农村公众（家庭及个人）      1167\n",
       "6        农村政企【不含大企业】       620\n",
       "7                 医院       378\n",
       "8               None       261\n",
       "9               中小企业       130\n",
       "10                高中        84\n",
       "11           高等和职业院校        66\n",
       "12                网吧        35\n",
       "13          现业区级党政单位        11\n",
       "14              临街商铺         7\n",
       "15            城市家庭客户         6\n",
       "16              专业市场         5\n",
       "17  中小学【九年制义务教育】及幼儿园         4\n",
       "18              宾馆酒店         3\n",
       "19            其他中小聚类         1"
      ]
     },
     "execution_count": 155,
     "metadata": {},
     "output_type": "execute_result"
    }
   ],
   "source": [
    "%%sql\n",
    "\n",
    "SELECT\n",
    "    DETAIL_NAME,\n",
    "    COUNT(*)\n",
    "FROM tb_asz_cdma_0838_201308\n",
    "WHERE PL_BB_FLAG=1 OR IS_WX_FLAG=1\n",
    "GROUP BY DETAIL_NAME\n",
    "ORDER BY COUNT(*) DESC"
   ]
  },
  {
   "cell_type": "markdown",
   "id": "9901bca5",
   "metadata": {},
   "source": [
    "# Sample sight\n",
    "```sql\n",
    "#CREATE INDEX individual_servacct_201308 ON serv_acct_item_0838_201308(SERV_ID, ACC_NBR);\n",
    "CREATE TABLE sample_sight_201308 (\n",
    "\tSELECT \n",
    "        A.START_TIME AS DATE_TIME,\n",
    "        A.ACC_NBR, A.MONTH_NO, A.LAC, A.CELL_ID, A.ETL_TYPE_ID, A.CALLING_NBR, A.CALLED_NBR,\n",
    "        B.SERV_ID, \n",
    "        C.LON, C.LAT, C.X, C.Y, C.HOT_FLAG, C.HOT_MAIN_FLAG, C.HOT_OTHER_FLAG, \n",
    "\tFROM serv_acct_item_0838_201308 A\n",
    "\tLEFT JOIN sample_user_201308 B ON A.SERV_ID=B.SERV_ID AND A.ACC_NBR=B.MSISDN\n",
    "\tLEFT JOIN tower_hot_201308 C ON A.CELL_ID=C.CELL_16\n",
    "\tWHERE A.LAC!='-1' AND A.LAC!='0'\n",
    ");\n",
    "CREATE INDEX user_sample_201308 ON sample_sight_201308(SERV_ID);\n",
    "DELETE FROM sample_sight_201308\n",
    "WHERE ISNULL(SERV_ID);\n",
    "CREATE INDEX individual_sample_201308 ON sample_sight_201308(SERV_ID, ACC_NBR);\n",
    "```"
   ]
  }
 ],
 "metadata": {
  "kernelspec": {
   "display_name": "Poetry",
   "language": "python",
   "name": "poetry-kernel"
  },
  "language_info": {
   "codemirror_mode": {
    "name": "ipython",
    "version": 3
   },
   "file_extension": ".py",
   "mimetype": "text/x-python",
   "name": "python",
   "nbconvert_exporter": "python",
   "pygments_lexer": "ipython3",
   "version": "3.11.4"
  }
 },
 "nbformat": 4,
 "nbformat_minor": 5
}
