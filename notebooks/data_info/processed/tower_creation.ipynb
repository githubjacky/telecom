{
 "cells": [
  {
   "cell_type": "markdown",
   "id": "a0278af9",
   "metadata": {},
   "source": [
    "# creation of the table *tower_hot_201308*"
   ]
  },
  {
   "cell_type": "markdown",
   "id": "a7b32f1a",
   "metadata": {},
   "source": [
    "```{sql}\n",
    "CREATE TABLE sight_xy_201308 (\n",
    "\tSELECT A.SERV_ID, A.ACC_NBR, A.MONTH_NO,\n",
    "\t\tSUBSTRING_INDEX(A.START_TIME,' ',1) AS DATE, DAYOFWEEK(SUBSTRING_INDEX(A.START_TIME,' ',1)) AS WEEK_DAY,\n",
    "\t\tCONVERT(SUBSTRING_INDEX(SUBSTRING_INDEX(A.START_TIME,' ',-1),':',1),UNSIGNED) AS HOUR_NO,\n",
    "\t\tA.LAC, A.CELL_ID, B.LON, B.LAT, B.X, B.Y\n",
    "\tFROM serv_acct_item_0838_201308 A JOIN tower B\n",
    "\tON A.CELL_ID=B.CELL_16\n",
    "\tWHERE \n",
    "        A.LAC!='-1' AND \n",
    "        A.LAC!='0' AND \n",
    "        A.START_TIME LIKE '____/%/% %:__:__'\n",
    ");\n",
    "CREATE INDEX xy_sight_201308 ON sight_xy_201308(LON, LAT);\n",
    "CREATE INDEX weekhour_xy_201308 ON sight_xy_201308(WEEK_DAY, HOUR_NO);\n",
    "```"
   ]
  },
  {
   "cell_type": "markdown",
   "id": "71cb251e",
   "metadata": {},
   "source": [
    "Basically, there are three types of data in this database which are user\n",
    "information, tower information and calling records. The table *sight_xy_201308*\n",
    "is created by jointing calling records with the tower informatin on *cell*.\n",
    "We can also observe that the calling records' *CELL_ID* share similarity with\n",
    "tower information's *CELL_16*. Moreover, outliers include -1, 0 in *LAC*\n",
    "and the format of *START_TIME* should be in a specific format. More information\n",
    "of *LAC(location area code)* can be found [here]()."
   ]
  },
  {
   "cell_type": "markdown",
   "id": "0e96839d",
   "metadata": {},
   "source": [
    "```{sql}\n",
    "CREATE TABLE sight_weekend_201308 (\n",
    "\tSELECT LON, LAT, COUNT(1) AS REC_NO\n",
    "\tFROM sight_xy_201308\n",
    "\tWHERE (WEEK_DAY=1 OR WEEK_DAY=7) AND (HOUR_NO>=10 AND HOUR_NO<22)\n",
    "\tGROUP BY LON, LAT\n",
    "\tORDER BY COUNT(1) DESC\n",
    ");\n",
    "ALTER TABLE sight_weekend_201308 ADD RANK INT AUTO_INCREMENT KEY;\n",
    "ALTER TABLE sight_weekend_201308 ADD CENTER_FLAG INT; \n",
    "UPDATE sight_weekend_201308 SET CENTER_FLAG=0;\n",
    "SET @n=(\n",
    "\tSELECT COUNT(1) FROM sight_weekend_201308\n",
    ");\n",
    "UPDATE sight_weekend_201308 SET CENTER_FLAG=1\n",
    "\tWHERE RANK<=0.01*@n;\n",
    "CREATE INDEX xy_weekend_201308 ON sight_weekend_201308(LON, LAT);\n",
    "```"
   ]
  },
  {
   "cell_type": "markdown",
   "id": "b1666448",
   "metadata": {},
   "source": [
    "*note: The command `Count(1)` is euqivalent to `Count(*)` returning the number of \n",
    "observatons in a column.*"
   ]
  },
  {
   "cell_type": "markdown",
   "id": "e253fac6",
   "metadata": {},
   "source": [
    "```{sql}\n",
    "CREATE TABLE tower_hot_201308 (\n",
    "\tSELECT \n",
    "        -- coluns from tower table\n",
    "        A.CELL_10, A.CELL_16, A.LON, A.LAT, A.X, A.Y,\n",
    "        -- create MAIN_CENTER_FLAG column\n",
    "        -- \n",
    "        A.DEYANG_CENTER AS MAIN_CENTER_FLAG, \n",
    "\t\tIFNULL(B.CENTER_FLAG,0) AS HOT_FLAG, \n",
    "        CONVERT(A.DEYANG_CENTER,UNSIGNED)*IFNULL(B.CENTER_FLAG,0) AS HOT_MAIN_FLAG, \n",
    "\t\tIFNULL(B.CENTER_FLAG,0)-CONVERT(A.DEYANG_CENTER,UNSIGNED)*IFNULL(B.CENTER_FLAG,0) AS HOT_OTHER_FLAG\n",
    "\tFROM tower A LEFT JOIN sight_weekend_201308 B\n",
    "\tON A.LON=B.LON AND A.LAT=B.LAT\n",
    ");\n",
    "CREATE INDEX cell_tower_201308 ON tower_hot_201308(CELL_16);\n",
    "```"
   ]
  },
  {
   "cell_type": "markdown",
   "id": "1984242a",
   "metadata": {},
   "source": [
    "The structure of the *tower_hot_201308* is inherited from the *tower* and \n",
    "*sight_weekend_201308*. Two tables are jointed on the longitude and latitude.\n",
    "Apart from the inherited columns, there are some new columns such as HOT_FLAG, \n",
    "HOT_MAIN_FLAG, HOT_OTHER_FLAG. To inspect the meaning, we have to first understand\n",
    "how *sight_weekend_201308* is created"
   ]
  }
 ],
 "metadata": {
  "kernelspec": {
   "display_name": "Poetry",
   "language": "python",
   "name": "poetry-kernel"
  },
  "language_info": {
   "codemirror_mode": {
    "name": "ipython",
    "version": 3
   },
   "file_extension": ".py",
   "mimetype": "text/x-python",
   "name": "python",
   "nbconvert_exporter": "python",
   "pygments_lexer": "ipython3",
   "version": "3.11.4"
  }
 },
 "nbformat": 4,
 "nbformat_minor": 5
}
