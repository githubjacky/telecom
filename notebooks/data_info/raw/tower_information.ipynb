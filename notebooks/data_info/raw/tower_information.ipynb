{
 "cells": [
  {
   "cell_type": "code",
   "execution_count": 2,
   "id": "c7290080",
   "metadata": {},
   "outputs": [
    {
     "data": {
      "text/html": [
       "<span style=\"None\">Found pyproject.toml from &#x27;/Users/jacky/github/telecom&#x27;</span>"
      ],
      "text/plain": [
       "Found pyproject.toml from '/Users/jacky/github/telecom'"
      ]
     },
     "metadata": {},
     "output_type": "display_data"
    }
   ],
   "source": [
    "from sqlalchemy import create_engine\n",
    "\n",
    "\n",
    "engine = create_engine('mysql+pyodbc://telecom')\n",
    "%load_ext sql\n",
    "%sql engine\n",
    "%config SqlMagic.autopandas = True"
   ]
  },
  {
   "cell_type": "markdown",
   "id": "40ab9e28",
   "metadata": {},
   "source": [
    "# Tower Information"
   ]
  },
  {
   "cell_type": "code",
   "execution_count": 7,
   "id": "568081b9",
   "metadata": {},
   "outputs": [
    {
     "data": {
      "text/html": [
       "<span style=\"None\">Running query in &#x27;mysql+pyodbc://telecom&#x27;</span>"
      ],
      "text/plain": [
       "Running query in 'mysql+pyodbc://telecom'"
      ]
     },
     "metadata": {},
     "output_type": "display_data"
    },
    {
     "data": {
      "text/html": [
       "<span style=\"color: green\">10 rows affected.</span>"
      ],
      "text/plain": [
       "10 rows affected."
      ]
     },
     "metadata": {},
     "output_type": "display_data"
    },
    {
     "data": {
      "text/html": [
       "<div>\n",
       "<style scoped>\n",
       "    .dataframe tbody tr th:only-of-type {\n",
       "        vertical-align: middle;\n",
       "    }\n",
       "\n",
       "    .dataframe tbody tr th {\n",
       "        vertical-align: top;\n",
       "    }\n",
       "\n",
       "    .dataframe thead th {\n",
       "        text-align: right;\n",
       "    }\n",
       "</style>\n",
       "<table border=\"1\" class=\"dataframe\">\n",
       "  <thead>\n",
       "    <tr style=\"text-align: right;\">\n",
       "      <th></th>\n",
       "      <th>Tables_in_telecom</th>\n",
       "    </tr>\n",
       "  </thead>\n",
       "  <tbody>\n",
       "    <tr>\n",
       "      <th>0</th>\n",
       "      <td>cinfo_xy</td>\n",
       "    </tr>\n",
       "    <tr>\n",
       "      <th>1</th>\n",
       "      <td>sample_sight_201308</td>\n",
       "    </tr>\n",
       "    <tr>\n",
       "      <th>2</th>\n",
       "      <td>sample_user_201308</td>\n",
       "    </tr>\n",
       "    <tr>\n",
       "      <th>3</th>\n",
       "      <td>serv_acct_item_0838_201308</td>\n",
       "    </tr>\n",
       "    <tr>\n",
       "      <th>4</th>\n",
       "      <td>serv_acct_item_0838_201406</td>\n",
       "    </tr>\n",
       "    <tr>\n",
       "      <th>5</th>\n",
       "      <td>tb_asz_cdma_0838_201308</td>\n",
       "    </tr>\n",
       "    <tr>\n",
       "      <th>6</th>\n",
       "      <td>tb_asz_cdma_0838_201406</td>\n",
       "    </tr>\n",
       "    <tr>\n",
       "      <th>7</th>\n",
       "      <td>tower</td>\n",
       "    </tr>\n",
       "    <tr>\n",
       "      <th>8</th>\n",
       "      <td>tower_center</td>\n",
       "    </tr>\n",
       "    <tr>\n",
       "      <th>9</th>\n",
       "      <td>tower_hot_201308</td>\n",
       "    </tr>\n",
       "  </tbody>\n",
       "</table>\n",
       "</div>"
      ],
      "text/plain": [
       "            Tables_in_telecom\n",
       "0                    cinfo_xy\n",
       "1         sample_sight_201308\n",
       "2          sample_user_201308\n",
       "3  serv_acct_item_0838_201308\n",
       "4  serv_acct_item_0838_201406\n",
       "5     tb_asz_cdma_0838_201308\n",
       "6     tb_asz_cdma_0838_201406\n",
       "7                       tower\n",
       "8                tower_center\n",
       "9            tower_hot_201308"
      ]
     },
     "execution_count": 7,
     "metadata": {},
     "output_type": "execute_result"
    }
   ],
   "source": [
    "%sql SHOW TABLES"
   ]
  },
  {
   "cell_type": "markdown",
   "id": "7708edc0",
   "metadata": {},
   "source": [
    "# Quick Look at various tables of tower"
   ]
  },
  {
   "cell_type": "code",
   "execution_count": 10,
   "id": "1f51ace0",
   "metadata": {},
   "outputs": [
    {
     "data": {
      "text/html": [
       "<span style=\"None\">Running query in &#x27;mysql+pyodbc://telecom&#x27;</span>"
      ],
      "text/plain": [
       "Running query in 'mysql+pyodbc://telecom'"
      ]
     },
     "metadata": {},
     "output_type": "display_data"
    },
    {
     "data": {
      "text/html": [
       "<span style=\"color: green\">10 rows affected.</span>"
      ],
      "text/plain": [
       "10 rows affected."
      ]
     },
     "metadata": {},
     "output_type": "display_data"
    },
    {
     "data": {
      "text/html": [
       "<div>\n",
       "<style scoped>\n",
       "    .dataframe tbody tr th:only-of-type {\n",
       "        vertical-align: middle;\n",
       "    }\n",
       "\n",
       "    .dataframe tbody tr th {\n",
       "        vertical-align: top;\n",
       "    }\n",
       "\n",
       "    .dataframe thead th {\n",
       "        text-align: right;\n",
       "    }\n",
       "</style>\n",
       "<table border=\"1\" class=\"dataframe\">\n",
       "  <thead>\n",
       "    <tr style=\"text-align: right;\">\n",
       "      <th></th>\n",
       "      <th>CELL_10</th>\n",
       "      <th>CELL_16</th>\n",
       "      <th>LON</th>\n",
       "      <th>LAT</th>\n",
       "      <th>X</th>\n",
       "      <th>Y</th>\n",
       "    </tr>\n",
       "  </thead>\n",
       "  <tbody>\n",
       "    <tr>\n",
       "      <th>0</th>\n",
       "      <td>1</td>\n",
       "      <td>0001</td>\n",
       "      <td>103.992996</td>\n",
       "      <td>30.721399</td>\n",
       "      <td>403.545990</td>\n",
       "      <td>3400.520020</td>\n",
       "    </tr>\n",
       "    <tr>\n",
       "      <th>1</th>\n",
       "      <td>2</td>\n",
       "      <td>0002</td>\n",
       "      <td>103.992996</td>\n",
       "      <td>30.721399</td>\n",
       "      <td>403.545990</td>\n",
       "      <td>3400.520020</td>\n",
       "    </tr>\n",
       "    <tr>\n",
       "      <th>2</th>\n",
       "      <td>3</td>\n",
       "      <td>0003</td>\n",
       "      <td>103.992996</td>\n",
       "      <td>30.721399</td>\n",
       "      <td>403.545990</td>\n",
       "      <td>3400.520020</td>\n",
       "    </tr>\n",
       "    <tr>\n",
       "      <th>3</th>\n",
       "      <td>4</td>\n",
       "      <td>0004</td>\n",
       "      <td>104.161003</td>\n",
       "      <td>30.629101</td>\n",
       "      <td>419.562012</td>\n",
       "      <td>3390.159912</td>\n",
       "    </tr>\n",
       "    <tr>\n",
       "      <th>4</th>\n",
       "      <td>5</td>\n",
       "      <td>0005</td>\n",
       "      <td>104.161003</td>\n",
       "      <td>30.629101</td>\n",
       "      <td>419.562012</td>\n",
       "      <td>3390.159912</td>\n",
       "    </tr>\n",
       "    <tr>\n",
       "      <th>5</th>\n",
       "      <td>6</td>\n",
       "      <td>0006</td>\n",
       "      <td>104.161003</td>\n",
       "      <td>30.629101</td>\n",
       "      <td>419.562012</td>\n",
       "      <td>3390.159912</td>\n",
       "    </tr>\n",
       "    <tr>\n",
       "      <th>6</th>\n",
       "      <td>7</td>\n",
       "      <td>0007</td>\n",
       "      <td>103.681000</td>\n",
       "      <td>30.948799</td>\n",
       "      <td>373.957001</td>\n",
       "      <td>3426.050049</td>\n",
       "    </tr>\n",
       "    <tr>\n",
       "      <th>7</th>\n",
       "      <td>8</td>\n",
       "      <td>0008</td>\n",
       "      <td>103.681000</td>\n",
       "      <td>30.948799</td>\n",
       "      <td>373.957001</td>\n",
       "      <td>3426.050049</td>\n",
       "    </tr>\n",
       "    <tr>\n",
       "      <th>8</th>\n",
       "      <td>9</td>\n",
       "      <td>0009</td>\n",
       "      <td>103.681000</td>\n",
       "      <td>30.948799</td>\n",
       "      <td>373.957001</td>\n",
       "      <td>3426.050049</td>\n",
       "    </tr>\n",
       "    <tr>\n",
       "      <th>9</th>\n",
       "      <td>10</td>\n",
       "      <td>000A</td>\n",
       "      <td>103.647003</td>\n",
       "      <td>30.849001</td>\n",
       "      <td>370.574005</td>\n",
       "      <td>3415.020020</td>\n",
       "    </tr>\n",
       "  </tbody>\n",
       "</table>\n",
       "</div>"
      ],
      "text/plain": [
       "  CELL_10 CELL_16         LON        LAT           X            Y\n",
       "0       1    0001  103.992996  30.721399  403.545990  3400.520020\n",
       "1       2    0002  103.992996  30.721399  403.545990  3400.520020\n",
       "2       3    0003  103.992996  30.721399  403.545990  3400.520020\n",
       "3       4    0004  104.161003  30.629101  419.562012  3390.159912\n",
       "4       5    0005  104.161003  30.629101  419.562012  3390.159912\n",
       "5       6    0006  104.161003  30.629101  419.562012  3390.159912\n",
       "6       7    0007  103.681000  30.948799  373.957001  3426.050049\n",
       "7       8    0008  103.681000  30.948799  373.957001  3426.050049\n",
       "8       9    0009  103.681000  30.948799  373.957001  3426.050049\n",
       "9      10    000A  103.647003  30.849001  370.574005  3415.020020"
      ]
     },
     "execution_count": 10,
     "metadata": {},
     "output_type": "execute_result"
    }
   ],
   "source": [
    "%sql  SELECT * FROM cinfo_xy LIMIT 10;"
   ]
  },
  {
   "cell_type": "code",
   "execution_count": 11,
   "id": "5ed89d50",
   "metadata": {},
   "outputs": [
    {
     "data": {
      "text/html": [
       "<span style=\"None\">Running query in &#x27;mysql+pyodbc://telecom&#x27;</span>"
      ],
      "text/plain": [
       "Running query in 'mysql+pyodbc://telecom'"
      ]
     },
     "metadata": {},
     "output_type": "display_data"
    },
    {
     "data": {
      "text/html": [
       "<span style=\"color: green\">10 rows affected.</span>"
      ],
      "text/plain": [
       "10 rows affected."
      ]
     },
     "metadata": {},
     "output_type": "display_data"
    },
    {
     "data": {
      "text/html": [
       "<div>\n",
       "<style scoped>\n",
       "    .dataframe tbody tr th:only-of-type {\n",
       "        vertical-align: middle;\n",
       "    }\n",
       "\n",
       "    .dataframe tbody tr th {\n",
       "        vertical-align: top;\n",
       "    }\n",
       "\n",
       "    .dataframe thead th {\n",
       "        text-align: right;\n",
       "    }\n",
       "</style>\n",
       "<table border=\"1\" class=\"dataframe\">\n",
       "  <thead>\n",
       "    <tr style=\"text-align: right;\">\n",
       "      <th></th>\n",
       "      <th>CELL_10</th>\n",
       "      <th>CELL_16</th>\n",
       "      <th>LON</th>\n",
       "      <th>LAT</th>\n",
       "      <th>X</th>\n",
       "      <th>Y</th>\n",
       "      <th>DEYANG_CENTER</th>\n",
       "    </tr>\n",
       "  </thead>\n",
       "  <tbody>\n",
       "    <tr>\n",
       "      <th>0</th>\n",
       "      <td>1</td>\n",
       "      <td>0001</td>\n",
       "      <td>103.992996</td>\n",
       "      <td>30.721399</td>\n",
       "      <td>403.545990</td>\n",
       "      <td>3400.520020</td>\n",
       "      <td>0</td>\n",
       "    </tr>\n",
       "    <tr>\n",
       "      <th>1</th>\n",
       "      <td>2</td>\n",
       "      <td>0002</td>\n",
       "      <td>103.992996</td>\n",
       "      <td>30.721399</td>\n",
       "      <td>403.545990</td>\n",
       "      <td>3400.520020</td>\n",
       "      <td>0</td>\n",
       "    </tr>\n",
       "    <tr>\n",
       "      <th>2</th>\n",
       "      <td>3</td>\n",
       "      <td>0003</td>\n",
       "      <td>103.992996</td>\n",
       "      <td>30.721399</td>\n",
       "      <td>403.545990</td>\n",
       "      <td>3400.520020</td>\n",
       "      <td>0</td>\n",
       "    </tr>\n",
       "    <tr>\n",
       "      <th>3</th>\n",
       "      <td>4</td>\n",
       "      <td>0004</td>\n",
       "      <td>104.161003</td>\n",
       "      <td>30.629101</td>\n",
       "      <td>419.562012</td>\n",
       "      <td>3390.159912</td>\n",
       "      <td>0</td>\n",
       "    </tr>\n",
       "    <tr>\n",
       "      <th>4</th>\n",
       "      <td>5</td>\n",
       "      <td>0005</td>\n",
       "      <td>104.161003</td>\n",
       "      <td>30.629101</td>\n",
       "      <td>419.562012</td>\n",
       "      <td>3390.159912</td>\n",
       "      <td>0</td>\n",
       "    </tr>\n",
       "    <tr>\n",
       "      <th>5</th>\n",
       "      <td>6</td>\n",
       "      <td>0006</td>\n",
       "      <td>104.161003</td>\n",
       "      <td>30.629101</td>\n",
       "      <td>419.562012</td>\n",
       "      <td>3390.159912</td>\n",
       "      <td>0</td>\n",
       "    </tr>\n",
       "    <tr>\n",
       "      <th>6</th>\n",
       "      <td>7</td>\n",
       "      <td>0007</td>\n",
       "      <td>103.681000</td>\n",
       "      <td>30.948799</td>\n",
       "      <td>373.957001</td>\n",
       "      <td>3426.050049</td>\n",
       "      <td>0</td>\n",
       "    </tr>\n",
       "    <tr>\n",
       "      <th>7</th>\n",
       "      <td>8</td>\n",
       "      <td>0008</td>\n",
       "      <td>103.681000</td>\n",
       "      <td>30.948799</td>\n",
       "      <td>373.957001</td>\n",
       "      <td>3426.050049</td>\n",
       "      <td>0</td>\n",
       "    </tr>\n",
       "    <tr>\n",
       "      <th>8</th>\n",
       "      <td>9</td>\n",
       "      <td>0009</td>\n",
       "      <td>103.681000</td>\n",
       "      <td>30.948799</td>\n",
       "      <td>373.957001</td>\n",
       "      <td>3426.050049</td>\n",
       "      <td>0</td>\n",
       "    </tr>\n",
       "    <tr>\n",
       "      <th>9</th>\n",
       "      <td>10</td>\n",
       "      <td>000A</td>\n",
       "      <td>103.647003</td>\n",
       "      <td>30.849001</td>\n",
       "      <td>370.574005</td>\n",
       "      <td>3415.020020</td>\n",
       "      <td>0</td>\n",
       "    </tr>\n",
       "  </tbody>\n",
       "</table>\n",
       "</div>"
      ],
      "text/plain": [
       "  CELL_10 CELL_16         LON        LAT           X            Y  \\\n",
       "0       1    0001  103.992996  30.721399  403.545990  3400.520020   \n",
       "1       2    0002  103.992996  30.721399  403.545990  3400.520020   \n",
       "2       3    0003  103.992996  30.721399  403.545990  3400.520020   \n",
       "3       4    0004  104.161003  30.629101  419.562012  3390.159912   \n",
       "4       5    0005  104.161003  30.629101  419.562012  3390.159912   \n",
       "5       6    0006  104.161003  30.629101  419.562012  3390.159912   \n",
       "6       7    0007  103.681000  30.948799  373.957001  3426.050049   \n",
       "7       8    0008  103.681000  30.948799  373.957001  3426.050049   \n",
       "8       9    0009  103.681000  30.948799  373.957001  3426.050049   \n",
       "9      10    000A  103.647003  30.849001  370.574005  3415.020020   \n",
       "\n",
       "   DEYANG_CENTER  \n",
       "0              0  \n",
       "1              0  \n",
       "2              0  \n",
       "3              0  \n",
       "4              0  \n",
       "5              0  \n",
       "6              0  \n",
       "7              0  \n",
       "8              0  \n",
       "9              0  "
      ]
     },
     "execution_count": 11,
     "metadata": {},
     "output_type": "execute_result"
    }
   ],
   "source": [
    "%sql  SELECT * FROM tower LIMIT 10;"
   ]
  },
  {
   "cell_type": "code",
   "execution_count": 12,
   "id": "3a4e71e2",
   "metadata": {},
   "outputs": [
    {
     "data": {
      "text/html": [
       "<span style=\"None\">Running query in &#x27;mysql+pyodbc://telecom&#x27;</span>"
      ],
      "text/plain": [
       "Running query in 'mysql+pyodbc://telecom'"
      ]
     },
     "metadata": {},
     "output_type": "display_data"
    },
    {
     "data": {
      "text/html": [
       "<span style=\"color: green\">10 rows affected.</span>"
      ],
      "text/plain": [
       "10 rows affected."
      ]
     },
     "metadata": {},
     "output_type": "display_data"
    },
    {
     "data": {
      "text/html": [
       "<div>\n",
       "<style scoped>\n",
       "    .dataframe tbody tr th:only-of-type {\n",
       "        vertical-align: middle;\n",
       "    }\n",
       "\n",
       "    .dataframe tbody tr th {\n",
       "        vertical-align: top;\n",
       "    }\n",
       "\n",
       "    .dataframe thead th {\n",
       "        text-align: right;\n",
       "    }\n",
       "</style>\n",
       "<table border=\"1\" class=\"dataframe\">\n",
       "  <thead>\n",
       "    <tr style=\"text-align: right;\">\n",
       "      <th></th>\n",
       "      <th>CELL_10</th>\n",
       "      <th>CELL_16</th>\n",
       "      <th>LON</th>\n",
       "      <th>LAT</th>\n",
       "      <th>X</th>\n",
       "      <th>Y</th>\n",
       "    </tr>\n",
       "  </thead>\n",
       "  <tbody>\n",
       "    <tr>\n",
       "      <th>0</th>\n",
       "      <td>13401</td>\n",
       "      <td>3459</td>\n",
       "      <td>104.374001</td>\n",
       "      <td>31.126900</td>\n",
       "      <td>440.292999</td>\n",
       "      <td>3445.209961</td>\n",
       "    </tr>\n",
       "    <tr>\n",
       "      <th>1</th>\n",
       "      <td>13402</td>\n",
       "      <td>345A</td>\n",
       "      <td>104.374001</td>\n",
       "      <td>31.126900</td>\n",
       "      <td>440.292999</td>\n",
       "      <td>3445.209961</td>\n",
       "    </tr>\n",
       "    <tr>\n",
       "      <th>2</th>\n",
       "      <td>13403</td>\n",
       "      <td>345B</td>\n",
       "      <td>104.374001</td>\n",
       "      <td>31.126900</td>\n",
       "      <td>440.292999</td>\n",
       "      <td>3445.209961</td>\n",
       "    </tr>\n",
       "    <tr>\n",
       "      <th>3</th>\n",
       "      <td>13407</td>\n",
       "      <td>345F</td>\n",
       "      <td>104.415001</td>\n",
       "      <td>31.112700</td>\n",
       "      <td>444.195007</td>\n",
       "      <td>3443.620117</td>\n",
       "    </tr>\n",
       "    <tr>\n",
       "      <th>4</th>\n",
       "      <td>13408</td>\n",
       "      <td>3460</td>\n",
       "      <td>104.415001</td>\n",
       "      <td>31.112700</td>\n",
       "      <td>444.195007</td>\n",
       "      <td>3443.620117</td>\n",
       "    </tr>\n",
       "    <tr>\n",
       "      <th>5</th>\n",
       "      <td>13409</td>\n",
       "      <td>3461</td>\n",
       "      <td>104.415001</td>\n",
       "      <td>31.112700</td>\n",
       "      <td>444.195007</td>\n",
       "      <td>3443.620117</td>\n",
       "    </tr>\n",
       "    <tr>\n",
       "      <th>6</th>\n",
       "      <td>13410</td>\n",
       "      <td>3462</td>\n",
       "      <td>104.389000</td>\n",
       "      <td>31.135500</td>\n",
       "      <td>441.729004</td>\n",
       "      <td>3446.159912</td>\n",
       "    </tr>\n",
       "    <tr>\n",
       "      <th>7</th>\n",
       "      <td>13411</td>\n",
       "      <td>3463</td>\n",
       "      <td>104.389000</td>\n",
       "      <td>31.135500</td>\n",
       "      <td>441.729004</td>\n",
       "      <td>3446.159912</td>\n",
       "    </tr>\n",
       "    <tr>\n",
       "      <th>8</th>\n",
       "      <td>13412</td>\n",
       "      <td>3464</td>\n",
       "      <td>104.389000</td>\n",
       "      <td>31.135500</td>\n",
       "      <td>441.729004</td>\n",
       "      <td>3446.159912</td>\n",
       "    </tr>\n",
       "    <tr>\n",
       "      <th>9</th>\n",
       "      <td>13422</td>\n",
       "      <td>346E</td>\n",
       "      <td>104.382004</td>\n",
       "      <td>31.091299</td>\n",
       "      <td>441.033997</td>\n",
       "      <td>3441.260010</td>\n",
       "    </tr>\n",
       "  </tbody>\n",
       "</table>\n",
       "</div>"
      ],
      "text/plain": [
       "  CELL_10 CELL_16         LON        LAT           X            Y\n",
       "0   13401    3459  104.374001  31.126900  440.292999  3445.209961\n",
       "1   13402    345A  104.374001  31.126900  440.292999  3445.209961\n",
       "2   13403    345B  104.374001  31.126900  440.292999  3445.209961\n",
       "3   13407    345F  104.415001  31.112700  444.195007  3443.620117\n",
       "4   13408    3460  104.415001  31.112700  444.195007  3443.620117\n",
       "5   13409    3461  104.415001  31.112700  444.195007  3443.620117\n",
       "6   13410    3462  104.389000  31.135500  441.729004  3446.159912\n",
       "7   13411    3463  104.389000  31.135500  441.729004  3446.159912\n",
       "8   13412    3464  104.389000  31.135500  441.729004  3446.159912\n",
       "9   13422    346E  104.382004  31.091299  441.033997  3441.260010"
      ]
     },
     "execution_count": 12,
     "metadata": {},
     "output_type": "execute_result"
    }
   ],
   "source": [
    "%sql  SELECT * FROM tower_center LIMIT 10;"
   ]
  },
  {
   "cell_type": "code",
   "execution_count": 13,
   "id": "2ab61ab9",
   "metadata": {},
   "outputs": [
    {
     "data": {
      "text/html": [
       "<span style=\"None\">Running query in &#x27;mysql+pyodbc://telecom&#x27;</span>"
      ],
      "text/plain": [
       "Running query in 'mysql+pyodbc://telecom'"
      ]
     },
     "metadata": {},
     "output_type": "display_data"
    },
    {
     "data": {
      "text/html": [
       "<span style=\"color: green\">10 rows affected.</span>"
      ],
      "text/plain": [
       "10 rows affected."
      ]
     },
     "metadata": {},
     "output_type": "display_data"
    },
    {
     "data": {
      "text/html": [
       "<div>\n",
       "<style scoped>\n",
       "    .dataframe tbody tr th:only-of-type {\n",
       "        vertical-align: middle;\n",
       "    }\n",
       "\n",
       "    .dataframe tbody tr th {\n",
       "        vertical-align: top;\n",
       "    }\n",
       "\n",
       "    .dataframe thead th {\n",
       "        text-align: right;\n",
       "    }\n",
       "</style>\n",
       "<table border=\"1\" class=\"dataframe\">\n",
       "  <thead>\n",
       "    <tr style=\"text-align: right;\">\n",
       "      <th></th>\n",
       "      <th>CELL_10</th>\n",
       "      <th>CELL_16</th>\n",
       "      <th>LON</th>\n",
       "      <th>LAT</th>\n",
       "      <th>X</th>\n",
       "      <th>Y</th>\n",
       "      <th>MAIN_CENTER_FLAG</th>\n",
       "      <th>HOT_FLAG</th>\n",
       "      <th>HOT_MAIN_FLAG</th>\n",
       "      <th>HOT_OTHER_FLAG</th>\n",
       "    </tr>\n",
       "  </thead>\n",
       "  <tbody>\n",
       "    <tr>\n",
       "      <th>0</th>\n",
       "      <td>1</td>\n",
       "      <td>0001</td>\n",
       "      <td>103.992996</td>\n",
       "      <td>30.721399</td>\n",
       "      <td>403.545990</td>\n",
       "      <td>3400.520020</td>\n",
       "      <td>0</td>\n",
       "      <td>0</td>\n",
       "      <td>0</td>\n",
       "      <td>0</td>\n",
       "    </tr>\n",
       "    <tr>\n",
       "      <th>1</th>\n",
       "      <td>2</td>\n",
       "      <td>0002</td>\n",
       "      <td>103.992996</td>\n",
       "      <td>30.721399</td>\n",
       "      <td>403.545990</td>\n",
       "      <td>3400.520020</td>\n",
       "      <td>0</td>\n",
       "      <td>0</td>\n",
       "      <td>0</td>\n",
       "      <td>0</td>\n",
       "    </tr>\n",
       "    <tr>\n",
       "      <th>2</th>\n",
       "      <td>3</td>\n",
       "      <td>0003</td>\n",
       "      <td>103.992996</td>\n",
       "      <td>30.721399</td>\n",
       "      <td>403.545990</td>\n",
       "      <td>3400.520020</td>\n",
       "      <td>0</td>\n",
       "      <td>0</td>\n",
       "      <td>0</td>\n",
       "      <td>0</td>\n",
       "    </tr>\n",
       "    <tr>\n",
       "      <th>3</th>\n",
       "      <td>4</td>\n",
       "      <td>0004</td>\n",
       "      <td>104.161003</td>\n",
       "      <td>30.629101</td>\n",
       "      <td>419.562012</td>\n",
       "      <td>3390.159912</td>\n",
       "      <td>0</td>\n",
       "      <td>0</td>\n",
       "      <td>0</td>\n",
       "      <td>0</td>\n",
       "    </tr>\n",
       "    <tr>\n",
       "      <th>4</th>\n",
       "      <td>5</td>\n",
       "      <td>0005</td>\n",
       "      <td>104.161003</td>\n",
       "      <td>30.629101</td>\n",
       "      <td>419.562012</td>\n",
       "      <td>3390.159912</td>\n",
       "      <td>0</td>\n",
       "      <td>0</td>\n",
       "      <td>0</td>\n",
       "      <td>0</td>\n",
       "    </tr>\n",
       "    <tr>\n",
       "      <th>5</th>\n",
       "      <td>6</td>\n",
       "      <td>0006</td>\n",
       "      <td>104.161003</td>\n",
       "      <td>30.629101</td>\n",
       "      <td>419.562012</td>\n",
       "      <td>3390.159912</td>\n",
       "      <td>0</td>\n",
       "      <td>0</td>\n",
       "      <td>0</td>\n",
       "      <td>0</td>\n",
       "    </tr>\n",
       "    <tr>\n",
       "      <th>6</th>\n",
       "      <td>7</td>\n",
       "      <td>0007</td>\n",
       "      <td>103.681000</td>\n",
       "      <td>30.948799</td>\n",
       "      <td>373.957001</td>\n",
       "      <td>3426.050049</td>\n",
       "      <td>0</td>\n",
       "      <td>0</td>\n",
       "      <td>0</td>\n",
       "      <td>0</td>\n",
       "    </tr>\n",
       "    <tr>\n",
       "      <th>7</th>\n",
       "      <td>8</td>\n",
       "      <td>0008</td>\n",
       "      <td>103.681000</td>\n",
       "      <td>30.948799</td>\n",
       "      <td>373.957001</td>\n",
       "      <td>3426.050049</td>\n",
       "      <td>0</td>\n",
       "      <td>0</td>\n",
       "      <td>0</td>\n",
       "      <td>0</td>\n",
       "    </tr>\n",
       "    <tr>\n",
       "      <th>8</th>\n",
       "      <td>9</td>\n",
       "      <td>0009</td>\n",
       "      <td>103.681000</td>\n",
       "      <td>30.948799</td>\n",
       "      <td>373.957001</td>\n",
       "      <td>3426.050049</td>\n",
       "      <td>0</td>\n",
       "      <td>0</td>\n",
       "      <td>0</td>\n",
       "      <td>0</td>\n",
       "    </tr>\n",
       "    <tr>\n",
       "      <th>9</th>\n",
       "      <td>10</td>\n",
       "      <td>000A</td>\n",
       "      <td>103.647003</td>\n",
       "      <td>30.849001</td>\n",
       "      <td>370.574005</td>\n",
       "      <td>3415.020020</td>\n",
       "      <td>0</td>\n",
       "      <td>0</td>\n",
       "      <td>0</td>\n",
       "      <td>0</td>\n",
       "    </tr>\n",
       "  </tbody>\n",
       "</table>\n",
       "</div>"
      ],
      "text/plain": [
       "  CELL_10 CELL_16         LON        LAT           X            Y  \\\n",
       "0       1    0001  103.992996  30.721399  403.545990  3400.520020   \n",
       "1       2    0002  103.992996  30.721399  403.545990  3400.520020   \n",
       "2       3    0003  103.992996  30.721399  403.545990  3400.520020   \n",
       "3       4    0004  104.161003  30.629101  419.562012  3390.159912   \n",
       "4       5    0005  104.161003  30.629101  419.562012  3390.159912   \n",
       "5       6    0006  104.161003  30.629101  419.562012  3390.159912   \n",
       "6       7    0007  103.681000  30.948799  373.957001  3426.050049   \n",
       "7       8    0008  103.681000  30.948799  373.957001  3426.050049   \n",
       "8       9    0009  103.681000  30.948799  373.957001  3426.050049   \n",
       "9      10    000A  103.647003  30.849001  370.574005  3415.020020   \n",
       "\n",
       "   MAIN_CENTER_FLAG  HOT_FLAG  HOT_MAIN_FLAG  HOT_OTHER_FLAG  \n",
       "0                 0         0              0               0  \n",
       "1                 0         0              0               0  \n",
       "2                 0         0              0               0  \n",
       "3                 0         0              0               0  \n",
       "4                 0         0              0               0  \n",
       "5                 0         0              0               0  \n",
       "6                 0         0              0               0  \n",
       "7                 0         0              0               0  \n",
       "8                 0         0              0               0  \n",
       "9                 0         0              0               0  "
      ]
     },
     "execution_count": 13,
     "metadata": {},
     "output_type": "execute_result"
    }
   ],
   "source": [
    "%sql  SELECT * FROM tower_hot_201308 LIMIT 10;"
   ]
  },
  {
   "cell_type": "markdown",
   "id": "7f419da9",
   "metadata": {},
   "source": [
    "# number of observations"
   ]
  },
  {
   "cell_type": "code",
   "execution_count": 16,
   "id": "39b9a208",
   "metadata": {},
   "outputs": [
    {
     "data": {
      "text/html": [
       "<span style=\"None\">Running query in &#x27;mysql+pyodbc://telecom&#x27;</span>"
      ],
      "text/plain": [
       "Running query in 'mysql+pyodbc://telecom'"
      ]
     },
     "metadata": {},
     "output_type": "display_data"
    },
    {
     "data": {
      "text/html": [
       "<span style=\"color: green\">1 rows affected.</span>"
      ],
      "text/plain": [
       "1 rows affected."
      ]
     },
     "metadata": {},
     "output_type": "display_data"
    },
    {
     "data": {
      "text/html": [
       "<div>\n",
       "<style scoped>\n",
       "    .dataframe tbody tr th:only-of-type {\n",
       "        vertical-align: middle;\n",
       "    }\n",
       "\n",
       "    .dataframe tbody tr th {\n",
       "        vertical-align: top;\n",
       "    }\n",
       "\n",
       "    .dataframe thead th {\n",
       "        text-align: right;\n",
       "    }\n",
       "</style>\n",
       "<table border=\"1\" class=\"dataframe\">\n",
       "  <thead>\n",
       "    <tr style=\"text-align: right;\">\n",
       "      <th></th>\n",
       "      <th>cinfo_xy</th>\n",
       "      <th>tower</th>\n",
       "      <th>tower_center</th>\n",
       "      <th>tower_hot_201308</th>\n",
       "    </tr>\n",
       "  </thead>\n",
       "  <tbody>\n",
       "    <tr>\n",
       "      <th>0</th>\n",
       "      <td>40569</td>\n",
       "      <td>40569</td>\n",
       "      <td>427</td>\n",
       "      <td>40569</td>\n",
       "    </tr>\n",
       "  </tbody>\n",
       "</table>\n",
       "</div>"
      ],
      "text/plain": [
       "   cinfo_xy  tower  tower_center  tower_hot_201308\n",
       "0     40569  40569           427             40569"
      ]
     },
     "execution_count": 16,
     "metadata": {},
     "output_type": "execute_result"
    }
   ],
   "source": [
    "%%sql\n",
    "\n",
    "SELECT \n",
    "    (SELECT COUNT(*) FROM cinfo_xy) AS cinfo_xy,\n",
    "    (SELECT COUNT(*) FROM tower) AS tower,\n",
    "    (SELECT COUNT(*) FROM tower_center) AS tower_center,\n",
    "    (SELECT COUNT(*) FROM tower_hot_201308) AS tower_hot_201308;"
   ]
  },
  {
   "cell_type": "markdown",
   "id": "97b4bc2e",
   "metadata": {},
   "source": [
    "we can see that the towers in the table *tower_center* those in *tower* table with center flag\n"
   ]
  },
  {
   "cell_type": "code",
   "execution_count": 17,
   "id": "f56871bd",
   "metadata": {},
   "outputs": [
    {
     "data": {
      "text/html": [
       "<span style=\"None\">Running query in &#x27;mysql+pyodbc://telecom&#x27;</span>"
      ],
      "text/plain": [
       "Running query in 'mysql+pyodbc://telecom'"
      ]
     },
     "metadata": {},
     "output_type": "display_data"
    },
    {
     "data": {
      "text/html": [
       "<span style=\"color: green\">1 rows affected.</span>"
      ],
      "text/plain": [
       "1 rows affected."
      ]
     },
     "metadata": {},
     "output_type": "display_data"
    },
    {
     "data": {
      "text/html": [
       "<div>\n",
       "<style scoped>\n",
       "    .dataframe tbody tr th:only-of-type {\n",
       "        vertical-align: middle;\n",
       "    }\n",
       "\n",
       "    .dataframe tbody tr th {\n",
       "        vertical-align: top;\n",
       "    }\n",
       "\n",
       "    .dataframe thead th {\n",
       "        text-align: right;\n",
       "    }\n",
       "</style>\n",
       "<table border=\"1\" class=\"dataframe\">\n",
       "  <thead>\n",
       "    <tr style=\"text-align: right;\">\n",
       "      <th></th>\n",
       "      <th>COUNT(*)</th>\n",
       "    </tr>\n",
       "  </thead>\n",
       "  <tbody>\n",
       "    <tr>\n",
       "      <th>0</th>\n",
       "      <td>427</td>\n",
       "    </tr>\n",
       "  </tbody>\n",
       "</table>\n",
       "</div>"
      ],
      "text/plain": [
       "   COUNT(*)\n",
       "0       427"
      ]
     },
     "execution_count": 17,
     "metadata": {},
     "output_type": "execute_result"
    }
   ],
   "source": [
    "%%sql\n",
    "SELECT \n",
    "    COUNT(*)\n",
    "FROM \n",
    "    tower\n",
    "WHERE DEYANG_CENTER = 1;"
   ]
  },
  {
   "cell_type": "markdown",
   "id": "d3ec9f37",
   "metadata": {},
   "source": [
    "# number of observations for each flag in table tower_hot_201308"
   ]
  },
  {
   "cell_type": "code",
   "execution_count": 18,
   "id": "c6023645",
   "metadata": {},
   "outputs": [
    {
     "data": {
      "text/html": [
       "<span style=\"None\">Running query in &#x27;mysql+pyodbc://telecom&#x27;</span>"
      ],
      "text/plain": [
       "Running query in 'mysql+pyodbc://telecom'"
      ]
     },
     "metadata": {},
     "output_type": "display_data"
    },
    {
     "data": {
      "text/html": [
       "<span style=\"color: green\">1 rows affected.</span>"
      ],
      "text/plain": [
       "1 rows affected."
      ]
     },
     "metadata": {},
     "output_type": "display_data"
    },
    {
     "data": {
      "text/html": [
       "<div>\n",
       "<style scoped>\n",
       "    .dataframe tbody tr th:only-of-type {\n",
       "        vertical-align: middle;\n",
       "    }\n",
       "\n",
       "    .dataframe tbody tr th {\n",
       "        vertical-align: top;\n",
       "    }\n",
       "\n",
       "    .dataframe thead th {\n",
       "        text-align: right;\n",
       "    }\n",
       "</style>\n",
       "<table border=\"1\" class=\"dataframe\">\n",
       "  <thead>\n",
       "    <tr style=\"text-align: right;\">\n",
       "      <th></th>\n",
       "      <th>MAIN_CENTER_FLAG</th>\n",
       "      <th>HOT_FLAG</th>\n",
       "      <th>HOT_MAIN_FLAG</th>\n",
       "      <th>HOT_OTHER_FLAG</th>\n",
       "    </tr>\n",
       "  </thead>\n",
       "  <tbody>\n",
       "    <tr>\n",
       "      <th>0</th>\n",
       "      <td>427</td>\n",
       "      <td>425</td>\n",
       "      <td>132</td>\n",
       "      <td>293</td>\n",
       "    </tr>\n",
       "  </tbody>\n",
       "</table>\n",
       "</div>"
      ],
      "text/plain": [
       "   MAIN_CENTER_FLAG  HOT_FLAG  HOT_MAIN_FLAG  HOT_OTHER_FLAG\n",
       "0               427       425            132             293"
      ]
     },
     "execution_count": 18,
     "metadata": {},
     "output_type": "execute_result"
    }
   ],
   "source": [
    "%%sql\n",
    "\n",
    "SELECT\n",
    "    (SELECT COUNT(*) FROM tower_hot_201308 WHERE MAIN_CENTER_FLAG = 1) AS MAIN_CENTER_FLAG,\n",
    "    (SELECT COUNT(*) FROM tower_hot_201308 WHERE HOT_FLAG = 1) AS HOT_FLAG,\n",
    "    (SELECT COUNT(*) FROM tower_hot_201308 WHERE HOT_MAIN_FLAG = 1) AS HOT_MAIN_FLAG,\n",
    "    (SELECT COUNT(*) FROM tower_hot_201308 WHERE HOT_OTHER_FLAG = 1) AS HOT_OTHER_FLAG;"
   ]
  }
 ],
 "metadata": {
  "@webio": {
   "lastCommId": null,
   "lastKernelId": null
  },
  "kernelspec": {
   "display_name": "Poetry",
   "language": "python",
   "name": "poetry-kernel"
  },
  "language_info": {
   "codemirror_mode": {
    "name": "ipython",
    "version": 3
   },
   "file_extension": ".py",
   "mimetype": "text/x-python",
   "name": "python",
   "nbconvert_exporter": "python",
   "pygments_lexer": "ipython3",
   "version": "3.11.4"
  }
 },
 "nbformat": 4,
 "nbformat_minor": 5
}
