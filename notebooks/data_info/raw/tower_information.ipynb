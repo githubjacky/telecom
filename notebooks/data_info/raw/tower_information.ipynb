{
 "cells": [
  {
   "cell_type": "code",
   "execution_count": 19,
   "id": "c7290080",
   "metadata": {},
   "outputs": [
    {
     "data": {
      "text/html": [
       "<span style=\"None\">Found pyproject.toml from &#x27;/Users/jacky/github/telecom&#x27;</span>"
      ],
      "text/plain": [
       "Found pyproject.toml from '/Users/jacky/github/telecom'"
      ]
     },
     "metadata": {},
     "output_type": "display_data"
    }
   ],
   "source": [
    "from sqlalchemy import create_engine\n",
    "\n",
    "\n",
    "engine = create_engine('mysql+pyodbc://telecom')\n",
    "%load_ext sql\n",
    "%sql engine\n",
    "%config SqlMagic.autopandas = True"
   ]
  },
  {
   "cell_type": "markdown",
   "id": "40ab9e28",
   "metadata": {},
   "source": [
    "# Tower Information"
   ]
  },
  {
   "cell_type": "code",
   "execution_count": 7,
   "id": "568081b9",
   "metadata": {},
   "outputs": [
    {
     "data": {
      "text/html": [
       "<span style=\"None\">Running query in &#x27;mysql+pyodbc://telecom&#x27;</span>"
      ],
      "text/plain": [
       "Running query in 'mysql+pyodbc://telecom'"
      ]
     },
     "metadata": {},
     "output_type": "display_data"
    },
    {
     "data": {
      "text/html": [
       "<span style=\"color: green\">10 rows affected.</span>"
      ],
      "text/plain": [
       "10 rows affected."
      ]
     },
     "metadata": {},
     "output_type": "display_data"
    },
    {
     "data": {
      "text/html": [
       "<div>\n",
       "<style scoped>\n",
       "    .dataframe tbody tr th:only-of-type {\n",
       "        vertical-align: middle;\n",
       "    }\n",
       "\n",
       "    .dataframe tbody tr th {\n",
       "        vertical-align: top;\n",
       "    }\n",
       "\n",
       "    .dataframe thead th {\n",
       "        text-align: right;\n",
       "    }\n",
       "</style>\n",
       "<table border=\"1\" class=\"dataframe\">\n",
       "  <thead>\n",
       "    <tr style=\"text-align: right;\">\n",
       "      <th></th>\n",
       "      <th>Tables_in_telecom</th>\n",
       "    </tr>\n",
       "  </thead>\n",
       "  <tbody>\n",
       "    <tr>\n",
       "      <th>0</th>\n",
       "      <td>cinfo_xy</td>\n",
       "    </tr>\n",
       "    <tr>\n",
       "      <th>1</th>\n",
       "      <td>sample_sight_201308</td>\n",
       "    </tr>\n",
       "    <tr>\n",
       "      <th>2</th>\n",
       "      <td>sample_user_201308</td>\n",
       "    </tr>\n",
       "    <tr>\n",
       "      <th>3</th>\n",
       "      <td>serv_acct_item_0838_201308</td>\n",
       "    </tr>\n",
       "    <tr>\n",
       "      <th>4</th>\n",
       "      <td>serv_acct_item_0838_201406</td>\n",
       "    </tr>\n",
       "    <tr>\n",
       "      <th>5</th>\n",
       "      <td>tb_asz_cdma_0838_201308</td>\n",
       "    </tr>\n",
       "    <tr>\n",
       "      <th>6</th>\n",
       "      <td>tb_asz_cdma_0838_201406</td>\n",
       "    </tr>\n",
       "    <tr>\n",
       "      <th>7</th>\n",
       "      <td>tower</td>\n",
       "    </tr>\n",
       "    <tr>\n",
       "      <th>8</th>\n",
       "      <td>tower_center</td>\n",
       "    </tr>\n",
       "    <tr>\n",
       "      <th>9</th>\n",
       "      <td>tower_hot_201308</td>\n",
       "    </tr>\n",
       "  </tbody>\n",
       "</table>\n",
       "</div>"
      ],
      "text/plain": [
       "            Tables_in_telecom\n",
       "0                    cinfo_xy\n",
       "1         sample_sight_201308\n",
       "2          sample_user_201308\n",
       "3  serv_acct_item_0838_201308\n",
       "4  serv_acct_item_0838_201406\n",
       "5     tb_asz_cdma_0838_201308\n",
       "6     tb_asz_cdma_0838_201406\n",
       "7                       tower\n",
       "8                tower_center\n",
       "9            tower_hot_201308"
      ]
     },
     "execution_count": 7,
     "metadata": {},
     "output_type": "execute_result"
    }
   ],
   "source": [
    "%sql SHOW TABLES"
   ]
  },
  {
   "cell_type": "markdown",
   "id": "7708edc0",
   "metadata": {},
   "source": [
    "# Quick Look at various tables of tower"
   ]
  },
  {
   "cell_type": "code",
   "execution_count": 10,
   "id": "1f51ace0",
   "metadata": {},
   "outputs": [
    {
     "data": {
      "text/html": [
       "<span style=\"None\">Running query in &#x27;mysql+pyodbc://telecom&#x27;</span>"
      ],
      "text/plain": [
       "Running query in 'mysql+pyodbc://telecom'"
      ]
     },
     "metadata": {},
     "output_type": "display_data"
    },
    {
     "data": {
      "text/html": [
       "<span style=\"color: green\">10 rows affected.</span>"
      ],
      "text/plain": [
       "10 rows affected."
      ]
     },
     "metadata": {},
     "output_type": "display_data"
    },
    {
     "data": {
      "text/html": [
       "<div>\n",
       "<style scoped>\n",
       "    .dataframe tbody tr th:only-of-type {\n",
       "        vertical-align: middle;\n",
       "    }\n",
       "\n",
       "    .dataframe tbody tr th {\n",
       "        vertical-align: top;\n",
       "    }\n",
       "\n",
       "    .dataframe thead th {\n",
       "        text-align: right;\n",
       "    }\n",
       "</style>\n",
       "<table border=\"1\" class=\"dataframe\">\n",
       "  <thead>\n",
       "    <tr style=\"text-align: right;\">\n",
       "      <th></th>\n",
       "      <th>CELL_10</th>\n",
       "      <th>CELL_16</th>\n",
       "      <th>LON</th>\n",
       "      <th>LAT</th>\n",
       "      <th>X</th>\n",
       "      <th>Y</th>\n",
       "    </tr>\n",
       "  </thead>\n",
       "  <tbody>\n",
       "    <tr>\n",
       "      <th>0</th>\n",
       "      <td>1</td>\n",
       "      <td>0001</td>\n",
       "      <td>103.992996</td>\n",
       "      <td>30.721399</td>\n",
       "      <td>403.545990</td>\n",
       "      <td>3400.520020</td>\n",
       "    </tr>\n",
       "    <tr>\n",
       "      <th>1</th>\n",
       "      <td>2</td>\n",
       "      <td>0002</td>\n",
       "      <td>103.992996</td>\n",
       "      <td>30.721399</td>\n",
       "      <td>403.545990</td>\n",
       "      <td>3400.520020</td>\n",
       "    </tr>\n",
       "    <tr>\n",
       "      <th>2</th>\n",
       "      <td>3</td>\n",
       "      <td>0003</td>\n",
       "      <td>103.992996</td>\n",
       "      <td>30.721399</td>\n",
       "      <td>403.545990</td>\n",
       "      <td>3400.520020</td>\n",
       "    </tr>\n",
       "    <tr>\n",
       "      <th>3</th>\n",
       "      <td>4</td>\n",
       "      <td>0004</td>\n",
       "      <td>104.161003</td>\n",
       "      <td>30.629101</td>\n",
       "      <td>419.562012</td>\n",
       "      <td>3390.159912</td>\n",
       "    </tr>\n",
       "    <tr>\n",
       "      <th>4</th>\n",
       "      <td>5</td>\n",
       "      <td>0005</td>\n",
       "      <td>104.161003</td>\n",
       "      <td>30.629101</td>\n",
       "      <td>419.562012</td>\n",
       "      <td>3390.159912</td>\n",
       "    </tr>\n",
       "    <tr>\n",
       "      <th>5</th>\n",
       "      <td>6</td>\n",
       "      <td>0006</td>\n",
       "      <td>104.161003</td>\n",
       "      <td>30.629101</td>\n",
       "      <td>419.562012</td>\n",
       "      <td>3390.159912</td>\n",
       "    </tr>\n",
       "    <tr>\n",
       "      <th>6</th>\n",
       "      <td>7</td>\n",
       "      <td>0007</td>\n",
       "      <td>103.681000</td>\n",
       "      <td>30.948799</td>\n",
       "      <td>373.957001</td>\n",
       "      <td>3426.050049</td>\n",
       "    </tr>\n",
       "    <tr>\n",
       "      <th>7</th>\n",
       "      <td>8</td>\n",
       "      <td>0008</td>\n",
       "      <td>103.681000</td>\n",
       "      <td>30.948799</td>\n",
       "      <td>373.957001</td>\n",
       "      <td>3426.050049</td>\n",
       "    </tr>\n",
       "    <tr>\n",
       "      <th>8</th>\n",
       "      <td>9</td>\n",
       "      <td>0009</td>\n",
       "      <td>103.681000</td>\n",
       "      <td>30.948799</td>\n",
       "      <td>373.957001</td>\n",
       "      <td>3426.050049</td>\n",
       "    </tr>\n",
       "    <tr>\n",
       "      <th>9</th>\n",
       "      <td>10</td>\n",
       "      <td>000A</td>\n",
       "      <td>103.647003</td>\n",
       "      <td>30.849001</td>\n",
       "      <td>370.574005</td>\n",
       "      <td>3415.020020</td>\n",
       "    </tr>\n",
       "  </tbody>\n",
       "</table>\n",
       "</div>"
      ],
      "text/plain": [
       "  CELL_10 CELL_16         LON        LAT           X            Y\n",
       "0       1    0001  103.992996  30.721399  403.545990  3400.520020\n",
       "1       2    0002  103.992996  30.721399  403.545990  3400.520020\n",
       "2       3    0003  103.992996  30.721399  403.545990  3400.520020\n",
       "3       4    0004  104.161003  30.629101  419.562012  3390.159912\n",
       "4       5    0005  104.161003  30.629101  419.562012  3390.159912\n",
       "5       6    0006  104.161003  30.629101  419.562012  3390.159912\n",
       "6       7    0007  103.681000  30.948799  373.957001  3426.050049\n",
       "7       8    0008  103.681000  30.948799  373.957001  3426.050049\n",
       "8       9    0009  103.681000  30.948799  373.957001  3426.050049\n",
       "9      10    000A  103.647003  30.849001  370.574005  3415.020020"
      ]
     },
     "execution_count": 10,
     "metadata": {},
     "output_type": "execute_result"
    }
   ],
   "source": [
    "%sql  SELECT * FROM cinfo_xy LIMIT 10;"
   ]
  },
  {
   "cell_type": "code",
   "execution_count": 11,
   "id": "5ed89d50",
   "metadata": {},
   "outputs": [
    {
     "data": {
      "text/html": [
       "<span style=\"None\">Running query in &#x27;mysql+pyodbc://telecom&#x27;</span>"
      ],
      "text/plain": [
       "Running query in 'mysql+pyodbc://telecom'"
      ]
     },
     "metadata": {},
     "output_type": "display_data"
    },
    {
     "data": {
      "text/html": [
       "<span style=\"color: green\">10 rows affected.</span>"
      ],
      "text/plain": [
       "10 rows affected."
      ]
     },
     "metadata": {},
     "output_type": "display_data"
    },
    {
     "data": {
      "text/html": [
       "<div>\n",
       "<style scoped>\n",
       "    .dataframe tbody tr th:only-of-type {\n",
       "        vertical-align: middle;\n",
       "    }\n",
       "\n",
       "    .dataframe tbody tr th {\n",
       "        vertical-align: top;\n",
       "    }\n",
       "\n",
       "    .dataframe thead th {\n",
       "        text-align: right;\n",
       "    }\n",
       "</style>\n",
       "<table border=\"1\" class=\"dataframe\">\n",
       "  <thead>\n",
       "    <tr style=\"text-align: right;\">\n",
       "      <th></th>\n",
       "      <th>CELL_10</th>\n",
       "      <th>CELL_16</th>\n",
       "      <th>LON</th>\n",
       "      <th>LAT</th>\n",
       "      <th>X</th>\n",
       "      <th>Y</th>\n",
       "      <th>DEYANG_CENTER</th>\n",
       "    </tr>\n",
       "  </thead>\n",
       "  <tbody>\n",
       "    <tr>\n",
       "      <th>0</th>\n",
       "      <td>1</td>\n",
       "      <td>0001</td>\n",
       "      <td>103.992996</td>\n",
       "      <td>30.721399</td>\n",
       "      <td>403.545990</td>\n",
       "      <td>3400.520020</td>\n",
       "      <td>0</td>\n",
       "    </tr>\n",
       "    <tr>\n",
       "      <th>1</th>\n",
       "      <td>2</td>\n",
       "      <td>0002</td>\n",
       "      <td>103.992996</td>\n",
       "      <td>30.721399</td>\n",
       "      <td>403.545990</td>\n",
       "      <td>3400.520020</td>\n",
       "      <td>0</td>\n",
       "    </tr>\n",
       "    <tr>\n",
       "      <th>2</th>\n",
       "      <td>3</td>\n",
       "      <td>0003</td>\n",
       "      <td>103.992996</td>\n",
       "      <td>30.721399</td>\n",
       "      <td>403.545990</td>\n",
       "      <td>3400.520020</td>\n",
       "      <td>0</td>\n",
       "    </tr>\n",
       "    <tr>\n",
       "      <th>3</th>\n",
       "      <td>4</td>\n",
       "      <td>0004</td>\n",
       "      <td>104.161003</td>\n",
       "      <td>30.629101</td>\n",
       "      <td>419.562012</td>\n",
       "      <td>3390.159912</td>\n",
       "      <td>0</td>\n",
       "    </tr>\n",
       "    <tr>\n",
       "      <th>4</th>\n",
       "      <td>5</td>\n",
       "      <td>0005</td>\n",
       "      <td>104.161003</td>\n",
       "      <td>30.629101</td>\n",
       "      <td>419.562012</td>\n",
       "      <td>3390.159912</td>\n",
       "      <td>0</td>\n",
       "    </tr>\n",
       "    <tr>\n",
       "      <th>5</th>\n",
       "      <td>6</td>\n",
       "      <td>0006</td>\n",
       "      <td>104.161003</td>\n",
       "      <td>30.629101</td>\n",
       "      <td>419.562012</td>\n",
       "      <td>3390.159912</td>\n",
       "      <td>0</td>\n",
       "    </tr>\n",
       "    <tr>\n",
       "      <th>6</th>\n",
       "      <td>7</td>\n",
       "      <td>0007</td>\n",
       "      <td>103.681000</td>\n",
       "      <td>30.948799</td>\n",
       "      <td>373.957001</td>\n",
       "      <td>3426.050049</td>\n",
       "      <td>0</td>\n",
       "    </tr>\n",
       "    <tr>\n",
       "      <th>7</th>\n",
       "      <td>8</td>\n",
       "      <td>0008</td>\n",
       "      <td>103.681000</td>\n",
       "      <td>30.948799</td>\n",
       "      <td>373.957001</td>\n",
       "      <td>3426.050049</td>\n",
       "      <td>0</td>\n",
       "    </tr>\n",
       "    <tr>\n",
       "      <th>8</th>\n",
       "      <td>9</td>\n",
       "      <td>0009</td>\n",
       "      <td>103.681000</td>\n",
       "      <td>30.948799</td>\n",
       "      <td>373.957001</td>\n",
       "      <td>3426.050049</td>\n",
       "      <td>0</td>\n",
       "    </tr>\n",
       "    <tr>\n",
       "      <th>9</th>\n",
       "      <td>10</td>\n",
       "      <td>000A</td>\n",
       "      <td>103.647003</td>\n",
       "      <td>30.849001</td>\n",
       "      <td>370.574005</td>\n",
       "      <td>3415.020020</td>\n",
       "      <td>0</td>\n",
       "    </tr>\n",
       "  </tbody>\n",
       "</table>\n",
       "</div>"
      ],
      "text/plain": [
       "  CELL_10 CELL_16         LON        LAT           X            Y  \\\n",
       "0       1    0001  103.992996  30.721399  403.545990  3400.520020   \n",
       "1       2    0002  103.992996  30.721399  403.545990  3400.520020   \n",
       "2       3    0003  103.992996  30.721399  403.545990  3400.520020   \n",
       "3       4    0004  104.161003  30.629101  419.562012  3390.159912   \n",
       "4       5    0005  104.161003  30.629101  419.562012  3390.159912   \n",
       "5       6    0006  104.161003  30.629101  419.562012  3390.159912   \n",
       "6       7    0007  103.681000  30.948799  373.957001  3426.050049   \n",
       "7       8    0008  103.681000  30.948799  373.957001  3426.050049   \n",
       "8       9    0009  103.681000  30.948799  373.957001  3426.050049   \n",
       "9      10    000A  103.647003  30.849001  370.574005  3415.020020   \n",
       "\n",
       "   DEYANG_CENTER  \n",
       "0              0  \n",
       "1              0  \n",
       "2              0  \n",
       "3              0  \n",
       "4              0  \n",
       "5              0  \n",
       "6              0  \n",
       "7              0  \n",
       "8              0  \n",
       "9              0  "
      ]
     },
     "execution_count": 11,
     "metadata": {},
     "output_type": "execute_result"
    }
   ],
   "source": [
    "%sql  SELECT * FROM tower LIMIT 10;"
   ]
  },
  {
   "cell_type": "code",
   "execution_count": 12,
   "id": "3a4e71e2",
   "metadata": {},
   "outputs": [
    {
     "data": {
      "text/html": [
       "<span style=\"None\">Running query in &#x27;mysql+pyodbc://telecom&#x27;</span>"
      ],
      "text/plain": [
       "Running query in 'mysql+pyodbc://telecom'"
      ]
     },
     "metadata": {},
     "output_type": "display_data"
    },
    {
     "data": {
      "text/html": [
       "<span style=\"color: green\">10 rows affected.</span>"
      ],
      "text/plain": [
       "10 rows affected."
      ]
     },
     "metadata": {},
     "output_type": "display_data"
    },
    {
     "data": {
      "text/html": [
       "<div>\n",
       "<style scoped>\n",
       "    .dataframe tbody tr th:only-of-type {\n",
       "        vertical-align: middle;\n",
       "    }\n",
       "\n",
       "    .dataframe tbody tr th {\n",
       "        vertical-align: top;\n",
       "    }\n",
       "\n",
       "    .dataframe thead th {\n",
       "        text-align: right;\n",
       "    }\n",
       "</style>\n",
       "<table border=\"1\" class=\"dataframe\">\n",
       "  <thead>\n",
       "    <tr style=\"text-align: right;\">\n",
       "      <th></th>\n",
       "      <th>CELL_10</th>\n",
       "      <th>CELL_16</th>\n",
       "      <th>LON</th>\n",
       "      <th>LAT</th>\n",
       "      <th>X</th>\n",
       "      <th>Y</th>\n",
       "    </tr>\n",
       "  </thead>\n",
       "  <tbody>\n",
       "    <tr>\n",
       "      <th>0</th>\n",
       "      <td>13401</td>\n",
       "      <td>3459</td>\n",
       "      <td>104.374001</td>\n",
       "      <td>31.126900</td>\n",
       "      <td>440.292999</td>\n",
       "      <td>3445.209961</td>\n",
       "    </tr>\n",
       "    <tr>\n",
       "      <th>1</th>\n",
       "      <td>13402</td>\n",
       "      <td>345A</td>\n",
       "      <td>104.374001</td>\n",
       "      <td>31.126900</td>\n",
       "      <td>440.292999</td>\n",
       "      <td>3445.209961</td>\n",
       "    </tr>\n",
       "    <tr>\n",
       "      <th>2</th>\n",
       "      <td>13403</td>\n",
       "      <td>345B</td>\n",
       "      <td>104.374001</td>\n",
       "      <td>31.126900</td>\n",
       "      <td>440.292999</td>\n",
       "      <td>3445.209961</td>\n",
       "    </tr>\n",
       "    <tr>\n",
       "      <th>3</th>\n",
       "      <td>13407</td>\n",
       "      <td>345F</td>\n",
       "      <td>104.415001</td>\n",
       "      <td>31.112700</td>\n",
       "      <td>444.195007</td>\n",
       "      <td>3443.620117</td>\n",
       "    </tr>\n",
       "    <tr>\n",
       "      <th>4</th>\n",
       "      <td>13408</td>\n",
       "      <td>3460</td>\n",
       "      <td>104.415001</td>\n",
       "      <td>31.112700</td>\n",
       "      <td>444.195007</td>\n",
       "      <td>3443.620117</td>\n",
       "    </tr>\n",
       "    <tr>\n",
       "      <th>5</th>\n",
       "      <td>13409</td>\n",
       "      <td>3461</td>\n",
       "      <td>104.415001</td>\n",
       "      <td>31.112700</td>\n",
       "      <td>444.195007</td>\n",
       "      <td>3443.620117</td>\n",
       "    </tr>\n",
       "    <tr>\n",
       "      <th>6</th>\n",
       "      <td>13410</td>\n",
       "      <td>3462</td>\n",
       "      <td>104.389000</td>\n",
       "      <td>31.135500</td>\n",
       "      <td>441.729004</td>\n",
       "      <td>3446.159912</td>\n",
       "    </tr>\n",
       "    <tr>\n",
       "      <th>7</th>\n",
       "      <td>13411</td>\n",
       "      <td>3463</td>\n",
       "      <td>104.389000</td>\n",
       "      <td>31.135500</td>\n",
       "      <td>441.729004</td>\n",
       "      <td>3446.159912</td>\n",
       "    </tr>\n",
       "    <tr>\n",
       "      <th>8</th>\n",
       "      <td>13412</td>\n",
       "      <td>3464</td>\n",
       "      <td>104.389000</td>\n",
       "      <td>31.135500</td>\n",
       "      <td>441.729004</td>\n",
       "      <td>3446.159912</td>\n",
       "    </tr>\n",
       "    <tr>\n",
       "      <th>9</th>\n",
       "      <td>13422</td>\n",
       "      <td>346E</td>\n",
       "      <td>104.382004</td>\n",
       "      <td>31.091299</td>\n",
       "      <td>441.033997</td>\n",
       "      <td>3441.260010</td>\n",
       "    </tr>\n",
       "  </tbody>\n",
       "</table>\n",
       "</div>"
      ],
      "text/plain": [
       "  CELL_10 CELL_16         LON        LAT           X            Y\n",
       "0   13401    3459  104.374001  31.126900  440.292999  3445.209961\n",
       "1   13402    345A  104.374001  31.126900  440.292999  3445.209961\n",
       "2   13403    345B  104.374001  31.126900  440.292999  3445.209961\n",
       "3   13407    345F  104.415001  31.112700  444.195007  3443.620117\n",
       "4   13408    3460  104.415001  31.112700  444.195007  3443.620117\n",
       "5   13409    3461  104.415001  31.112700  444.195007  3443.620117\n",
       "6   13410    3462  104.389000  31.135500  441.729004  3446.159912\n",
       "7   13411    3463  104.389000  31.135500  441.729004  3446.159912\n",
       "8   13412    3464  104.389000  31.135500  441.729004  3446.159912\n",
       "9   13422    346E  104.382004  31.091299  441.033997  3441.260010"
      ]
     },
     "execution_count": 12,
     "metadata": {},
     "output_type": "execute_result"
    }
   ],
   "source": [
    "%sql  SELECT * FROM tower_center LIMIT 10;"
   ]
  },
  {
   "cell_type": "code",
   "execution_count": 13,
   "id": "2ab61ab9",
   "metadata": {},
   "outputs": [
    {
     "data": {
      "text/html": [
       "<span style=\"None\">Running query in &#x27;mysql+pyodbc://telecom&#x27;</span>"
      ],
      "text/plain": [
       "Running query in 'mysql+pyodbc://telecom'"
      ]
     },
     "metadata": {},
     "output_type": "display_data"
    },
    {
     "data": {
      "text/html": [
       "<span style=\"color: green\">10 rows affected.</span>"
      ],
      "text/plain": [
       "10 rows affected."
      ]
     },
     "metadata": {},
     "output_type": "display_data"
    },
    {
     "data": {
      "text/html": [
       "<div>\n",
       "<style scoped>\n",
       "    .dataframe tbody tr th:only-of-type {\n",
       "        vertical-align: middle;\n",
       "    }\n",
       "\n",
       "    .dataframe tbody tr th {\n",
       "        vertical-align: top;\n",
       "    }\n",
       "\n",
       "    .dataframe thead th {\n",
       "        text-align: right;\n",
       "    }\n",
       "</style>\n",
       "<table border=\"1\" class=\"dataframe\">\n",
       "  <thead>\n",
       "    <tr style=\"text-align: right;\">\n",
       "      <th></th>\n",
       "      <th>CELL_10</th>\n",
       "      <th>CELL_16</th>\n",
       "      <th>LON</th>\n",
       "      <th>LAT</th>\n",
       "      <th>X</th>\n",
       "      <th>Y</th>\n",
       "      <th>MAIN_CENTER_FLAG</th>\n",
       "      <th>HOT_FLAG</th>\n",
       "      <th>HOT_MAIN_FLAG</th>\n",
       "      <th>HOT_OTHER_FLAG</th>\n",
       "    </tr>\n",
       "  </thead>\n",
       "  <tbody>\n",
       "    <tr>\n",
       "      <th>0</th>\n",
       "      <td>1</td>\n",
       "      <td>0001</td>\n",
       "      <td>103.992996</td>\n",
       "      <td>30.721399</td>\n",
       "      <td>403.545990</td>\n",
       "      <td>3400.520020</td>\n",
       "      <td>0</td>\n",
       "      <td>0</td>\n",
       "      <td>0</td>\n",
       "      <td>0</td>\n",
       "    </tr>\n",
       "    <tr>\n",
       "      <th>1</th>\n",
       "      <td>2</td>\n",
       "      <td>0002</td>\n",
       "      <td>103.992996</td>\n",
       "      <td>30.721399</td>\n",
       "      <td>403.545990</td>\n",
       "      <td>3400.520020</td>\n",
       "      <td>0</td>\n",
       "      <td>0</td>\n",
       "      <td>0</td>\n",
       "      <td>0</td>\n",
       "    </tr>\n",
       "    <tr>\n",
       "      <th>2</th>\n",
       "      <td>3</td>\n",
       "      <td>0003</td>\n",
       "      <td>103.992996</td>\n",
       "      <td>30.721399</td>\n",
       "      <td>403.545990</td>\n",
       "      <td>3400.520020</td>\n",
       "      <td>0</td>\n",
       "      <td>0</td>\n",
       "      <td>0</td>\n",
       "      <td>0</td>\n",
       "    </tr>\n",
       "    <tr>\n",
       "      <th>3</th>\n",
       "      <td>4</td>\n",
       "      <td>0004</td>\n",
       "      <td>104.161003</td>\n",
       "      <td>30.629101</td>\n",
       "      <td>419.562012</td>\n",
       "      <td>3390.159912</td>\n",
       "      <td>0</td>\n",
       "      <td>0</td>\n",
       "      <td>0</td>\n",
       "      <td>0</td>\n",
       "    </tr>\n",
       "    <tr>\n",
       "      <th>4</th>\n",
       "      <td>5</td>\n",
       "      <td>0005</td>\n",
       "      <td>104.161003</td>\n",
       "      <td>30.629101</td>\n",
       "      <td>419.562012</td>\n",
       "      <td>3390.159912</td>\n",
       "      <td>0</td>\n",
       "      <td>0</td>\n",
       "      <td>0</td>\n",
       "      <td>0</td>\n",
       "    </tr>\n",
       "    <tr>\n",
       "      <th>5</th>\n",
       "      <td>6</td>\n",
       "      <td>0006</td>\n",
       "      <td>104.161003</td>\n",
       "      <td>30.629101</td>\n",
       "      <td>419.562012</td>\n",
       "      <td>3390.159912</td>\n",
       "      <td>0</td>\n",
       "      <td>0</td>\n",
       "      <td>0</td>\n",
       "      <td>0</td>\n",
       "    </tr>\n",
       "    <tr>\n",
       "      <th>6</th>\n",
       "      <td>7</td>\n",
       "      <td>0007</td>\n",
       "      <td>103.681000</td>\n",
       "      <td>30.948799</td>\n",
       "      <td>373.957001</td>\n",
       "      <td>3426.050049</td>\n",
       "      <td>0</td>\n",
       "      <td>0</td>\n",
       "      <td>0</td>\n",
       "      <td>0</td>\n",
       "    </tr>\n",
       "    <tr>\n",
       "      <th>7</th>\n",
       "      <td>8</td>\n",
       "      <td>0008</td>\n",
       "      <td>103.681000</td>\n",
       "      <td>30.948799</td>\n",
       "      <td>373.957001</td>\n",
       "      <td>3426.050049</td>\n",
       "      <td>0</td>\n",
       "      <td>0</td>\n",
       "      <td>0</td>\n",
       "      <td>0</td>\n",
       "    </tr>\n",
       "    <tr>\n",
       "      <th>8</th>\n",
       "      <td>9</td>\n",
       "      <td>0009</td>\n",
       "      <td>103.681000</td>\n",
       "      <td>30.948799</td>\n",
       "      <td>373.957001</td>\n",
       "      <td>3426.050049</td>\n",
       "      <td>0</td>\n",
       "      <td>0</td>\n",
       "      <td>0</td>\n",
       "      <td>0</td>\n",
       "    </tr>\n",
       "    <tr>\n",
       "      <th>9</th>\n",
       "      <td>10</td>\n",
       "      <td>000A</td>\n",
       "      <td>103.647003</td>\n",
       "      <td>30.849001</td>\n",
       "      <td>370.574005</td>\n",
       "      <td>3415.020020</td>\n",
       "      <td>0</td>\n",
       "      <td>0</td>\n",
       "      <td>0</td>\n",
       "      <td>0</td>\n",
       "    </tr>\n",
       "  </tbody>\n",
       "</table>\n",
       "</div>"
      ],
      "text/plain": [
       "  CELL_10 CELL_16         LON        LAT           X            Y  \\\n",
       "0       1    0001  103.992996  30.721399  403.545990  3400.520020   \n",
       "1       2    0002  103.992996  30.721399  403.545990  3400.520020   \n",
       "2       3    0003  103.992996  30.721399  403.545990  3400.520020   \n",
       "3       4    0004  104.161003  30.629101  419.562012  3390.159912   \n",
       "4       5    0005  104.161003  30.629101  419.562012  3390.159912   \n",
       "5       6    0006  104.161003  30.629101  419.562012  3390.159912   \n",
       "6       7    0007  103.681000  30.948799  373.957001  3426.050049   \n",
       "7       8    0008  103.681000  30.948799  373.957001  3426.050049   \n",
       "8       9    0009  103.681000  30.948799  373.957001  3426.050049   \n",
       "9      10    000A  103.647003  30.849001  370.574005  3415.020020   \n",
       "\n",
       "   MAIN_CENTER_FLAG  HOT_FLAG  HOT_MAIN_FLAG  HOT_OTHER_FLAG  \n",
       "0                 0         0              0               0  \n",
       "1                 0         0              0               0  \n",
       "2                 0         0              0               0  \n",
       "3                 0         0              0               0  \n",
       "4                 0         0              0               0  \n",
       "5                 0         0              0               0  \n",
       "6                 0         0              0               0  \n",
       "7                 0         0              0               0  \n",
       "8                 0         0              0               0  \n",
       "9                 0         0              0               0  "
      ]
     },
     "execution_count": 13,
     "metadata": {},
     "output_type": "execute_result"
    }
   ],
   "source": [
    "%sql  SELECT * FROM tower_hot_201308 LIMIT 10;"
   ]
  },
  {
   "cell_type": "markdown",
   "id": "7f419da9",
   "metadata": {},
   "source": [
    "# number of observations"
   ]
  },
  {
   "cell_type": "code",
   "execution_count": 16,
   "id": "39b9a208",
   "metadata": {},
   "outputs": [
    {
     "data": {
      "text/html": [
       "<span style=\"None\">Running query in &#x27;mysql+pyodbc://telecom&#x27;</span>"
      ],
      "text/plain": [
       "Running query in 'mysql+pyodbc://telecom'"
      ]
     },
     "metadata": {},
     "output_type": "display_data"
    },
    {
     "data": {
      "text/html": [
       "<span style=\"color: green\">1 rows affected.</span>"
      ],
      "text/plain": [
       "1 rows affected."
      ]
     },
     "metadata": {},
     "output_type": "display_data"
    },
    {
     "data": {
      "text/html": [
       "<div>\n",
       "<style scoped>\n",
       "    .dataframe tbody tr th:only-of-type {\n",
       "        vertical-align: middle;\n",
       "    }\n",
       "\n",
       "    .dataframe tbody tr th {\n",
       "        vertical-align: top;\n",
       "    }\n",
       "\n",
       "    .dataframe thead th {\n",
       "        text-align: right;\n",
       "    }\n",
       "</style>\n",
       "<table border=\"1\" class=\"dataframe\">\n",
       "  <thead>\n",
       "    <tr style=\"text-align: right;\">\n",
       "      <th></th>\n",
       "      <th>cinfo_xy</th>\n",
       "      <th>tower</th>\n",
       "      <th>tower_center</th>\n",
       "      <th>tower_hot_201308</th>\n",
       "    </tr>\n",
       "  </thead>\n",
       "  <tbody>\n",
       "    <tr>\n",
       "      <th>0</th>\n",
       "      <td>40569</td>\n",
       "      <td>40569</td>\n",
       "      <td>427</td>\n",
       "      <td>40569</td>\n",
       "    </tr>\n",
       "  </tbody>\n",
       "</table>\n",
       "</div>"
      ],
      "text/plain": [
       "   cinfo_xy  tower  tower_center  tower_hot_201308\n",
       "0     40569  40569           427             40569"
      ]
     },
     "execution_count": 16,
     "metadata": {},
     "output_type": "execute_result"
    }
   ],
   "source": [
    "%%sql\n",
    "\n",
    "SELECT \n",
    "    (SELECT COUNT(*) FROM cinfo_xy) AS cinfo_xy,\n",
    "    (SELECT COUNT(*) FROM tower) AS tower,\n",
    "    (SELECT COUNT(*) FROM tower_center) AS tower_center,\n",
    "    (SELECT COUNT(*) FROM tower_hot_201308) AS tower_hot_201308;"
   ]
  },
  {
   "cell_type": "markdown",
   "id": "97b4bc2e",
   "metadata": {},
   "source": [
    "we can see that the towers in the table *tower_center* those in *tower* table with center flag\n"
   ]
  },
  {
   "cell_type": "code",
   "execution_count": 17,
   "id": "f56871bd",
   "metadata": {},
   "outputs": [
    {
     "data": {
      "text/html": [
       "<span style=\"None\">Running query in &#x27;mysql+pyodbc://telecom&#x27;</span>"
      ],
      "text/plain": [
       "Running query in 'mysql+pyodbc://telecom'"
      ]
     },
     "metadata": {},
     "output_type": "display_data"
    },
    {
     "data": {
      "text/html": [
       "<span style=\"color: green\">1 rows affected.</span>"
      ],
      "text/plain": [
       "1 rows affected."
      ]
     },
     "metadata": {},
     "output_type": "display_data"
    },
    {
     "data": {
      "text/html": [
       "<div>\n",
       "<style scoped>\n",
       "    .dataframe tbody tr th:only-of-type {\n",
       "        vertical-align: middle;\n",
       "    }\n",
       "\n",
       "    .dataframe tbody tr th {\n",
       "        vertical-align: top;\n",
       "    }\n",
       "\n",
       "    .dataframe thead th {\n",
       "        text-align: right;\n",
       "    }\n",
       "</style>\n",
       "<table border=\"1\" class=\"dataframe\">\n",
       "  <thead>\n",
       "    <tr style=\"text-align: right;\">\n",
       "      <th></th>\n",
       "      <th>COUNT(*)</th>\n",
       "    </tr>\n",
       "  </thead>\n",
       "  <tbody>\n",
       "    <tr>\n",
       "      <th>0</th>\n",
       "      <td>427</td>\n",
       "    </tr>\n",
       "  </tbody>\n",
       "</table>\n",
       "</div>"
      ],
      "text/plain": [
       "   COUNT(*)\n",
       "0       427"
      ]
     },
     "execution_count": 17,
     "metadata": {},
     "output_type": "execute_result"
    }
   ],
   "source": [
    "%%sql\n",
    "SELECT \n",
    "    COUNT(*)\n",
    "FROM \n",
    "    tower\n",
    "WHERE DEYANG_CENTER = 1;"
   ]
  },
  {
   "cell_type": "markdown",
   "id": "d3ec9f37",
   "metadata": {},
   "source": [
    "# number of observations for each flag in table tower_hot_201308"
   ]
  },
  {
   "cell_type": "code",
   "execution_count": 18,
   "id": "c6023645",
   "metadata": {},
   "outputs": [
    {
     "data": {
      "text/html": [
       "<span style=\"None\">Running query in &#x27;mysql+pyodbc://telecom&#x27;</span>"
      ],
      "text/plain": [
       "Running query in 'mysql+pyodbc://telecom'"
      ]
     },
     "metadata": {},
     "output_type": "display_data"
    },
    {
     "data": {
      "text/html": [
       "<span style=\"color: green\">1 rows affected.</span>"
      ],
      "text/plain": [
       "1 rows affected."
      ]
     },
     "metadata": {},
     "output_type": "display_data"
    },
    {
     "data": {
      "text/html": [
       "<div>\n",
       "<style scoped>\n",
       "    .dataframe tbody tr th:only-of-type {\n",
       "        vertical-align: middle;\n",
       "    }\n",
       "\n",
       "    .dataframe tbody tr th {\n",
       "        vertical-align: top;\n",
       "    }\n",
       "\n",
       "    .dataframe thead th {\n",
       "        text-align: right;\n",
       "    }\n",
       "</style>\n",
       "<table border=\"1\" class=\"dataframe\">\n",
       "  <thead>\n",
       "    <tr style=\"text-align: right;\">\n",
       "      <th></th>\n",
       "      <th>MAIN_CENTER_FLAG</th>\n",
       "      <th>HOT_FLAG</th>\n",
       "      <th>HOT_MAIN_FLAG</th>\n",
       "      <th>HOT_OTHER_FLAG</th>\n",
       "    </tr>\n",
       "  </thead>\n",
       "  <tbody>\n",
       "    <tr>\n",
       "      <th>0</th>\n",
       "      <td>427</td>\n",
       "      <td>425</td>\n",
       "      <td>132</td>\n",
       "      <td>293</td>\n",
       "    </tr>\n",
       "  </tbody>\n",
       "</table>\n",
       "</div>"
      ],
      "text/plain": [
       "   MAIN_CENTER_FLAG  HOT_FLAG  HOT_MAIN_FLAG  HOT_OTHER_FLAG\n",
       "0               427       425            132             293"
      ]
     },
     "execution_count": 18,
     "metadata": {},
     "output_type": "execute_result"
    }
   ],
   "source": [
    "%%sql\n",
    "\n",
    "SELECT\n",
    "    (SELECT COUNT(*) FROM tower_hot_201308 WHERE MAIN_CENTER_FLAG = 1) AS MAIN_CENTER_FLAG,\n",
    "    (SELECT COUNT(*) FROM tower_hot_201308 WHERE HOT_FLAG = 1) AS HOT_FLAG,\n",
    "    (SELECT COUNT(*) FROM tower_hot_201308 WHERE HOT_MAIN_FLAG = 1) AS HOT_MAIN_FLAG,\n",
    "    (SELECT COUNT(*) FROM tower_hot_201308 WHERE HOT_OTHER_FLAG = 1) AS HOT_OTHER_FLAG;"
   ]
  },
  {
   "cell_type": "markdown",
   "id": "267f7a1f",
   "metadata": {},
   "source": [
    "- 425 = 132 + 293\n",
    "- which means the most of the heavy traffic tower is not in the center of deyang\n",
    "- notice that the hot flag is calucated from 10 a.m. to 10 p.m."
   ]
  },
  {
   "cell_type": "code",
   "execution_count": 5,
   "id": "c6433153",
   "metadata": {},
   "outputs": [
    {
     "data": {
      "text/plain": [
       "True"
      ]
     },
     "execution_count": 5,
     "metadata": {},
     "output_type": "execute_result"
    }
   ],
   "source": [
    "from bokeh.io import show\n",
    "from bokeh.plotting import gmap\n",
    "from bokeh.models import GMapOptions\n",
    "from dotenv import load_dotenv\n",
    "from os import getenv\n",
    "\n",
    "load_dotenv(\"env/.env\")"
   ]
  },
  {
   "cell_type": "code",
   "execution_count": 13,
   "id": "ef17031e",
   "metadata": {},
   "outputs": [
    {
     "data": {
      "text/html": [
       "<style>\n",
       "        .bk-notebook-logo {\n",
       "            display: block;\n",
       "            width: 20px;\n",
       "            height: 20px;\n",
       "            background-image: url(data:image/png;base64,iVBORw0KGgoAAAANSUhEUgAAABQAAAAUCAYAAACNiR0NAAAABHNCSVQICAgIfAhkiAAAAAlwSFlzAAALEgAACxIB0t1+/AAAABx0RVh0U29mdHdhcmUAQWRvYmUgRmlyZXdvcmtzIENTNui8sowAAAOkSURBVDiNjZRtaJVlGMd/1/08zzln5zjP1LWcU9N0NkN8m2CYjpgQYQXqSs0I84OLIC0hkEKoPtiH3gmKoiJDU7QpLgoLjLIQCpEsNJ1vqUOdO7ppbuec5+V+rj4ctwzd8IIbbi6u+8f1539dt3A78eXC7QizUF7gyV1fD1Yqg4JWz84yffhm0qkFqBogB9rM8tZdtwVsPUhWhGcFJngGeWrPzHm5oaMmkfEg1usvLFyc8jLRqDOMru7AyC8saQr7GG7f5fvDeH7Ej8CM66nIF+8yngt6HWaKh7k49Soy9nXurCi1o3qUbS3zWfrYeQDTB/Qj6kX6Ybhw4B+bOYoLKCC9H3Nu/leUTZ1JdRWkkn2ldcCamzrcf47KKXdAJllSlxAOkRgyHsGC/zRday5Qld9DyoM4/q/rUoy/CXh3jzOu3bHUVZeU+DEn8FInkPBFlu3+nW3Nw0mk6vCDiWg8CeJaxEwuHS3+z5RgY+YBR6V1Z1nxSOfoaPa4LASWxxdNp+VWTk7+4vzaou8v8PN+xo+KY2xsw6une2frhw05CTYOmQvsEhjhWjn0bmXPjpE1+kplmmkP3suftwTubK9Vq22qKmrBhpY4jvd5afdRA3wGjFAgcnTK2s4hY0/GPNIb0nErGMCRxWOOX64Z8RAC4oCXdklmEvcL8o0BfkNK4lUg9HTl+oPlQxdNo3Mg4Nv175e/1LDGzZen30MEjRUtmXSfiTVu1kK8W4txyV6BMKlbgk3lMwYCiusNy9fVfvvwMxv8Ynl6vxoByANLTWplvuj/nF9m2+PDtt1eiHPBr1oIfhCChQMBw6Aw0UulqTKZdfVvfG7VcfIqLG9bcldL/+pdWTLxLUy8Qq38heUIjh4XlzZxzQm19lLFlr8vdQ97rjZVOLf8nclzckbcD4wxXMidpX30sFd37Fv/GtwwhzhxGVAprjbg0gCAEeIgwCZyTV2Z1REEW8O4py0wsjeloKoMr6iCY6dP92H6Vw/oTyICIthibxjm/DfN9lVz8IqtqKYLUXfoKVMVQVVJOElGjrnnUt9T9wbgp8AyYKaGlqingHZU/uG2NTZSVqwHQTWkx9hxjkpWDaCg6Ckj5qebgBVbT3V3NNXMSiWSDdGV3hrtzla7J+duwPOToIg42ChPQOQjspnSlp1V+Gjdged7+8UN5CRAV7a5EdFNwCjEaBR27b3W890TE7g24NAP/mMDXRWrGoFPQI9ls/MWO2dWFAar/xcOIImbbpA3zgAAAABJRU5ErkJggg==);\n",
       "        }\n",
       "    </style>\n",
       "    <div>\n",
       "        <a href=\"https://bokeh.org\" target=\"_blank\" class=\"bk-notebook-logo\"></a>\n",
       "        <span id=\"d26f8eb0-b7f6-4b3e-a8a2-c44974103953\">Loading BokehJS ...</span>\n",
       "    </div>\n"
      ]
     },
     "metadata": {},
     "output_type": "display_data"
    },
    {
     "data": {
      "application/javascript": [
       "(function(root) {\n",
       "  function now() {\n",
       "    return new Date();\n",
       "  }\n",
       "\n",
       "  const force = true;\n",
       "\n",
       "  if (typeof root._bokeh_onload_callbacks === \"undefined\" || force === true) {\n",
       "    root._bokeh_onload_callbacks = [];\n",
       "    root._bokeh_is_loading = undefined;\n",
       "  }\n",
       "\n",
       "const JS_MIME_TYPE = 'application/javascript';\n",
       "  const HTML_MIME_TYPE = 'text/html';\n",
       "  const EXEC_MIME_TYPE = 'application/vnd.bokehjs_exec.v0+json';\n",
       "  const CLASS_NAME = 'output_bokeh rendered_html';\n",
       "\n",
       "  /**\n",
       "   * Render data to the DOM node\n",
       "   */\n",
       "  function render(props, node) {\n",
       "    const script = document.createElement(\"script\");\n",
       "    node.appendChild(script);\n",
       "  }\n",
       "\n",
       "  /**\n",
       "   * Handle when an output is cleared or removed\n",
       "   */\n",
       "  function handleClearOutput(event, handle) {\n",
       "    const cell = handle.cell;\n",
       "\n",
       "    const id = cell.output_area._bokeh_element_id;\n",
       "    const server_id = cell.output_area._bokeh_server_id;\n",
       "    // Clean up Bokeh references\n",
       "    if (id != null && id in Bokeh.index) {\n",
       "      Bokeh.index[id].model.document.clear();\n",
       "      delete Bokeh.index[id];\n",
       "    }\n",
       "\n",
       "    if (server_id !== undefined) {\n",
       "      // Clean up Bokeh references\n",
       "      const cmd_clean = \"from bokeh.io.state import curstate; print(curstate().uuid_to_server['\" + server_id + \"'].get_sessions()[0].document.roots[0]._id)\";\n",
       "      cell.notebook.kernel.execute(cmd_clean, {\n",
       "        iopub: {\n",
       "          output: function(msg) {\n",
       "            const id = msg.content.text.trim();\n",
       "            if (id in Bokeh.index) {\n",
       "              Bokeh.index[id].model.document.clear();\n",
       "              delete Bokeh.index[id];\n",
       "            }\n",
       "          }\n",
       "        }\n",
       "      });\n",
       "      // Destroy server and session\n",
       "      const cmd_destroy = \"import bokeh.io.notebook as ion; ion.destroy_server('\" + server_id + \"')\";\n",
       "      cell.notebook.kernel.execute(cmd_destroy);\n",
       "    }\n",
       "  }\n",
       "\n",
       "  /**\n",
       "   * Handle when a new output is added\n",
       "   */\n",
       "  function handleAddOutput(event, handle) {\n",
       "    const output_area = handle.output_area;\n",
       "    const output = handle.output;\n",
       "\n",
       "    // limit handleAddOutput to display_data with EXEC_MIME_TYPE content only\n",
       "    if ((output.output_type != \"display_data\") || (!Object.prototype.hasOwnProperty.call(output.data, EXEC_MIME_TYPE))) {\n",
       "      return\n",
       "    }\n",
       "\n",
       "    const toinsert = output_area.element.find(\".\" + CLASS_NAME.split(' ')[0]);\n",
       "\n",
       "    if (output.metadata[EXEC_MIME_TYPE][\"id\"] !== undefined) {\n",
       "      toinsert[toinsert.length - 1].firstChild.textContent = output.data[JS_MIME_TYPE];\n",
       "      // store reference to embed id on output_area\n",
       "      output_area._bokeh_element_id = output.metadata[EXEC_MIME_TYPE][\"id\"];\n",
       "    }\n",
       "    if (output.metadata[EXEC_MIME_TYPE][\"server_id\"] !== undefined) {\n",
       "      const bk_div = document.createElement(\"div\");\n",
       "      bk_div.innerHTML = output.data[HTML_MIME_TYPE];\n",
       "      const script_attrs = bk_div.children[0].attributes;\n",
       "      for (let i = 0; i < script_attrs.length; i++) {\n",
       "        toinsert[toinsert.length - 1].firstChild.setAttribute(script_attrs[i].name, script_attrs[i].value);\n",
       "        toinsert[toinsert.length - 1].firstChild.textContent = bk_div.children[0].textContent\n",
       "      }\n",
       "      // store reference to server id on output_area\n",
       "      output_area._bokeh_server_id = output.metadata[EXEC_MIME_TYPE][\"server_id\"];\n",
       "    }\n",
       "  }\n",
       "\n",
       "  function register_renderer(events, OutputArea) {\n",
       "\n",
       "    function append_mime(data, metadata, element) {\n",
       "      // create a DOM node to render to\n",
       "      const toinsert = this.create_output_subarea(\n",
       "        metadata,\n",
       "        CLASS_NAME,\n",
       "        EXEC_MIME_TYPE\n",
       "      );\n",
       "      this.keyboard_manager.register_events(toinsert);\n",
       "      // Render to node\n",
       "      const props = {data: data, metadata: metadata[EXEC_MIME_TYPE]};\n",
       "      render(props, toinsert[toinsert.length - 1]);\n",
       "      element.append(toinsert);\n",
       "      return toinsert\n",
       "    }\n",
       "\n",
       "    /* Handle when an output is cleared or removed */\n",
       "    events.on('clear_output.CodeCell', handleClearOutput);\n",
       "    events.on('delete.Cell', handleClearOutput);\n",
       "\n",
       "    /* Handle when a new output is added */\n",
       "    events.on('output_added.OutputArea', handleAddOutput);\n",
       "\n",
       "    /**\n",
       "     * Register the mime type and append_mime function with output_area\n",
       "     */\n",
       "    OutputArea.prototype.register_mime_type(EXEC_MIME_TYPE, append_mime, {\n",
       "      /* Is output safe? */\n",
       "      safe: true,\n",
       "      /* Index of renderer in `output_area.display_order` */\n",
       "      index: 0\n",
       "    });\n",
       "  }\n",
       "\n",
       "  // register the mime type if in Jupyter Notebook environment and previously unregistered\n",
       "  if (root.Jupyter !== undefined) {\n",
       "    const events = require('base/js/events');\n",
       "    const OutputArea = require('notebook/js/outputarea').OutputArea;\n",
       "\n",
       "    if (OutputArea.prototype.mime_types().indexOf(EXEC_MIME_TYPE) == -1) {\n",
       "      register_renderer(events, OutputArea);\n",
       "    }\n",
       "  }\n",
       "  if (typeof (root._bokeh_timeout) === \"undefined\" || force === true) {\n",
       "    root._bokeh_timeout = Date.now() + 5000;\n",
       "    root._bokeh_failed_load = false;\n",
       "  }\n",
       "\n",
       "  const NB_LOAD_WARNING = {'data': {'text/html':\n",
       "     \"<div style='background-color: #fdd'>\\n\"+\n",
       "     \"<p>\\n\"+\n",
       "     \"BokehJS does not appear to have successfully loaded. If loading BokehJS from CDN, this \\n\"+\n",
       "     \"may be due to a slow or bad network connection. Possible fixes:\\n\"+\n",
       "     \"</p>\\n\"+\n",
       "     \"<ul>\\n\"+\n",
       "     \"<li>re-rerun `output_notebook()` to attempt to load from CDN again, or</li>\\n\"+\n",
       "     \"<li>use INLINE resources instead, as so:</li>\\n\"+\n",
       "     \"</ul>\\n\"+\n",
       "     \"<code>\\n\"+\n",
       "     \"from bokeh.resources import INLINE\\n\"+\n",
       "     \"output_notebook(resources=INLINE)\\n\"+\n",
       "     \"</code>\\n\"+\n",
       "     \"</div>\"}};\n",
       "\n",
       "  function display_loaded() {\n",
       "    const el = document.getElementById(\"d26f8eb0-b7f6-4b3e-a8a2-c44974103953\");\n",
       "    if (el != null) {\n",
       "      el.textContent = \"BokehJS is loading...\";\n",
       "    }\n",
       "    if (root.Bokeh !== undefined) {\n",
       "      if (el != null) {\n",
       "        el.textContent = \"BokehJS \" + root.Bokeh.version + \" successfully loaded.\";\n",
       "      }\n",
       "    } else if (Date.now() < root._bokeh_timeout) {\n",
       "      setTimeout(display_loaded, 100)\n",
       "    }\n",
       "  }\n",
       "\n",
       "  function run_callbacks() {\n",
       "    try {\n",
       "      root._bokeh_onload_callbacks.forEach(function(callback) {\n",
       "        if (callback != null)\n",
       "          callback();\n",
       "      });\n",
       "    } finally {\n",
       "      delete root._bokeh_onload_callbacks\n",
       "    }\n",
       "    console.debug(\"Bokeh: all callbacks have finished\");\n",
       "  }\n",
       "\n",
       "  function load_libs(css_urls, js_urls, callback) {\n",
       "    if (css_urls == null) css_urls = [];\n",
       "    if (js_urls == null) js_urls = [];\n",
       "\n",
       "    root._bokeh_onload_callbacks.push(callback);\n",
       "    if (root._bokeh_is_loading > 0) {\n",
       "      console.debug(\"Bokeh: BokehJS is being loaded, scheduling callback at\", now());\n",
       "      return null;\n",
       "    }\n",
       "    if (js_urls == null || js_urls.length === 0) {\n",
       "      run_callbacks();\n",
       "      return null;\n",
       "    }\n",
       "    console.debug(\"Bokeh: BokehJS not loaded, scheduling load and callback at\", now());\n",
       "    root._bokeh_is_loading = css_urls.length + js_urls.length;\n",
       "\n",
       "    function on_load() {\n",
       "      root._bokeh_is_loading--;\n",
       "      if (root._bokeh_is_loading === 0) {\n",
       "        console.debug(\"Bokeh: all BokehJS libraries/stylesheets loaded\");\n",
       "        run_callbacks()\n",
       "      }\n",
       "    }\n",
       "\n",
       "    function on_error(url) {\n",
       "      console.error(\"failed to load \" + url);\n",
       "    }\n",
       "\n",
       "    for (let i = 0; i < css_urls.length; i++) {\n",
       "      const url = css_urls[i];\n",
       "      const element = document.createElement(\"link\");\n",
       "      element.onload = on_load;\n",
       "      element.onerror = on_error.bind(null, url);\n",
       "      element.rel = \"stylesheet\";\n",
       "      element.type = \"text/css\";\n",
       "      element.href = url;\n",
       "      console.debug(\"Bokeh: injecting link tag for BokehJS stylesheet: \", url);\n",
       "      document.body.appendChild(element);\n",
       "    }\n",
       "\n",
       "    for (let i = 0; i < js_urls.length; i++) {\n",
       "      const url = js_urls[i];\n",
       "      const element = document.createElement('script');\n",
       "      element.onload = on_load;\n",
       "      element.onerror = on_error.bind(null, url);\n",
       "      element.async = false;\n",
       "      element.src = url;\n",
       "      console.debug(\"Bokeh: injecting script tag for BokehJS library: \", url);\n",
       "      document.head.appendChild(element);\n",
       "    }\n",
       "  };\n",
       "\n",
       "  function inject_raw_css(css) {\n",
       "    const element = document.createElement(\"style\");\n",
       "    element.appendChild(document.createTextNode(css));\n",
       "    document.body.appendChild(element);\n",
       "  }\n",
       "\n",
       "  const js_urls = [\"https://cdn.bokeh.org/bokeh/release/bokeh-3.2.2.min.js\", \"https://cdn.bokeh.org/bokeh/release/bokeh-gl-3.2.2.min.js\", \"https://cdn.bokeh.org/bokeh/release/bokeh-widgets-3.2.2.min.js\", \"https://cdn.bokeh.org/bokeh/release/bokeh-tables-3.2.2.min.js\", \"https://cdn.bokeh.org/bokeh/release/bokeh-mathjax-3.2.2.min.js\"];\n",
       "  const css_urls = [];\n",
       "\n",
       "  const inline_js = [    function(Bokeh) {\n",
       "      Bokeh.set_log_level(\"info\");\n",
       "    },\n",
       "function(Bokeh) {\n",
       "    }\n",
       "  ];\n",
       "\n",
       "  function run_inline_js() {\n",
       "    if (root.Bokeh !== undefined || force === true) {\n",
       "          for (let i = 0; i < inline_js.length; i++) {\n",
       "      inline_js[i].call(root, root.Bokeh);\n",
       "    }\n",
       "if (force === true) {\n",
       "        display_loaded();\n",
       "      }} else if (Date.now() < root._bokeh_timeout) {\n",
       "      setTimeout(run_inline_js, 100);\n",
       "    } else if (!root._bokeh_failed_load) {\n",
       "      console.log(\"Bokeh: BokehJS failed to load within specified timeout.\");\n",
       "      root._bokeh_failed_load = true;\n",
       "    } else if (force !== true) {\n",
       "      const cell = $(document.getElementById(\"d26f8eb0-b7f6-4b3e-a8a2-c44974103953\")).parents('.cell').data().cell;\n",
       "      cell.output_area.append_execute_result(NB_LOAD_WARNING)\n",
       "    }\n",
       "  }\n",
       "\n",
       "  if (root._bokeh_is_loading === 0) {\n",
       "    console.debug(\"Bokeh: BokehJS loaded, going straight to plotting\");\n",
       "    run_inline_js();\n",
       "  } else {\n",
       "    load_libs(css_urls, js_urls, function() {\n",
       "      console.debug(\"Bokeh: BokehJS plotting callback run at\", now());\n",
       "      run_inline_js();\n",
       "    });\n",
       "  }\n",
       "}(window));"
      ],
      "application/vnd.bokehjs_load.v0+json": "(function(root) {\n  function now() {\n    return new Date();\n  }\n\n  const force = true;\n\n  if (typeof root._bokeh_onload_callbacks === \"undefined\" || force === true) {\n    root._bokeh_onload_callbacks = [];\n    root._bokeh_is_loading = undefined;\n  }\n\n\n  if (typeof (root._bokeh_timeout) === \"undefined\" || force === true) {\n    root._bokeh_timeout = Date.now() + 5000;\n    root._bokeh_failed_load = false;\n  }\n\n  const NB_LOAD_WARNING = {'data': {'text/html':\n     \"<div style='background-color: #fdd'>\\n\"+\n     \"<p>\\n\"+\n     \"BokehJS does not appear to have successfully loaded. If loading BokehJS from CDN, this \\n\"+\n     \"may be due to a slow or bad network connection. Possible fixes:\\n\"+\n     \"</p>\\n\"+\n     \"<ul>\\n\"+\n     \"<li>re-rerun `output_notebook()` to attempt to load from CDN again, or</li>\\n\"+\n     \"<li>use INLINE resources instead, as so:</li>\\n\"+\n     \"</ul>\\n\"+\n     \"<code>\\n\"+\n     \"from bokeh.resources import INLINE\\n\"+\n     \"output_notebook(resources=INLINE)\\n\"+\n     \"</code>\\n\"+\n     \"</div>\"}};\n\n  function display_loaded() {\n    const el = document.getElementById(\"d26f8eb0-b7f6-4b3e-a8a2-c44974103953\");\n    if (el != null) {\n      el.textContent = \"BokehJS is loading...\";\n    }\n    if (root.Bokeh !== undefined) {\n      if (el != null) {\n        el.textContent = \"BokehJS \" + root.Bokeh.version + \" successfully loaded.\";\n      }\n    } else if (Date.now() < root._bokeh_timeout) {\n      setTimeout(display_loaded, 100)\n    }\n  }\n\n  function run_callbacks() {\n    try {\n      root._bokeh_onload_callbacks.forEach(function(callback) {\n        if (callback != null)\n          callback();\n      });\n    } finally {\n      delete root._bokeh_onload_callbacks\n    }\n    console.debug(\"Bokeh: all callbacks have finished\");\n  }\n\n  function load_libs(css_urls, js_urls, callback) {\n    if (css_urls == null) css_urls = [];\n    if (js_urls == null) js_urls = [];\n\n    root._bokeh_onload_callbacks.push(callback);\n    if (root._bokeh_is_loading > 0) {\n      console.debug(\"Bokeh: BokehJS is being loaded, scheduling callback at\", now());\n      return null;\n    }\n    if (js_urls == null || js_urls.length === 0) {\n      run_callbacks();\n      return null;\n    }\n    console.debug(\"Bokeh: BokehJS not loaded, scheduling load and callback at\", now());\n    root._bokeh_is_loading = css_urls.length + js_urls.length;\n\n    function on_load() {\n      root._bokeh_is_loading--;\n      if (root._bokeh_is_loading === 0) {\n        console.debug(\"Bokeh: all BokehJS libraries/stylesheets loaded\");\n        run_callbacks()\n      }\n    }\n\n    function on_error(url) {\n      console.error(\"failed to load \" + url);\n    }\n\n    for (let i = 0; i < css_urls.length; i++) {\n      const url = css_urls[i];\n      const element = document.createElement(\"link\");\n      element.onload = on_load;\n      element.onerror = on_error.bind(null, url);\n      element.rel = \"stylesheet\";\n      element.type = \"text/css\";\n      element.href = url;\n      console.debug(\"Bokeh: injecting link tag for BokehJS stylesheet: \", url);\n      document.body.appendChild(element);\n    }\n\n    for (let i = 0; i < js_urls.length; i++) {\n      const url = js_urls[i];\n      const element = document.createElement('script');\n      element.onload = on_load;\n      element.onerror = on_error.bind(null, url);\n      element.async = false;\n      element.src = url;\n      console.debug(\"Bokeh: injecting script tag for BokehJS library: \", url);\n      document.head.appendChild(element);\n    }\n  };\n\n  function inject_raw_css(css) {\n    const element = document.createElement(\"style\");\n    element.appendChild(document.createTextNode(css));\n    document.body.appendChild(element);\n  }\n\n  const js_urls = [\"https://cdn.bokeh.org/bokeh/release/bokeh-3.2.2.min.js\", \"https://cdn.bokeh.org/bokeh/release/bokeh-gl-3.2.2.min.js\", \"https://cdn.bokeh.org/bokeh/release/bokeh-widgets-3.2.2.min.js\", \"https://cdn.bokeh.org/bokeh/release/bokeh-tables-3.2.2.min.js\", \"https://cdn.bokeh.org/bokeh/release/bokeh-mathjax-3.2.2.min.js\"];\n  const css_urls = [];\n\n  const inline_js = [    function(Bokeh) {\n      Bokeh.set_log_level(\"info\");\n    },\nfunction(Bokeh) {\n    }\n  ];\n\n  function run_inline_js() {\n    if (root.Bokeh !== undefined || force === true) {\n          for (let i = 0; i < inline_js.length; i++) {\n      inline_js[i].call(root, root.Bokeh);\n    }\nif (force === true) {\n        display_loaded();\n      }} else if (Date.now() < root._bokeh_timeout) {\n      setTimeout(run_inline_js, 100);\n    } else if (!root._bokeh_failed_load) {\n      console.log(\"Bokeh: BokehJS failed to load within specified timeout.\");\n      root._bokeh_failed_load = true;\n    } else if (force !== true) {\n      const cell = $(document.getElementById(\"d26f8eb0-b7f6-4b3e-a8a2-c44974103953\")).parents('.cell').data().cell;\n      cell.output_area.append_execute_result(NB_LOAD_WARNING)\n    }\n  }\n\n  if (root._bokeh_is_loading === 0) {\n    console.debug(\"Bokeh: BokehJS loaded, going straight to plotting\");\n    run_inline_js();\n  } else {\n    load_libs(css_urls, js_urls, function() {\n      console.debug(\"Bokeh: BokehJS plotting callback run at\", now());\n      run_inline_js();\n    });\n  }\n}(window));"
     },
     "metadata": {},
     "output_type": "display_data"
    }
   ],
   "source": [
    "import bokeh.io\n",
    "# this is here only for completeness to clarify where\n",
    "# the methods are nested (you probably already imported this earlier)\n",
    "\n",
    "\n",
    "bokeh.io.reset_output()\n",
    "bokeh.io.output_notebook()"
   ]
  },
  {
   "cell_type": "code",
   "execution_count": 36,
   "id": "c393180d",
   "metadata": {},
   "outputs": [
    {
     "data": {
      "text/html": [
       "<span style=\"None\">Running query in &#x27;mysql+pyodbc://telecom&#x27;</span>"
      ],
      "text/plain": [
       "Running query in 'mysql+pyodbc://telecom'"
      ]
     },
     "metadata": {},
     "output_type": "display_data"
    },
    {
     "data": {
      "text/html": [
       "<span style=\"color: green\">427 rows affected.</span>"
      ],
      "text/plain": [
       "427 rows affected."
      ]
     },
     "metadata": {},
     "output_type": "display_data"
    }
   ],
   "source": [
    "%%sql\n",
    "\n",
    "center_tower << SELECT LON, LAT\n",
    "FROM tower_hot_201308\n",
    "WHERE MAIN_CENTER_FLAG=1"
   ]
  },
  {
   "cell_type": "code",
   "execution_count": 48,
   "id": "8a013d3d",
   "metadata": {},
   "outputs": [
    {
     "data": {
      "text/html": [
       "<span style=\"None\">Running query in &#x27;mysql+pyodbc://telecom&#x27;</span>"
      ],
      "text/plain": [
       "Running query in 'mysql+pyodbc://telecom'"
      ]
     },
     "metadata": {},
     "output_type": "display_data"
    },
    {
     "data": {
      "text/html": [
       "<span style=\"color: green\">132 rows affected.</span>"
      ],
      "text/plain": [
       "132 rows affected."
      ]
     },
     "metadata": {},
     "output_type": "display_data"
    }
   ],
   "source": [
    "%%sql\n",
    "\n",
    "hot_main_tower << SELECT LON, LAT\n",
    "FROM tower_hot_201308\n",
    "WHERE HOT_MAIN_FLAG=1"
   ]
  },
  {
   "cell_type": "code",
   "execution_count": 39,
   "id": "7ca80af6",
   "metadata": {},
   "outputs": [
    {
     "data": {
      "text/html": [
       "<span style=\"None\">Running query in &#x27;mysql+pyodbc://telecom&#x27;</span>"
      ],
      "text/plain": [
       "Running query in 'mysql+pyodbc://telecom'"
      ]
     },
     "metadata": {},
     "output_type": "display_data"
    },
    {
     "data": {
      "text/html": [
       "<span style=\"color: green\">293 rows affected.</span>"
      ],
      "text/plain": [
       "293 rows affected."
      ]
     },
     "metadata": {},
     "output_type": "display_data"
    }
   ],
   "source": [
    "%%sql\n",
    "\n",
    "hot_other_tower << SELECT LON, LAT\n",
    "FROM tower_hot_201308\n",
    "WHERE HOT_OTHER_FLAG=1"
   ]
  },
  {
   "cell_type": "code",
   "execution_count": 52,
   "id": "b8556b37",
   "metadata": {},
   "outputs": [
    {
     "data": {
      "text/html": [
       "\n",
       "  <div id=\"f603d573-84ed-44e8-9455-91ce5eb4e129\" data-root-id=\"p2233\" style=\"display: contents;\"></div>\n"
      ]
     },
     "metadata": {},
     "output_type": "display_data"
    },
    {
     "data": {
      "application/javascript": [
       "(function(root) {\n",
       "  function embed_document(root) {\n",
       "  const docs_json = {\"c7644b2c-991e-403f-8143-039f3b124ea0\":{\"version\":\"3.2.2\",\"title\":\"Bokeh Application\",\"roots\":[{\"type\":\"object\",\"name\":\"GMap\",\"id\":\"p2233\",\"attributes\":{\"width\":900,\"height\":700,\"x_range\":{\"type\":\"object\",\"name\":\"Range1d\",\"id\":\"p2234\"},\"y_range\":{\"type\":\"object\",\"name\":\"Range1d\",\"id\":\"p2235\"},\"x_scale\":{\"type\":\"object\",\"name\":\"LinearScale\",\"id\":\"p2240\"},\"y_scale\":{\"type\":\"object\",\"name\":\"LinearScale\",\"id\":\"p2241\"},\"title\":{\"type\":\"object\",\"name\":\"Title\",\"id\":\"p2238\",\"attributes\":{\"text\":\"Deyang\"}},\"renderers\":[{\"type\":\"object\",\"name\":\"GlyphRenderer\",\"id\":\"p2268\",\"attributes\":{\"data_source\":{\"type\":\"object\",\"name\":\"ColumnDataSource\",\"id\":\"p2262\",\"attributes\":{\"selected\":{\"type\":\"object\",\"name\":\"Selection\",\"id\":\"p2263\",\"attributes\":{\"indices\":[],\"line_indices\":[]}},\"selection_policy\":{\"type\":\"object\",\"name\":\"UnionRenderers\",\"id\":\"p2264\"},\"data\":{\"type\":\"map\",\"entries\":[[\"x\",{\"type\":\"ndarray\",\"array\":{\"type\":\"bytes\",\"data\":\"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\"},\"shape\":[427],\"dtype\":\"float64\",\"order\":\"little\"}],[\"y\",{\"type\":\"ndarray\",\"array\":{\"type\":\"bytes\",\"data\":\"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\"},\"shape\":[427],\"dtype\":\"float64\",\"order\":\"little\"}]]}}},\"view\":{\"type\":\"object\",\"name\":\"CDSView\",\"id\":\"p2269\",\"attributes\":{\"filter\":{\"type\":\"object\",\"name\":\"AllIndices\",\"id\":\"p2270\"}}},\"glyph\":{\"type\":\"object\",\"name\":\"Circle\",\"id\":\"p2265\",\"attributes\":{\"x\":{\"type\":\"field\",\"field\":\"x\"},\"y\":{\"type\":\"field\",\"field\":\"y\"},\"size\":{\"type\":\"value\",\"value\":10},\"line_color\":{\"type\":\"value\",\"value\":\"yellow\"},\"line_alpha\":{\"type\":\"value\",\"value\":0.3},\"fill_color\":{\"type\":\"value\",\"value\":\"yellow\"},\"fill_alpha\":{\"type\":\"value\",\"value\":0.3},\"hatch_color\":{\"type\":\"value\",\"value\":\"yellow\"},\"hatch_alpha\":{\"type\":\"value\",\"value\":0.3}}},\"nonselection_glyph\":{\"type\":\"object\",\"name\":\"Circle\",\"id\":\"p2266\",\"attributes\":{\"x\":{\"type\":\"field\",\"field\":\"x\"},\"y\":{\"type\":\"field\",\"field\":\"y\"},\"size\":{\"type\":\"value\",\"value\":10},\"line_color\":{\"type\":\"value\",\"value\":\"yellow\"},\"line_alpha\":{\"type\":\"value\",\"value\":0.1},\"fill_color\":{\"type\":\"value\",\"value\":\"yellow\"},\"fill_alpha\":{\"type\":\"value\",\"value\":0.1},\"hatch_color\":{\"type\":\"value\",\"value\":\"yellow\"},\"hatch_alpha\":{\"type\":\"value\",\"value\":0.1}}},\"muted_glyph\":{\"type\":\"object\",\"name\":\"Circle\",\"id\":\"p2267\",\"attributes\":{\"x\":{\"type\":\"field\",\"field\":\"x\"},\"y\":{\"type\":\"field\",\"field\":\"y\"},\"size\":{\"type\":\"value\",\"value\":10},\"line_color\":{\"type\":\"value\",\"value\":\"yellow\"},\"line_alpha\":{\"type\":\"value\",\"value\":0.2},\"fill_color\":{\"type\":\"value\",\"value\":\"yellow\"},\"fill_alpha\":{\"type\":\"value\",\"value\":0.2},\"hatch_color\":{\"type\":\"value\",\"value\":\"yellow\"},\"hatch_alpha\":{\"type\":\"value\",\"value\":0.2}}}}},{\"type\":\"object\",\"name\":\"GlyphRenderer\",\"id\":\"p2277\",\"attributes\":{\"data_source\":{\"type\":\"object\",\"name\":\"ColumnDataSource\",\"id\":\"p2271\",\"attributes\":{\"selected\":{\"type\":\"object\",\"name\":\"Selection\",\"id\":\"p2272\",\"attributes\":{\"indices\":[],\"line_indices\":[]}},\"selection_policy\":{\"type\":\"object\",\"name\":\"UnionRenderers\",\"id\":\"p2273\"},\"data\":{\"type\":\"map\",\"entries\":[[\"x\",{\"type\":\"ndarray\",\"array\":{\"type\":\"bytes\",\"data\":\"AAAAoO8XWkAAAACg7xdaQAAAAKDvF1pAAAAAYI8aWkAAAABgjxpaQAAAAGCPGlpAAAAAYOUYWkAAAABg5RhaQAAAAGDlGFpAAAAAgBYZWkAAAACAFhlaQAAAAIAWGVpAAAAAQGIYWkAAAABAYhhaQAAAAEBiGFpAAAAAINsZWkAAAAAg2xlaQAAAACDbGVpAAAAAgOsZWkAAAACA6xlaQAAAAIDrGVpAAAAAQAwaWkAAAABADBpaQAAAAEAMGlpAAAAAINsZWkAAAAAg2xlaQAAAACDbGVpAAAAAIDEYWkAAAAAgMRhaQAAAACAxGFpAAAAAoEcZWkAAAACgRxlaQAAAAKBHGVpAAAAAgBYZWkAAAACAFhlaQAAAAIAWGVpAAAAA4CYZWkAAAADgJhlaQAAAAOAmGVpAAAAAAC0aWkAAAAAALRpaQAAAAAAtGlpAAAAAIIMYWkAAAAAggxhaQAAAACCDGFpAAAAAIAYZWkAAAAAgBhlaQAAAACAGGVpAAAAAgBYZWkAAAACAFhlaQAAAAIAWGVpAAAAAgJMYWkAAAACAkxhaQAAAAICTGFpAAAAAQF4aWkAAAABAXhpaQAAAAEBeGlpAAAAAwPUYWkAAAADA9RhaQAAAAMD1GFpAAAAAgJMYWkAAAACAkxhaQAAAAICTGFpAAAAAQIkZWkAAAABAiRlaQAAAAECJGVpAAAAAwJ8aWkAAAADAnxpaQAAAAMCfGlpAAAAAIAYZWkAAAAAgBhlaQAAAACAGGVpAAAAAgBYZWkAAAABADBpaQAAAAEAMGlpAAAAAQAwaWkAAAABADBpaQAAAAEAMGlpAAAAAQAwaWkAAAABAtBhaQAAAACDbGVpAAAAAINsZWkAAAAAg2xlaQAAAAADVGFpAAAAAANUYWkAAAAAA1RhaQAAAAADVGFpAAAAAANUYWkAAAAAA1RhaQAAAAEBiGFpAAAAAQGIYWkAAAABAYhhaQAAAAMByGFpAAAAAwHIYWkAAAADAchhaQAAAACDbGVpAAAAAINsZWkAAAAAg2xlaQAAAAOD7GVpAAAAA4PsZWkAAAADg+xlaQAAAAAB/GlpAAAAAAH8aWkAAAAAAfxpaQAAAAKBHGVpAAAAAoEcZWkAAAACgRxlaQAAAAOBNGlpAAAAA4E0aWkAAAADgTRpaQAAAAIAWGVpAAAAAgD0aWkAAAACAPRpaQAAAAIA9GlpAAAAAQAwaWkAAAABADBpaQAAAAMD1GFpAAAAAwPUYWkAAAADA9RhaQAAAAEBiGFpAAAAAQGIYWkAAAABAYhhaQAAAAEAMGlpAAAAAQAwaWkAAAABAtBhaQAAAAEC0GFpAAAAAgBYZWkAAAACAFhlaQAAAAIAWGVpAAAAA4E0aWkAAAADgTRpaQAAAAOBNGlpA\"},\"shape\":[132],\"dtype\":\"float64\",\"order\":\"little\"}],[\"y\",{\"type\":\"ndarray\",\"array\":{\"type\":\"bytes\",\"data\":\"AAAAgHwgP0AAAACAfCA/QAAAAIB8ID9AAAAA4NkcP0AAAADg2Rw/QAAAAODZHD9AAAAAILAiP0AAAAAgsCI/QAAAACCwIj9AAAAAQOYeP0AAAABA5h4/QAAAAEDmHj9AAAAAoKsdP0AAAACgqx0/QAAAAKCrHT9AAAAAwAwhP0AAAADADCE/QAAAAMAMIT9AAAAAAE0kP0AAAAAATSQ/QAAAAABNJD9AAAAAIIUbP0AAAAAghRs/QAAAACCFGz9AAAAAQHAeP0AAAABAcB4/QAAAAEBwHj9AAAAAYFQiP0AAAABgVCI/QAAAAGBUIj9AAAAAwHYeP0AAAADAdh4/QAAAAMB2Hj9AAAAAwNEgP0AAAADA0SA/QAAAAMDRID9AAAAAQGAlP0AAAABAYCU/QAAAAEBgJT9AAAAAYJYhP0AAAABgliE/QAAAAGCWIT9AAAAAQIkhP0AAAABAiSE/QAAAAECJIT9AAAAAwMEnP0AAAADAwSc/QAAAAMDBJz9AAAAAIP8hP0AAAAAg/yE/QAAAACD/IT9AAAAAoPYmP0AAAACg9iY/QAAAAKD2Jj9AAAAAQPMeP0AAAABA8x4/QAAAAEDzHj9AAAAAYMMjP0AAAABgwyM/QAAAAGDDIz9AAAAAQKQfP0AAAABApB8/QAAAAECkHz9AAAAA4JUiP0AAAADglSI/QAAAAOCVIj9AAAAAILchP0AAAAAgtyE/QAAAACC3IT9AAAAAIPQcP0AAAAAg9Bw/QAAAACD0HD9AAAAA4EYjP0AAAAAg9Bw/QAAAACD0HD9AAAAAIPQcP0AAAACABiA/QAAAAKBFJj9AAAAAgAYgP0AAAACg8SI/QAAAAEC/HT9AAAAAQL8dP0AAAABAvx0/QAAAAOA/JD9AAAAA4D8kP0AAAADgPyQ/QAAAAMDKIT9AAAAAwMohP0AAAADAyiE/QAAAAAA7ID9AAAAAADsgP0AAAAAAOyA/QAAAAGDnGz9AAAAAYOcbP0AAAABg5xs/QAAAAKAsIz9AAAAAoCwjP0AAAACgLCM/QAAAAEDEIT9AAAAAQMQhP0AAAABAxCE/QAAAACCyHT9AAAAAILIdP0AAAAAgsh0/QAAAAOCKHT9AAAAA4IodP0AAAADgih0/QAAAAIBaIz9AAAAAgFojP0AAAACAWiM/QAAAAEDmHj9AAAAAQL8dP0AAAABAvx0/QAAAAEC/HT9AAAAAoEUmP0AAAACgRSY/QAAAAIBqHD9AAAAAgGocP0AAAACAahw/QAAAAEA+GD9AAAAAQD4YP0AAAABAPhg/QAAAAIAGID9AAAAAgAYgP0AAAACg8SI/QAAAAKDxIj9AAAAA4EYjP0AAAADgRiM/QAAAAOBGIz9AAAAAgFojP0AAAACAWiM/QAAAAIBaIz9A\"},\"shape\":[132],\"dtype\":\"float64\",\"order\":\"little\"}]]}}},\"view\":{\"type\":\"object\",\"name\":\"CDSView\",\"id\":\"p2278\",\"attributes\":{\"filter\":{\"type\":\"object\",\"name\":\"AllIndices\",\"id\":\"p2279\"}}},\"glyph\":{\"type\":\"object\",\"name\":\"Circle\",\"id\":\"p2274\",\"attributes\":{\"x\":{\"type\":\"field\",\"field\":\"x\"},\"y\":{\"type\":\"field\",\"field\":\"y\"},\"size\":{\"type\":\"value\",\"value\":10},\"line_color\":{\"type\":\"value\",\"value\":\"red\"},\"line_alpha\":{\"type\":\"value\",\"value\":0.3},\"fill_color\":{\"type\":\"value\",\"value\":\"red\"},\"fill_alpha\":{\"type\":\"value\",\"value\":0.3},\"hatch_color\":{\"type\":\"value\",\"value\":\"red\"},\"hatch_alpha\":{\"type\":\"value\",\"value\":0.3}}},\"nonselection_glyph\":{\"type\":\"object\",\"name\":\"Circle\",\"id\":\"p2275\",\"attributes\":{\"x\":{\"type\":\"field\",\"field\":\"x\"},\"y\":{\"type\":\"field\",\"field\":\"y\"},\"size\":{\"type\":\"value\",\"value\":10},\"line_color\":{\"type\":\"value\",\"value\":\"red\"},\"line_alpha\":{\"type\":\"value\",\"value\":0.1},\"fill_color\":{\"type\":\"value\",\"value\":\"red\"},\"fill_alpha\":{\"type\":\"value\",\"value\":0.1},\"hatch_color\":{\"type\":\"value\",\"value\":\"red\"},\"hatch_alpha\":{\"type\":\"value\",\"value\":0.1}}},\"muted_glyph\":{\"type\":\"object\",\"name\":\"Circle\",\"id\":\"p2276\",\"attributes\":{\"x\":{\"type\":\"field\",\"field\":\"x\"},\"y\":{\"type\":\"field\",\"field\":\"y\"},\"size\":{\"type\":\"value\",\"value\":10},\"line_color\":{\"type\":\"value\",\"value\":\"red\"},\"line_alpha\":{\"type\":\"value\",\"value\":0.2},\"fill_color\":{\"type\":\"value\",\"value\":\"red\"},\"fill_alpha\":{\"type\":\"value\",\"value\":0.2},\"hatch_color\":{\"type\":\"value\",\"value\":\"red\"},\"hatch_alpha\":{\"type\":\"value\",\"value\":0.2}}}}},{\"type\":\"object\",\"name\":\"GlyphRenderer\",\"id\":\"p2286\",\"attributes\":{\"data_source\":{\"type\":\"object\",\"name\":\"ColumnDataSource\",\"id\":\"p2280\",\"attributes\":{\"selected\":{\"type\":\"object\",\"name\":\"Selection\",\"id\":\"p2281\",\"attributes\":{\"indices\":[],\"line_indices\":[]}},\"selection_policy\":{\"type\":\"object\",\"name\":\"UnionRenderers\",\"id\":\"p2282\"},\"data\":{\"type\":\"map\",\"entries\":[[\"x\",{\"type\":\"ndarray\",\"array\":{\"type\":\"bytes\",\"data\":\"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\"},\"shape\":[293],\"dtype\":\"float64\",\"order\":\"little\"}],[\"y\",{\"type\":\"ndarray\",\"array\":{\"type\":\"bytes\",\"data\":\"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\"},\"shape\":[293],\"dtype\":\"float64\",\"order\":\"little\"}]]}}},\"view\":{\"type\":\"object\",\"name\":\"CDSView\",\"id\":\"p2287\",\"attributes\":{\"filter\":{\"type\":\"object\",\"name\":\"AllIndices\",\"id\":\"p2288\"}}},\"glyph\":{\"type\":\"object\",\"name\":\"Circle\",\"id\":\"p2283\",\"attributes\":{\"x\":{\"type\":\"field\",\"field\":\"x\"},\"y\":{\"type\":\"field\",\"field\":\"y\"},\"size\":{\"type\":\"value\",\"value\":10},\"line_color\":{\"type\":\"value\",\"value\":\"blue\"},\"line_alpha\":{\"type\":\"value\",\"value\":0.3},\"fill_color\":{\"type\":\"value\",\"value\":\"blue\"},\"fill_alpha\":{\"type\":\"value\",\"value\":0.3},\"hatch_color\":{\"type\":\"value\",\"value\":\"blue\"},\"hatch_alpha\":{\"type\":\"value\",\"value\":0.3}}},\"nonselection_glyph\":{\"type\":\"object\",\"name\":\"Circle\",\"id\":\"p2284\",\"attributes\":{\"x\":{\"type\":\"field\",\"field\":\"x\"},\"y\":{\"type\":\"field\",\"field\":\"y\"},\"size\":{\"type\":\"value\",\"value\":10},\"line_color\":{\"type\":\"value\",\"value\":\"blue\"},\"line_alpha\":{\"type\":\"value\",\"value\":0.1},\"fill_color\":{\"type\":\"value\",\"value\":\"blue\"},\"fill_alpha\":{\"type\":\"value\",\"value\":0.1},\"hatch_color\":{\"type\":\"value\",\"value\":\"blue\"},\"hatch_alpha\":{\"type\":\"value\",\"value\":0.1}}},\"muted_glyph\":{\"type\":\"object\",\"name\":\"Circle\",\"id\":\"p2285\",\"attributes\":{\"x\":{\"type\":\"field\",\"field\":\"x\"},\"y\":{\"type\":\"field\",\"field\":\"y\"},\"size\":{\"type\":\"value\",\"value\":10},\"line_color\":{\"type\":\"value\",\"value\":\"blue\"},\"line_alpha\":{\"type\":\"value\",\"value\":0.2},\"fill_color\":{\"type\":\"value\",\"value\":\"blue\"},\"fill_alpha\":{\"type\":\"value\",\"value\":0.2},\"hatch_color\":{\"type\":\"value\",\"value\":\"blue\"},\"hatch_alpha\":{\"type\":\"value\",\"value\":0.2}}}}}],\"toolbar\":{\"type\":\"object\",\"name\":\"Toolbar\",\"id\":\"p2242\",\"attributes\":{\"tools\":[{\"type\":\"object\",\"name\":\"PanTool\",\"id\":\"p2255\"},{\"type\":\"object\",\"name\":\"WheelZoomTool\",\"id\":\"p2256\"},{\"type\":\"object\",\"name\":\"BoxZoomTool\",\"id\":\"p2257\",\"attributes\":{\"overlay\":{\"type\":\"object\",\"name\":\"BoxAnnotation\",\"id\":\"p2258\",\"attributes\":{\"syncable\":false,\"level\":\"overlay\",\"visible\":false,\"left_units\":\"canvas\",\"right_units\":\"canvas\",\"bottom_units\":\"canvas\",\"top_units\":\"canvas\",\"line_color\":\"black\",\"line_alpha\":1.0,\"line_width\":2,\"line_dash\":[4,4],\"fill_color\":\"lightgrey\",\"fill_alpha\":0.5}}}},{\"type\":\"object\",\"name\":\"SaveTool\",\"id\":\"p2259\"},{\"type\":\"object\",\"name\":\"ResetTool\",\"id\":\"p2260\"},{\"type\":\"object\",\"name\":\"HelpTool\",\"id\":\"p2261\"}]}},\"left\":[{\"type\":\"object\",\"name\":\"LinearAxis\",\"id\":\"p2251\",\"attributes\":{\"ticker\":{\"type\":\"object\",\"name\":\"MercatorTicker\",\"id\":\"p2250\",\"attributes\":{\"mantissas\":[1,2,5],\"dimension\":\"lat\"}},\"formatter\":{\"type\":\"object\",\"name\":\"MercatorTickFormatter\",\"id\":\"p2249\",\"attributes\":{\"dimension\":\"lat\"}},\"axis_label\":\"\",\"major_label_policy\":{\"type\":\"object\",\"name\":\"AllLabels\",\"id\":\"p2254\"}}}],\"below\":[{\"type\":\"object\",\"name\":\"LinearAxis\",\"id\":\"p2245\",\"attributes\":{\"ticker\":{\"type\":\"object\",\"name\":\"MercatorTicker\",\"id\":\"p2244\",\"attributes\":{\"mantissas\":[1,2,5],\"dimension\":\"lon\"}},\"formatter\":{\"type\":\"object\",\"name\":\"MercatorTickFormatter\",\"id\":\"p2243\",\"attributes\":{\"dimension\":\"lon\"}},\"axis_label\":\"\",\"major_label_policy\":{\"type\":\"object\",\"name\":\"AllLabels\",\"id\":\"p2248\"}}}],\"map_options\":{\"type\":\"object\",\"name\":\"GMapOptions\",\"id\":\"p2232\",\"attributes\":{\"lat\":31.1268,\"lng\":104.3979,\"zoom\":11}},\"api_key\":{\"type\":\"bytes\",\"data\":\"QUl6YVN5RGdHTENwN3hhTUlMbHRxaDV6WGxnMVNTUXZzYmlUcjNN\"}}}]}};\n",
       "  const render_items = [{\"docid\":\"c7644b2c-991e-403f-8143-039f3b124ea0\",\"roots\":{\"p2233\":\"f603d573-84ed-44e8-9455-91ce5eb4e129\"},\"root_ids\":[\"p2233\"]}];\n",
       "  root.Bokeh.embed.embed_items_notebook(docs_json, render_items);\n",
       "  }\n",
       "  if (root.Bokeh !== undefined) {\n",
       "    embed_document(root);\n",
       "  } else {\n",
       "    let attempts = 0;\n",
       "    const timer = setInterval(function(root) {\n",
       "      if (root.Bokeh !== undefined) {\n",
       "        clearInterval(timer);\n",
       "        embed_document(root);\n",
       "      } else {\n",
       "        attempts++;\n",
       "        if (attempts > 100) {\n",
       "          clearInterval(timer);\n",
       "          console.log(\"Bokeh: ERROR: Unable to run BokehJS code because BokehJS library is missing\");\n",
       "        }\n",
       "      }\n",
       "    }, 10, root)\n",
       "  }\n",
       "})(window);"
      ],
      "application/vnd.bokehjs_exec.v0+json": ""
     },
     "metadata": {
      "application/vnd.bokehjs_exec.v0+json": {
       "id": "p2233"
      }
     },
     "output_type": "display_data"
    }
   ],
   "source": [
    "def plot_deyang(lat, lng, zoom=11, map_type='roadmap', bokeh_width=900, bokeh_height=700):\n",
    "    gmap_options = GMapOptions(\n",
    "        lat=lat, \n",
    "        lng=lng, \n",
    "        map_type=map_type, \n",
    "        zoom=zoom\n",
    "    )\n",
    "    p = gmap(\n",
    "        getenv('GOOGLE_API_KEY'), \n",
    "        gmap_options, \n",
    "        title='Deyang', \n",
    "        width=bokeh_width, \n",
    "        height=bokeh_height\n",
    "    \n",
    "    )\n",
    "    center = p.circle(center_tower.LON, center_tower.LAT, size=10, alpha=0.3, color='yellow')\n",
    "    hot_main = p.circle(hot_main_tower.LON, hot_main_tower.LAT, size=10, alpha=0.3, color='red')\n",
    "    hot_other = p.circle(hot_other_tower.LON, hot_other_tower.LAT, size=10, alpha=0.3, color='blue')\n",
    "    show(p)\n",
    "    return p\n",
    "        \n",
    "p = plot_deyang(31.1268, 104.3979)"
   ]
  }
 ],
 "metadata": {
  "@webio": {
   "lastCommId": null,
   "lastKernelId": null
  },
  "kernelspec": {
   "display_name": "Poetry",
   "language": "python",
   "name": "poetry-kernel"
  },
  "language_info": {
   "codemirror_mode": {
    "name": "ipython",
    "version": 3
   },
   "file_extension": ".py",
   "mimetype": "text/x-python",
   "name": "python",
   "nbconvert_exporter": "python",
   "pygments_lexer": "ipython3",
   "version": "3.11.4"
  }
 },
 "nbformat": 4,
 "nbformat_minor": 5
}
