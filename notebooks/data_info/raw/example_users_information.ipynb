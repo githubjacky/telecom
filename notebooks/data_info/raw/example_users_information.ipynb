{
 "cells": [
  {
   "cell_type": "code",
   "execution_count": 1,
   "id": "e83e3915",
   "metadata": {},
   "outputs": [
    {
     "data": {
      "text/html": [
       "<span style=\"None\">Found pyproject.toml from &#x27;/Users/jacky/github/telecom&#x27;</span>"
      ],
      "text/plain": [
       "Found pyproject.toml from '/Users/jacky/github/telecom'"
      ]
     },
     "metadata": {},
     "output_type": "display_data"
    }
   ],
   "source": [
    "from sqlalchemy import create_engine\n",
    "\n",
    "\n",
    "engine = create_engine('mysql+pyodbc://telecom')\n",
    "%load_ext sql\n",
    "%sql engine\n",
    "%config SqlMagic.autopandas = True"
   ]
  },
  {
   "cell_type": "markdown",
   "id": "23169d74",
   "metadata": {},
   "source": [
    "# Example Users Information"
   ]
  },
  {
   "cell_type": "code",
   "execution_count": 2,
   "id": "86ca34f3",
   "metadata": {},
   "outputs": [
    {
     "data": {
      "text/html": [
       "<span style=\"None\">Running query in &#x27;mysql+pyodbc://telecom&#x27;</span>"
      ],
      "text/plain": [
       "Running query in 'mysql+pyodbc://telecom'"
      ]
     },
     "metadata": {},
     "output_type": "display_data"
    },
    {
     "data": {
      "text/html": [
       "<span style=\"color: green\">10 rows affected.</span>"
      ],
      "text/plain": [
       "10 rows affected."
      ]
     },
     "metadata": {},
     "output_type": "display_data"
    },
    {
     "data": {
      "text/html": [
       "<div>\n",
       "<style scoped>\n",
       "    .dataframe tbody tr th:only-of-type {\n",
       "        vertical-align: middle;\n",
       "    }\n",
       "\n",
       "    .dataframe tbody tr th {\n",
       "        vertical-align: top;\n",
       "    }\n",
       "\n",
       "    .dataframe thead th {\n",
       "        text-align: right;\n",
       "    }\n",
       "</style>\n",
       "<table border=\"1\" class=\"dataframe\">\n",
       "  <thead>\n",
       "    <tr style=\"text-align: right;\">\n",
       "      <th></th>\n",
       "      <th>Tables_in_telecom</th>\n",
       "    </tr>\n",
       "  </thead>\n",
       "  <tbody>\n",
       "    <tr>\n",
       "      <th>0</th>\n",
       "      <td>cinfo_xy</td>\n",
       "    </tr>\n",
       "    <tr>\n",
       "      <th>1</th>\n",
       "      <td>sample_sight_201308</td>\n",
       "    </tr>\n",
       "    <tr>\n",
       "      <th>2</th>\n",
       "      <td>sample_user_201308</td>\n",
       "    </tr>\n",
       "    <tr>\n",
       "      <th>3</th>\n",
       "      <td>serv_acct_item_0838_201308</td>\n",
       "    </tr>\n",
       "    <tr>\n",
       "      <th>4</th>\n",
       "      <td>serv_acct_item_0838_201406</td>\n",
       "    </tr>\n",
       "    <tr>\n",
       "      <th>5</th>\n",
       "      <td>tb_asz_cdma_0838_201308</td>\n",
       "    </tr>\n",
       "    <tr>\n",
       "      <th>6</th>\n",
       "      <td>tb_asz_cdma_0838_201406</td>\n",
       "    </tr>\n",
       "    <tr>\n",
       "      <th>7</th>\n",
       "      <td>tower</td>\n",
       "    </tr>\n",
       "    <tr>\n",
       "      <th>8</th>\n",
       "      <td>tower_center</td>\n",
       "    </tr>\n",
       "    <tr>\n",
       "      <th>9</th>\n",
       "      <td>tower_hot_201308</td>\n",
       "    </tr>\n",
       "  </tbody>\n",
       "</table>\n",
       "</div>"
      ],
      "text/plain": [
       "            Tables_in_telecom\n",
       "0                    cinfo_xy\n",
       "1         sample_sight_201308\n",
       "2          sample_user_201308\n",
       "3  serv_acct_item_0838_201308\n",
       "4  serv_acct_item_0838_201406\n",
       "5     tb_asz_cdma_0838_201308\n",
       "6     tb_asz_cdma_0838_201406\n",
       "7                       tower\n",
       "8                tower_center\n",
       "9            tower_hot_201308"
      ]
     },
     "execution_count": 2,
     "metadata": {},
     "output_type": "execute_result"
    }
   ],
   "source": [
    "%sql SHOW TABLES"
   ]
  },
  {
   "cell_type": "markdown",
   "id": "646b81f2",
   "metadata": {},
   "source": [
    "## Terminology\n",
    "- [CDMA](https://www.techtarget.com/searchnetworking/definition/CDMA-Code-Division-Multiple-Access#:~:text=CDMA%20\\(Code%2DDivision%20Multiple%20Access\\)%20refers%20to%20any%20of,the%20use%20of%20available%20bandwidth.): Code-division multiple access\n",
    "- [CDMA2000](https://zh.wikipedia.org/zh-tw/CDMA2000)\n",
    "- [EVDO](https://en.wikipedia.org/wiki/Evolution-Data_Optimized): Evolution-Data Optimized\n",
    "- ONEX: 1X\n",
    "\n",
    "- ARPU: monthly average revenu per unit\n",
    "- [MOU](https://www.docomo.ne.jp/english/corporate/ir/binary/pdf/library/presentation/060428/p33_e.pdf): miniutes of usage\n",
    "\n",
    "\n",
    "- table: sample_user_{month}\n",
    "## column names(keys of table)\n",
    "| columns | type | explanations | examples | variable name in user_account_information |\n",
    "| --- | --- | --- | --- | --- | \n",
    "| SERV_ID | `varchar(8)` | user ID |  | serv_id |\n",
    "| MSISDN | `varchar(64)` | cellphone number |  | msisdn |\n",
    "| [MONTH_NO](#MONTH_NO) | `varchar(6)` | which month |  | month_no |\n",
    "| CERT_NBR | `varchar(255)` | identity numbr |  | cert_nbr |         \n",
    "| [CI_BRANCH](#CI_BRANCH) | `varchar(255)` | branch office | 德阳市市辖区, 广汉市 | ci_branch |\n",
    "| [EMPLOY_FLAG](#flag1) | `int` |  |  | is_zqhy ? | \n",
    "| [STUDENT_FLAG](#flag1) | `int` |  |  | is_school ? |  \n",
    "| [RURAL_FLAG](#flag1) | `int` |  |  | bss_org_zj_flag ? |\n",
    "| TERMINAL_BRAND | `varchar(255)` | cellphone's brand | SAMSUNG | hs_cdma_brand |\n",
    "| TERMINAL_MODEL | `varchar(255)` | cellphone's model | SAMSUNG-B189 | hs_cdma_model |\n",
    "| [TERMINAL_SMART_FLAG](#terminal_info) | `int` | wheter the cellphone is a smartphone |  | is_intelligent |\n",
    "| [TERMINAL_TYPE](#terminal_info) | `varchar(8)` |  | 1X, 3G | terminal_type |\n",
    "| [TERMINAL_LEVEL](#terminal_info) | `int` |  | 1,2,3,4,5 | hs_cdma_layer ? |\n",
    "| [TERMINAL_PRICE](#terminal_info) | `int` | cellphone's price |  | hs_cdma_ter_price |\n",
    "| HS_CDMA_CT_DATE | `varchar(20)` | when the users start their services? |  | hs_cdma_ct_date |\n",
    "| [PD_EVDO_FLAG](#speed) | `varchar(1)` | wheter to use EVDO wireless network |  | pd_evdo_flag_m1 |\n",
    "| [PD_1X_FLAG](#speed) | `varchar(1)` | wheter the use ONEX wireless network |  | pd_1x_flag_m1 |        \n",
    "| [ARPU](#ARPU) | `float` | user average fee |  | mb_arpu_cdma_m1 | \n",
    "| [ARPU_ALL](#ARPU) | `float` | ARPU includes reconciliation |  | mb_arpu_cdma_all_m1 |    \n",
    "| [CONTRACT_FLAG](#contract) | `varchar(1)` | wheter there is an agreement | | pl_contract_flag |\n",
    "| [CONTRACT_EXPIRE_MONTH](#contract) | `int` | the number of months due from the agreement |  | pl_expire_month |\n",
    "| [VO_MOU_LOCAL](#mou) | `float` | MOU of local | 0.45, 28.75, 176.08 | vo_cdma_mouout_local_m1 |\n",
    "| [VO_MOU_DIST](#mou) | `float` | MOU of long distance | 0, 0.25, 37.55  | vo_cdma_mou_dist_m1 |\n"
   ]
  },
  {
   "cell_type": "code",
   "execution_count": 4,
   "id": "ae974c92",
   "metadata": {},
   "outputs": [
    {
     "data": {
      "text/html": [
       "<span style=\"None\">Running query in &#x27;mysql+pyodbc://telecom&#x27;</span>"
      ],
      "text/plain": [
       "Running query in 'mysql+pyodbc://telecom'"
      ]
     },
     "metadata": {},
     "output_type": "display_data"
    },
    {
     "data": {
      "text/html": [
       "<span style=\"color: green\">10 rows affected.</span>"
      ],
      "text/plain": [
       "10 rows affected."
      ]
     },
     "metadata": {},
     "output_type": "display_data"
    },
    {
     "data": {
      "text/html": [
       "<div>\n",
       "<style scoped>\n",
       "    .dataframe tbody tr th:only-of-type {\n",
       "        vertical-align: middle;\n",
       "    }\n",
       "\n",
       "    .dataframe tbody tr th {\n",
       "        vertical-align: top;\n",
       "    }\n",
       "\n",
       "    .dataframe thead th {\n",
       "        text-align: right;\n",
       "    }\n",
       "</style>\n",
       "<table border=\"1\" class=\"dataframe\">\n",
       "  <thead>\n",
       "    <tr style=\"text-align: right;\">\n",
       "      <th></th>\n",
       "      <th>SERV_ID</th>\n",
       "      <th>MSISDN</th>\n",
       "      <th>MONTH_NO</th>\n",
       "      <th>CERT_NBR</th>\n",
       "      <th>CI_BRANCH</th>\n",
       "      <th>EMPLOY_FLAG</th>\n",
       "      <th>STUDENT_FLAG</th>\n",
       "      <th>RURAL_FLAG</th>\n",
       "      <th>TERMINAL_BRAND</th>\n",
       "      <th>TERMINAL_MODEL</th>\n",
       "      <th>...</th>\n",
       "      <th>TERMINAL_PRICE</th>\n",
       "      <th>HS_CDMA_CT_DATE</th>\n",
       "      <th>PD_EVDO_FLAG</th>\n",
       "      <th>PD_1X_FLAG</th>\n",
       "      <th>ARPU</th>\n",
       "      <th>ARPU_ALL</th>\n",
       "      <th>CONTRACT_FLAG</th>\n",
       "      <th>CONTRACT_EXPIRE_MONTH</th>\n",
       "      <th>VO_MOU_LOCAL</th>\n",
       "      <th>VO_MOU_DIST</th>\n",
       "    </tr>\n",
       "  </thead>\n",
       "  <tbody>\n",
       "    <tr>\n",
       "      <th>0</th>\n",
       "      <td>9uxt3ojw</td>\n",
       "      <td>6m6s3n3s</td>\n",
       "      <td>201308</td>\n",
       "      <td>51-06-26-1981-01-02-1</td>\n",
       "      <td>德阳市市辖区</td>\n",
       "      <td>1</td>\n",
       "      <td>0</td>\n",
       "      <td>0</td>\n",
       "      <td>SAMSUNG</td>\n",
       "      <td>SAMSUNG-N719(3G)</td>\n",
       "      <td>...</td>\n",
       "      <td>4890</td>\n",
       "      <td>2013/1/11 10:29:21</td>\n",
       "      <td>1</td>\n",
       "      <td>1</td>\n",
       "      <td>0.000000</td>\n",
       "      <td>0.000000</td>\n",
       "      <td>0</td>\n",
       "      <td>NaN</td>\n",
       "      <td>176.080002</td>\n",
       "      <td>37.549999</td>\n",
       "    </tr>\n",
       "    <tr>\n",
       "      <th>1</th>\n",
       "      <td>a2nl3ojo</td>\n",
       "      <td>6twk3n3s</td>\n",
       "      <td>201308</td>\n",
       "      <td>51-06-26-1981-01-02-1</td>\n",
       "      <td>德阳市市辖区</td>\n",
       "      <td>1</td>\n",
       "      <td>0</td>\n",
       "      <td>0</td>\n",
       "      <td>中兴</td>\n",
       "      <td>中兴-N600(3G)</td>\n",
       "      <td>...</td>\n",
       "      <td>899</td>\n",
       "      <td>2011/6/11 13:02:54</td>\n",
       "      <td>1</td>\n",
       "      <td>0</td>\n",
       "      <td>0.100000</td>\n",
       "      <td>0.100000</td>\n",
       "      <td>0</td>\n",
       "      <td>NaN</td>\n",
       "      <td>28.750000</td>\n",
       "      <td>0.430000</td>\n",
       "    </tr>\n",
       "    <tr>\n",
       "      <th>2</th>\n",
       "      <td>90893o09</td>\n",
       "      <td>mm7pjcxf</td>\n",
       "      <td>201308</td>\n",
       "      <td>51-06-02-1947-06-05-0</td>\n",
       "      <td>德阳市市辖区</td>\n",
       "      <td>1</td>\n",
       "      <td>0</td>\n",
       "      <td>0</td>\n",
       "      <td>华立时代</td>\n",
       "      <td>华立时代-LC101</td>\n",
       "      <td>...</td>\n",
       "      <td>330</td>\n",
       "      <td>2011/6/11 16:02:55</td>\n",
       "      <td>0</td>\n",
       "      <td>0</td>\n",
       "      <td>8.000000</td>\n",
       "      <td>8.000000</td>\n",
       "      <td>0</td>\n",
       "      <td>NaN</td>\n",
       "      <td>11.500000</td>\n",
       "      <td>0.000000</td>\n",
       "    </tr>\n",
       "    <tr>\n",
       "      <th>3</th>\n",
       "      <td>8sih3omm</td>\n",
       "      <td>fq5m3q1g</td>\n",
       "      <td>201308</td>\n",
       "      <td>51-06-23-1982-06-08-1</td>\n",
       "      <td>广汉市</td>\n",
       "      <td>1</td>\n",
       "      <td>0</td>\n",
       "      <td>0</td>\n",
       "      <td>SAMSUNG</td>\n",
       "      <td>SAMSUNG-B189</td>\n",
       "      <td>...</td>\n",
       "      <td>299</td>\n",
       "      <td>2012/3/30 8:20:00</td>\n",
       "      <td>0</td>\n",
       "      <td>0</td>\n",
       "      <td>38.000000</td>\n",
       "      <td>38.000000</td>\n",
       "      <td>0</td>\n",
       "      <td>NaN</td>\n",
       "      <td>233.580002</td>\n",
       "      <td>0.250000</td>\n",
       "    </tr>\n",
       "    <tr>\n",
       "      <th>4</th>\n",
       "      <td>9v653o8r</td>\n",
       "      <td>mhd8ksuv</td>\n",
       "      <td>201308</td>\n",
       "      <td>51-06-23-1971-11-22-1</td>\n",
       "      <td>中江县</td>\n",
       "      <td>1</td>\n",
       "      <td>0</td>\n",
       "      <td>0</td>\n",
       "      <td>MOTO</td>\n",
       "      <td>MOTO-XT800(3G)</td>\n",
       "      <td>...</td>\n",
       "      <td>1180</td>\n",
       "      <td>2012/1/24 9:30:14</td>\n",
       "      <td>1</td>\n",
       "      <td>0</td>\n",
       "      <td>91.610001</td>\n",
       "      <td>91.610001</td>\n",
       "      <td>0</td>\n",
       "      <td>NaN</td>\n",
       "      <td>0.450000</td>\n",
       "      <td>0.000000</td>\n",
       "    </tr>\n",
       "    <tr>\n",
       "      <th>5</th>\n",
       "      <td>a2vx3ogx</td>\n",
       "      <td>4kkhjsib</td>\n",
       "      <td>201308</td>\n",
       "      <td>51-06-02-1963-01-30-0</td>\n",
       "      <td>德阳市市辖区</td>\n",
       "      <td>1</td>\n",
       "      <td>0</td>\n",
       "      <td>1</td>\n",
       "      <td>SAMSUNG</td>\n",
       "      <td>SAMSUNG-B309</td>\n",
       "      <td>...</td>\n",
       "      <td>199</td>\n",
       "      <td>2011/6/12 9:23:47</td>\n",
       "      <td>0</td>\n",
       "      <td>0</td>\n",
       "      <td>0.000000</td>\n",
       "      <td>0.000000</td>\n",
       "      <td>0</td>\n",
       "      <td>NaN</td>\n",
       "      <td>13.920000</td>\n",
       "      <td>0.000000</td>\n",
       "    </tr>\n",
       "    <tr>\n",
       "      <th>6</th>\n",
       "      <td>980t3oml</td>\n",
       "      <td>iltc4wv5</td>\n",
       "      <td>201308</td>\n",
       "      <td>51-06-02-1974-02-11-1</td>\n",
       "      <td>德阳市市辖区</td>\n",
       "      <td>1</td>\n",
       "      <td>0</td>\n",
       "      <td>0</td>\n",
       "      <td>华为</td>\n",
       "      <td>华为-C8813(3G)</td>\n",
       "      <td>...</td>\n",
       "      <td>1090</td>\n",
       "      <td>2013/4/17 23:49:24</td>\n",
       "      <td>1</td>\n",
       "      <td>0</td>\n",
       "      <td>50.000000</td>\n",
       "      <td>6.200000</td>\n",
       "      <td>1</td>\n",
       "      <td>4.0</td>\n",
       "      <td>11.900000</td>\n",
       "      <td>0.000000</td>\n",
       "    </tr>\n",
       "    <tr>\n",
       "      <th>7</th>\n",
       "      <td>aie93o5u</td>\n",
       "      <td>efqbk0gj</td>\n",
       "      <td>201308</td>\n",
       "      <td>51-06-25-1959-05-17-0</td>\n",
       "      <td>什邡市</td>\n",
       "      <td>1</td>\n",
       "      <td>0</td>\n",
       "      <td>0</td>\n",
       "      <td>世纪星宇</td>\n",
       "      <td>世纪星宇-V3(3G)</td>\n",
       "      <td>...</td>\n",
       "      <td>399</td>\n",
       "      <td>2011/6/12 10:26:52</td>\n",
       "      <td>0</td>\n",
       "      <td>0</td>\n",
       "      <td>10.200000</td>\n",
       "      <td>0.000000</td>\n",
       "      <td>0</td>\n",
       "      <td>NaN</td>\n",
       "      <td>38.680000</td>\n",
       "      <td>0.000000</td>\n",
       "    </tr>\n",
       "    <tr>\n",
       "      <th>8</th>\n",
       "      <td>aaoh3o8r</td>\n",
       "      <td>bvdlk0dq</td>\n",
       "      <td>201308</td>\n",
       "      <td>51-06-23-1974-10-17-1</td>\n",
       "      <td>德阳市市辖区</td>\n",
       "      <td>1</td>\n",
       "      <td>0</td>\n",
       "      <td>1</td>\n",
       "      <td>华为</td>\n",
       "      <td>华为-C8500(3G)</td>\n",
       "      <td>...</td>\n",
       "      <td>838</td>\n",
       "      <td>2011/6/12 12:18:26</td>\n",
       "      <td>1</td>\n",
       "      <td>0</td>\n",
       "      <td>66.559998</td>\n",
       "      <td>66.559998</td>\n",
       "      <td>0</td>\n",
       "      <td>NaN</td>\n",
       "      <td>40.980000</td>\n",
       "      <td>23.430000</td>\n",
       "    </tr>\n",
       "    <tr>\n",
       "      <th>9</th>\n",
       "      <td>aih13o5t</td>\n",
       "      <td>hbvgl0f1</td>\n",
       "      <td>201308</td>\n",
       "      <td>51-06-82-1982-07-05-1</td>\n",
       "      <td>什邡市</td>\n",
       "      <td>1</td>\n",
       "      <td>0</td>\n",
       "      <td>1</td>\n",
       "      <td>中兴</td>\n",
       "      <td>中兴-S160</td>\n",
       "      <td>...</td>\n",
       "      <td>199</td>\n",
       "      <td>2011/6/13 12:22:54</td>\n",
       "      <td>0</td>\n",
       "      <td>0</td>\n",
       "      <td>6.000000</td>\n",
       "      <td>6.000000</td>\n",
       "      <td>0</td>\n",
       "      <td>NaN</td>\n",
       "      <td>31.030001</td>\n",
       "      <td>16.150000</td>\n",
       "    </tr>\n",
       "  </tbody>\n",
       "</table>\n",
       "<p>10 rows × 23 columns</p>\n",
       "</div>"
      ],
      "text/plain": [
       "    SERV_ID    MSISDN MONTH_NO               CERT_NBR CI_BRANCH  EMPLOY_FLAG  \\\n",
       "0  9uxt3ojw  6m6s3n3s   201308  51-06-26-1981-01-02-1    德阳市市辖区            1   \n",
       "1  a2nl3ojo  6twk3n3s   201308  51-06-26-1981-01-02-1    德阳市市辖区            1   \n",
       "2  90893o09  mm7pjcxf   201308  51-06-02-1947-06-05-0    德阳市市辖区            1   \n",
       "3  8sih3omm  fq5m3q1g   201308  51-06-23-1982-06-08-1       广汉市            1   \n",
       "4  9v653o8r  mhd8ksuv   201308  51-06-23-1971-11-22-1       中江县            1   \n",
       "5  a2vx3ogx  4kkhjsib   201308  51-06-02-1963-01-30-0    德阳市市辖区            1   \n",
       "6  980t3oml  iltc4wv5   201308  51-06-02-1974-02-11-1    德阳市市辖区            1   \n",
       "7  aie93o5u  efqbk0gj   201308  51-06-25-1959-05-17-0       什邡市            1   \n",
       "8  aaoh3o8r  bvdlk0dq   201308  51-06-23-1974-10-17-1    德阳市市辖区            1   \n",
       "9  aih13o5t  hbvgl0f1   201308  51-06-82-1982-07-05-1       什邡市            1   \n",
       "\n",
       "   STUDENT_FLAG  RURAL_FLAG TERMINAL_BRAND    TERMINAL_MODEL  ...  \\\n",
       "0             0           0        SAMSUNG  SAMSUNG-N719(3G)  ...   \n",
       "1             0           0             中兴       中兴-N600(3G)  ...   \n",
       "2             0           0           华立时代        华立时代-LC101  ...   \n",
       "3             0           0        SAMSUNG      SAMSUNG-B189  ...   \n",
       "4             0           0           MOTO    MOTO-XT800(3G)  ...   \n",
       "5             0           1        SAMSUNG      SAMSUNG-B309  ...   \n",
       "6             0           0             华为      华为-C8813(3G)  ...   \n",
       "7             0           0           世纪星宇       世纪星宇-V3(3G)  ...   \n",
       "8             0           1             华为      华为-C8500(3G)  ...   \n",
       "9             0           1             中兴           中兴-S160  ...   \n",
       "\n",
       "   TERMINAL_PRICE     HS_CDMA_CT_DATE  PD_EVDO_FLAG  PD_1X_FLAG       ARPU  \\\n",
       "0            4890  2013/1/11 10:29:21             1           1   0.000000   \n",
       "1             899  2011/6/11 13:02:54             1           0   0.100000   \n",
       "2             330  2011/6/11 16:02:55             0           0   8.000000   \n",
       "3             299   2012/3/30 8:20:00             0           0  38.000000   \n",
       "4            1180   2012/1/24 9:30:14             1           0  91.610001   \n",
       "5             199   2011/6/12 9:23:47             0           0   0.000000   \n",
       "6            1090  2013/4/17 23:49:24             1           0  50.000000   \n",
       "7             399  2011/6/12 10:26:52             0           0  10.200000   \n",
       "8             838  2011/6/12 12:18:26             1           0  66.559998   \n",
       "9             199  2011/6/13 12:22:54             0           0   6.000000   \n",
       "\n",
       "    ARPU_ALL CONTRACT_FLAG  CONTRACT_EXPIRE_MONTH  VO_MOU_LOCAL VO_MOU_DIST  \n",
       "0   0.000000             0                    NaN    176.080002   37.549999  \n",
       "1   0.100000             0                    NaN     28.750000    0.430000  \n",
       "2   8.000000             0                    NaN     11.500000    0.000000  \n",
       "3  38.000000             0                    NaN    233.580002    0.250000  \n",
       "4  91.610001             0                    NaN      0.450000    0.000000  \n",
       "5   0.000000             0                    NaN     13.920000    0.000000  \n",
       "6   6.200000             1                    4.0     11.900000    0.000000  \n",
       "7   0.000000             0                    NaN     38.680000    0.000000  \n",
       "8  66.559998             0                    NaN     40.980000   23.430000  \n",
       "9   6.000000             0                    NaN     31.030001   16.150000  \n",
       "\n",
       "[10 rows x 23 columns]"
      ]
     },
     "execution_count": 4,
     "metadata": {},
     "output_type": "execute_result"
    }
   ],
   "source": [
    "%%sql\n",
    "\n",
    "SELECT\n",
    "    *\n",
    "FROM\n",
    "    sample_user_201308\n",
    "LIMIT 10;"
   ]
  },
  {
   "cell_type": "markdown",
   "id": "2c9ee8d0",
   "metadata": {},
   "source": [
    "<a name=\"MONTH_NO\"></a>"
   ]
  },
  {
   "cell_type": "markdown",
   "id": "87af91e8",
   "metadata": {},
   "source": [
    "the coverage of this table is only one month"
   ]
  },
  {
   "cell_type": "code",
   "execution_count": 5,
   "id": "997eb1ad",
   "metadata": {},
   "outputs": [
    {
     "data": {
      "text/html": [
       "<span style=\"None\">Running query in &#x27;mysql+pyodbc://telecom&#x27;</span>"
      ],
      "text/plain": [
       "Running query in 'mysql+pyodbc://telecom'"
      ]
     },
     "metadata": {},
     "output_type": "display_data"
    },
    {
     "data": {
      "text/html": [
       "<span style=\"color: green\">1 rows affected.</span>"
      ],
      "text/plain": [
       "1 rows affected."
      ]
     },
     "metadata": {},
     "output_type": "display_data"
    },
    {
     "data": {
      "text/html": [
       "<div>\n",
       "<style scoped>\n",
       "    .dataframe tbody tr th:only-of-type {\n",
       "        vertical-align: middle;\n",
       "    }\n",
       "\n",
       "    .dataframe tbody tr th {\n",
       "        vertical-align: top;\n",
       "    }\n",
       "\n",
       "    .dataframe thead th {\n",
       "        text-align: right;\n",
       "    }\n",
       "</style>\n",
       "<table border=\"1\" class=\"dataframe\">\n",
       "  <thead>\n",
       "    <tr style=\"text-align: right;\">\n",
       "      <th></th>\n",
       "      <th>MONTH_NO</th>\n",
       "    </tr>\n",
       "  </thead>\n",
       "  <tbody>\n",
       "    <tr>\n",
       "      <th>0</th>\n",
       "      <td>201308</td>\n",
       "    </tr>\n",
       "  </tbody>\n",
       "</table>\n",
       "</div>"
      ],
      "text/plain": [
       "  MONTH_NO\n",
       "0   201308"
      ]
     },
     "execution_count": 5,
     "metadata": {},
     "output_type": "execute_result"
    }
   ],
   "source": [
    "%%sql\n",
    "\n",
    "SELECT DISTINCT\n",
    "    MONTH_NO\n",
    "FROM\n",
    "    sample_user_201308"
   ]
  },
  {
   "cell_type": "markdown",
   "id": "c0be75d2",
   "metadata": {},
   "source": [
    "<a name=\"CI_BRANCH\"></a>"
   ]
  },
  {
   "cell_type": "code",
   "execution_count": 6,
   "id": "3f7b2768",
   "metadata": {},
   "outputs": [
    {
     "data": {
      "text/html": [
       "<span style=\"None\">Running query in &#x27;mysql+pyodbc://telecom&#x27;</span>"
      ],
      "text/plain": [
       "Running query in 'mysql+pyodbc://telecom'"
      ]
     },
     "metadata": {},
     "output_type": "display_data"
    },
    {
     "data": {
      "text/html": [
       "<span style=\"color: green\">7 rows affected.</span>"
      ],
      "text/plain": [
       "7 rows affected."
      ]
     },
     "metadata": {},
     "output_type": "display_data"
    },
    {
     "data": {
      "text/html": [
       "<div>\n",
       "<style scoped>\n",
       "    .dataframe tbody tr th:only-of-type {\n",
       "        vertical-align: middle;\n",
       "    }\n",
       "\n",
       "    .dataframe tbody tr th {\n",
       "        vertical-align: top;\n",
       "    }\n",
       "\n",
       "    .dataframe thead th {\n",
       "        text-align: right;\n",
       "    }\n",
       "</style>\n",
       "<table border=\"1\" class=\"dataframe\">\n",
       "  <thead>\n",
       "    <tr style=\"text-align: right;\">\n",
       "      <th></th>\n",
       "      <th>CI_BRANCH</th>\n",
       "      <th>COUNT(*)</th>\n",
       "    </tr>\n",
       "  </thead>\n",
       "  <tbody>\n",
       "    <tr>\n",
       "      <th>0</th>\n",
       "      <td>德阳市市辖区</td>\n",
       "      <td>130821</td>\n",
       "    </tr>\n",
       "    <tr>\n",
       "      <th>1</th>\n",
       "      <td>广汉市</td>\n",
       "      <td>82059</td>\n",
       "    </tr>\n",
       "    <tr>\n",
       "      <th>2</th>\n",
       "      <td>中江县</td>\n",
       "      <td>45441</td>\n",
       "    </tr>\n",
       "    <tr>\n",
       "      <th>3</th>\n",
       "      <td>什邡市</td>\n",
       "      <td>52252</td>\n",
       "    </tr>\n",
       "    <tr>\n",
       "      <th>4</th>\n",
       "      <td>罗江县</td>\n",
       "      <td>18473</td>\n",
       "    </tr>\n",
       "    <tr>\n",
       "      <th>5</th>\n",
       "      <td>绵竹市</td>\n",
       "      <td>55347</td>\n",
       "    </tr>\n",
       "    <tr>\n",
       "      <th>6</th>\n",
       "      <td>德阳市未知营业区</td>\n",
       "      <td>97</td>\n",
       "    </tr>\n",
       "  </tbody>\n",
       "</table>\n",
       "</div>"
      ],
      "text/plain": [
       "  CI_BRANCH  COUNT(*)\n",
       "0    德阳市市辖区    130821\n",
       "1       广汉市     82059\n",
       "2       中江县     45441\n",
       "3       什邡市     52252\n",
       "4       罗江县     18473\n",
       "5       绵竹市     55347\n",
       "6  德阳市未知营业区        97"
      ]
     },
     "execution_count": 6,
     "metadata": {},
     "output_type": "execute_result"
    }
   ],
   "source": [
    "%%sql\n",
    "\n",
    "SELECT\n",
    "    CI_BRANCH, COUNT(*) \n",
    "FROM\n",
    "    sample_user_201308 \n",
    "GROUP BY \n",
    "    CI_BRANCH"
   ]
  },
  {
   "cell_type": "markdown",
   "id": "3f27251d",
   "metadata": {},
   "source": [
    "<a name=\"flag1\"></a>"
   ]
  },
  {
   "cell_type": "code",
   "execution_count": 7,
   "id": "ca446a7b",
   "metadata": {},
   "outputs": [
    {
     "data": {
      "text/html": [
       "<span style=\"None\">Running query in &#x27;mysql+pyodbc://telecom&#x27;</span>"
      ],
      "text/plain": [
       "Running query in 'mysql+pyodbc://telecom'"
      ]
     },
     "metadata": {},
     "output_type": "display_data"
    },
    {
     "data": {
      "text/html": [
       "<span style=\"color: green\">2 rows affected.</span>"
      ],
      "text/plain": [
       "2 rows affected."
      ]
     },
     "metadata": {},
     "output_type": "display_data"
    },
    {
     "data": {
      "text/html": [
       "<div>\n",
       "<style scoped>\n",
       "    .dataframe tbody tr th:only-of-type {\n",
       "        vertical-align: middle;\n",
       "    }\n",
       "\n",
       "    .dataframe tbody tr th {\n",
       "        vertical-align: top;\n",
       "    }\n",
       "\n",
       "    .dataframe thead th {\n",
       "        text-align: right;\n",
       "    }\n",
       "</style>\n",
       "<table border=\"1\" class=\"dataframe\">\n",
       "  <thead>\n",
       "    <tr style=\"text-align: right;\">\n",
       "      <th></th>\n",
       "      <th>EMPLOY_FLAG</th>\n",
       "      <th>COUNT(*)</th>\n",
       "    </tr>\n",
       "  </thead>\n",
       "  <tbody>\n",
       "    <tr>\n",
       "      <th>0</th>\n",
       "      <td>1</td>\n",
       "      <td>381931</td>\n",
       "    </tr>\n",
       "    <tr>\n",
       "      <th>1</th>\n",
       "      <td>0</td>\n",
       "      <td>2559</td>\n",
       "    </tr>\n",
       "  </tbody>\n",
       "</table>\n",
       "</div>"
      ],
      "text/plain": [
       "   EMPLOY_FLAG  COUNT(*)\n",
       "0            1    381931\n",
       "1            0      2559"
      ]
     },
     "execution_count": 7,
     "metadata": {},
     "output_type": "execute_result"
    }
   ],
   "source": [
    "%%sql\n",
    "\n",
    "SELECT\n",
    "    EMPLOY_FLAG, COUNT(*) \n",
    "FROM\n",
    "    sample_user_201308 \n",
    "GROUP BY\n",
    "    EMPLOY_FLAG"
   ]
  },
  {
   "cell_type": "code",
   "execution_count": 8,
   "id": "3f075f63",
   "metadata": {},
   "outputs": [
    {
     "data": {
      "text/html": [
       "<span style=\"None\">Running query in &#x27;mysql+pyodbc://telecom&#x27;</span>"
      ],
      "text/plain": [
       "Running query in 'mysql+pyodbc://telecom'"
      ]
     },
     "metadata": {},
     "output_type": "display_data"
    },
    {
     "data": {
      "text/html": [
       "<span style=\"color: green\">2 rows affected.</span>"
      ],
      "text/plain": [
       "2 rows affected."
      ]
     },
     "metadata": {},
     "output_type": "display_data"
    },
    {
     "data": {
      "text/html": [
       "<div>\n",
       "<style scoped>\n",
       "    .dataframe tbody tr th:only-of-type {\n",
       "        vertical-align: middle;\n",
       "    }\n",
       "\n",
       "    .dataframe tbody tr th {\n",
       "        vertical-align: top;\n",
       "    }\n",
       "\n",
       "    .dataframe thead th {\n",
       "        text-align: right;\n",
       "    }\n",
       "</style>\n",
       "<table border=\"1\" class=\"dataframe\">\n",
       "  <thead>\n",
       "    <tr style=\"text-align: right;\">\n",
       "      <th></th>\n",
       "      <th>STUDENT_FLAG</th>\n",
       "      <th>COUNT(*)</th>\n",
       "    </tr>\n",
       "  </thead>\n",
       "  <tbody>\n",
       "    <tr>\n",
       "      <th>0</th>\n",
       "      <td>0</td>\n",
       "      <td>352969</td>\n",
       "    </tr>\n",
       "    <tr>\n",
       "      <th>1</th>\n",
       "      <td>1</td>\n",
       "      <td>31521</td>\n",
       "    </tr>\n",
       "  </tbody>\n",
       "</table>\n",
       "</div>"
      ],
      "text/plain": [
       "   STUDENT_FLAG  COUNT(*)\n",
       "0             0    352969\n",
       "1             1     31521"
      ]
     },
     "execution_count": 8,
     "metadata": {},
     "output_type": "execute_result"
    }
   ],
   "source": [
    "%%sql\n",
    "\n",
    "SELECT\n",
    "    STUDENT_FLAG, COUNT(*) \n",
    "FROM\n",
    "    sample_user_201308 \n",
    "GROUP BY\n",
    "    STUDENT_FLAG"
   ]
  },
  {
   "cell_type": "code",
   "execution_count": 13,
   "id": "83329097",
   "metadata": {},
   "outputs": [
    {
     "data": {
      "text/html": [
       "<span style=\"None\">Running query in &#x27;mysql+pyodbc://telecom&#x27;</span>"
      ],
      "text/plain": [
       "Running query in 'mysql+pyodbc://telecom'"
      ]
     },
     "metadata": {},
     "output_type": "display_data"
    },
    {
     "data": {
      "text/html": [
       "<span style=\"color: green\">2 rows affected.</span>"
      ],
      "text/plain": [
       "2 rows affected."
      ]
     },
     "metadata": {},
     "output_type": "display_data"
    },
    {
     "data": {
      "text/html": [
       "<div>\n",
       "<style scoped>\n",
       "    .dataframe tbody tr th:only-of-type {\n",
       "        vertical-align: middle;\n",
       "    }\n",
       "\n",
       "    .dataframe tbody tr th {\n",
       "        vertical-align: top;\n",
       "    }\n",
       "\n",
       "    .dataframe thead th {\n",
       "        text-align: right;\n",
       "    }\n",
       "</style>\n",
       "<table border=\"1\" class=\"dataframe\">\n",
       "  <thead>\n",
       "    <tr style=\"text-align: right;\">\n",
       "      <th></th>\n",
       "      <th>RURAL_FLAG</th>\n",
       "      <th>COUNT(*)</th>\n",
       "    </tr>\n",
       "  </thead>\n",
       "  <tbody>\n",
       "    <tr>\n",
       "      <th>0</th>\n",
       "      <td>0</td>\n",
       "      <td>232218</td>\n",
       "    </tr>\n",
       "    <tr>\n",
       "      <th>1</th>\n",
       "      <td>1</td>\n",
       "      <td>152272</td>\n",
       "    </tr>\n",
       "  </tbody>\n",
       "</table>\n",
       "</div>"
      ],
      "text/plain": [
       "   RURAL_FLAG  COUNT(*)\n",
       "0           0    232218\n",
       "1           1    152272"
      ]
     },
     "execution_count": 13,
     "metadata": {},
     "output_type": "execute_result"
    }
   ],
   "source": [
    "%%sql\n",
    "\n",
    "SELECT\n",
    "    RURAL_FLAG, COUNT(*) \n",
    "FROM\n",
    "    sample_user_201308 \n",
    "GROUP BY\n",
    "    RURAL_FLAG"
   ]
  },
  {
   "cell_type": "markdown",
   "id": "f33375dc",
   "metadata": {},
   "source": [
    "<a name=\"terminal_info\"></a>"
   ]
  },
  {
   "cell_type": "code",
   "execution_count": 15,
   "id": "b6399dbf",
   "metadata": {},
   "outputs": [
    {
     "data": {
      "text/html": [
       "<span style=\"None\">Running query in &#x27;mysql+pyodbc://telecom&#x27;</span>"
      ],
      "text/plain": [
       "Running query in 'mysql+pyodbc://telecom'"
      ]
     },
     "metadata": {},
     "output_type": "display_data"
    },
    {
     "data": {
      "text/html": [
       "<span style=\"color: green\">2 rows affected.</span>"
      ],
      "text/plain": [
       "2 rows affected."
      ]
     },
     "metadata": {},
     "output_type": "display_data"
    },
    {
     "data": {
      "text/html": [
       "<div>\n",
       "<style scoped>\n",
       "    .dataframe tbody tr th:only-of-type {\n",
       "        vertical-align: middle;\n",
       "    }\n",
       "\n",
       "    .dataframe tbody tr th {\n",
       "        vertical-align: top;\n",
       "    }\n",
       "\n",
       "    .dataframe thead th {\n",
       "        text-align: right;\n",
       "    }\n",
       "</style>\n",
       "<table border=\"1\" class=\"dataframe\">\n",
       "  <thead>\n",
       "    <tr style=\"text-align: right;\">\n",
       "      <th></th>\n",
       "      <th>TERMINAL_SMART_FLAG</th>\n",
       "      <th>COUNT(*)</th>\n",
       "    </tr>\n",
       "  </thead>\n",
       "  <tbody>\n",
       "    <tr>\n",
       "      <th>0</th>\n",
       "      <td>1</td>\n",
       "      <td>245107</td>\n",
       "    </tr>\n",
       "    <tr>\n",
       "      <th>1</th>\n",
       "      <td>0</td>\n",
       "      <td>139383</td>\n",
       "    </tr>\n",
       "  </tbody>\n",
       "</table>\n",
       "</div>"
      ],
      "text/plain": [
       "   TERMINAL_SMART_FLAG  COUNT(*)\n",
       "0                    1    245107\n",
       "1                    0    139383"
      ]
     },
     "execution_count": 15,
     "metadata": {},
     "output_type": "execute_result"
    }
   ],
   "source": [
    "%%sql\n",
    "\n",
    "SELECT\n",
    "    TERMINAL_SMART_FLAG, COUNT(*) \n",
    "FROM\n",
    "    sample_user_201308 \n",
    "GROUP BY\n",
    "    TERMINAL_SMART_FLAG"
   ]
  },
  {
   "cell_type": "code",
   "execution_count": 16,
   "id": "f8b9a246",
   "metadata": {},
   "outputs": [
    {
     "data": {
      "text/html": [
       "<span style=\"None\">Running query in &#x27;mysql+pyodbc://telecom&#x27;</span>"
      ],
      "text/plain": [
       "Running query in 'mysql+pyodbc://telecom'"
      ]
     },
     "metadata": {},
     "output_type": "display_data"
    },
    {
     "data": {
      "text/html": [
       "<span style=\"color: green\">2 rows affected.</span>"
      ],
      "text/plain": [
       "2 rows affected."
      ]
     },
     "metadata": {},
     "output_type": "display_data"
    },
    {
     "data": {
      "text/html": [
       "<div>\n",
       "<style scoped>\n",
       "    .dataframe tbody tr th:only-of-type {\n",
       "        vertical-align: middle;\n",
       "    }\n",
       "\n",
       "    .dataframe tbody tr th {\n",
       "        vertical-align: top;\n",
       "    }\n",
       "\n",
       "    .dataframe thead th {\n",
       "        text-align: right;\n",
       "    }\n",
       "</style>\n",
       "<table border=\"1\" class=\"dataframe\">\n",
       "  <thead>\n",
       "    <tr style=\"text-align: right;\">\n",
       "      <th></th>\n",
       "      <th>TERMINAL_TYPE</th>\n",
       "      <th>COUNT(*)</th>\n",
       "    </tr>\n",
       "  </thead>\n",
       "  <tbody>\n",
       "    <tr>\n",
       "      <th>0</th>\n",
       "      <td>3G</td>\n",
       "      <td>294288</td>\n",
       "    </tr>\n",
       "    <tr>\n",
       "      <th>1</th>\n",
       "      <td>1X</td>\n",
       "      <td>90202</td>\n",
       "    </tr>\n",
       "  </tbody>\n",
       "</table>\n",
       "</div>"
      ],
      "text/plain": [
       "  TERMINAL_TYPE  COUNT(*)\n",
       "0            3G    294288\n",
       "1            1X     90202"
      ]
     },
     "execution_count": 16,
     "metadata": {},
     "output_type": "execute_result"
    }
   ],
   "source": [
    "%%sql\n",
    "\n",
    "SELECT\n",
    "    TERMINAL_TYPE, COUNT(*) \n",
    "FROM\n",
    "    sample_user_201308 \n",
    "GROUP BY\n",
    "    TERMINAL_TYPE"
   ]
  },
  {
   "cell_type": "code",
   "execution_count": 17,
   "id": "bffdbeb7",
   "metadata": {},
   "outputs": [
    {
     "data": {
      "text/html": [
       "<span style=\"None\">Running query in &#x27;mysql+pyodbc://telecom&#x27;</span>"
      ],
      "text/plain": [
       "Running query in 'mysql+pyodbc://telecom'"
      ]
     },
     "metadata": {},
     "output_type": "display_data"
    },
    {
     "data": {
      "text/html": [
       "<span style=\"color: green\">5 rows affected.</span>"
      ],
      "text/plain": [
       "5 rows affected."
      ]
     },
     "metadata": {},
     "output_type": "display_data"
    },
    {
     "data": {
      "text/html": [
       "<div>\n",
       "<style scoped>\n",
       "    .dataframe tbody tr th:only-of-type {\n",
       "        vertical-align: middle;\n",
       "    }\n",
       "\n",
       "    .dataframe tbody tr th {\n",
       "        vertical-align: top;\n",
       "    }\n",
       "\n",
       "    .dataframe thead th {\n",
       "        text-align: right;\n",
       "    }\n",
       "</style>\n",
       "<table border=\"1\" class=\"dataframe\">\n",
       "  <thead>\n",
       "    <tr style=\"text-align: right;\">\n",
       "      <th></th>\n",
       "      <th>TERMINAL_LEVEL</th>\n",
       "      <th>COUNT(*)</th>\n",
       "    </tr>\n",
       "  </thead>\n",
       "  <tbody>\n",
       "    <tr>\n",
       "      <th>0</th>\n",
       "      <td>1</td>\n",
       "      <td>80522</td>\n",
       "    </tr>\n",
       "    <tr>\n",
       "      <th>1</th>\n",
       "      <td>2</td>\n",
       "      <td>122395</td>\n",
       "    </tr>\n",
       "    <tr>\n",
       "      <th>2</th>\n",
       "      <td>3</td>\n",
       "      <td>136266</td>\n",
       "    </tr>\n",
       "    <tr>\n",
       "      <th>3</th>\n",
       "      <td>4</td>\n",
       "      <td>33081</td>\n",
       "    </tr>\n",
       "    <tr>\n",
       "      <th>4</th>\n",
       "      <td>5</td>\n",
       "      <td>12226</td>\n",
       "    </tr>\n",
       "  </tbody>\n",
       "</table>\n",
       "</div>"
      ],
      "text/plain": [
       "   TERMINAL_LEVEL  COUNT(*)\n",
       "0               1     80522\n",
       "1               2    122395\n",
       "2               3    136266\n",
       "3               4     33081\n",
       "4               5     12226"
      ]
     },
     "execution_count": 17,
     "metadata": {},
     "output_type": "execute_result"
    }
   ],
   "source": [
    "%%sql\n",
    "\n",
    "SELECT\n",
    "    TERMINAL_LEVEL, COUNT(*) \n",
    "FROM\n",
    "    sample_user_201308 \n",
    "GROUP BY\n",
    "    TERMINAL_LEVEL\n",
    "ORDER BY\n",
    "    TERMINAL_LEVEL"
   ]
  },
  {
   "cell_type": "code",
   "execution_count": 18,
   "id": "1f26b23f",
   "metadata": {},
   "outputs": [
    {
     "data": {
      "text/html": [
       "<span style=\"None\">Running query in &#x27;mysql+pyodbc://telecom&#x27;</span>"
      ],
      "text/plain": [
       "Running query in 'mysql+pyodbc://telecom'"
      ]
     },
     "metadata": {},
     "output_type": "display_data"
    },
    {
     "data": {
      "text/html": [
       "<span style=\"color: green\">10 rows affected.</span>"
      ],
      "text/plain": [
       "10 rows affected."
      ]
     },
     "metadata": {},
     "output_type": "display_data"
    },
    {
     "data": {
      "text/html": [
       "<div>\n",
       "<style scoped>\n",
       "    .dataframe tbody tr th:only-of-type {\n",
       "        vertical-align: middle;\n",
       "    }\n",
       "\n",
       "    .dataframe tbody tr th {\n",
       "        vertical-align: top;\n",
       "    }\n",
       "\n",
       "    .dataframe thead th {\n",
       "        text-align: right;\n",
       "    }\n",
       "</style>\n",
       "<table border=\"1\" class=\"dataframe\">\n",
       "  <thead>\n",
       "    <tr style=\"text-align: right;\">\n",
       "      <th></th>\n",
       "      <th>MAX(TERMINAL_PRICE)</th>\n",
       "      <th>decile</th>\n",
       "    </tr>\n",
       "  </thead>\n",
       "  <tbody>\n",
       "    <tr>\n",
       "      <th>0</th>\n",
       "      <td>199</td>\n",
       "      <td>1</td>\n",
       "    </tr>\n",
       "    <tr>\n",
       "      <th>1</th>\n",
       "      <td>299</td>\n",
       "      <td>2</td>\n",
       "    </tr>\n",
       "    <tr>\n",
       "      <th>2</th>\n",
       "      <td>399</td>\n",
       "      <td>3</td>\n",
       "    </tr>\n",
       "    <tr>\n",
       "      <th>3</th>\n",
       "      <td>599</td>\n",
       "      <td>4</td>\n",
       "    </tr>\n",
       "    <tr>\n",
       "      <th>4</th>\n",
       "      <td>699</td>\n",
       "      <td>5</td>\n",
       "    </tr>\n",
       "    <tr>\n",
       "      <th>5</th>\n",
       "      <td>838</td>\n",
       "      <td>6</td>\n",
       "    </tr>\n",
       "    <tr>\n",
       "      <th>6</th>\n",
       "      <td>990</td>\n",
       "      <td>7</td>\n",
       "    </tr>\n",
       "    <tr>\n",
       "      <th>7</th>\n",
       "      <td>1090</td>\n",
       "      <td>8</td>\n",
       "    </tr>\n",
       "    <tr>\n",
       "      <th>8</th>\n",
       "      <td>1590</td>\n",
       "      <td>9</td>\n",
       "    </tr>\n",
       "    <tr>\n",
       "      <th>9</th>\n",
       "      <td>10600</td>\n",
       "      <td>10</td>\n",
       "    </tr>\n",
       "  </tbody>\n",
       "</table>\n",
       "</div>"
      ],
      "text/plain": [
       "   MAX(TERMINAL_PRICE)  decile\n",
       "0                  199       1\n",
       "1                  299       2\n",
       "2                  399       3\n",
       "3                  599       4\n",
       "4                  699       5\n",
       "5                  838       6\n",
       "6                  990       7\n",
       "7                 1090       8\n",
       "8                 1590       9\n",
       "9                10600      10"
      ]
     },
     "execution_count": 18,
     "metadata": {},
     "output_type": "execute_result"
    }
   ],
   "source": [
    "%%sql\n",
    "\n",
    "SELECT\n",
    "    MAX(TERMINAL_PRICE), decile\n",
    "FROM\n",
    "(\n",
    "    SELECT\n",
    "        TERMINAL_PRICE,\n",
    "        NTILE(10) OVER (ORDER BY TERMINAL_PRICE) AS decile\n",
    "    FROM\n",
    "        sample_user_201308\n",
    ") subquery\n",
    "GROUP BY\n",
    "    decile"
   ]
  },
  {
   "cell_type": "markdown",
   "id": "60a066d9",
   "metadata": {},
   "source": [
    "<a name=\"speed\"></a>"
   ]
  },
  {
   "cell_type": "code",
   "execution_count": 19,
   "id": "65e4a3a9",
   "metadata": {},
   "outputs": [
    {
     "data": {
      "text/html": [
       "<span style=\"None\">Running query in &#x27;mysql+pyodbc://telecom&#x27;</span>"
      ],
      "text/plain": [
       "Running query in 'mysql+pyodbc://telecom'"
      ]
     },
     "metadata": {},
     "output_type": "display_data"
    },
    {
     "data": {
      "text/html": [
       "<span style=\"color: green\">2 rows affected.</span>"
      ],
      "text/plain": [
       "2 rows affected."
      ]
     },
     "metadata": {},
     "output_type": "display_data"
    },
    {
     "data": {
      "text/html": [
       "<div>\n",
       "<style scoped>\n",
       "    .dataframe tbody tr th:only-of-type {\n",
       "        vertical-align: middle;\n",
       "    }\n",
       "\n",
       "    .dataframe tbody tr th {\n",
       "        vertical-align: top;\n",
       "    }\n",
       "\n",
       "    .dataframe thead th {\n",
       "        text-align: right;\n",
       "    }\n",
       "</style>\n",
       "<table border=\"1\" class=\"dataframe\">\n",
       "  <thead>\n",
       "    <tr style=\"text-align: right;\">\n",
       "      <th></th>\n",
       "      <th>PD_EVDO_FLAG</th>\n",
       "      <th>COUNT(*)</th>\n",
       "    </tr>\n",
       "  </thead>\n",
       "  <tbody>\n",
       "    <tr>\n",
       "      <th>0</th>\n",
       "      <td>1</td>\n",
       "      <td>224196</td>\n",
       "    </tr>\n",
       "    <tr>\n",
       "      <th>1</th>\n",
       "      <td>0</td>\n",
       "      <td>160294</td>\n",
       "    </tr>\n",
       "  </tbody>\n",
       "</table>\n",
       "</div>"
      ],
      "text/plain": [
       "  PD_EVDO_FLAG  COUNT(*)\n",
       "0            1    224196\n",
       "1            0    160294"
      ]
     },
     "execution_count": 19,
     "metadata": {},
     "output_type": "execute_result"
    }
   ],
   "source": [
    "%%sql\n",
    "\n",
    "SELECT\n",
    "    PD_EVDO_FLAG, COUNT(*) \n",
    "FROM\n",
    "    sample_user_201308 \n",
    "GROUP BY\n",
    "    PD_EVDO_FLAG"
   ]
  },
  {
   "cell_type": "code",
   "execution_count": 20,
   "id": "83b03cfc",
   "metadata": {},
   "outputs": [
    {
     "data": {
      "text/html": [
       "<span style=\"None\">Running query in &#x27;mysql+pyodbc://telecom&#x27;</span>"
      ],
      "text/plain": [
       "Running query in 'mysql+pyodbc://telecom'"
      ]
     },
     "metadata": {},
     "output_type": "display_data"
    },
    {
     "data": {
      "text/html": [
       "<span style=\"color: green\">2 rows affected.</span>"
      ],
      "text/plain": [
       "2 rows affected."
      ]
     },
     "metadata": {},
     "output_type": "display_data"
    },
    {
     "data": {
      "text/html": [
       "<div>\n",
       "<style scoped>\n",
       "    .dataframe tbody tr th:only-of-type {\n",
       "        vertical-align: middle;\n",
       "    }\n",
       "\n",
       "    .dataframe tbody tr th {\n",
       "        vertical-align: top;\n",
       "    }\n",
       "\n",
       "    .dataframe thead th {\n",
       "        text-align: right;\n",
       "    }\n",
       "</style>\n",
       "<table border=\"1\" class=\"dataframe\">\n",
       "  <thead>\n",
       "    <tr style=\"text-align: right;\">\n",
       "      <th></th>\n",
       "      <th>PD_1X_FLAG</th>\n",
       "      <th>COUNT(*)</th>\n",
       "    </tr>\n",
       "  </thead>\n",
       "  <tbody>\n",
       "    <tr>\n",
       "      <th>0</th>\n",
       "      <td>1</td>\n",
       "      <td>66648</td>\n",
       "    </tr>\n",
       "    <tr>\n",
       "      <th>1</th>\n",
       "      <td>0</td>\n",
       "      <td>317842</td>\n",
       "    </tr>\n",
       "  </tbody>\n",
       "</table>\n",
       "</div>"
      ],
      "text/plain": [
       "  PD_1X_FLAG  COUNT(*)\n",
       "0          1     66648\n",
       "1          0    317842"
      ]
     },
     "execution_count": 20,
     "metadata": {},
     "output_type": "execute_result"
    }
   ],
   "source": [
    "%%sql\n",
    "\n",
    "SELECT\n",
    "    PD_1X_FLAG, COUNT(*) \n",
    "FROM\n",
    "    sample_user_201308 \n",
    "GROUP BY\n",
    "    PD_1X_FLAG"
   ]
  },
  {
   "cell_type": "markdown",
   "id": "d1346fab",
   "metadata": {},
   "source": [
    "<a name=\"ARPU\"></a>"
   ]
  },
  {
   "cell_type": "code",
   "execution_count": 21,
   "id": "9e7ab9ea",
   "metadata": {},
   "outputs": [
    {
     "data": {
      "text/html": [
       "<span style=\"None\">Running query in &#x27;mysql+pyodbc://telecom&#x27;</span>"
      ],
      "text/plain": [
       "Running query in 'mysql+pyodbc://telecom'"
      ]
     },
     "metadata": {},
     "output_type": "display_data"
    },
    {
     "data": {
      "text/html": [
       "<span style=\"color: green\">10 rows affected.</span>"
      ],
      "text/plain": [
       "10 rows affected."
      ]
     },
     "metadata": {},
     "output_type": "display_data"
    },
    {
     "data": {
      "text/html": [
       "<div>\n",
       "<style scoped>\n",
       "    .dataframe tbody tr th:only-of-type {\n",
       "        vertical-align: middle;\n",
       "    }\n",
       "\n",
       "    .dataframe tbody tr th {\n",
       "        vertical-align: top;\n",
       "    }\n",
       "\n",
       "    .dataframe thead th {\n",
       "        text-align: right;\n",
       "    }\n",
       "</style>\n",
       "<table border=\"1\" class=\"dataframe\">\n",
       "  <thead>\n",
       "    <tr style=\"text-align: right;\">\n",
       "      <th></th>\n",
       "      <th>MAX(ARPU)</th>\n",
       "      <th>decile</th>\n",
       "    </tr>\n",
       "  </thead>\n",
       "  <tbody>\n",
       "    <tr>\n",
       "      <th>0</th>\n",
       "      <td>0.000000</td>\n",
       "      <td>1</td>\n",
       "    </tr>\n",
       "    <tr>\n",
       "      <th>1</th>\n",
       "      <td>6.000000</td>\n",
       "      <td>2</td>\n",
       "    </tr>\n",
       "    <tr>\n",
       "      <th>2</th>\n",
       "      <td>13.500000</td>\n",
       "      <td>3</td>\n",
       "    </tr>\n",
       "    <tr>\n",
       "      <th>3</th>\n",
       "      <td>26.000000</td>\n",
       "      <td>4</td>\n",
       "    </tr>\n",
       "    <tr>\n",
       "      <th>4</th>\n",
       "      <td>31.000000</td>\n",
       "      <td>5</td>\n",
       "    </tr>\n",
       "    <tr>\n",
       "      <th>5</th>\n",
       "      <td>40.000000</td>\n",
       "      <td>6</td>\n",
       "    </tr>\n",
       "    <tr>\n",
       "      <th>6</th>\n",
       "      <td>53.000000</td>\n",
       "      <td>7</td>\n",
       "    </tr>\n",
       "    <tr>\n",
       "      <th>7</th>\n",
       "      <td>63.500000</td>\n",
       "      <td>8</td>\n",
       "    </tr>\n",
       "    <tr>\n",
       "      <th>8</th>\n",
       "      <td>85.660004</td>\n",
       "      <td>9</td>\n",
       "    </tr>\n",
       "    <tr>\n",
       "      <th>9</th>\n",
       "      <td>1934.569946</td>\n",
       "      <td>10</td>\n",
       "    </tr>\n",
       "  </tbody>\n",
       "</table>\n",
       "</div>"
      ],
      "text/plain": [
       "     MAX(ARPU)  decile\n",
       "0     0.000000       1\n",
       "1     6.000000       2\n",
       "2    13.500000       3\n",
       "3    26.000000       4\n",
       "4    31.000000       5\n",
       "5    40.000000       6\n",
       "6    53.000000       7\n",
       "7    63.500000       8\n",
       "8    85.660004       9\n",
       "9  1934.569946      10"
      ]
     },
     "execution_count": 21,
     "metadata": {},
     "output_type": "execute_result"
    }
   ],
   "source": [
    "%%sql\n",
    "\n",
    "SELECT\n",
    "    MAX(ARPU), decile\n",
    "FROM\n",
    "(\n",
    "    SELECT\n",
    "        ARPU,\n",
    "        NTILE(10) OVER (ORDER BY ARPU) AS decile\n",
    "    FROM\n",
    "        sample_user_201308\n",
    ") subquery\n",
    "GROUP BY\n",
    "    decile"
   ]
  },
  {
   "cell_type": "code",
   "execution_count": 23,
   "id": "4136b08f",
   "metadata": {},
   "outputs": [
    {
     "data": {
      "text/html": [
       "<span style=\"None\">Running query in &#x27;mysql+pyodbc://telecom&#x27;</span>"
      ],
      "text/plain": [
       "Running query in 'mysql+pyodbc://telecom'"
      ]
     },
     "metadata": {},
     "output_type": "display_data"
    },
    {
     "data": {
      "text/html": [
       "<span style=\"color: green\">10 rows affected.</span>"
      ],
      "text/plain": [
       "10 rows affected."
      ]
     },
     "metadata": {},
     "output_type": "display_data"
    },
    {
     "data": {
      "text/html": [
       "<div>\n",
       "<style scoped>\n",
       "    .dataframe tbody tr th:only-of-type {\n",
       "        vertical-align: middle;\n",
       "    }\n",
       "\n",
       "    .dataframe tbody tr th {\n",
       "        vertical-align: top;\n",
       "    }\n",
       "\n",
       "    .dataframe thead th {\n",
       "        text-align: right;\n",
       "    }\n",
       "</style>\n",
       "<table border=\"1\" class=\"dataframe\">\n",
       "  <thead>\n",
       "    <tr style=\"text-align: right;\">\n",
       "      <th></th>\n",
       "      <th>MAX(ARPU_ALL)</th>\n",
       "      <th>decile</th>\n",
       "    </tr>\n",
       "  </thead>\n",
       "  <tbody>\n",
       "    <tr>\n",
       "      <th>0</th>\n",
       "      <td>0.000000</td>\n",
       "      <td>1</td>\n",
       "    </tr>\n",
       "    <tr>\n",
       "      <th>1</th>\n",
       "      <td>0.750000</td>\n",
       "      <td>2</td>\n",
       "    </tr>\n",
       "    <tr>\n",
       "      <th>2</th>\n",
       "      <td>7.380000</td>\n",
       "      <td>3</td>\n",
       "    </tr>\n",
       "    <tr>\n",
       "      <th>3</th>\n",
       "      <td>16.090000</td>\n",
       "      <td>4</td>\n",
       "    </tr>\n",
       "    <tr>\n",
       "      <th>4</th>\n",
       "      <td>26.000000</td>\n",
       "      <td>5</td>\n",
       "    </tr>\n",
       "    <tr>\n",
       "      <th>5</th>\n",
       "      <td>34.720001</td>\n",
       "      <td>6</td>\n",
       "    </tr>\n",
       "    <tr>\n",
       "      <th>6</th>\n",
       "      <td>43.560001</td>\n",
       "      <td>7</td>\n",
       "    </tr>\n",
       "    <tr>\n",
       "      <th>7</th>\n",
       "      <td>59.000000</td>\n",
       "      <td>8</td>\n",
       "    </tr>\n",
       "    <tr>\n",
       "      <th>8</th>\n",
       "      <td>74.470001</td>\n",
       "      <td>9</td>\n",
       "    </tr>\n",
       "    <tr>\n",
       "      <th>9</th>\n",
       "      <td>1783.939941</td>\n",
       "      <td>10</td>\n",
       "    </tr>\n",
       "  </tbody>\n",
       "</table>\n",
       "</div>"
      ],
      "text/plain": [
       "   MAX(ARPU_ALL)  decile\n",
       "0       0.000000       1\n",
       "1       0.750000       2\n",
       "2       7.380000       3\n",
       "3      16.090000       4\n",
       "4      26.000000       5\n",
       "5      34.720001       6\n",
       "6      43.560001       7\n",
       "7      59.000000       8\n",
       "8      74.470001       9\n",
       "9    1783.939941      10"
      ]
     },
     "execution_count": 23,
     "metadata": {},
     "output_type": "execute_result"
    }
   ],
   "source": [
    "%%sql\n",
    "\n",
    "SELECT\n",
    "    MAX(ARPU_ALL), decile\n",
    "FROM\n",
    "(\n",
    "     SELECT\n",
    "        ARPU_ALL,\n",
    "        NTILE(10) OVER (ORDER BY ARPU_ALL) AS decile\n",
    "    FROM sample_user_201308\n",
    ") subquery\n",
    "GROUP BY\n",
    "    decile"
   ]
  },
  {
   "cell_type": "markdown",
   "id": "eccccbc2",
   "metadata": {},
   "source": [
    "<a name=\"contract\"></a>"
   ]
  },
  {
   "cell_type": "code",
   "execution_count": 24,
   "id": "d4627599",
   "metadata": {},
   "outputs": [
    {
     "data": {
      "text/html": [
       "<span style=\"None\">Running query in &#x27;mysql+pyodbc://telecom&#x27;</span>"
      ],
      "text/plain": [
       "Running query in 'mysql+pyodbc://telecom'"
      ]
     },
     "metadata": {},
     "output_type": "display_data"
    },
    {
     "data": {
      "text/html": [
       "<span style=\"color: green\">2 rows affected.</span>"
      ],
      "text/plain": [
       "2 rows affected."
      ]
     },
     "metadata": {},
     "output_type": "display_data"
    },
    {
     "data": {
      "text/html": [
       "<div>\n",
       "<style scoped>\n",
       "    .dataframe tbody tr th:only-of-type {\n",
       "        vertical-align: middle;\n",
       "    }\n",
       "\n",
       "    .dataframe tbody tr th {\n",
       "        vertical-align: top;\n",
       "    }\n",
       "\n",
       "    .dataframe thead th {\n",
       "        text-align: right;\n",
       "    }\n",
       "</style>\n",
       "<table border=\"1\" class=\"dataframe\">\n",
       "  <thead>\n",
       "    <tr style=\"text-align: right;\">\n",
       "      <th></th>\n",
       "      <th>CONTRACT_FLAG</th>\n",
       "      <th>COUNT(*)</th>\n",
       "    </tr>\n",
       "  </thead>\n",
       "  <tbody>\n",
       "    <tr>\n",
       "      <th>0</th>\n",
       "      <td>0</td>\n",
       "      <td>307529</td>\n",
       "    </tr>\n",
       "    <tr>\n",
       "      <th>1</th>\n",
       "      <td>1</td>\n",
       "      <td>76961</td>\n",
       "    </tr>\n",
       "  </tbody>\n",
       "</table>\n",
       "</div>"
      ],
      "text/plain": [
       "  CONTRACT_FLAG  COUNT(*)\n",
       "0             0    307529\n",
       "1             1     76961"
      ]
     },
     "execution_count": 24,
     "metadata": {},
     "output_type": "execute_result"
    }
   ],
   "source": [
    "%%sql\n",
    "\n",
    "SELECT\n",
    "    CONTRACT_FLAG, COUNT(*) \n",
    "FROM\n",
    "    sample_user_201308 \n",
    "GROUP BY\n",
    "    CONTRACT_FLAG"
   ]
  },
  {
   "cell_type": "code",
   "execution_count": 25,
   "id": "8077a49f",
   "metadata": {},
   "outputs": [
    {
     "data": {
      "text/html": [
       "<span style=\"None\">Running query in &#x27;mysql+pyodbc://telecom&#x27;</span>"
      ],
      "text/plain": [
       "Running query in 'mysql+pyodbc://telecom'"
      ]
     },
     "metadata": {},
     "output_type": "display_data"
    },
    {
     "data": {
      "text/html": [
       "<span style=\"color: green\">4 rows affected.</span>"
      ],
      "text/plain": [
       "4 rows affected."
      ]
     },
     "metadata": {},
     "output_type": "display_data"
    },
    {
     "data": {
      "text/html": [
       "<div>\n",
       "<style scoped>\n",
       "    .dataframe tbody tr th:only-of-type {\n",
       "        vertical-align: middle;\n",
       "    }\n",
       "\n",
       "    .dataframe tbody tr th {\n",
       "        vertical-align: top;\n",
       "    }\n",
       "\n",
       "    .dataframe thead th {\n",
       "        text-align: right;\n",
       "    }\n",
       "</style>\n",
       "<table border=\"1\" class=\"dataframe\">\n",
       "  <thead>\n",
       "    <tr style=\"text-align: right;\">\n",
       "      <th></th>\n",
       "      <th>MAX(CONTRACT_EXPIRE_MONTH)</th>\n",
       "      <th>quartile</th>\n",
       "    </tr>\n",
       "  </thead>\n",
       "  <tbody>\n",
       "    <tr>\n",
       "      <th>0</th>\n",
       "      <td>NaN</td>\n",
       "      <td>1</td>\n",
       "    </tr>\n",
       "    <tr>\n",
       "      <th>1</th>\n",
       "      <td>NaN</td>\n",
       "      <td>2</td>\n",
       "    </tr>\n",
       "    <tr>\n",
       "      <th>2</th>\n",
       "      <td>NaN</td>\n",
       "      <td>3</td>\n",
       "    </tr>\n",
       "    <tr>\n",
       "      <th>3</th>\n",
       "      <td>47.0</td>\n",
       "      <td>4</td>\n",
       "    </tr>\n",
       "  </tbody>\n",
       "</table>\n",
       "</div>"
      ],
      "text/plain": [
       "   MAX(CONTRACT_EXPIRE_MONTH)  quartile\n",
       "0                         NaN         1\n",
       "1                         NaN         2\n",
       "2                         NaN         3\n",
       "3                        47.0         4"
      ]
     },
     "execution_count": 25,
     "metadata": {},
     "output_type": "execute_result"
    }
   ],
   "source": [
    "%%sql\n",
    "\n",
    "SELECT\n",
    "    MAX(CONTRACT_EXPIRE_MONTH), quartile\n",
    "FROM\n",
    "(\n",
    "    SELECT\n",
    "        CONTRACT_EXPIRE_MONTH,\n",
    "        NTILE(4) OVER (ORDER BY CONTRACT_EXPIRE_MONTH) AS quartile\n",
    "    FROM\n",
    "        sample_user_201308\n",
    ") subquery\n",
    "GROUP BY\n",
    "    quartile"
   ]
  },
  {
   "cell_type": "markdown",
   "id": "60f667d6",
   "metadata": {},
   "source": [
    "<a name=\"mou\"></a>"
   ]
  },
  {
   "cell_type": "code",
   "execution_count": 26,
   "id": "e8e8aad4",
   "metadata": {},
   "outputs": [
    {
     "data": {
      "text/html": [
       "<span style=\"None\">Running query in &#x27;mysql+pyodbc://telecom&#x27;</span>"
      ],
      "text/plain": [
       "Running query in 'mysql+pyodbc://telecom'"
      ]
     },
     "metadata": {},
     "output_type": "display_data"
    },
    {
     "data": {
      "text/html": [
       "<span style=\"color: green\">10 rows affected.</span>"
      ],
      "text/plain": [
       "10 rows affected."
      ]
     },
     "metadata": {},
     "output_type": "display_data"
    },
    {
     "data": {
      "text/html": [
       "<div>\n",
       "<style scoped>\n",
       "    .dataframe tbody tr th:only-of-type {\n",
       "        vertical-align: middle;\n",
       "    }\n",
       "\n",
       "    .dataframe tbody tr th {\n",
       "        vertical-align: top;\n",
       "    }\n",
       "\n",
       "    .dataframe thead th {\n",
       "        text-align: right;\n",
       "    }\n",
       "</style>\n",
       "<table border=\"1\" class=\"dataframe\">\n",
       "  <thead>\n",
       "    <tr style=\"text-align: right;\">\n",
       "      <th></th>\n",
       "      <th>MAX(VO_MOU_LOCAL)</th>\n",
       "      <th>decile</th>\n",
       "    </tr>\n",
       "  </thead>\n",
       "  <tbody>\n",
       "    <tr>\n",
       "      <th>0</th>\n",
       "      <td>0.000000</td>\n",
       "      <td>1</td>\n",
       "    </tr>\n",
       "    <tr>\n",
       "      <th>1</th>\n",
       "      <td>0.450000</td>\n",
       "      <td>2</td>\n",
       "    </tr>\n",
       "    <tr>\n",
       "      <th>2</th>\n",
       "      <td>4.770000</td>\n",
       "      <td>3</td>\n",
       "    </tr>\n",
       "    <tr>\n",
       "      <th>3</th>\n",
       "      <td>12.920000</td>\n",
       "      <td>4</td>\n",
       "    </tr>\n",
       "    <tr>\n",
       "      <th>4</th>\n",
       "      <td>25.049999</td>\n",
       "      <td>5</td>\n",
       "    </tr>\n",
       "    <tr>\n",
       "      <th>5</th>\n",
       "      <td>42.119999</td>\n",
       "      <td>6</td>\n",
       "    </tr>\n",
       "    <tr>\n",
       "      <th>6</th>\n",
       "      <td>66.800003</td>\n",
       "      <td>7</td>\n",
       "    </tr>\n",
       "    <tr>\n",
       "      <th>7</th>\n",
       "      <td>106.269997</td>\n",
       "      <td>8</td>\n",
       "    </tr>\n",
       "    <tr>\n",
       "      <th>8</th>\n",
       "      <td>185.300003</td>\n",
       "      <td>9</td>\n",
       "    </tr>\n",
       "    <tr>\n",
       "      <th>9</th>\n",
       "      <td>11619.799805</td>\n",
       "      <td>10</td>\n",
       "    </tr>\n",
       "  </tbody>\n",
       "</table>\n",
       "</div>"
      ],
      "text/plain": [
       "   MAX(VO_MOU_LOCAL)  decile\n",
       "0           0.000000       1\n",
       "1           0.450000       2\n",
       "2           4.770000       3\n",
       "3          12.920000       4\n",
       "4          25.049999       5\n",
       "5          42.119999       6\n",
       "6          66.800003       7\n",
       "7         106.269997       8\n",
       "8         185.300003       9\n",
       "9       11619.799805      10"
      ]
     },
     "execution_count": 26,
     "metadata": {},
     "output_type": "execute_result"
    }
   ],
   "source": [
    "%%sql\n",
    "\n",
    "SELECT\n",
    "    MAX(VO_MOU_LOCAL), decile\n",
    "FROM\n",
    "(\n",
    "    SELECT\n",
    "        VO_MOU_LOCAL,\n",
    "        NTILE(10) OVER (ORDER BY VO_MOU_LOCAL) AS decile\n",
    "    FROM\n",
    "        sample_user_201308\n",
    ") subquery\n",
    "GROUP BY\n",
    "    decile"
   ]
  },
  {
   "cell_type": "code",
   "execution_count": 27,
   "id": "e3eafa17",
   "metadata": {},
   "outputs": [
    {
     "data": {
      "text/html": [
       "<span style=\"None\">Running query in &#x27;mysql+pyodbc://telecom&#x27;</span>"
      ],
      "text/plain": [
       "Running query in 'mysql+pyodbc://telecom'"
      ]
     },
     "metadata": {},
     "output_type": "display_data"
    },
    {
     "data": {
      "text/html": [
       "<span style=\"color: green\">10 rows affected.</span>"
      ],
      "text/plain": [
       "10 rows affected."
      ]
     },
     "metadata": {},
     "output_type": "display_data"
    },
    {
     "data": {
      "text/html": [
       "<div>\n",
       "<style scoped>\n",
       "    .dataframe tbody tr th:only-of-type {\n",
       "        vertical-align: middle;\n",
       "    }\n",
       "\n",
       "    .dataframe tbody tr th {\n",
       "        vertical-align: top;\n",
       "    }\n",
       "\n",
       "    .dataframe thead th {\n",
       "        text-align: right;\n",
       "    }\n",
       "</style>\n",
       "<table border=\"1\" class=\"dataframe\">\n",
       "  <thead>\n",
       "    <tr style=\"text-align: right;\">\n",
       "      <th></th>\n",
       "      <th>MAX(VO_MOU_DIST)</th>\n",
       "      <th>decile</th>\n",
       "    </tr>\n",
       "  </thead>\n",
       "  <tbody>\n",
       "    <tr>\n",
       "      <th>0</th>\n",
       "      <td>0.000000</td>\n",
       "      <td>1</td>\n",
       "    </tr>\n",
       "    <tr>\n",
       "      <th>1</th>\n",
       "      <td>0.000000</td>\n",
       "      <td>2</td>\n",
       "    </tr>\n",
       "    <tr>\n",
       "      <th>2</th>\n",
       "      <td>0.000000</td>\n",
       "      <td>3</td>\n",
       "    </tr>\n",
       "    <tr>\n",
       "      <th>3</th>\n",
       "      <td>0.000000</td>\n",
       "      <td>4</td>\n",
       "    </tr>\n",
       "    <tr>\n",
       "      <th>4</th>\n",
       "      <td>0.570000</td>\n",
       "      <td>5</td>\n",
       "    </tr>\n",
       "    <tr>\n",
       "      <th>5</th>\n",
       "      <td>3.500000</td>\n",
       "      <td>6</td>\n",
       "    </tr>\n",
       "    <tr>\n",
       "      <th>6</th>\n",
       "      <td>10.130000</td>\n",
       "      <td>7</td>\n",
       "    </tr>\n",
       "    <tr>\n",
       "      <th>7</th>\n",
       "      <td>24.580000</td>\n",
       "      <td>8</td>\n",
       "    </tr>\n",
       "    <tr>\n",
       "      <th>8</th>\n",
       "      <td>62.349998</td>\n",
       "      <td>9</td>\n",
       "    </tr>\n",
       "    <tr>\n",
       "      <th>9</th>\n",
       "      <td>8136.399902</td>\n",
       "      <td>10</td>\n",
       "    </tr>\n",
       "  </tbody>\n",
       "</table>\n",
       "</div>"
      ],
      "text/plain": [
       "   MAX(VO_MOU_DIST)  decile\n",
       "0          0.000000       1\n",
       "1          0.000000       2\n",
       "2          0.000000       3\n",
       "3          0.000000       4\n",
       "4          0.570000       5\n",
       "5          3.500000       6\n",
       "6         10.130000       7\n",
       "7         24.580000       8\n",
       "8         62.349998       9\n",
       "9       8136.399902      10"
      ]
     },
     "execution_count": 27,
     "metadata": {},
     "output_type": "execute_result"
    }
   ],
   "source": [
    "%%sql\n",
    "\n",
    "SELECT\n",
    "    MAX(VO_MOU_DIST), decile\n",
    "FROM\n",
    "(\n",
    "    SELECT\n",
    "        VO_MOU_DIST,\n",
    "        NTILE(10) OVER (ORDER BY VO_MOU_DIST) AS decile\n",
    "    FROM\n",
    "        sample_user_201308\n",
    ") subquery\n",
    "GROUP BY\n",
    "    decile"
   ]
  },
  {
   "cell_type": "markdown",
   "id": "2f2969ac",
   "metadata": {},
   "source": [
    "## More User Information(more complete as well)\n",
    "*check out table: tb_asz_cdma_0838_{month}*"
   ]
  },
  {
   "cell_type": "code",
   "execution_count": 28,
   "id": "5a44a31c",
   "metadata": {},
   "outputs": [
    {
     "data": {
      "text/html": [
       "<span style=\"None\">Running query in &#x27;mysql+pyodbc://telecom&#x27;</span>"
      ],
      "text/plain": [
       "Running query in 'mysql+pyodbc://telecom'"
      ]
     },
     "metadata": {},
     "output_type": "display_data"
    },
    {
     "data": {
      "text/html": [
       "<span style=\"color: green\">2 rows affected.</span>"
      ],
      "text/plain": [
       "2 rows affected."
      ]
     },
     "metadata": {},
     "output_type": "display_data"
    },
    {
     "data": {
      "text/html": [
       "<div>\n",
       "<style scoped>\n",
       "    .dataframe tbody tr th:only-of-type {\n",
       "        vertical-align: middle;\n",
       "    }\n",
       "\n",
       "    .dataframe tbody tr th {\n",
       "        vertical-align: top;\n",
       "    }\n",
       "\n",
       "    .dataframe thead th {\n",
       "        text-align: right;\n",
       "    }\n",
       "</style>\n",
       "<table border=\"1\" class=\"dataframe\">\n",
       "  <thead>\n",
       "    <tr style=\"text-align: right;\">\n",
       "      <th></th>\n",
       "      <th>table_name</th>\n",
       "      <th>count_value</th>\n",
       "    </tr>\n",
       "  </thead>\n",
       "  <tbody>\n",
       "    <tr>\n",
       "      <th>0</th>\n",
       "      <td>sample_user_201308</td>\n",
       "      <td>384490</td>\n",
       "    </tr>\n",
       "    <tr>\n",
       "      <th>1</th>\n",
       "      <td>tb_asz_cdma_0838_201308</td>\n",
       "      <td>591218</td>\n",
       "    </tr>\n",
       "  </tbody>\n",
       "</table>\n",
       "</div>"
      ],
      "text/plain": [
       "                table_name  count_value\n",
       "0       sample_user_201308       384490\n",
       "1  tb_asz_cdma_0838_201308       591218"
      ]
     },
     "execution_count": 28,
     "metadata": {},
     "output_type": "execute_result"
    }
   ],
   "source": [
    "%%sql\n",
    "\n",
    "SELECT\n",
    "    'sample_user_201308' AS table_name,\n",
    "    COUNT(*) AS count_value\n",
    "FROM\n",
    "    sample_user_201308\n",
    "UNION\n",
    "SELECT\n",
    "    'tb_asz_cdma_0838_201308' AS table_name,\n",
    "    COUNT(*) AS count_value\n",
    "FROM\n",
    "    tb_asz_cdma_0838_201308"
   ]
  }
 ],
 "metadata": {
  "kernelspec": {
   "display_name": "Poetry",
   "language": "python",
   "name": "poetry-kernel"
  },
  "language_info": {
   "codemirror_mode": {
    "name": "ipython",
    "version": 3
   },
   "file_extension": ".py",
   "mimetype": "text/x-python",
   "name": "python",
   "nbconvert_exporter": "python",
   "pygments_lexer": "ipython3",
   "version": "3.11.4"
  }
 },
 "nbformat": 4,
 "nbformat_minor": 5
}
