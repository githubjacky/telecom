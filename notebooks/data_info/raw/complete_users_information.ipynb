{
 "cells": [
  {
   "cell_type": "code",
   "execution_count": 1,
   "id": "2a7927de",
   "metadata": {},
   "outputs": [
    {
     "data": {
      "text/html": [
       "<span style=\"None\">Found pyproject.toml from &#x27;/Users/jacky/github/telecom&#x27;</span>"
      ],
      "text/plain": [
       "Found pyproject.toml from '/Users/jacky/github/telecom'"
      ]
     },
     "metadata": {},
     "output_type": "display_data"
    }
   ],
   "source": [
    "from sqlalchemy import create_engine\n",
    "\n",
    "\n",
    "engine = create_engine('mysql+pyodbc://telecom')\n",
    "%load_ext sql\n",
    "%sql engine\n",
    "%config SqlMagic.autopandas = True"
   ]
  },
  {
   "cell_type": "markdown",
   "id": "1ff1155d",
   "metadata": {},
   "source": [
    "# Complete Users Information"
   ]
  },
  {
   "cell_type": "code",
   "execution_count": 2,
   "id": "37016c98",
   "metadata": {},
   "outputs": [
    {
     "data": {
      "text/html": [
       "<span style=\"None\">Running query in &#x27;mysql+pyodbc://telecom&#x27;</span>"
      ],
      "text/plain": [
       "Running query in 'mysql+pyodbc://telecom'"
      ]
     },
     "metadata": {},
     "output_type": "display_data"
    },
    {
     "data": {
      "text/html": [
       "<span style=\"color: green\">10 rows affected.</span>"
      ],
      "text/plain": [
       "10 rows affected."
      ]
     },
     "metadata": {},
     "output_type": "display_data"
    },
    {
     "data": {
      "text/html": [
       "<div>\n",
       "<style scoped>\n",
       "    .dataframe tbody tr th:only-of-type {\n",
       "        vertical-align: middle;\n",
       "    }\n",
       "\n",
       "    .dataframe tbody tr th {\n",
       "        vertical-align: top;\n",
       "    }\n",
       "\n",
       "    .dataframe thead th {\n",
       "        text-align: right;\n",
       "    }\n",
       "</style>\n",
       "<table border=\"1\" class=\"dataframe\">\n",
       "  <thead>\n",
       "    <tr style=\"text-align: right;\">\n",
       "      <th></th>\n",
       "      <th>Tables_in_telecom</th>\n",
       "    </tr>\n",
       "  </thead>\n",
       "  <tbody>\n",
       "    <tr>\n",
       "      <th>0</th>\n",
       "      <td>cinfo_xy</td>\n",
       "    </tr>\n",
       "    <tr>\n",
       "      <th>1</th>\n",
       "      <td>sample_sight_201308</td>\n",
       "    </tr>\n",
       "    <tr>\n",
       "      <th>2</th>\n",
       "      <td>sample_user_201308</td>\n",
       "    </tr>\n",
       "    <tr>\n",
       "      <th>3</th>\n",
       "      <td>serv_acct_item_0838_201308</td>\n",
       "    </tr>\n",
       "    <tr>\n",
       "      <th>4</th>\n",
       "      <td>serv_acct_item_0838_201406</td>\n",
       "    </tr>\n",
       "    <tr>\n",
       "      <th>5</th>\n",
       "      <td>tb_asz_cdma_0838_201308</td>\n",
       "    </tr>\n",
       "    <tr>\n",
       "      <th>6</th>\n",
       "      <td>tb_asz_cdma_0838_201406</td>\n",
       "    </tr>\n",
       "    <tr>\n",
       "      <th>7</th>\n",
       "      <td>tower</td>\n",
       "    </tr>\n",
       "    <tr>\n",
       "      <th>8</th>\n",
       "      <td>tower_center</td>\n",
       "    </tr>\n",
       "    <tr>\n",
       "      <th>9</th>\n",
       "      <td>tower_hot_201308</td>\n",
       "    </tr>\n",
       "  </tbody>\n",
       "</table>\n",
       "</div>"
      ],
      "text/plain": [
       "            Tables_in_telecom\n",
       "0                    cinfo_xy\n",
       "1         sample_sight_201308\n",
       "2          sample_user_201308\n",
       "3  serv_acct_item_0838_201308\n",
       "4  serv_acct_item_0838_201406\n",
       "5     tb_asz_cdma_0838_201308\n",
       "6     tb_asz_cdma_0838_201406\n",
       "7                       tower\n",
       "8                tower_center\n",
       "9            tower_hot_201308"
      ]
     },
     "execution_count": 2,
     "metadata": {},
     "output_type": "execute_result"
    }
   ],
   "source": [
    "%sql SHOW TABLES"
   ]
  },
  {
   "cell_type": "markdown",
   "id": "ce40dd3c",
   "metadata": {},
   "source": [
    "## terminology\n",
    "- [landline](https://en.wikipedia.org/wiki/landline#:~:text=a%20landline%20\\(land%20line%2c%20land,radio%20waves%20for%20signal%20transmission.): telephone connection that uses metal wires or optical fiber telephone line\n",
    "\n",
    "- [CDMA](https://www.techtarget.com/searchnetworking/definition/CDMA-Code-Division-Multiple-Access#:~:text=CDMA%20\\(Code%2DDivision%20Multiple%20Access\\)%20refers%20to%20any%20of,the%20use%20of%20available%20bandwidth.): Code-division multiple access\n",
    "- [CDMA2000](https://zh.wikipedia.org/zh-tw/CDMA2000)\n",
    "- [EVDO](https://en.wikipedia.org/wiki/Evolution-Data_Optimized): Evolution-Data Optimized\n",
    "- [ONEX](https://zhidao.baidu.com/question/481540439.html): 1X\n",
    "\n",
    "The difference between EVDO and ONEX flag is wheter the cellphone supoort the internet?\n",
    "\n",
    "- ARPU: monthly average revenu per unit\n",
    "- [MOU](https://www.docomo.ne.jp/english/corporate/ir/binary/pdf/library/presentation/060428/p33_e.pdf): minutes of usage\n",
    "- [RED MARK](https://zhidao.baidu.com/question/687512891865237084.html)\n",
    "- [E6_E8https://zhidao.baidu.com/question/204032713.html?fr=search&word=E6%2C+E8%2C+E9_E9](https://zhidao.baidu.com/question/296625569.html)\n",
    "- [E6_E8_E9](https://zhidao.baidu.com/question/204032713.html?fr=search&word=E6%2C+E8%2C+E9)\n",
    "\n",
    "## column names(keys of table)\n",
    "\n",
    "| columns | type | explanations | examples | variable name in user_account_information |\n",
    "| --- | --- | --- | --- | --- | \n",
    "| MONTH_NO | `varchar(6)` | which month |  | month_no |\n",
    "| SERV_ID | `varchar(8)` | user ID |  | serv_id |\n",
    "| CERT_NBR | `varchar(255)` | identity numbr |  | cert_nbr |         \n",
    "| CI_BRANCH | `varchar(255)` | branch office | 德阳市市辖区, 广汉市 | ci_branch |\n",
    "| MSISDN | `varchar(64)` | cellphone number |  | msisdn |\n",
    "| [CI_CUSTYPE](#CI_CUSTYPE) | `varchar(255)` | customer type(pre paid or post paid) | 家庭, 政企, 個人, 其他 | ci_custype |\n",
    "| [CI_IVPN_FLAG](#CI_IVPN_FLAG) | `varchar(1)` | wheter the switch board user |  | ci_ivpn_flag | \n",
    "| [CI_CITY](#CI_CITY) | `varchar(255)` | state(all observations are 德阳) | 德阳 | ci_city |\n",
    "| [CI_DISTRICT](#CI_DISTRICT) | `varchar(255)` |  | 德阳现业, 广汉, ... | ci_district |\n",
    "| [CI_TENURE](#CI_TENURE) | `int` | user time in the network | | ci_tenure |\n",
    "| [PD_CDMA_STATUS](#PD_CDMA_STATUS) |`varchar(255)` | |正常, 欠费双停, 用户要求停机, ... | pd_cdma_status | \n",
    "| [PD_CDMA_TENURE](#PD_CDMA_TENURE) | `int` | CDMA time in the network | | pd_cdma_tenure |\n",
    "| [PL_CONTRACT_FLAG](#PL_CONTRACT_FLAG) | `varchar(1)` | whether there is agreement |  | pl_contract_flag |\n",
    "| PL_INVAMON_MAX | `varchar(8)` | agreement expiration data | | pl_invamon_max\n",
    "| PL_EXPIRE_MONTH | `int` | the number of months due from the agreement |  | pl_expire_month |\n",
    "| [PL_COM_FLAG](#PL_COM_FLAG) | `varchar(1)` | wheter the package containg land line + moblie line | | pl_com_flag |\n",
    "| HS_CDMA_BRAND | `varchar(255)` | cellphone's brand | SAMSUNG | hs_cdma_brand |\n",
    "| HS_CDMA_MODEL | `varchar(255)` | cellphone's model | SAMSUNG-B189 | hs_cdma_model |\n",
    "| [HS_CDMA_LAYER](#HS_CDMA_LAYER) | `varchar(255)` |  | 超高端, 高端, 中端  | hs_cdma_layer |\n",
    "| [HS_CDMA_TER_PRICE](#HS_CDMA_TER_PRICE) | `int` | cellphone's price |  | hs_cdma_ter_price |\n",
    "| HS_CDMA_CT_DATE | `varchar(20)` | terminal usage start time | | hs_cdma_ct_data |\n",
    "| [HS_CDMA_SYS](#HS_CDMA_SYS) | `varchar(255)` | CDMA terminal operating system | Android, Windows Mobile, Linux, BlackBerry | hs_cdma_sys |\n",
    "| [HS_CDMA_IS_EVDO](#HS_CDMA_IS_EVDO) | `varchar(1)` | does CDMA terminal support EVDO | | HS_CDMA_IS_evdo |\n",
    "| [HS_CDMA_IS_1X](#HS_CDMA_IS_1X) | `varchar(1)` | does CDMA terminal support 1X | | HS_CDMA_IS_1X |\n",
    "| [VO_CDMA_MOU_M1](#MOU) | `float` | minutes of usage(out and in) | | vo_cdma_mou_m1 |\n",
    "| [VO_CDMA_MOUOUT_LOCAL_M1](#MOU) | `float` | local callout MOU | | vo_cdma_mouout_local_m1 |\n",
    "| [VO_CDMA_MOU_DIST_M1](#MOU) | `float` | log distance call out MOU | | vo_cdma_mout_dist_m1 |\n",
    "| [VO_CDMA_MOU_ROAM_M1](#MOU) | `float` | roaming MOU(user outside) | | vo_cdma_mou_roam_m1 |\n",
    "| [VO_CDMA_COUNT_M1](#CALL_COUNT) | `int` | monthe average calls | | vo_cdma_cout_m1 |\n",
    "| [VO_CDMA_COUNT_LOCAL_M1](#CALL_COUNT) | `int` | month average local calls | | vo_cdma_count_local_m1 |\n",
    "| [VO_CDMA_COUNTOUT_DIST_M1](#CALL_COUNT) | `int` | month average long distance out calls | | vo_cdma_countout_dist_m1 |\n",
    "| [VO_CDMA_COUNT_ROAM_M1](#CALL_COUNT) | `int` | month average roaming calls | vo_cdma_count_roam_m1 |\n",
    "| VO_NET_VOL_M1 | `float` | monthly internet usage traffic | | vo_net_vol_m1 |\n",
    "| VO_NET_TIME_M1 | `float` | monthly internet usage time | | vo_net_time_m1 |\n",
    "| [PD_EVDO_FLAG_M1](#FLAG) | `varchar(1)` | wheter to use EVDO wireless network(not wheter support`HS_CDMA_IS_EVDO`) | | PD_EVDO_FLAG_M1 |\n",
    "| [PD_1X_FLAG_M1](#FLAG) | `varchar(1)` | wheter to use 1X wireless network | | pd_1x_flag_m1 |\n",
    "| [VO_EVDO_VOL_M1](#EVDO_VOL) | `float` | monthly EVDO traffic average | | vo_evdo_vol_m1 |\n",
    "| [VO_EVDO_TIME_M1](#EVDO_TIME) | `float` | monthly EVDO duration average | | vo_evdo_time_m1 |\n",
    "| VO_EVDO_LOCALVOL_M1 | `float` | monthly EVDO local traffic average | | vo_evdo_localvol_m1 |\n",
    "| VO_EVDO_LOCALTIME_M1 | `float` | monthly EVDO local duration average | | vo_evdo_localtime_m1 |\n",
    "| VO_EVDO_ROAMVOL_M1 | `float` | monthly EVDO roaming traffic average | | vo_evdo_roamvol_m1 |\n",
    "| VO_EVDO_ROAMTIME_M1 | `float` | monthly EVDO roaming duration average | | vo_evdo_roamtime_m1 |\n",
    "| [VO_1X_VOL_M1](#1X_VOL) | `float` | monthly onex traffic average | | vo_1x_vol_m1 |\n",
    "| [VO_1X_TIME_M1](#1x_TIME) | `float` | monthly onex duration average | | vo_1x_time _m1 |\n",
    "| VO_1X_LOCALVO_M1 | `float` | monthly onex local traffic average | | vo_1x_localvol_m1 |\n",
    "| VO_1XLOCALTIME_M1 | `float` | monthly onex local duration average | | vo_1x_localtime_m1 |\n",
    "| VO_1X_ROAMVOL_M1 | `float` | monthly onex roaming traffic average | | vo_1x_roamvol_m1 |\n",
    "| VO_1X_ROAMTIME_M1 | `float` | monthly onex roamiing duration average | | vo_1x_roamtime_m1 |\n",
    "| [MB_ARPU_CDMA_M1](#ARPU) | `float` | monthly average revene per unit(fee) | | mb_arpu_cdma_m1 |\n",
    "| [MB_ARPU_CDMA_ALL_M1](#ARPU) | `float` | monthly arpu(include reconciliation) | | mb_arpu_cdma_all_m1 |\n",
    "| [MB_ENPR_FLAG_M1](#MB_ENPR_FLAG_M1) | `varchar(1)` | wheter the government pays in Januar-March(if individual works for government) | | mb_enpr_flag_m1 |\n",
    "| [IS_BUSINESS](#IS_BUSINESS) | `varchar(255)` | wheter the unit pay the fee | 0, 1 | is_business |\n",
    "| [RED_MARK](#RED_MARK) | `varchar(1)` | wheter it is a red list | | red_mark |\n",
    "| HS_CDMA_COL_DATE | `varchar(20)` | data aqusition time | 2013/9/8 9:58:04 | hs_cdma_col_data | \n",
    "| [PL_IVPN_CAT](#PL_IVPN_CAT) | `varchar(255)` | v network type | NULL, 虚拟网, 家庭V网| pl_ivpn_cat |\n",
    "| [PL_E9_FLAG](#E) | `varchar(255)` | whether E9 type | 0, 1 | pl_e9_flag |\n",
    "| [PL_E6_FLAG](#E) | `varchar(255)` | wheter E6 type | 0, 1 | pl_e6_flag |\n",
    "| [PL_BUSINESS_FLAG](#PL_BUSINESS_FLAG) | `varchar(1)` | wheter business piloting | | pl_business_flag |\n",
    "| [PL_WIRELESS_FLAG](#PL_WIRELESS_FLAG) | `varchar(1)` | wheter super cordless | | pl_wireless_flag |\n",
    "| [PL_CAMPUS_FLAG](#PL_CAMPUS_FLAG) | `varchar(1)` | campus integration | | pl_camplus_flag |\n",
    "| [PL_BB_FLAG](#PL_BB_FLAG) | `varchar(1)` | wheter wireless | | pl_bb_flag |\n",
    "| [VPN_FLAG](#VPN_FLAG) | `varchar(1)` | wheter virtual network user | | vpn_flag |\n",
    "| [PAYMENT_FLAG](#PAYMENT_FLAG) | `varchar(1)` | wheter to pay out users | | payment_flag |\n",
    "| [IS_WX_FLAG](#IS_WX_FLAG) | `varchar(1)` | wheter wireless | | is_wx_flag |\n",
    "| [IS_INTELLIGENT](#IS_INTELLIGENT) | `varchar(255)` | wheter a smartphone | 是, 否, NULL | is_intelligent |\n",
    "| [TERMINAL_TYPE](#TERMINAL_TYPE) | `varchar(8)` | terminal type | 3G, 1X, NULL | terminal_type | \n",
    "| [BSS_ORG_ZJ_NAME](#BSS_ORG_ZJ_NAME) | `varchar(255)` | branch name | NULL, 中江分公司-万福支局-万福 | bss_org_zj_name |\n",
    "| [BSS_ORG_ZJ_FLAG](#BSS_ORG_ZJ_FLAG) | `varchar(255)` | wheter the rural branch office | NULL, 0, 1 | bss_org_zj_flag |\n",
    "| [IS_SCHOOL](#IS_SCHOOL) | `varchar(255)` | wheter the government and enterprise campus users | 0, 1 | is_school |\n",
    "| [IS_E9ZX](#IS_E9ZX) | `varchar(1)` | wheter E9(尊享) | | is_e9zx | \n",
    "| [IS_ZQJN](#IS_ZQJN) | `varchar(1)` | whether the gorvernment and enterprise cluster | | is_zqjn |\n",
    "| [IS_ZQHY](#IS_ZQHY) | `varchar(1)` | whether the government and enterprise industry | | is_zqhy |\n",
    "| PROFILE_VALUE | `varchar(255)` | the way to contact user | 996999-8253819, DYC1305, null, 先裝機後付款 | profile_value |\n",
    "| [DETAIL_NAME](#DETAIL_NAME) | `varchar(255)` | 21 customer segmenttation names | NULL, 个人客户, 现业区级党政单位, 农村政企【不含大企业】| detail_name |\n",
    "| IS_WL_FLAG | `varchar(255)` | ? | only with 0 value | is_wl_flag |\n",
    "| [IS_HVL_FLAG](#IS_HVL_FLAG) | `varchar(255)` | ? | 0, 1 | is_hvl_flag | \n",
    "| [IS_LVL_FLAG](#IS_LVL_FLAG) | `varchar(255)` | ? | 0, 1 | is_lvl_flag |\n",
    "| [IS_8CARD](#IS_8CARD) | `varchar(255)` | whether it's 8-point(there is an 8-point card package since 2012) | 是, 否| is_8card |\n",
    "| [IS_CARDPHONE](#IS_CARDPHONE)| `varchar(255)` | wheter it's a card phone | 是, 否 | is_cardphone |\n",
    "| [IS_CLOUDCARD](#IS_CLOUDCARD) | `varchar(255)` | wheter cloud card | 是, 否 | is_cloudcard |\n",
    "| [SUM_EVDO](#SUM_EVDO) | `int` | EVDO traffic | | sum_evdo |\n"
   ]
  },
  {
   "cell_type": "markdown",
   "id": "b01de3e5",
   "metadata": {},
   "source": [
    "to use the helper function in utils.sql\n",
    "```text\n",
    "mysql> source ./utils.sql\n",
    "```"
   ]
  }
 ],
 "metadata": {
  "kernelspec": {
   "display_name": "Poetry",
   "language": "python",
   "name": "poetry-kernel"
  },
  "language_info": {
   "codemirror_mode": {
    "name": "ipython",
    "version": 3
   },
   "file_extension": ".py",
   "mimetype": "text/x-python",
   "name": "python",
   "nbconvert_exporter": "python",
   "pygments_lexer": "ipython3",
   "version": "3.11.4"
  }
 },
 "nbformat": 4,
 "nbformat_minor": 5
}
