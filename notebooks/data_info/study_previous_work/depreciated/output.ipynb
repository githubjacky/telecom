{
 "cells": [
  {
   "cell_type": "code",
   "execution_count": 3,
   "id": "5f4a1900",
   "metadata": {},
   "outputs": [
    {
     "data": {
      "text/plain": [
       "ODBC.Connection(telecom)"
      ]
     },
     "execution_count": 3,
     "metadata": {},
     "output_type": "execute_result"
    }
   ],
   "source": [
    "using ODBC, DataFrames\n",
    "\n",
    "\n",
    "ODBC.setunixODBC()\n",
    "\n",
    "conn = ODBC.Connection(\"telecom\")"
   ]
  },
  {
   "cell_type": "code",
   "execution_count": 5,
   "id": "d9c41616",
   "metadata": {},
   "outputs": [
    {
     "data": {
      "text/html": [
       "<div><div style = \"float: left;\"><span>8600895×8 DataFrame</span></div><div style = \"float: right;\"><span style = \"font-style: italic;\">8600870 rows omitted</span></div><div style = \"clear: both;\"></div></div><div class = \"data-frame\" style = \"overflow-x: scroll;\"><table class = \"data-frame\" style = \"margin-bottom: 6px;\"><thead><tr class = \"header\"><th class = \"rowNumber\" style = \"font-weight: bold; text-align: right;\">Row</th><th style = \"text-align: left;\">time</th><th style = \"text-align: left;\">day_of_week</th><th style = \"text-align: left;\">calling_nbr</th><th style = \"text-align: left;\">calling_area_code</th><th style = \"text-align: left;\">duration</th><th style = \"text-align: left;\">called_area_code</th><th style = \"text-align: left;\">called_nbr</th><th style = \"text-align: left;\">cell_id</th></tr><tr class = \"subheader headerLastRow\"><th class = \"rowNumber\" style = \"font-weight: bold; text-align: right;\"></th><th title = \"Union{Missing, Int64}\" style = \"text-align: left;\">Int64?</th><th title = \"Union{Missing, Int32}\" style = \"text-align: left;\">Int32?</th><th title = \"Union{Missing, String}\" style = \"text-align: left;\">String?</th><th title = \"Union{Missing, String}\" style = \"text-align: left;\">String?</th><th title = \"Union{Missing, Int32}\" style = \"text-align: left;\">Int32?</th><th title = \"Union{Missing, String}\" style = \"text-align: left;\">String?</th><th title = \"Union{Missing, String}\" style = \"text-align: left;\">String?</th><th title = \"Union{Missing, String}\" style = \"text-align: left;\">String?</th></tr></thead><tbody><tr><td class = \"rowNumber\" style = \"font-weight: bold; text-align: right;\">1</td><td style = \"text-align: right;\">9</td><td style = \"text-align: right;\">5</td><td style = \"text-align: left;\">284y280u</td><td style = \"text-align: left;\">0838</td><td style = \"text-align: right;\">36</td><td style = \"text-align: left;\">0838</td><td style = \"text-align: left;\">jgos42b6</td><td style = \"text-align: left;\">355D</td></tr><tr><td class = \"rowNumber\" style = \"font-weight: bold; text-align: right;\">2</td><td style = \"text-align: right;\">9</td><td style = \"text-align: right;\">5</td><td style = \"text-align: left;\">27jql2yi</td><td style = \"text-align: left;\">0838</td><td style = \"text-align: right;\">36</td><td style = \"text-align: left;\">0838</td><td style = \"text-align: left;\">2jnq2ss2</td><td style = \"text-align: left;\">3A3C</td></tr><tr><td class = \"rowNumber\" style = \"font-weight: bold; text-align: right;\">3</td><td style = \"text-align: right;\">14</td><td style = \"text-align: right;\">5</td><td style = \"text-align: left;\">27ko3a52</td><td style = \"text-align: left;\">0838</td><td style = \"text-align: right;\">26</td><td style = \"text-align: left;\">0838</td><td style = \"text-align: left;\">3u008khu</td><td style = \"text-align: left;\">39F6</td></tr><tr><td class = \"rowNumber\" style = \"font-weight: bold; text-align: right;\">4</td><td style = \"text-align: right;\">17</td><td style = \"text-align: right;\">5</td><td style = \"text-align: left;\">29mykvh2</td><td style = \"text-align: left;\">0838</td><td style = \"text-align: right;\">22</td><td style = \"text-align: left;\">0838</td><td style = \"text-align: left;\">2bek42dq</td><td style = \"text-align: left;\">384E</td></tr><tr><td class = \"rowNumber\" style = \"font-weight: bold; text-align: right;\">5</td><td style = \"text-align: right;\">18</td><td style = \"text-align: right;\">5</td><td style = \"text-align: left;\">29mykvh2</td><td style = \"text-align: left;\">0838</td><td style = \"text-align: right;\">123</td><td style = \"text-align: left;\">0838</td><td style = \"text-align: left;\">2bek42dq</td><td style = \"text-align: left;\">384E</td></tr><tr><td class = \"rowNumber\" style = \"font-weight: bold; text-align: right;\">6</td><td style = \"text-align: right;\">19</td><td style = \"text-align: right;\">5</td><td style = \"text-align: left;\">27mpjcrm</td><td style = \"text-align: left;\">0838</td><td style = \"text-align: right;\">17</td><td style = \"text-align: left;\">0838</td><td style = \"text-align: left;\">gwog8kf8</td><td style = \"text-align: left;\">37D5</td></tr><tr><td class = \"rowNumber\" style = \"font-weight: bold; text-align: right;\">7</td><td style = \"text-align: right;\">19</td><td style = \"text-align: right;\">5</td><td style = \"text-align: left;\">27mpjcrm</td><td style = \"text-align: left;\">0838</td><td style = \"text-align: right;\">1</td><td style = \"text-align: left;\">0838</td><td style = \"text-align: left;\">gwog8kf8</td><td style = \"text-align: left;\">37D5</td></tr><tr><td class = \"rowNumber\" style = \"font-weight: bold; text-align: right;\">8</td><td style = \"text-align: right;\">19</td><td style = \"text-align: right;\">5</td><td style = \"text-align: left;\">27mpjcrm</td><td style = \"text-align: left;\">0838</td><td style = \"text-align: right;\">18</td><td style = \"text-align: left;\">0838</td><td style = \"text-align: left;\">gwog8kf8</td><td style = \"text-align: left;\">37D5</td></tr><tr><td class = \"rowNumber\" style = \"font-weight: bold; text-align: right;\">9</td><td style = \"text-align: right;\">21</td><td style = \"text-align: right;\">5</td><td style = \"text-align: left;\">29mykvh2</td><td style = \"text-align: left;\">0838</td><td style = \"text-align: right;\">19</td><td style = \"text-align: left;\">0838</td><td style = \"text-align: left;\">2bek42dq</td><td style = \"text-align: left;\">39B0</td></tr><tr><td class = \"rowNumber\" style = \"font-weight: bold; text-align: right;\">10</td><td style = \"text-align: right;\">21</td><td style = \"text-align: right;\">5</td><td style = \"text-align: left;\">29mykvh2</td><td style = \"text-align: left;\">0838</td><td style = \"text-align: right;\">8</td><td style = \"text-align: left;\">0838</td><td style = \"text-align: left;\">2bek42dq</td><td style = \"text-align: left;\">39B0</td></tr><tr><td class = \"rowNumber\" style = \"font-weight: bold; text-align: right;\">11</td><td style = \"text-align: right;\">21</td><td style = \"text-align: right;\">5</td><td style = \"text-align: left;\">27rfk8bq</td><td style = \"text-align: left;\">0838</td><td style = \"text-align: right;\">128</td><td style = \"text-align: left;\">0838</td><td style = \"text-align: left;\">kqzg42gq</td><td style = \"text-align: left;\">37FC</td></tr><tr><td class = \"rowNumber\" style = \"font-weight: bold; text-align: right;\">12</td><td style = \"text-align: right;\">21</td><td style = \"text-align: right;\">5</td><td style = \"text-align: left;\">27rfk8bq</td><td style = \"text-align: left;\">0838</td><td style = \"text-align: right;\">2</td><td style = \"text-align: left;\">0838</td><td style = \"text-align: left;\">kqzg42gq</td><td style = \"text-align: left;\">3AFB</td></tr><tr><td class = \"rowNumber\" style = \"font-weight: bold; text-align: right;\">13</td><td style = \"text-align: right;\">0</td><td style = \"text-align: right;\">5</td><td style = \"text-align: left;\">29emkv0e</td><td style = \"text-align: left;\">0838</td><td style = \"text-align: right;\">45</td><td style = \"text-align: left;\">0838</td><td style = \"text-align: left;\">iz71jd5p</td><td style = \"text-align: left;\">35F9</td></tr><tr><td style = \"text-align: right;\">&vellip;</td><td style = \"text-align: right;\">&vellip;</td><td style = \"text-align: right;\">&vellip;</td><td style = \"text-align: right;\">&vellip;</td><td style = \"text-align: right;\">&vellip;</td><td style = \"text-align: right;\">&vellip;</td><td style = \"text-align: right;\">&vellip;</td><td style = \"text-align: right;\">&vellip;</td><td style = \"text-align: right;\">&vellip;</td></tr><tr><td class = \"rowNumber\" style = \"font-weight: bold; text-align: right;\">8600884</td><td style = \"text-align: right;\">22</td><td style = \"text-align: right;\">7</td><td style = \"text-align: left;\">ijz8lxtt</td><td style = \"text-align: left;\">0838</td><td style = \"text-align: right;\">70</td><td style = \"text-align: left;\">0838</td><td style = \"text-align: left;\">j19gm2j9</td><td style = \"text-align: left;\">35CB</td></tr><tr><td class = \"rowNumber\" style = \"font-weight: bold; text-align: right;\">8600885</td><td style = \"text-align: right;\">14</td><td style = \"text-align: right;\">7</td><td style = \"text-align: left;\">mu22gl07</td><td style = \"text-align: left;\">0838</td><td style = \"text-align: right;\">18</td><td style = \"text-align: left;\">0838</td><td style = \"text-align: left;\">80jq286g</td><td style = \"text-align: left;\">354C</td></tr><tr><td class = \"rowNumber\" style = \"font-weight: bold; text-align: right;\">8600886</td><td style = \"text-align: right;\">16</td><td style = \"text-align: right;\">7</td><td style = \"text-align: left;\">krlo41ui</td><td style = \"text-align: left;\">0838</td><td style = \"text-align: right;\">25</td><td style = \"text-align: left;\">0838</td><td style = \"text-align: left;\">4or0m1zn</td><td style = \"text-align: left;\">3B99</td></tr><tr><td class = \"rowNumber\" style = \"font-weight: bold; text-align: right;\">8600887</td><td style = \"text-align: right;\">12</td><td style = \"text-align: right;\">7</td><td style = \"text-align: left;\">m9gsm2m3</td><td style = \"text-align: left;\">0838</td><td style = \"text-align: right;\">51</td><td style = \"text-align: left;\">0838</td><td style = \"text-align: left;\">knpr450e</td><td style = \"text-align: left;\">3C4A</td></tr><tr><td class = \"rowNumber\" style = \"font-weight: bold; text-align: right;\">8600888</td><td style = \"text-align: right;\">14</td><td style = \"text-align: right;\">7</td><td style = \"text-align: left;\">m9gsm2m3</td><td style = \"text-align: left;\">0838</td><td style = \"text-align: right;\">37</td><td style = \"text-align: left;\">0838</td><td style = \"text-align: left;\">knpr450e</td><td style = \"text-align: left;\">37B0</td></tr><tr><td class = \"rowNumber\" style = \"font-weight: bold; text-align: right;\">8600889</td><td style = \"text-align: right;\">13</td><td style = \"text-align: right;\">7</td><td style = \"text-align: left;\">m9gsm2m3</td><td style = \"text-align: left;\">0838</td><td style = \"text-align: right;\">28</td><td style = \"text-align: left;\">0838</td><td style = \"text-align: left;\">knpr450e</td><td style = \"text-align: left;\">37AF</td></tr><tr><td class = \"rowNumber\" style = \"font-weight: bold; text-align: right;\">8600890</td><td style = \"text-align: right;\">19</td><td style = \"text-align: right;\">7</td><td style = \"text-align: left;\">moky2l2j</td><td style = \"text-align: left;\">0838</td><td style = \"text-align: right;\">141</td><td style = \"text-align: left;\">0838</td><td style = \"text-align: left;\">dl3tjstj</td><td style = \"text-align: left;\">3573</td></tr><tr><td class = \"rowNumber\" style = \"font-weight: bold; text-align: right;\">8600891</td><td style = \"text-align: right;\">19</td><td style = \"text-align: right;\">7</td><td style = \"text-align: left;\">joxo5zty</td><td style = \"text-align: left;\">0838</td><td style = \"text-align: right;\">79</td><td style = \"text-align: left;\">0838</td><td style = \"text-align: left;\">bjf05kbi</td><td style = \"text-align: left;\">37FA</td></tr><tr><td class = \"rowNumber\" style = \"font-weight: bold; text-align: right;\">8600892</td><td style = \"text-align: right;\">15</td><td style = \"text-align: right;\">7</td><td style = \"text-align: left;\">ltsc5kbn</td><td style = \"text-align: left;\">0838</td><td style = \"text-align: right;\">57</td><td style = \"text-align: left;\">0838</td><td style = \"text-align: left;\">lu6i2kwz</td><td style = \"text-align: left;\">37F2</td></tr><tr><td class = \"rowNumber\" style = \"font-weight: bold; text-align: right;\">8600893</td><td style = \"text-align: right;\">19</td><td style = \"text-align: right;\">7</td><td style = \"text-align: left;\">jkky3a82</td><td style = \"text-align: left;\">0838</td><td style = \"text-align: right;\">252</td><td style = \"text-align: left;\">0838</td><td style = \"text-align: left;\">fac63arg</td><td style = \"text-align: left;\">3574</td></tr><tr><td class = \"rowNumber\" style = \"font-weight: bold; text-align: right;\">8600894</td><td style = \"text-align: right;\">11</td><td style = \"text-align: right;\">7</td><td style = \"text-align: left;\">mw582s63</td><td style = \"text-align: left;\">0838</td><td style = \"text-align: right;\">20</td><td style = \"text-align: left;\">0838</td><td style = \"text-align: left;\">leh8kt5y</td><td style = \"text-align: left;\">0763</td></tr><tr><td class = \"rowNumber\" style = \"font-weight: bold; text-align: right;\">8600895</td><td style = \"text-align: right;\">18</td><td style = \"text-align: right;\">7</td><td style = \"text-align: left;\">le4s2s0i</td><td style = \"text-align: left;\">0838</td><td style = \"text-align: right;\">31</td><td style = \"text-align: left;\">0838</td><td style = \"text-align: left;\">ik22kg1p</td><td style = \"text-align: left;\">366B</td></tr></tbody></table></div>"
      ],
      "text/latex": [
       "\\begin{tabular}{r|ccccccc}\n",
       "\t& time & day\\_of\\_week & calling\\_nbr & calling\\_area\\_code & duration & called\\_area\\_code & \\\\\n",
       "\t\\hline\n",
       "\t& Int64? & Int32? & String? & String? & Int32? & String? & \\\\\n",
       "\t\\hline\n",
       "\t1 & 9 & 5 & 284y280u & 0838 & 36 & 0838 & $\\dots$ \\\\\n",
       "\t2 & 9 & 5 & 27jql2yi & 0838 & 36 & 0838 & $\\dots$ \\\\\n",
       "\t3 & 14 & 5 & 27ko3a52 & 0838 & 26 & 0838 & $\\dots$ \\\\\n",
       "\t4 & 17 & 5 & 29mykvh2 & 0838 & 22 & 0838 & $\\dots$ \\\\\n",
       "\t5 & 18 & 5 & 29mykvh2 & 0838 & 123 & 0838 & $\\dots$ \\\\\n",
       "\t6 & 19 & 5 & 27mpjcrm & 0838 & 17 & 0838 & $\\dots$ \\\\\n",
       "\t7 & 19 & 5 & 27mpjcrm & 0838 & 1 & 0838 & $\\dots$ \\\\\n",
       "\t8 & 19 & 5 & 27mpjcrm & 0838 & 18 & 0838 & $\\dots$ \\\\\n",
       "\t9 & 21 & 5 & 29mykvh2 & 0838 & 19 & 0838 & $\\dots$ \\\\\n",
       "\t10 & 21 & 5 & 29mykvh2 & 0838 & 8 & 0838 & $\\dots$ \\\\\n",
       "\t11 & 21 & 5 & 27rfk8bq & 0838 & 128 & 0838 & $\\dots$ \\\\\n",
       "\t12 & 21 & 5 & 27rfk8bq & 0838 & 2 & 0838 & $\\dots$ \\\\\n",
       "\t13 & 0 & 5 & 29emkv0e & 0838 & 45 & 0838 & $\\dots$ \\\\\n",
       "\t14 & 7 & 5 & 296akfku & 0838 & 51 & 0838 & $\\dots$ \\\\\n",
       "\t15 & 8 & 5 & 27l83q42 & 0838 & 31 & 0838 & $\\dots$ \\\\\n",
       "\t16 & 9 & 5 & 29hekuxm & 0838 & 44 & 0838 & $\\dots$ \\\\\n",
       "\t17 & 11 & 5 & 27ky3pq6 & 0838 & 46 & 0838 & $\\dots$ \\\\\n",
       "\t18 & 11 & 5 & 27ky3pq6 & 0838 & 26 & 0838 & $\\dots$ \\\\\n",
       "\t19 & 11 & 5 & 27ig3phu & 0838 & 54 & 0838 & $\\dots$ \\\\\n",
       "\t20 & 11 & 5 & 27qz3xae & 0838 & 87 & 0838 & $\\dots$ \\\\\n",
       "\t21 & 13 & 5 & 27rfk02i & 0838 & 16 & 0838 & $\\dots$ \\\\\n",
       "\t22 & 14 & 5 & 27qz3xae & 0838 & 58 & 0838 & $\\dots$ \\\\\n",
       "\t23 & 15 & 5 & 29hekuxm & 0838 & 92 & 0838 & $\\dots$ \\\\\n",
       "\t24 & 15 & 5 & 27jdjsqm & 0838 & 559 & 0838 & $\\dots$ \\\\\n",
       "\t25 & 18 & 5 & 29mgkniy & 0838 & 31 & 0838 & $\\dots$ \\\\\n",
       "\t26 & 19 & 5 & 281m3huu & 0838 & 23 & 0838 & $\\dots$ \\\\\n",
       "\t27 & 19 & 5 & 2991jcue & 0838 & 22 & 0838 & $\\dots$ \\\\\n",
       "\t28 & 19 & 5 & 27rfk02i & 0838 & 30 & 0838 & $\\dots$ \\\\\n",
       "\t29 & 19 & 5 & 2991jcue & 0838 & 19 & 0838 & $\\dots$ \\\\\n",
       "\t30 & 20 & 5 & 29mgknra & 0838 & 45 & 0838 & $\\dots$ \\\\\n",
       "\t$\\dots$ & $\\dots$ & $\\dots$ & $\\dots$ & $\\dots$ & $\\dots$ & $\\dots$ &  \\\\\n",
       "\\end{tabular}\n"
      ],
      "text/plain": [
       "\u001b[1m8600895×8 DataFrame\u001b[0m\n",
       "\u001b[1m     Row \u001b[0m│\u001b[1m time   \u001b[0m\u001b[1m day_of_week \u001b[0m\u001b[1m calling_nbr \u001b[0m\u001b[1m calling_area_code \u001b[0m\u001b[1m duration \u001b[0m\u001b[1m call\u001b[0m ⋯\n",
       "         │\u001b[90m Int64? \u001b[0m\u001b[90m Int32?      \u001b[0m\u001b[90m String?     \u001b[0m\u001b[90m String?           \u001b[0m\u001b[90m Int32?   \u001b[0m\u001b[90m Stri\u001b[0m ⋯\n",
       "─────────┼──────────────────────────────────────────────────────────────────────\n",
       "       1 │      9            5  284y280u     0838                     36  0838 ⋯\n",
       "       2 │      9            5  27jql2yi     0838                     36  0838\n",
       "       3 │     14            5  27ko3a52     0838                     26  0838\n",
       "       4 │     17            5  29mykvh2     0838                     22  0838\n",
       "       5 │     18            5  29mykvh2     0838                    123  0838 ⋯\n",
       "       6 │     19            5  27mpjcrm     0838                     17  0838\n",
       "       7 │     19            5  27mpjcrm     0838                      1  0838\n",
       "       8 │     19            5  27mpjcrm     0838                     18  0838\n",
       "       9 │     21            5  29mykvh2     0838                     19  0838 ⋯\n",
       "      10 │     21            5  29mykvh2     0838                      8  0838\n",
       "      11 │     21            5  27rfk8bq     0838                    128  0838\n",
       "    ⋮    │   ⋮          ⋮            ⋮               ⋮             ⋮           ⋱\n",
       " 8600886 │     16            7  krlo41ui     0838                     25  0838\n",
       " 8600887 │     12            7  m9gsm2m3     0838                     51  0838 ⋯\n",
       " 8600888 │     14            7  m9gsm2m3     0838                     37  0838\n",
       " 8600889 │     13            7  m9gsm2m3     0838                     28  0838\n",
       " 8600890 │     19            7  moky2l2j     0838                    141  0838\n",
       " 8600891 │     19            7  joxo5zty     0838                     79  0838 ⋯\n",
       " 8600892 │     15            7  ltsc5kbn     0838                     57  0838\n",
       " 8600893 │     19            7  jkky3a82     0838                    252  0838\n",
       " 8600894 │     11            7  mw582s63     0838                     20  0838\n",
       " 8600895 │     18            7  le4s2s0i     0838                     31  0838 ⋯\n",
       "\u001b[36m                                              3 columns and 8600874 rows omitted\u001b[0m"
      ]
     },
     "execution_count": 5,
     "metadata": {},
     "output_type": "execute_result"
    }
   ],
   "source": [
    "sql = \"\"\"\n",
    "SELECT\n",
    "    *\n",
    "FROM clean_CDR\n",
    "WHERE \n",
    "    calling_nbr in (SELECT client_nbr FROM clean_user_info) AND\n",
    "    called_nbr in (SELECT client_nbr FROM clean_user_info)\n",
    "\"\"\"\n",
    "\n",
    "# network\n",
    "clean_cdr = DBInterface.execute(conn, sql) |> DataFrame"
   ]
  },
  {
   "cell_type": "code",
   "execution_count": 6,
   "id": "b591bc68",
   "metadata": {},
   "outputs": [
    {
     "data": {
      "text/html": [
       "<div><div style = \"float: left;\"><span>3×8 DataFrame</span></div><div style = \"clear: both;\"></div></div><div class = \"data-frame\" style = \"overflow-x: scroll;\"><table class = \"data-frame\" style = \"margin-bottom: 6px;\"><thead><tr class = \"header\"><th class = \"rowNumber\" style = \"font-weight: bold; text-align: right;\">Row</th><th style = \"text-align: left;\">time</th><th style = \"text-align: left;\">day_of_week</th><th style = \"text-align: left;\">calling_nbr</th><th style = \"text-align: left;\">calling_area_code</th><th style = \"text-align: left;\">duration</th><th style = \"text-align: left;\">called_area_code</th><th style = \"text-align: left;\">called_nbr</th><th style = \"text-align: left;\">cell_id</th></tr><tr class = \"subheader headerLastRow\"><th class = \"rowNumber\" style = \"font-weight: bold; text-align: right;\"></th><th title = \"Union{Missing, Int64}\" style = \"text-align: left;\">Int64?</th><th title = \"Union{Missing, Int32}\" style = \"text-align: left;\">Int32?</th><th title = \"Union{Missing, String}\" style = \"text-align: left;\">String?</th><th title = \"Union{Missing, String}\" style = \"text-align: left;\">String?</th><th title = \"Union{Missing, Int32}\" style = \"text-align: left;\">Int32?</th><th title = \"Union{Missing, String}\" style = \"text-align: left;\">String?</th><th title = \"Union{Missing, String}\" style = \"text-align: left;\">String?</th><th title = \"Union{Missing, String}\" style = \"text-align: left;\">String?</th></tr></thead><tbody><tr><td class = \"rowNumber\" style = \"font-weight: bold; text-align: right;\">1</td><td style = \"text-align: right;\">9</td><td style = \"text-align: right;\">5</td><td style = \"text-align: left;\">284y280u</td><td style = \"text-align: left;\">0838</td><td style = \"text-align: right;\">36</td><td style = \"text-align: left;\">0838</td><td style = \"text-align: left;\">jgos42b6</td><td style = \"text-align: left;\">355D</td></tr><tr><td class = \"rowNumber\" style = \"font-weight: bold; text-align: right;\">2</td><td style = \"text-align: right;\">9</td><td style = \"text-align: right;\">5</td><td style = \"text-align: left;\">27jql2yi</td><td style = \"text-align: left;\">0838</td><td style = \"text-align: right;\">36</td><td style = \"text-align: left;\">0838</td><td style = \"text-align: left;\">2jnq2ss2</td><td style = \"text-align: left;\">3A3C</td></tr><tr><td class = \"rowNumber\" style = \"font-weight: bold; text-align: right;\">3</td><td style = \"text-align: right;\">14</td><td style = \"text-align: right;\">5</td><td style = \"text-align: left;\">27ko3a52</td><td style = \"text-align: left;\">0838</td><td style = \"text-align: right;\">26</td><td style = \"text-align: left;\">0838</td><td style = \"text-align: left;\">3u008khu</td><td style = \"text-align: left;\">39F6</td></tr></tbody></table></div>"
      ],
      "text/latex": [
       "\\begin{tabular}{r|ccccccc}\n",
       "\t& time & day\\_of\\_week & calling\\_nbr & calling\\_area\\_code & duration & called\\_area\\_code & \\\\\n",
       "\t\\hline\n",
       "\t& Int64? & Int32? & String? & String? & Int32? & String? & \\\\\n",
       "\t\\hline\n",
       "\t1 & 9 & 5 & 284y280u & 0838 & 36 & 0838 & $\\dots$ \\\\\n",
       "\t2 & 9 & 5 & 27jql2yi & 0838 & 36 & 0838 & $\\dots$ \\\\\n",
       "\t3 & 14 & 5 & 27ko3a52 & 0838 & 26 & 0838 & $\\dots$ \\\\\n",
       "\\end{tabular}\n"
      ],
      "text/plain": [
       "\u001b[1m3×8 DataFrame\u001b[0m\n",
       "\u001b[1m Row \u001b[0m│\u001b[1m time   \u001b[0m\u001b[1m day_of_week \u001b[0m\u001b[1m calling_nbr \u001b[0m\u001b[1m calling_area_code \u001b[0m\u001b[1m duration \u001b[0m\u001b[1m called_a\u001b[0m ⋯\n",
       "     │\u001b[90m Int64? \u001b[0m\u001b[90m Int32?      \u001b[0m\u001b[90m String?     \u001b[0m\u001b[90m String?           \u001b[0m\u001b[90m Int32?   \u001b[0m\u001b[90m String? \u001b[0m ⋯\n",
       "─────┼──────────────────────────────────────────────────────────────────────────\n",
       "   1 │      9            5  284y280u     0838                     36  0838     ⋯\n",
       "   2 │      9            5  27jql2yi     0838                     36  0838\n",
       "   3 │     14            5  27ko3a52     0838                     26  0838\n",
       "\u001b[36m                                                               3 columns omitted\u001b[0m"
      ]
     },
     "execution_count": 6,
     "metadata": {},
     "output_type": "execute_result"
    }
   ],
   "source": [
    "network = deepcopy(clean_cdr)\n",
    "network[1:3, :]"
   ]
  },
  {
   "cell_type": "code",
   "execution_count": 12,
   "id": "0710b285",
   "metadata": {},
   "outputs": [
    {
     "data": {
      "text/html": [
       "<div><div style = \"float: left;\"><span>80000×8 DataFrame</span></div><div style = \"float: right;\"><span style = \"font-style: italic;\">79975 rows omitted</span></div><div style = \"clear: both;\"></div></div><div class = \"data-frame\" style = \"overflow-x: scroll;\"><table class = \"data-frame\" style = \"margin-bottom: 6px;\"><thead><tr class = \"header\"><th class = \"rowNumber\" style = \"font-weight: bold; text-align: right;\">Row</th><th style = \"text-align: left;\">time</th><th style = \"text-align: left;\">day_of_week</th><th style = \"text-align: left;\">calling_nbr</th><th style = \"text-align: left;\">calling_area_code</th><th style = \"text-align: left;\">duration</th><th style = \"text-align: left;\">called_area_code</th><th style = \"text-align: left;\">called_nbr</th><th style = \"text-align: left;\">cell_id</th></tr><tr class = \"subheader headerLastRow\"><th class = \"rowNumber\" style = \"font-weight: bold; text-align: right;\"></th><th title = \"Union{Missing, Int64}\" style = \"text-align: left;\">Int64?</th><th title = \"Union{Missing, Int32}\" style = \"text-align: left;\">Int32?</th><th title = \"Union{Missing, String}\" style = \"text-align: left;\">String?</th><th title = \"Union{Missing, String}\" style = \"text-align: left;\">String?</th><th title = \"Union{Missing, Int32}\" style = \"text-align: left;\">Int32?</th><th title = \"Union{Missing, String}\" style = \"text-align: left;\">String?</th><th title = \"Union{Missing, String}\" style = \"text-align: left;\">String?</th><th title = \"Union{Missing, String}\" style = \"text-align: left;\">String?</th></tr></thead><tbody><tr><td class = \"rowNumber\" style = \"font-weight: bold; text-align: right;\">1</td><td style = \"text-align: right;\">14</td><td style = \"text-align: right;\">7</td><td style = \"text-align: left;\">g9hk3mq0</td><td style = \"text-align: left;\">0838</td><td style = \"text-align: right;\">82</td><td style = \"text-align: left;\">0838</td><td style = \"text-align: left;\">lr9tjdgv</td><td style = \"text-align: left;\">3CB9</td></tr><tr><td class = \"rowNumber\" style = \"font-weight: bold; text-align: right;\">2</td><td style = \"text-align: right;\">12</td><td style = \"text-align: right;\">7</td><td style = \"text-align: left;\">29o1jcue</td><td style = \"text-align: left;\">0838</td><td style = \"text-align: right;\">22</td><td style = \"text-align: left;\">0838</td><td style = \"text-align: left;\">eorv3a57</td><td style = \"text-align: left;\">3B17</td></tr><tr><td class = \"rowNumber\" style = \"font-weight: bold; text-align: right;\">3</td><td style = \"text-align: right;\">15</td><td style = \"text-align: right;\">7</td><td style = \"text-align: left;\">6zfzjcug</td><td style = \"text-align: left;\">0838</td><td style = \"text-align: right;\">24</td><td style = \"text-align: left;\">0838</td><td style = \"text-align: left;\">eh7xjd8f</td><td style = \"text-align: left;\">352A</td></tr><tr><td class = \"rowNumber\" style = \"font-weight: bold; text-align: right;\">4</td><td style = \"text-align: right;\">20</td><td style = \"text-align: right;\">7</td><td style = \"text-align: left;\">lxp43q4b</td><td style = \"text-align: left;\">0838</td><td style = \"text-align: right;\">34</td><td style = \"text-align: left;\">0838</td><td style = \"text-align: left;\">mspu331r</td><td style = \"text-align: left;\">3647</td></tr><tr><td class = \"rowNumber\" style = \"font-weight: bold; text-align: right;\">5</td><td style = \"text-align: right;\">12</td><td style = \"text-align: right;\">2</td><td style = \"text-align: left;\">njo44x93</td><td style = \"text-align: left;\">0838</td><td style = \"text-align: right;\">55</td><td style = \"text-align: left;\">0838</td><td style = \"text-align: left;\">27ng3aoi</td><td style = \"text-align: left;\">35C0</td></tr><tr><td class = \"rowNumber\" style = \"font-weight: bold; text-align: right;\">6</td><td style = \"text-align: right;\">9</td><td style = \"text-align: right;\">2</td><td style = \"text-align: left;\">b45054t6</td><td style = \"text-align: left;\">0838</td><td style = \"text-align: right;\">20</td><td style = \"text-align: left;\">0838</td><td style = \"text-align: left;\">d6on32kz</td><td style = \"text-align: left;\">3AFB</td></tr><tr><td class = \"rowNumber\" style = \"font-weight: bold; text-align: right;\">7</td><td style = \"text-align: right;\">16</td><td style = \"text-align: right;\">5</td><td style = \"text-align: left;\">6tnw5zd4</td><td style = \"text-align: left;\">0838</td><td style = \"text-align: right;\">379</td><td style = \"text-align: left;\">0838</td><td style = \"text-align: left;\">2olukfqe</td><td style = \"text-align: left;\">398E</td></tr><tr><td class = \"rowNumber\" style = \"font-weight: bold; text-align: right;\">8</td><td style = \"text-align: right;\">22</td><td style = \"text-align: right;\">4</td><td style = \"text-align: left;\">jcuw3a82</td><td style = \"text-align: left;\">0838</td><td style = \"text-align: right;\">12</td><td style = \"text-align: left;\">0838</td><td style = \"text-align: left;\">fm6c5zis</td><td style = \"text-align: left;\">35C3</td></tr><tr><td class = \"rowNumber\" style = \"font-weight: bold; text-align: right;\">9</td><td style = \"text-align: right;\">9</td><td style = \"text-align: right;\">7</td><td style = \"text-align: left;\">9tk3f0lh</td><td style = \"text-align: left;\">0838</td><td style = \"text-align: right;\">96</td><td style = \"text-align: left;\">0838</td><td style = \"text-align: left;\">5bf45k33</td><td style = \"text-align: left;\">37BB</td></tr><tr><td class = \"rowNumber\" style = \"font-weight: bold; text-align: right;\">10</td><td style = \"text-align: right;\">9</td><td style = \"text-align: right;\">4</td><td style = \"text-align: left;\">413cksgq</td><td style = \"text-align: left;\">0838</td><td style = \"text-align: right;\">69</td><td style = \"text-align: left;\">0838</td><td style = \"text-align: left;\">jhcckt5y</td><td style = \"text-align: left;\">357E</td></tr><tr><td class = \"rowNumber\" style = \"font-weight: bold; text-align: right;\">11</td><td style = \"text-align: right;\">20</td><td style = \"text-align: right;\">7</td><td style = \"text-align: left;\">51eb2usb</td><td style = \"text-align: left;\">0838</td><td style = \"text-align: right;\">27</td><td style = \"text-align: left;\">0838</td><td style = \"text-align: left;\">6m6h2k28</td><td style = \"text-align: left;\">81B8</td></tr><tr><td class = \"rowNumber\" style = \"font-weight: bold; text-align: right;\">12</td><td style = \"text-align: right;\">9</td><td style = \"text-align: right;\">2</td><td style = \"text-align: left;\">kze82cky</td><td style = \"text-align: left;\">0838</td><td style = \"text-align: right;\">34</td><td style = \"text-align: left;\">0838</td><td style = \"text-align: left;\">8jut2kiw</td><td style = \"text-align: left;\">3BE3</td></tr><tr><td class = \"rowNumber\" style = \"font-weight: bold; text-align: right;\">13</td><td style = \"text-align: right;\">16</td><td style = \"text-align: right;\">5</td><td style = \"text-align: left;\">njoe2lav</td><td style = \"text-align: left;\">0838</td><td style = \"text-align: right;\">41</td><td style = \"text-align: left;\">0838</td><td style = \"text-align: left;\">fe3jfnik</td><td style = \"text-align: left;\">34D1</td></tr><tr><td style = \"text-align: right;\">&vellip;</td><td style = \"text-align: right;\">&vellip;</td><td style = \"text-align: right;\">&vellip;</td><td style = \"text-align: right;\">&vellip;</td><td style = \"text-align: right;\">&vellip;</td><td style = \"text-align: right;\">&vellip;</td><td style = \"text-align: right;\">&vellip;</td><td style = \"text-align: right;\">&vellip;</td><td style = \"text-align: right;\">&vellip;</td></tr><tr><td class = \"rowNumber\" style = \"font-weight: bold; text-align: right;\">79989</td><td style = \"text-align: right;\">21</td><td style = \"text-align: right;\">2</td><td style = \"text-align: left;\">k1j2kfl2</td><td style = \"text-align: left;\">0838</td><td style = \"text-align: right;\">16</td><td style = \"text-align: left;\">0838</td><td style = \"text-align: left;\">gh484pdo</td><td style = \"text-align: left;\">3597</td></tr><tr><td class = \"rowNumber\" style = \"font-weight: bold; text-align: right;\">79990</td><td style = \"text-align: right;\">21</td><td style = \"text-align: right;\">5</td><td style = \"text-align: left;\">c6o3aboy</td><td style = \"text-align: left;\">0838</td><td style = \"text-align: right;\">47</td><td style = \"text-align: left;\">0838</td><td style = \"text-align: left;\">m9ay2krf</td><td style = \"text-align: left;\">3629</td></tr><tr><td class = \"rowNumber\" style = \"font-weight: bold; text-align: right;\">79991</td><td style = \"text-align: right;\">11</td><td style = \"text-align: right;\">6</td><td style = \"text-align: left;\">36czf8b6</td><td style = \"text-align: left;\">0838</td><td style = \"text-align: right;\">22</td><td style = \"text-align: left;\">0838</td><td style = \"text-align: left;\">jtv7jl6m</td><td style = \"text-align: left;\">364F</td></tr><tr><td class = \"rowNumber\" style = \"font-weight: bold; text-align: right;\">79992</td><td style = \"text-align: right;\">20</td><td style = \"text-align: right;\">4</td><td style = \"text-align: left;\">2qyejq1e</td><td style = \"text-align: left;\">0838</td><td style = \"text-align: right;\">22</td><td style = \"text-align: left;\">0838</td><td style = \"text-align: left;\">gkwxjcuk</td><td style = \"text-align: left;\">3C0F</td></tr><tr><td class = \"rowNumber\" style = \"font-weight: bold; text-align: right;\">79993</td><td style = \"text-align: right;\">7</td><td style = \"text-align: right;\">1</td><td style = \"text-align: left;\">krob4jaa</td><td style = \"text-align: left;\">0838</td><td style = \"text-align: right;\">29</td><td style = \"text-align: left;\">0838</td><td style = \"text-align: left;\">5qsgm2gb</td><td style = \"text-align: left;\">34A0</td></tr><tr><td class = \"rowNumber\" style = \"font-weight: bold; text-align: right;\">79994</td><td style = \"text-align: right;\">14</td><td style = \"text-align: right;\">6</td><td style = \"text-align: left;\">2jnq2kty</td><td style = \"text-align: left;\">0838</td><td style = \"text-align: right;\">58</td><td style = \"text-align: left;\">0838</td><td style = \"text-align: left;\">6tza2ku0</td><td style = \"text-align: left;\">3669</td></tr><tr><td class = \"rowNumber\" style = \"font-weight: bold; text-align: right;\">79995</td><td style = \"text-align: right;\">14</td><td style = \"text-align: right;\">5</td><td style = \"text-align: left;\">ggqt3nnc</td><td style = \"text-align: left;\">0838</td><td style = \"text-align: right;\">16</td><td style = \"text-align: left;\">0838</td><td style = \"text-align: left;\">kjst2kj2</td><td style = \"text-align: left;\">367B</td></tr><tr><td class = \"rowNumber\" style = \"font-weight: bold; text-align: right;\">79996</td><td style = \"text-align: right;\">20</td><td style = \"text-align: right;\">5</td><td style = \"text-align: left;\">48x054ni</td><td style = \"text-align: left;\">0838</td><td style = \"text-align: right;\">7</td><td style = \"text-align: left;\">0838</td><td style = \"text-align: left;\">l6eo5rt2</td><td style = \"text-align: left;\">3B09</td></tr><tr><td class = \"rowNumber\" style = \"font-weight: bold; text-align: right;\">79997</td><td style = \"text-align: right;\">10</td><td style = \"text-align: right;\">5</td><td style = \"text-align: left;\">3m8o3msm</td><td style = \"text-align: left;\">0838</td><td style = \"text-align: right;\">34</td><td style = \"text-align: left;\">0838</td><td style = \"text-align: left;\">3low5k5u</td><td style = \"text-align: left;\">37CE</td></tr><tr><td class = \"rowNumber\" style = \"font-weight: bold; text-align: right;\">79998</td><td style = \"text-align: right;\">9</td><td style = \"text-align: right;\">3</td><td style = \"text-align: left;\">mw802cnr</td><td style = \"text-align: left;\">0838</td><td style = \"text-align: right;\">38</td><td style = \"text-align: left;\">0838</td><td style = \"text-align: left;\">l6hq2kom</td><td style = \"text-align: left;\">3776</td></tr><tr><td class = \"rowNumber\" style = \"font-weight: bold; text-align: right;\">79999</td><td style = \"text-align: right;\">15</td><td style = \"text-align: right;\">7</td><td style = \"text-align: left;\">m59c3hsb</td><td style = \"text-align: left;\">0838</td><td style = \"text-align: right;\">469</td><td style = \"text-align: left;\">0838</td><td style = \"text-align: left;\">34kegkrm</td><td style = \"text-align: left;\">3548</td></tr><tr><td class = \"rowNumber\" style = \"font-weight: bold; text-align: right;\">80000</td><td style = \"text-align: right;\">22</td><td style = \"text-align: right;\">3</td><td style = \"text-align: left;\">fraakveg</td><td style = \"text-align: left;\">0838</td><td style = \"text-align: right;\">50</td><td style = \"text-align: left;\">0838</td><td style = \"text-align: left;\">l35b3xoi</td><td style = \"text-align: left;\">3AF9</td></tr></tbody></table></div>"
      ],
      "text/latex": [
       "\\begin{tabular}{r|ccccccc}\n",
       "\t& time & day\\_of\\_week & calling\\_nbr & calling\\_area\\_code & duration & called\\_area\\_code & \\\\\n",
       "\t\\hline\n",
       "\t& Int64? & Int32? & String? & String? & Int32? & String? & \\\\\n",
       "\t\\hline\n",
       "\t1 & 14 & 7 & g9hk3mq0 & 0838 & 82 & 0838 & $\\dots$ \\\\\n",
       "\t2 & 12 & 7 & 29o1jcue & 0838 & 22 & 0838 & $\\dots$ \\\\\n",
       "\t3 & 15 & 7 & 6zfzjcug & 0838 & 24 & 0838 & $\\dots$ \\\\\n",
       "\t4 & 20 & 7 & lxp43q4b & 0838 & 34 & 0838 & $\\dots$ \\\\\n",
       "\t5 & 12 & 2 & njo44x93 & 0838 & 55 & 0838 & $\\dots$ \\\\\n",
       "\t6 & 9 & 2 & b45054t6 & 0838 & 20 & 0838 & $\\dots$ \\\\\n",
       "\t7 & 16 & 5 & 6tnw5zd4 & 0838 & 379 & 0838 & $\\dots$ \\\\\n",
       "\t8 & 22 & 4 & jcuw3a82 & 0838 & 12 & 0838 & $\\dots$ \\\\\n",
       "\t9 & 9 & 7 & 9tk3f0lh & 0838 & 96 & 0838 & $\\dots$ \\\\\n",
       "\t10 & 9 & 4 & 413cksgq & 0838 & 69 & 0838 & $\\dots$ \\\\\n",
       "\t11 & 20 & 7 & 51eb2usb & 0838 & 27 & 0838 & $\\dots$ \\\\\n",
       "\t12 & 9 & 2 & kze82cky & 0838 & 34 & 0838 & $\\dots$ \\\\\n",
       "\t13 & 16 & 5 & njoe2lav & 0838 & 41 & 0838 & $\\dots$ \\\\\n",
       "\t14 & 20 & 7 & 2otv2upi & 0838 & 9 & 0838 & $\\dots$ \\\\\n",
       "\t15 & 13 & 5 & bwh1jd2u & 0838 & 48 & 0838 & $\\dots$ \\\\\n",
       "\t16 & 9 & 3 & e8b03ief & 0838 & 9 & 0838 & $\\dots$ \\\\\n",
       "\t17 & 14 & 1 & cxzs3phz & 0838 & 13 & 0838 & $\\dots$ \\\\\n",
       "\t18 & 9 & 1 & l2vglxfy & 0838 & 34 & 0838 & $\\dots$ \\\\\n",
       "\t19 & 7 & 7 & hp6n3arh & 0838 & 22 & 0838 & $\\dots$ \\\\\n",
       "\t20 & 13 & 5 & 66r83exb & 0838 & 79 & 0838 & $\\dots$ \\\\\n",
       "\t21 & 13 & 4 & 5n3w3i5z & 0838 & 27 & 0838 & $\\dots$ \\\\\n",
       "\t22 & 18 & 1 & ctmw5kh2 & 0838 & 57 & 0838 & $\\dots$ \\\\\n",
       "\t23 & 15 & 3 & ljjikuv3 & 0838 & 44 & 0838 & $\\dots$ \\\\\n",
       "\t24 & 12 & 7 & bfd43a7y & 0838 & 7 & 0838 & $\\dots$ \\\\\n",
       "\t25 & 17 & 5 & 3pqo3alq & 0838 & 29 & 0838 & $\\dots$ \\\\\n",
       "\t26 & 11 & 1 & iyypjd05 & 0838 & 33 & 0838 & $\\dots$ \\\\\n",
       "\t27 & 18 & 4 & 80i5jdgo & 0838 & 28 & 0838 & $\\dots$ \\\\\n",
       "\t28 & 12 & 3 & 3tibfg6i & 0838 & 39 & 0838 & $\\dots$ \\\\\n",
       "\t29 & 9 & 4 & 6680m22f & 0838 & 93 & 0838 & $\\dots$ \\\\\n",
       "\t30 & 8 & 5 & ah2q2sml & 0838 & 40 & 0838 & $\\dots$ \\\\\n",
       "\t$\\dots$ & $\\dots$ & $\\dots$ & $\\dots$ & $\\dots$ & $\\dots$ & $\\dots$ &  \\\\\n",
       "\\end{tabular}\n"
      ],
      "text/plain": [
       "\u001b[1m80000×8 DataFrame\u001b[0m\n",
       "\u001b[1m   Row \u001b[0m│\u001b[1m time   \u001b[0m\u001b[1m day_of_week \u001b[0m\u001b[1m calling_nbr \u001b[0m\u001b[1m calling_area_code \u001b[0m\u001b[1m duration \u001b[0m\u001b[1m called\u001b[0m ⋯\n",
       "       │\u001b[90m Int64? \u001b[0m\u001b[90m Int32?      \u001b[0m\u001b[90m String?     \u001b[0m\u001b[90m String?           \u001b[0m\u001b[90m Int32?   \u001b[0m\u001b[90m String\u001b[0m ⋯\n",
       "───────┼────────────────────────────────────────────────────────────────────────\n",
       "     1 │     14            7  g9hk3mq0     0838                     82  0838   ⋯\n",
       "     2 │     12            7  29o1jcue     0838                     22  0838\n",
       "     3 │     15            7  6zfzjcug     0838                     24  0838\n",
       "     4 │     20            7  lxp43q4b     0838                     34  0838\n",
       "     5 │     12            2  njo44x93     0838                     55  0838   ⋯\n",
       "     6 │      9            2  b45054t6     0838                     20  0838\n",
       "     7 │     16            5  6tnw5zd4     0838                    379  0838\n",
       "     8 │     22            4  jcuw3a82     0838                     12  0838\n",
       "     9 │      9            7  9tk3f0lh     0838                     96  0838   ⋯\n",
       "    10 │      9            4  413cksgq     0838                     69  0838\n",
       "    11 │     20            7  51eb2usb     0838                     27  0838\n",
       "   ⋮   │   ⋮          ⋮            ⋮               ⋮             ⋮             ⋱\n",
       " 79991 │     11            6  36czf8b6     0838                     22  0838\n",
       " 79992 │     20            4  2qyejq1e     0838                     22  0838   ⋯\n",
       " 79993 │      7            1  krob4jaa     0838                     29  0838\n",
       " 79994 │     14            6  2jnq2kty     0838                     58  0838\n",
       " 79995 │     14            5  ggqt3nnc     0838                     16  0838\n",
       " 79996 │     20            5  48x054ni     0838                      7  0838   ⋯\n",
       " 79997 │     10            5  3m8o3msm     0838                     34  0838\n",
       " 79998 │      9            3  mw802cnr     0838                     38  0838\n",
       " 79999 │     15            7  m59c3hsb     0838                    469  0838\n",
       " 80000 │     22            3  fraakveg     0838                     50  0838   ⋯\n",
       "\u001b[36m                                                3 columns and 79979 rows omitted\u001b[0m"
      ]
     },
     "execution_count": 12,
     "metadata": {},
     "output_type": "execute_result"
    }
   ],
   "source": [
    "using Distributions\n",
    "\n",
    "idx = sample(1:size(network, 1), 80_000; replace = false)\n",
    "network_sample = network[idx, :]"
   ]
  },
  {
   "cell_type": "code",
   "execution_count": 15,
   "id": "3e1c8056",
   "metadata": {},
   "outputs": [
    {
     "name": "stderr",
     "output_type": "stream",
     "text": [
      "\u001b[36m\u001b[1m[ \u001b[22m\u001b[39m\u001b[36m\u001b[1mInfo: \u001b[22m\u001b[39mPrecompiling CategoricalArraysStructTypesExt [e0b1e8f7-f9d4-55ed-aa4c-3cb4a66b5cfe]\n",
      "\u001b[36m\u001b[1m[ \u001b[22m\u001b[39m\u001b[36m\u001b[1mInfo: \u001b[22m\u001b[39mPrecompiling CategoricalArraysJSONExt [3659b7b4-73bc-5a91-ba4f-cc4948098fdb]\n"
     ]
    }
   ],
   "source": [
    "# using Pkg; Pkg.add(\"Parquet2\")\n",
    "using Parquet"
   ]
  },
  {
   "cell_type": "code",
   "execution_count": 18,
   "id": "c148b138",
   "metadata": {},
   "outputs": [
    {
     "data": {
      "text/plain": [
       "4"
      ]
     },
     "execution_count": 18,
     "metadata": {},
     "output_type": "execute_result"
    }
   ],
   "source": [
    "write_parquet(\"../../../data/processed/network_sample.parquet\", network_sample)"
   ]
  },
  {
   "cell_type": "code",
   "execution_count": 19,
   "id": "05bbadeb",
   "metadata": {},
   "outputs": [
    {
     "data": {
      "text/plain": [
       "4"
      ]
     },
     "execution_count": 19,
     "metadata": {},
     "output_type": "execute_result"
    }
   ],
   "source": [
    "write_parquet(\"../../../data/processed/network.parquet\", network)"
   ]
  },
  {
   "cell_type": "code",
   "execution_count": 20,
   "id": "bbd2b523",
   "metadata": {},
   "outputs": [
    {
     "data": {
      "text/html": [
       "<div><div style = \"float: left;\"><span>302904×24 DataFrame</span></div><div style = \"float: right;\"><span style = \"font-style: italic;\">302879 rows omitted</span></div><div style = \"clear: both;\"></div></div><div class = \"data-frame\" style = \"overflow-x: scroll;\"><table class = \"data-frame\" style = \"margin-bottom: 6px;\"><thead><tr class = \"header\"><th class = \"rowNumber\" style = \"font-weight: bold; text-align: right;\">Row</th><th style = \"text-align: left;\">client_nbr</th><th style = \"text-align: left;\">register_district</th><th style = \"text-align: left;\">age</th><th style = \"text-align: left;\">phone_brand</th><th style = \"text-align: left;\">phone_level</th><th style = \"text-align: left;\">phone_price</th><th style = \"text-align: left;\">evdo_support_flag</th><th style = \"text-align: left;\">mou_local</th><th style = \"text-align: left;\">mou_dist</th><th style = \"text-align: left;\">network_vol</th><th style = \"text-align: left;\">evdo_use_flag</th><th style = \"text-align: left;\">onex_use_flag</th><th style = \"text-align: left;\">evdo_vol</th><th style = \"text-align: left;\">onex_vol</th><th style = \"text-align: left;\">arpu</th><th style = \"text-align: left;\">e9_service_flag</th><th style = \"text-align: left;\">e6_service_flag</th><th style = \"text-align: left;\">e9_service_premium_flag</th><th style = \"text-align: left;\">8card_service_flag</th><th style = \"text-align: left;\">smart_phone_flag</th><th style = \"text-align: left;\">card_phone_flag</th><th style = \"text-align: left;\">rural_flag</th><th style = \"text-align: left;\">employ_flag</th><th style = \"text-align: left;\">student_flag</th></tr><tr class = \"subheader headerLastRow\"><th class = \"rowNumber\" style = \"font-weight: bold; text-align: right;\"></th><th title = \"Union{Missing, String}\" style = \"text-align: left;\">String?</th><th title = \"Int32\" style = \"text-align: left;\">Int32</th><th title = \"Union{Missing, Int64}\" style = \"text-align: left;\">Int64?</th><th title = \"Union{Missing, String}\" style = \"text-align: left;\">String?</th><th title = \"Int32\" style = \"text-align: left;\">Int32</th><th title = \"Union{Missing, Int32}\" style = \"text-align: left;\">Int32?</th><th title = \"Union{Missing, Int64}\" style = \"text-align: left;\">Int64?</th><th title = \"Union{Missing, Float32}\" style = \"text-align: left;\">Float32?</th><th title = \"Union{Missing, Float32}\" style = \"text-align: left;\">Float32?</th><th title = \"Union{Missing, Float32}\" style = \"text-align: left;\">Float32?</th><th title = \"Union{Missing, String}\" style = \"text-align: left;\">String?</th><th title = \"Union{Missing, String}\" style = \"text-align: left;\">String?</th><th title = \"Union{Missing, Float32}\" style = \"text-align: left;\">Float32?</th><th title = \"Union{Missing, Float32}\" style = \"text-align: left;\">Float32?</th><th title = \"Union{Missing, Float32}\" style = \"text-align: left;\">Float32?</th><th title = \"Union{Missing, Int64}\" style = \"text-align: left;\">Int64?</th><th title = \"Union{Missing, Int64}\" style = \"text-align: left;\">Int64?</th><th title = \"Union{Missing, Int64}\" style = \"text-align: left;\">Int64?</th><th title = \"Int32\" style = \"text-align: left;\">Int32</th><th title = \"Int32\" style = \"text-align: left;\">Int32</th><th title = \"Int32\" style = \"text-align: left;\">Int32</th><th title = \"Int32\" style = \"text-align: left;\">Int32</th><th title = \"Int32\" style = \"text-align: left;\">Int32</th><th title = \"Int32\" style = \"text-align: left;\">Int32</th></tr></thead><tbody><tr><td class = \"rowNumber\" style = \"font-weight: bold; text-align: right;\">1</td><td style = \"text-align: left;\">6m6s3n3s</td><td style = \"text-align: right;\">1</td><td style = \"text-align: right;\">32</td><td style = \"text-align: left;\">SAMSUNG</td><td style = \"text-align: right;\">5</td><td style = \"text-align: right;\">4890</td><td style = \"text-align: right;\">1</td><td style = \"text-align: right;\">176.08</td><td style = \"text-align: right;\">37.55</td><td style = \"text-align: right;\">256.16</td><td style = \"text-align: left;\">1</td><td style = \"text-align: left;\">1</td><td style = \"text-align: right;\">255.07</td><td style = \"text-align: right;\">0.03</td><td style = \"text-align: right;\">0.0</td><td style = \"text-align: right;\">1</td><td style = \"text-align: right;\">0</td><td style = \"text-align: right;\">0</td><td style = \"text-align: right;\">0</td><td style = \"text-align: right;\">1</td><td style = \"text-align: right;\">0</td><td style = \"text-align: right;\">0</td><td style = \"text-align: right;\">1</td><td style = \"text-align: right;\">0</td></tr><tr><td class = \"rowNumber\" style = \"font-weight: bold; text-align: right;\">2</td><td style = \"text-align: left;\">6twk3n3s</td><td style = \"text-align: right;\">1</td><td style = \"text-align: right;\">32</td><td style = \"text-align: left;\">中兴</td><td style = \"text-align: right;\">3</td><td style = \"text-align: right;\">899</td><td style = \"text-align: right;\">1</td><td style = \"text-align: right;\">28.75</td><td style = \"text-align: right;\">0.43</td><td style = \"text-align: right;\">45.54</td><td style = \"text-align: left;\">1</td><td style = \"text-align: left;\">0</td><td style = \"text-align: right;\">45.54</td><td style = \"text-align: right;\">0.0</td><td style = \"text-align: right;\">0.1</td><td style = \"text-align: right;\">1</td><td style = \"text-align: right;\">0</td><td style = \"text-align: right;\">0</td><td style = \"text-align: right;\">0</td><td style = \"text-align: right;\">1</td><td style = \"text-align: right;\">0</td><td style = \"text-align: right;\">0</td><td style = \"text-align: right;\">1</td><td style = \"text-align: right;\">0</td></tr><tr><td class = \"rowNumber\" style = \"font-weight: bold; text-align: right;\">3</td><td style = \"text-align: left;\">mm7pjcxf</td><td style = \"text-align: right;\">1</td><td style = \"text-align: right;\">66</td><td style = \"text-align: left;\">华立时代</td><td style = \"text-align: right;\">2</td><td style = \"text-align: right;\">330</td><td style = \"text-align: right;\">0</td><td style = \"text-align: right;\">11.5</td><td style = \"text-align: right;\">0.0</td><td style = \"text-align: right;\">0.0</td><td style = \"text-align: left;\">0</td><td style = \"text-align: left;\">0</td><td style = \"text-align: right;\">0.0</td><td style = \"text-align: right;\">0.0</td><td style = \"text-align: right;\">8.0</td><td style = \"text-align: right;\">0</td><td style = \"text-align: right;\">0</td><td style = \"text-align: right;\">0</td><td style = \"text-align: right;\">0</td><td style = \"text-align: right;\">0</td><td style = \"text-align: right;\">0</td><td style = \"text-align: right;\">0</td><td style = \"text-align: right;\">1</td><td style = \"text-align: right;\">0</td></tr><tr><td class = \"rowNumber\" style = \"font-weight: bold; text-align: right;\">4</td><td style = \"text-align: left;\">fq5m3q1g</td><td style = \"text-align: right;\">2</td><td style = \"text-align: right;\">31</td><td style = \"text-align: left;\">SAMSUNG</td><td style = \"text-align: right;\">1</td><td style = \"text-align: right;\">299</td><td style = \"text-align: right;\">0</td><td style = \"text-align: right;\">233.58</td><td style = \"text-align: right;\">0.25</td><td style = \"text-align: right;\">0.0</td><td style = \"text-align: left;\">0</td><td style = \"text-align: left;\">0</td><td style = \"text-align: right;\">0.0</td><td style = \"text-align: right;\">0.0</td><td style = \"text-align: right;\">38.0</td><td style = \"text-align: right;\">0</td><td style = \"text-align: right;\">0</td><td style = \"text-align: right;\">0</td><td style = \"text-align: right;\">0</td><td style = \"text-align: right;\">0</td><td style = \"text-align: right;\">0</td><td style = \"text-align: right;\">0</td><td style = \"text-align: right;\">1</td><td style = \"text-align: right;\">0</td></tr><tr><td class = \"rowNumber\" style = \"font-weight: bold; text-align: right;\">5</td><td style = \"text-align: left;\">4kkhjsib</td><td style = \"text-align: right;\">1</td><td style = \"text-align: right;\">50</td><td style = \"text-align: left;\">SAMSUNG</td><td style = \"text-align: right;\">1</td><td style = \"text-align: right;\">199</td><td style = \"text-align: right;\">0</td><td style = \"text-align: right;\">13.92</td><td style = \"text-align: right;\">0.0</td><td style = \"text-align: right;\">0.0</td><td style = \"text-align: left;\">0</td><td style = \"text-align: left;\">0</td><td style = \"text-align: right;\">0.0</td><td style = \"text-align: right;\">0.0</td><td style = \"text-align: right;\">0.0</td><td style = \"text-align: right;\">1</td><td style = \"text-align: right;\">0</td><td style = \"text-align: right;\">0</td><td style = \"text-align: right;\">0</td><td style = \"text-align: right;\">0</td><td style = \"text-align: right;\">0</td><td style = \"text-align: right;\">1</td><td style = \"text-align: right;\">1</td><td style = \"text-align: right;\">0</td></tr><tr><td class = \"rowNumber\" style = \"font-weight: bold; text-align: right;\">6</td><td style = \"text-align: left;\">iltc4wv5</td><td style = \"text-align: right;\">1</td><td style = \"text-align: right;\">39</td><td style = \"text-align: left;\">华为</td><td style = \"text-align: right;\">3</td><td style = \"text-align: right;\">1090</td><td style = \"text-align: right;\">1</td><td style = \"text-align: right;\">11.9</td><td style = \"text-align: right;\">0.0</td><td style = \"text-align: right;\">911.45</td><td style = \"text-align: left;\">1</td><td style = \"text-align: left;\">0</td><td style = \"text-align: right;\">911.45</td><td style = \"text-align: right;\">0.0</td><td style = \"text-align: right;\">6.2</td><td style = \"text-align: right;\">1</td><td style = \"text-align: right;\">0</td><td style = \"text-align: right;\">0</td><td style = \"text-align: right;\">0</td><td style = \"text-align: right;\">1</td><td style = \"text-align: right;\">0</td><td style = \"text-align: right;\">0</td><td style = \"text-align: right;\">1</td><td style = \"text-align: right;\">0</td></tr><tr><td class = \"rowNumber\" style = \"font-weight: bold; text-align: right;\">7</td><td style = \"text-align: left;\">efqbk0gj</td><td style = \"text-align: right;\">4</td><td style = \"text-align: right;\">54</td><td style = \"text-align: left;\">世纪星宇</td><td style = \"text-align: right;\">2</td><td style = \"text-align: right;\">399</td><td style = \"text-align: right;\">1</td><td style = \"text-align: right;\">38.68</td><td style = \"text-align: right;\">0.0</td><td style = \"text-align: right;\">0.0</td><td style = \"text-align: left;\">0</td><td style = \"text-align: left;\">0</td><td style = \"text-align: right;\">0.0</td><td style = \"text-align: right;\">0.0</td><td style = \"text-align: right;\">0.0</td><td style = \"text-align: right;\">0</td><td style = \"text-align: right;\">0</td><td style = \"text-align: right;\">0</td><td style = \"text-align: right;\">0</td><td style = \"text-align: right;\">0</td><td style = \"text-align: right;\">0</td><td style = \"text-align: right;\">0</td><td style = \"text-align: right;\">1</td><td style = \"text-align: right;\">0</td></tr><tr><td class = \"rowNumber\" style = \"font-weight: bold; text-align: right;\">8</td><td style = \"text-align: left;\">bvdlk0dq</td><td style = \"text-align: right;\">1</td><td style = \"text-align: right;\">39</td><td style = \"text-align: left;\">华为</td><td style = \"text-align: right;\">3</td><td style = \"text-align: right;\">838</td><td style = \"text-align: right;\">1</td><td style = \"text-align: right;\">40.98</td><td style = \"text-align: right;\">23.43</td><td style = \"text-align: right;\">86.5</td><td style = \"text-align: left;\">1</td><td style = \"text-align: left;\">0</td><td style = \"text-align: right;\">86.5</td><td style = \"text-align: right;\">0.0</td><td style = \"text-align: right;\">66.56</td><td style = \"text-align: right;\">1</td><td style = \"text-align: right;\">0</td><td style = \"text-align: right;\">0</td><td style = \"text-align: right;\">0</td><td style = \"text-align: right;\">1</td><td style = \"text-align: right;\">0</td><td style = \"text-align: right;\">1</td><td style = \"text-align: right;\">1</td><td style = \"text-align: right;\">0</td></tr><tr><td class = \"rowNumber\" style = \"font-weight: bold; text-align: right;\">9</td><td style = \"text-align: left;\">hbvgl0f1</td><td style = \"text-align: right;\">4</td><td style = \"text-align: right;\">31</td><td style = \"text-align: left;\">中兴</td><td style = \"text-align: right;\">1</td><td style = \"text-align: right;\">199</td><td style = \"text-align: right;\">0</td><td style = \"text-align: right;\">31.03</td><td style = \"text-align: right;\">16.15</td><td style = \"text-align: right;\">0.0</td><td style = \"text-align: left;\">0</td><td style = \"text-align: left;\">0</td><td style = \"text-align: right;\">0.0</td><td style = \"text-align: right;\">0.0</td><td style = \"text-align: right;\">6.0</td><td style = \"text-align: right;\">1</td><td style = \"text-align: right;\">0</td><td style = \"text-align: right;\">0</td><td style = \"text-align: right;\">0</td><td style = \"text-align: right;\">0</td><td style = \"text-align: right;\">0</td><td style = \"text-align: right;\">1</td><td style = \"text-align: right;\">1</td><td style = \"text-align: right;\">0</td></tr><tr><td class = \"rowNumber\" style = \"font-weight: bold; text-align: right;\">10</td><td style = \"text-align: left;\">fana3pks</td><td style = \"text-align: right;\">2</td><td style = \"text-align: right;\">42</td><td style = \"text-align: left;\">SAMSUNG</td><td style = \"text-align: right;\">2</td><td style = \"text-align: right;\">599</td><td style = \"text-align: right;\">1</td><td style = \"text-align: right;\">13.47</td><td style = \"text-align: right;\">234.18</td><td style = \"text-align: right;\">88.01</td><td style = \"text-align: left;\">1</td><td style = \"text-align: left;\">1</td><td style = \"text-align: right;\">87.74</td><td style = \"text-align: right;\">0.03</td><td style = \"text-align: right;\">276.45</td><td style = \"text-align: right;\">1</td><td style = \"text-align: right;\">0</td><td style = \"text-align: right;\">0</td><td style = \"text-align: right;\">0</td><td style = \"text-align: right;\">1</td><td style = \"text-align: right;\">0</td><td style = \"text-align: right;\">0</td><td style = \"text-align: right;\">1</td><td style = \"text-align: right;\">0</td></tr><tr><td class = \"rowNumber\" style = \"font-weight: bold; text-align: right;\">11</td><td style = \"text-align: left;\">eospjcuj</td><td style = \"text-align: right;\">1</td><td style = \"text-align: right;\">69</td><td style = \"text-align: left;\">广信</td><td style = \"text-align: right;\">2</td><td style = \"text-align: right;\">599</td><td style = \"text-align: right;\">0</td><td style = \"text-align: right;\">0.0</td><td style = \"text-align: right;\">0.0</td><td style = \"text-align: right;\">0.0</td><td style = \"text-align: left;\">0</td><td style = \"text-align: left;\">0</td><td style = \"text-align: right;\">0.0</td><td style = \"text-align: right;\">0.0</td><td style = \"text-align: right;\">8.2</td><td style = \"text-align: right;\">0</td><td style = \"text-align: right;\">0</td><td style = \"text-align: right;\">0</td><td style = \"text-align: right;\">0</td><td style = \"text-align: right;\">0</td><td style = \"text-align: right;\">0</td><td style = \"text-align: right;\">0</td><td style = \"text-align: right;\">1</td><td style = \"text-align: right;\">0</td></tr><tr><td class = \"rowNumber\" style = \"font-weight: bold; text-align: right;\">12</td><td style = \"text-align: left;\">knjg3a5a</td><td style = \"text-align: right;\">2</td><td style = \"text-align: right;\">46</td><td style = \"text-align: left;\">华为</td><td style = \"text-align: right;\">3</td><td style = \"text-align: right;\">990</td><td style = \"text-align: right;\">1</td><td style = \"text-align: right;\">1.98</td><td style = \"text-align: right;\">20.13</td><td style = \"text-align: right;\">51.62</td><td style = \"text-align: left;\">0</td><td style = \"text-align: left;\">1</td><td style = \"text-align: right;\">0.0</td><td style = \"text-align: right;\">51.62</td><td style = \"text-align: right;\">0.0</td><td style = \"text-align: right;\">1</td><td style = \"text-align: right;\">0</td><td style = \"text-align: right;\">0</td><td style = \"text-align: right;\">0</td><td style = \"text-align: right;\">1</td><td style = \"text-align: right;\">0</td><td style = \"text-align: right;\">0</td><td style = \"text-align: right;\">1</td><td style = \"text-align: right;\">0</td></tr><tr><td class = \"rowNumber\" style = \"font-weight: bold; text-align: right;\">13</td><td style = \"text-align: left;\">kyus2ccm</td><td style = \"text-align: right;\">2</td><td style = \"text-align: right;\">49</td><td style = \"text-align: left;\">广信</td><td style = \"text-align: right;\">3</td><td style = \"text-align: right;\">1030</td><td style = \"text-align: right;\">1</td><td style = \"text-align: right;\">26.63</td><td style = \"text-align: right;\">1.88</td><td style = \"text-align: right;\">0.9</td><td style = \"text-align: left;\">1</td><td style = \"text-align: left;\">0</td><td style = \"text-align: right;\">0.9</td><td style = \"text-align: right;\">0.0</td><td style = \"text-align: right;\">38.0</td><td style = \"text-align: right;\">1</td><td style = \"text-align: right;\">0</td><td style = \"text-align: right;\">0</td><td style = \"text-align: right;\">0</td><td style = \"text-align: right;\">0</td><td style = \"text-align: right;\">0</td><td style = \"text-align: right;\">0</td><td style = \"text-align: right;\">1</td><td style = \"text-align: right;\">0</td></tr><tr><td style = \"text-align: right;\">&vellip;</td><td style = \"text-align: right;\">&vellip;</td><td style = \"text-align: right;\">&vellip;</td><td style = \"text-align: right;\">&vellip;</td><td style = \"text-align: right;\">&vellip;</td><td style = \"text-align: right;\">&vellip;</td><td style = \"text-align: right;\">&vellip;</td><td style = \"text-align: right;\">&vellip;</td><td style = \"text-align: right;\">&vellip;</td><td style = \"text-align: right;\">&vellip;</td><td style = \"text-align: right;\">&vellip;</td><td style = \"text-align: right;\">&vellip;</td><td style = \"text-align: right;\">&vellip;</td><td style = \"text-align: right;\">&vellip;</td><td style = \"text-align: right;\">&vellip;</td><td style = \"text-align: right;\">&vellip;</td><td style = \"text-align: right;\">&vellip;</td><td style = \"text-align: right;\">&vellip;</td><td style = \"text-align: right;\">&vellip;</td><td style = \"text-align: right;\">&vellip;</td><td style = \"text-align: right;\">&vellip;</td><td style = \"text-align: right;\">&vellip;</td><td style = \"text-align: right;\">&vellip;</td><td style = \"text-align: right;\">&vellip;</td><td style = \"text-align: right;\">&vellip;</td></tr><tr><td class = \"rowNumber\" style = \"font-weight: bold; text-align: right;\">302893</td><td style = \"text-align: left;\">n4304pov</td><td style = \"text-align: right;\">6</td><td style = \"text-align: right;\">62</td><td style = \"text-align: left;\">华为</td><td style = \"text-align: right;\">3</td><td style = \"text-align: right;\">838</td><td style = \"text-align: right;\">1</td><td style = \"text-align: right;\">6.45</td><td style = \"text-align: right;\">0.28</td><td style = \"text-align: right;\">157.71</td><td style = \"text-align: left;\">1</td><td style = \"text-align: left;\">0</td><td style = \"text-align: right;\">157.59</td><td style = \"text-align: right;\">0.0</td><td style = \"text-align: right;\">38.0</td><td style = \"text-align: right;\">0</td><td style = \"text-align: right;\">0</td><td style = \"text-align: right;\">0</td><td style = \"text-align: right;\">0</td><td style = \"text-align: right;\">1</td><td style = \"text-align: right;\">0</td><td style = \"text-align: right;\">0</td><td style = \"text-align: right;\">1</td><td style = \"text-align: right;\">0</td></tr><tr><td class = \"rowNumber\" style = \"font-weight: bold; text-align: right;\">302894</td><td style = \"text-align: left;\">jomk5rvu</td><td style = \"text-align: right;\">6</td><td style = \"text-align: right;\">52</td><td style = \"text-align: left;\">华为</td><td style = \"text-align: right;\">4</td><td style = \"text-align: right;\">1890</td><td style = \"text-align: right;\">1</td><td style = \"text-align: right;\">74.58</td><td style = \"text-align: right;\">34.12</td><td style = \"text-align: right;\">18.49</td><td style = \"text-align: left;\">1</td><td style = \"text-align: left;\">0</td><td style = \"text-align: right;\">18.48</td><td style = \"text-align: right;\">0.0</td><td style = \"text-align: right;\">25.0</td><td style = \"text-align: right;\">0</td><td style = \"text-align: right;\">0</td><td style = \"text-align: right;\">0</td><td style = \"text-align: right;\">0</td><td style = \"text-align: right;\">1</td><td style = \"text-align: right;\">0</td><td style = \"text-align: right;\">0</td><td style = \"text-align: right;\">1</td><td style = \"text-align: right;\">0</td></tr><tr><td class = \"rowNumber\" style = \"font-weight: bold; text-align: right;\">302895</td><td style = \"text-align: left;\">5z4hjhs7</td><td style = \"text-align: right;\">1</td><td style = \"text-align: right;\">40</td><td style = \"text-align: left;\">小米</td><td style = \"text-align: right;\">4</td><td style = \"text-align: right;\">2399</td><td style = \"text-align: right;\">1</td><td style = \"text-align: right;\">113.25</td><td style = \"text-align: right;\">47.98</td><td style = \"text-align: right;\">389.4</td><td style = \"text-align: left;\">1</td><td style = \"text-align: left;\">1</td><td style = \"text-align: right;\">382.58</td><td style = \"text-align: right;\">6.83</td><td style = \"text-align: right;\">20.1</td><td style = \"text-align: right;\">1</td><td style = \"text-align: right;\">0</td><td style = \"text-align: right;\">0</td><td style = \"text-align: right;\">0</td><td style = \"text-align: right;\">1</td><td style = \"text-align: right;\">0</td><td style = \"text-align: right;\">0</td><td style = \"text-align: right;\">1</td><td style = \"text-align: right;\">0</td></tr><tr><td class = \"rowNumber\" style = \"font-weight: bold; text-align: right;\">302896</td><td style = \"text-align: left;\">iau7455x</td><td style = \"text-align: right;\">5</td><td style = \"text-align: right;\">30</td><td style = \"text-align: left;\">SAMSUNG</td><td style = \"text-align: right;\">3</td><td style = \"text-align: right;\">890</td><td style = \"text-align: right;\">1</td><td style = \"text-align: right;\">27.77</td><td style = \"text-align: right;\">0.0</td><td style = \"text-align: right;\">751.45</td><td style = \"text-align: left;\">1</td><td style = \"text-align: left;\">0</td><td style = \"text-align: right;\">751.45</td><td style = \"text-align: right;\">0.0</td><td style = \"text-align: right;\">5.56</td><td style = \"text-align: right;\">1</td><td style = \"text-align: right;\">0</td><td style = \"text-align: right;\">0</td><td style = \"text-align: right;\">0</td><td style = \"text-align: right;\">1</td><td style = \"text-align: right;\">0</td><td style = \"text-align: right;\">1</td><td style = \"text-align: right;\">1</td><td style = \"text-align: right;\">0</td></tr><tr><td class = \"rowNumber\" style = \"font-weight: bold; text-align: right;\">302897</td><td style = \"text-align: left;\">8p49jd8d</td><td style = \"text-align: right;\">5</td><td style = \"text-align: right;\">26</td><td style = \"text-align: left;\">优思</td><td style = \"text-align: right;\">2</td><td style = \"text-align: right;\">678</td><td style = \"text-align: right;\">0</td><td style = \"text-align: right;\">66.25</td><td style = \"text-align: right;\">102.92</td><td style = \"text-align: right;\">1.27</td><td style = \"text-align: left;\">0</td><td style = \"text-align: left;\">1</td><td style = \"text-align: right;\">0.0</td><td style = \"text-align: right;\">1.27</td><td style = \"text-align: right;\">53.0</td><td style = \"text-align: right;\">1</td><td style = \"text-align: right;\">0</td><td style = \"text-align: right;\">0</td><td style = \"text-align: right;\">0</td><td style = \"text-align: right;\">0</td><td style = \"text-align: right;\">0</td><td style = \"text-align: right;\">0</td><td style = \"text-align: right;\">1</td><td style = \"text-align: right;\">0</td></tr><tr><td class = \"rowNumber\" style = \"font-weight: bold; text-align: right;\">302898</td><td style = \"text-align: left;\">hjuo4xbt</td><td style = \"text-align: right;\">1</td><td style = \"text-align: right;\">30</td><td style = \"text-align: left;\">SAMSUNG</td><td style = \"text-align: right;\">4</td><td style = \"text-align: right;\">2980</td><td style = \"text-align: right;\">1</td><td style = \"text-align: right;\">79.25</td><td style = \"text-align: right;\">9.73</td><td style = \"text-align: right;\">292.21</td><td style = \"text-align: left;\">1</td><td style = \"text-align: left;\">0</td><td style = \"text-align: right;\">292.21</td><td style = \"text-align: right;\">0.0</td><td style = \"text-align: right;\">75.39</td><td style = \"text-align: right;\">1</td><td style = \"text-align: right;\">0</td><td style = \"text-align: right;\">0</td><td style = \"text-align: right;\">0</td><td style = \"text-align: right;\">1</td><td style = \"text-align: right;\">0</td><td style = \"text-align: right;\">0</td><td style = \"text-align: right;\">1</td><td style = \"text-align: right;\">0</td></tr><tr><td class = \"rowNumber\" style = \"font-weight: bold; text-align: right;\">302899</td><td style = \"text-align: left;\">lihc3hxv</td><td style = \"text-align: right;\">2</td><td style = \"text-align: right;\">29</td><td style = \"text-align: left;\">SAMSUNG</td><td style = \"text-align: right;\">2</td><td style = \"text-align: right;\">499</td><td style = \"text-align: right;\">1</td><td style = \"text-align: right;\">33.7</td><td style = \"text-align: right;\">0.0</td><td style = \"text-align: right;\">0.0</td><td style = \"text-align: left;\">0</td><td style = \"text-align: left;\">0</td><td style = \"text-align: right;\">0.0</td><td style = \"text-align: right;\">0.0</td><td style = \"text-align: right;\">7.55</td><td style = \"text-align: right;\">1</td><td style = \"text-align: right;\">0</td><td style = \"text-align: right;\">0</td><td style = \"text-align: right;\">0</td><td style = \"text-align: right;\">0</td><td style = \"text-align: right;\">0</td><td style = \"text-align: right;\">0</td><td style = \"text-align: right;\">1</td><td style = \"text-align: right;\">0</td></tr><tr><td class = \"rowNumber\" style = \"font-weight: bold; text-align: right;\">302900</td><td style = \"text-align: left;\">fjeyknj4</td><td style = \"text-align: right;\">1</td><td style = \"text-align: right;\">27</td><td style = \"text-align: left;\">广信</td><td style = \"text-align: right;\">1</td><td style = \"text-align: right;\">199</td><td style = \"text-align: right;\">0</td><td style = \"text-align: right;\">153.73</td><td style = \"text-align: right;\">5.82</td><td style = \"text-align: right;\">0.0</td><td style = \"text-align: left;\">0</td><td style = \"text-align: left;\">0</td><td style = \"text-align: right;\">0.0</td><td style = \"text-align: right;\">0.0</td><td style = \"text-align: right;\">24.01</td><td style = \"text-align: right;\">1</td><td style = \"text-align: right;\">0</td><td style = \"text-align: right;\">0</td><td style = \"text-align: right;\">0</td><td style = \"text-align: right;\">0</td><td style = \"text-align: right;\">0</td><td style = \"text-align: right;\">0</td><td style = \"text-align: right;\">1</td><td style = \"text-align: right;\">0</td></tr><tr><td class = \"rowNumber\" style = \"font-weight: bold; text-align: right;\">302901</td><td style = \"text-align: left;\">6lvo2c9o</td><td style = \"text-align: right;\">2</td><td style = \"text-align: right;\">18</td><td style = \"text-align: left;\">苹果</td><td style = \"text-align: right;\">5</td><td style = \"text-align: right;\">5288</td><td style = \"text-align: right;\">1</td><td style = \"text-align: right;\">311.72</td><td style = \"text-align: right;\">98.32</td><td style = \"text-align: right;\">2920.26</td><td style = \"text-align: left;\">1</td><td style = \"text-align: left;\">1</td><td style = \"text-align: right;\">2920.26</td><td style = \"text-align: right;\">0.0</td><td style = \"text-align: right;\">34.3</td><td style = \"text-align: right;\">0</td><td style = \"text-align: right;\">0</td><td style = \"text-align: right;\">0</td><td style = \"text-align: right;\">0</td><td style = \"text-align: right;\">1</td><td style = \"text-align: right;\">0</td><td style = \"text-align: right;\">0</td><td style = \"text-align: right;\">1</td><td style = \"text-align: right;\">0</td></tr><tr><td class = \"rowNumber\" style = \"font-weight: bold; text-align: right;\">302902</td><td style = \"text-align: left;\">k42g3uo6</td><td style = \"text-align: right;\">2</td><td style = \"text-align: right;\">31</td><td style = \"text-align: left;\">葳朗</td><td style = \"text-align: right;\">2</td><td style = \"text-align: right;\">399</td><td style = \"text-align: right;\">1</td><td style = \"text-align: right;\">12.58</td><td style = \"text-align: right;\">40.98</td><td style = \"text-align: right;\">43.34</td><td style = \"text-align: left;\">1</td><td style = \"text-align: left;\">1</td><td style = \"text-align: right;\">41.48</td><td style = \"text-align: right;\">1.86</td><td style = \"text-align: right;\">105.65</td><td style = \"text-align: right;\">0</td><td style = \"text-align: right;\">0</td><td style = \"text-align: right;\">0</td><td style = \"text-align: right;\">0</td><td style = \"text-align: right;\">0</td><td style = \"text-align: right;\">0</td><td style = \"text-align: right;\">1</td><td style = \"text-align: right;\">1</td><td style = \"text-align: right;\">0</td></tr><tr><td class = \"rowNumber\" style = \"font-weight: bold; text-align: right;\">302903</td><td style = \"text-align: left;\">8uxw3i8t</td><td style = \"text-align: right;\">5</td><td style = \"text-align: right;\">44</td><td style = \"text-align: left;\">酷派</td><td style = \"text-align: right;\">3</td><td style = \"text-align: right;\">899</td><td style = \"text-align: right;\">1</td><td style = \"text-align: right;\">7.28</td><td style = \"text-align: right;\">0.35</td><td style = \"text-align: right;\">53.28</td><td style = \"text-align: left;\">1</td><td style = \"text-align: left;\">0</td><td style = \"text-align: right;\">53.28</td><td style = \"text-align: right;\">0.0</td><td style = \"text-align: right;\">21.68</td><td style = \"text-align: right;\">1</td><td style = \"text-align: right;\">0</td><td style = \"text-align: right;\">0</td><td style = \"text-align: right;\">0</td><td style = \"text-align: right;\">1</td><td style = \"text-align: right;\">0</td><td style = \"text-align: right;\">0</td><td style = \"text-align: right;\">1</td><td style = \"text-align: right;\">0</td></tr><tr><td class = \"rowNumber\" style = \"font-weight: bold; text-align: right;\">302904</td><td style = \"text-align: left;\">cxc9k0gj</td><td style = \"text-align: right;\">2</td><td style = \"text-align: right;\">59</td><td style = \"text-align: left;\">SAMSUNG</td><td style = \"text-align: right;\">4</td><td style = \"text-align: right;\">1698</td><td style = \"text-align: right;\">1</td><td style = \"text-align: right;\">20.15</td><td style = \"text-align: right;\">11.58</td><td style = \"text-align: right;\">128.7</td><td style = \"text-align: left;\">1</td><td style = \"text-align: left;\">0</td><td style = \"text-align: right;\">128.7</td><td style = \"text-align: right;\">0.0</td><td style = \"text-align: right;\">65.39</td><td style = \"text-align: right;\">1</td><td style = \"text-align: right;\">0</td><td style = \"text-align: right;\">0</td><td style = \"text-align: right;\">0</td><td style = \"text-align: right;\">0</td><td style = \"text-align: right;\">0</td><td style = \"text-align: right;\">0</td><td style = \"text-align: right;\">1</td><td style = \"text-align: right;\">0</td></tr></tbody></table></div>"
      ],
      "text/latex": [
       "\\begin{tabular}{r|cccccccc}\n",
       "\t& client\\_nbr & register\\_district & age & phone\\_brand & phone\\_level & phone\\_price & evdo\\_support\\_flag & \\\\\n",
       "\t\\hline\n",
       "\t& String? & Int32 & Int64? & String? & Int32 & Int32? & Int64? & \\\\\n",
       "\t\\hline\n",
       "\t1 & 6m6s3n3s & 1 & 32 & SAMSUNG & 5 & 4890 & 1 & $\\dots$ \\\\\n",
       "\t2 & 6twk3n3s & 1 & 32 & 中兴 & 3 & 899 & 1 & $\\dots$ \\\\\n",
       "\t3 & mm7pjcxf & 1 & 66 & 华立时代 & 2 & 330 & 0 & $\\dots$ \\\\\n",
       "\t4 & fq5m3q1g & 2 & 31 & SAMSUNG & 1 & 299 & 0 & $\\dots$ \\\\\n",
       "\t5 & 4kkhjsib & 1 & 50 & SAMSUNG & 1 & 199 & 0 & $\\dots$ \\\\\n",
       "\t6 & iltc4wv5 & 1 & 39 & 华为 & 3 & 1090 & 1 & $\\dots$ \\\\\n",
       "\t7 & efqbk0gj & 4 & 54 & 世纪星宇 & 2 & 399 & 1 & $\\dots$ \\\\\n",
       "\t8 & bvdlk0dq & 1 & 39 & 华为 & 3 & 838 & 1 & $\\dots$ \\\\\n",
       "\t9 & hbvgl0f1 & 4 & 31 & 中兴 & 1 & 199 & 0 & $\\dots$ \\\\\n",
       "\t10 & fana3pks & 2 & 42 & SAMSUNG & 2 & 599 & 1 & $\\dots$ \\\\\n",
       "\t11 & eospjcuj & 1 & 69 & 广信 & 2 & 599 & 0 & $\\dots$ \\\\\n",
       "\t12 & knjg3a5a & 2 & 46 & 华为 & 3 & 990 & 1 & $\\dots$ \\\\\n",
       "\t13 & kyus2ccm & 2 & 49 & 广信 & 3 & 1030 & 1 & $\\dots$ \\\\\n",
       "\t14 & ic972ush & 3 & 43 & 博瑞 & 2 & 399 & 1 & $\\dots$ \\\\\n",
       "\t15 & 6xitjsw8 & 1 & 40 & 蓝天 & 1 & 199 & 0 & $\\dots$ \\\\\n",
       "\t16 & czatjd2v & 2 & 65 & 华为 & 3 & 990 & 1 & $\\dots$ \\\\\n",
       "\t17 & dcubk02n & 2 & 46 & 中兴 & 2 & 499 & 1 & $\\dots$ \\\\\n",
       "\t18 & acy23ih5 & 2 & 49 & 广信 & 1 & 199 & 0 & $\\dots$ \\\\\n",
       "\t19 & i6qkl0c9 & 4 & 21 & 海信 & 1 & 156 & 0 & $\\dots$ \\\\\n",
       "\t20 & 2ne43ag6 & 2 & 25 & SAMSUNG & 1 & 199 & 0 & $\\dots$ \\\\\n",
       "\t21 & 5haslxqv & 3 & 32 & 华为 & 3 & 838 & 1 & $\\dots$ \\\\\n",
       "\t22 & 8v0v4509 & 3 & 50 & SAMSUNG & 5 & 5688 & 1 & $\\dots$ \\\\\n",
       "\t23 & jd3z455y & 3 & 39 & 蓝天 & 1 & 199 & 0 & $\\dots$ \\\\\n",
       "\t24 & 7to1jdgo & 1 & 52 & SAMSUNG & 3 & 1480 & 0 & $\\dots$ \\\\\n",
       "\t25 & e40c5zzf & 6 & 34 & MOTO & 3 & 1180 & 1 & $\\dots$ \\\\\n",
       "\t26 & hoyklxr1 & 2 & 35 & SAMSUNG & 4 & 1999 & 1 & $\\dots$ \\\\\n",
       "\t27 & d72ukuuz & 3 & 40 & 蓝天 & 1 & 199 & 0 & $\\dots$ \\\\\n",
       "\t28 & kh9qknge & 2 & 32 & SAMSUNG & 3 & 990 & 1 & $\\dots$ \\\\\n",
       "\t29 & 6iewlxd0 & 1 & 31 & 华为 & 3 & 799 & 1 & $\\dots$ \\\\\n",
       "\t30 & i4pakngd & 2 & 78 & SAMSUNG & 1 & 199 & 0 & $\\dots$ \\\\\n",
       "\t$\\dots$ & $\\dots$ & $\\dots$ & $\\dots$ & $\\dots$ & $\\dots$ & $\\dots$ & $\\dots$ &  \\\\\n",
       "\\end{tabular}\n"
      ],
      "text/plain": [
       "\u001b[1m302904×24 DataFrame\u001b[0m\n",
       "\u001b[1m    Row \u001b[0m│\u001b[1m client_nbr \u001b[0m\u001b[1m register_district \u001b[0m\u001b[1m age    \u001b[0m\u001b[1m phone_brand \u001b[0m\u001b[1m phone_level \u001b[0m\u001b[1m pho\u001b[0m ⋯\n",
       "        │\u001b[90m String?    \u001b[0m\u001b[90m Int32             \u001b[0m\u001b[90m Int64? \u001b[0m\u001b[90m String?     \u001b[0m\u001b[90m Int32       \u001b[0m\u001b[90m Int\u001b[0m ⋯\n",
       "────────┼───────────────────────────────────────────────────────────────────────\n",
       "      1 │ 6m6s3n3s                    1      32  SAMSUNG                5      ⋯\n",
       "      2 │ 6twk3n3s                    1      32  中兴                   3\n",
       "      3 │ mm7pjcxf                    1      66  华立时代               2\n",
       "      4 │ fq5m3q1g                    2      31  SAMSUNG                1\n",
       "      5 │ 4kkhjsib                    1      50  SAMSUNG                1      ⋯\n",
       "      6 │ iltc4wv5                    1      39  华为                   3\n",
       "      7 │ efqbk0gj                    4      54  世纪星宇               2\n",
       "      8 │ bvdlk0dq                    1      39  华为                   3\n",
       "      9 │ hbvgl0f1                    4      31  中兴                   1      ⋯\n",
       "     10 │ fana3pks                    2      42  SAMSUNG                2\n",
       "     11 │ eospjcuj                    1      69  广信                   2\n",
       "   ⋮    │     ⋮               ⋮            ⋮          ⋮            ⋮           ⋱\n",
       " 302895 │ 5z4hjhs7                    1      40  小米                   4\n",
       " 302896 │ iau7455x                    5      30  SAMSUNG                3      ⋯\n",
       " 302897 │ 8p49jd8d                    5      26  优思                   2\n",
       " 302898 │ hjuo4xbt                    1      30  SAMSUNG                4\n",
       " 302899 │ lihc3hxv                    2      29  SAMSUNG                2\n",
       " 302900 │ fjeyknj4                    1      27  广信                   1      ⋯\n",
       " 302901 │ 6lvo2c9o                    2      18  苹果                   5\n",
       " 302902 │ k42g3uo6                    2      31  葳朗                   2\n",
       " 302903 │ 8uxw3i8t                    5      44  酷派                   3\n",
       " 302904 │ cxc9k0gj                    2      59  SAMSUNG                4      ⋯\n",
       "\u001b[36m                                              19 columns and 302883 rows omitted\u001b[0m"
      ]
     },
     "execution_count": 20,
     "metadata": {},
     "output_type": "execute_result"
    }
   ],
   "source": [
    "sql = \"\"\"\n",
    "SELECT\n",
    "    *\n",
    "FROM clean_user_info\n",
    "\"\"\"\n",
    "user_info = DBInterface.execute(conn, sql) |> DataFrame"
   ]
  },
  {
   "cell_type": "code",
   "execution_count": 21,
   "id": "efe1a008",
   "metadata": {},
   "outputs": [
    {
     "data": {
      "text/plain": [
       "4"
      ]
     },
     "execution_count": 21,
     "metadata": {},
     "output_type": "execute_result"
    }
   ],
   "source": [
    "write_parquet(\"../../../data/processed/user_info.parquet\", user_info)"
   ]
  }
 ],
 "metadata": {
  "kernelspec": {
   "display_name": "Julia 1.9.1",
   "language": "julia",
   "name": "julia-1.9"
  },
  "language_info": {
   "file_extension": ".jl",
   "mimetype": "application/julia",
   "name": "julia",
   "version": "1.9.1"
  }
 },
 "nbformat": 4,
 "nbformat_minor": 5
}
