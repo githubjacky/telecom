{
 "cells": [
  {
   "cell_type": "code",
   "execution_count": 1,
   "id": "0383fa89",
   "metadata": {},
   "outputs": [
    {
     "data": {
      "text/html": [
       "<span style=\"None\">Found pyproject.toml from &#x27;/Users/jacky/github/telecom&#x27;</span>"
      ],
      "text/plain": [
       "Found pyproject.toml from '/Users/jacky/github/telecom'"
      ]
     },
     "metadata": {},
     "output_type": "display_data"
    }
   ],
   "source": [
    "from sqlalchemy import create_engine\n",
    "\n",
    "\n",
    "engine = create_engine('mysql+pyodbc://telecom')\n",
    "%load_ext sql\n",
    "%sql engine\n",
    "%config SqlMagic.autopandas = True"
   ]
  },
  {
   "cell_type": "code",
   "execution_count": 2,
   "id": "21390da8",
   "metadata": {},
   "outputs": [
    {
     "data": {
      "text/html": [
       "<span style=\"None\">Running query in &#x27;mysql+pyodbc://telecom&#x27;</span>"
      ],
      "text/plain": [
       "Running query in 'mysql+pyodbc://telecom'"
      ]
     },
     "metadata": {},
     "output_type": "display_data"
    },
    {
     "data": {
      "text/html": [
       "<span style=\"color: green\">10 rows affected.</span>"
      ],
      "text/plain": [
       "10 rows affected."
      ]
     },
     "metadata": {},
     "output_type": "display_data"
    },
    {
     "data": {
      "text/html": [
       "<div>\n",
       "<style scoped>\n",
       "    .dataframe tbody tr th:only-of-type {\n",
       "        vertical-align: middle;\n",
       "    }\n",
       "\n",
       "    .dataframe tbody tr th {\n",
       "        vertical-align: top;\n",
       "    }\n",
       "\n",
       "    .dataframe thead th {\n",
       "        text-align: right;\n",
       "    }\n",
       "</style>\n",
       "<table border=\"1\" class=\"dataframe\">\n",
       "  <thead>\n",
       "    <tr style=\"text-align: right;\">\n",
       "      <th></th>\n",
       "      <th>Tables_in_telecom</th>\n",
       "    </tr>\n",
       "  </thead>\n",
       "  <tbody>\n",
       "    <tr>\n",
       "      <th>0</th>\n",
       "      <td>cinfo_xy</td>\n",
       "    </tr>\n",
       "    <tr>\n",
       "      <th>1</th>\n",
       "      <td>sample_sight_201308</td>\n",
       "    </tr>\n",
       "    <tr>\n",
       "      <th>2</th>\n",
       "      <td>sample_user_201308</td>\n",
       "    </tr>\n",
       "    <tr>\n",
       "      <th>3</th>\n",
       "      <td>serv_acct_item_0838_201308</td>\n",
       "    </tr>\n",
       "    <tr>\n",
       "      <th>4</th>\n",
       "      <td>serv_acct_item_0838_201406</td>\n",
       "    </tr>\n",
       "    <tr>\n",
       "      <th>5</th>\n",
       "      <td>tb_asz_cdma_0838_201308</td>\n",
       "    </tr>\n",
       "    <tr>\n",
       "      <th>6</th>\n",
       "      <td>tb_asz_cdma_0838_201406</td>\n",
       "    </tr>\n",
       "    <tr>\n",
       "      <th>7</th>\n",
       "      <td>tower</td>\n",
       "    </tr>\n",
       "    <tr>\n",
       "      <th>8</th>\n",
       "      <td>tower_center</td>\n",
       "    </tr>\n",
       "    <tr>\n",
       "      <th>9</th>\n",
       "      <td>tower_hot_201308</td>\n",
       "    </tr>\n",
       "  </tbody>\n",
       "</table>\n",
       "</div>"
      ],
      "text/plain": [
       "            Tables_in_telecom\n",
       "0                    cinfo_xy\n",
       "1         sample_sight_201308\n",
       "2          sample_user_201308\n",
       "3  serv_acct_item_0838_201308\n",
       "4  serv_acct_item_0838_201406\n",
       "5     tb_asz_cdma_0838_201308\n",
       "6     tb_asz_cdma_0838_201406\n",
       "7                       tower\n",
       "8                tower_center\n",
       "9            tower_hot_201308"
      ]
     },
     "execution_count": 2,
     "metadata": {},
     "output_type": "execute_result"
    }
   ],
   "source": [
    "%sql SHOW tables"
   ]
  },
  {
   "cell_type": "markdown",
   "id": "a0278af9",
   "metadata": {},
   "source": [
    "# creation of the table *tower_hot_201308*"
   ]
  },
  {
   "cell_type": "markdown",
   "id": "a7b32f1a",
   "metadata": {},
   "source": [
    "```sql\n",
    "CREATE TABLE sight_xy_201308 (\n",
    "\tSELECT \n",
    "        A.SERV_ID, A.ACC_NBR, A.MONTH_NO, A.LAC, A.CELL_ID, B.LON, B.LAT, B.X, B.Y\n",
    "\t    SUBSTRING_INDEX(A.START_TIME,' ',1) AS DATE,\n",
    "        DAYOFWEEK(SUBSTRING_INDEX(A.START_TIME,' ',1)) AS WEEK_DAY,\n",
    "\t    CONVERT(SUBSTRING_INDEX(SUBSTRING_INDEX(A.START_TIME,' ',-1),':',1),UNSIGNED) AS HOUR_NO,\n",
    "\tFROM serv_acct_item_0838_201308 A JOIN tower B\n",
    "\tON A.CELL_ID=B.CELL_16\n",
    "\tWHERE \n",
    "        A.LAC!='-1' AND \n",
    "        A.LAC!='0' AND \n",
    "        A.START_TIME LIKE '____/%/% %:__:__'\n",
    ");\n",
    "CREATE INDEX xy_sight_201308 ON sight_xy_201308(LON, LAT);\n",
    "CREATE INDEX weekhour_xy_201308 ON sight_xy_201308(WEEK_DAY, HOUR_NO);\n",
    "```"
   ]
  },
  {
   "cell_type": "markdown",
   "id": "71cb251e",
   "metadata": {},
   "source": [
    "- The table *sight_xy_201308* is created by jointing calling records with the tower informatin on *cell*\n",
    "- We can also observe that the calling records' *CELL_ID* share similarity with tower information's *CELL_16*\n",
    "- Moreover, outliers include -1, 0 in *LAC*\n",
    "- More information of *LAC(location area code)* can be found [here](https://www.simbase.com/iot-glossary-dictionary/location-area-code)."
   ]
  },
  {
   "cell_type": "markdown",
   "id": "4cdee224",
   "metadata": {},
   "source": [
    "### experiments - SUBSTRING_INDEX, DAYOFWEEK\n",
    "- join statement with limit shuld use \n",
    "- day of week start at Sunday(1), So 5 means Thursday\n",
    "- SUBSTRING_INDEX(string, delimiter, number)\n",
    "    - An integer indicating the number of occurrences of delim."
   ]
  },
  {
   "cell_type": "code",
   "execution_count": 23,
   "id": "d6d90474",
   "metadata": {},
   "outputs": [
    {
     "data": {
      "text/html": [
       "<span style=\"None\">Running query in &#x27;mysql+pyodbc://telecom&#x27;</span>"
      ],
      "text/plain": [
       "Running query in 'mysql+pyodbc://telecom'"
      ]
     },
     "metadata": {},
     "output_type": "display_data"
    },
    {
     "data": {
      "text/html": [
       "<span style=\"color: green\">4 rows affected.</span>"
      ],
      "text/plain": [
       "4 rows affected."
      ]
     },
     "metadata": {},
     "output_type": "display_data"
    },
    {
     "data": {
      "text/html": [
       "<div>\n",
       "<style scoped>\n",
       "    .dataframe tbody tr th:only-of-type {\n",
       "        vertical-align: middle;\n",
       "    }\n",
       "\n",
       "    .dataframe tbody tr th {\n",
       "        vertical-align: top;\n",
       "    }\n",
       "\n",
       "    .dataframe thead th {\n",
       "        text-align: right;\n",
       "    }\n",
       "</style>\n",
       "<table border=\"1\" class=\"dataframe\">\n",
       "  <thead>\n",
       "    <tr style=\"text-align: right;\">\n",
       "      <th></th>\n",
       "      <th>format</th>\n",
       "      <th>time</th>\n",
       "    </tr>\n",
       "  </thead>\n",
       "  <tbody>\n",
       "    <tr>\n",
       "      <th>0</th>\n",
       "      <td>original</td>\n",
       "      <td>2013/8/1 0:00:12</td>\n",
       "    </tr>\n",
       "    <tr>\n",
       "      <th>1</th>\n",
       "      <td>get_date</td>\n",
       "      <td>2013/8/1</td>\n",
       "    </tr>\n",
       "    <tr>\n",
       "      <th>2</th>\n",
       "      <td>get_hour</td>\n",
       "      <td>0</td>\n",
       "    </tr>\n",
       "    <tr>\n",
       "      <th>3</th>\n",
       "      <td>dayofweek</td>\n",
       "      <td>5</td>\n",
       "    </tr>\n",
       "  </tbody>\n",
       "</table>\n",
       "</div>"
      ],
      "text/plain": [
       "      format              time\n",
       "0   original  2013/8/1 0:00:12\n",
       "1   get_date          2013/8/1\n",
       "2   get_hour                 0\n",
       "3  dayofweek                 5"
      ]
     },
     "execution_count": 23,
     "metadata": {},
     "output_type": "execute_result"
    }
   ],
   "source": [
    "%%sql\n",
    "\n",
    "\n",
    "(\n",
    "    SELECT\n",
    "        'original' AS format,\n",
    "         START_TIME AS time\n",
    "    FROM serv_acct_item_0838_201308\n",
    "    LIMIT 1\n",
    ")\n",
    "UNION\n",
    "(\n",
    "    SELECT\n",
    "        'get_date' AS format,\n",
    "         SUBSTRING_INDEX(START_TIME,' ',1) AS time\n",
    "    FROM serv_acct_item_0838_201308\n",
    "    LIMIT 1\n",
    ")\n",
    "UNION\n",
    "(\n",
    "    SELECT\n",
    "        'get_hour' AS format,\n",
    "         CONVERT(SUBSTRING_INDEX(SUBSTRING_INDEX(START_TIME,' ',-1),':',1),UNSIGNED) AS time\n",
    "    FROM serv_acct_item_0838_201308\n",
    "    LIMIT 1\n",
    ")\n",
    "UNION\n",
    "(\n",
    "    SELECT\n",
    "        'dayofweek' AS format,\n",
    "         DAYOFWEEK(SUBSTRING_INDEX(START_TIME,' ',1)) AS time\n",
    "    FROM serv_acct_item_0838_201308\n",
    "    LIMIT 1\n",
    ")"
   ]
  },
  {
   "cell_type": "markdown",
   "id": "0e96839d",
   "metadata": {},
   "source": [
    "```sql\n",
    "CREATE TABLE sight_weekend_201308 (\n",
    "\tSELECT \n",
    "        LON, LAT, \n",
    "        COUNT(1) AS REC_NO\n",
    "\tFROM sight_xy_201308\n",
    "\tWHERE (WEEK_DAY=1 OR WEEK_DAY=7) AND (HOUR_NO>=10 AND HOUR_NO<22)\n",
    "\tGROUP BY LON, LAT\n",
    "\tORDER BY COUNT(1) DESC\n",
    ");\n",
    "ALTER TABLE sight_weekend_201308 ADD RANK INT AUTO_INCREMENT KEY;\n",
    "ALTER TABLE sight_weekend_201308 ADD CENTER_FLAG INT; \n",
    "UPDATE sight_weekend_201308 SET CENTER_FLAG=0;\n",
    "SET @n=(\n",
    "\tSELECT COUNT(1) FROM sight_weekend_201308\n",
    ");\n",
    "UPDATE sight_weekend_201308 SET CENTER_FLAG=1\n",
    "\tWHERE RANK<=0.01*@n;\n",
    "CREATE INDEX xy_weekend_201308 ON sight_weekend_201308(LON, LAT);\n",
    "```"
   ]
  },
  {
   "cell_type": "markdown",
   "id": "b1666448",
   "metadata": {},
   "source": [
    "- The command `Count(1)` is euqivalent to `Count(*)` returning the number of \n",
    "observatons in a column.*\n",
    "- week day = 1 is Sunday while 7 is Saturday\n",
    "- the hot flag (in this case is the center flag) for a tower is to indicate the top 1% usage"
   ]
  },
  {
   "cell_type": "markdown",
   "id": "e253fac6",
   "metadata": {},
   "source": [
    "```sql\n",
    "CREATE TABLE tower_hot_201308 (\n",
    "\tSELECT \n",
    "        -- coluns from tower table\n",
    "        A.CELL_10, A.CELL_16, A.LON, A.LAT, A.X, A.Y,\n",
    "        -- create MAIN_CENTER_FLAG column\n",
    "        -- \n",
    "        A.DEYANG_CENTER AS MAIN_CENTER_FLAG, \n",
    "\t\tIFNULL(B.CENTER_FLAG,0) AS HOT_FLAG, \n",
    "        CONVERT(A.DEYANG_CENTER,UNSIGNED)*IFNULL(B.CENTER_FLAG,0) AS HOT_MAIN_FLAG, \n",
    "\t\tIFNULL(B.CENTER_FLAG,0)-CONVERT(A.DEYANG_CENTER,UNSIGNED)*IFNULL(B.CENTER_FLAG,0) AS HOT_OTHER_FLAG\n",
    "\tFROM tower A LEFT JOIN sight_weekend_201308 B\n",
    "\tON A.LON=B.LON AND A.LAT=B.LAT\n",
    ");\n",
    "CREATE INDEX cell_tower_201308 ON tower_hot_201308(CELL_16);\n",
    "```"
   ]
  },
  {
   "cell_type": "markdown",
   "id": "1984242a",
   "metadata": {},
   "source": [
    "- IFNULL: returns a specified value if the expression is NULL.\n",
    "- HOT_OTHER FLAG menas it's under heavy traffice but the position of the tower is not in the center of deyang center"
   ]
  }
 ],
 "metadata": {
  "@webio": {
   "lastCommId": null,
   "lastKernelId": null
  },
  "kernelspec": {
   "display_name": "Poetry",
   "language": "python",
   "name": "poetry-kernel"
  },
  "language_info": {
   "codemirror_mode": {
    "name": "ipython",
    "version": 3
   },
   "file_extension": ".py",
   "mimetype": "text/x-python",
   "name": "python",
   "nbconvert_exporter": "python",
   "pygments_lexer": "ipython3",
   "version": "3.10.13"
  }
 },
 "nbformat": 4,
 "nbformat_minor": 5
}
