{
 "cells": [
  {
   "cell_type": "code",
   "execution_count": 48,
   "id": "df431830",
   "metadata": {},
   "outputs": [],
   "source": [
    "from pathlib import Path\n",
    "import polars as pl\n",
    "\n",
    "\n",
    "data_dir = Path('../../data/processed')"
   ]
  },
  {
   "cell_type": "code",
   "execution_count": 49,
   "id": "9bbf1c48",
   "metadata": {},
   "outputs": [
    {
     "data": {
      "text/html": [
       "<div><style>\n",
       ".dataframe > thead > tr > th,\n",
       ".dataframe > tbody > tr > td {\n",
       "  text-align: right;\n",
       "}\n",
       "</style>\n",
       "<small>shape: (302_904, 24)</small><table border=\"1\" class=\"dataframe\"><thead><tr><th>client_nbr</th><th>register_district</th><th>age</th><th>phone_brand</th><th>phone_level</th><th>phone_price</th><th>evdo_support_flag</th><th>mou_local</th><th>mou_dist</th><th>network_vol</th><th>evdo_use_flag</th><th>onex_use_flag</th><th>evdo_vol</th><th>onex_vol</th><th>arpu</th><th>e9_service_flag</th><th>e6_service_flag</th><th>e9_service_premium_flag</th><th>8card_service_flag</th><th>smart_phone_flag</th><th>card_phone_flag</th><th>rural_flag</th><th>employ_flag</th><th>student_flag</th></tr><tr><td>str</td><td>i32</td><td>i64</td><td>str</td><td>i32</td><td>i32</td><td>i64</td><td>f32</td><td>f32</td><td>f32</td><td>str</td><td>str</td><td>f32</td><td>f32</td><td>f32</td><td>i64</td><td>i64</td><td>i64</td><td>i32</td><td>i32</td><td>i32</td><td>i32</td><td>i32</td><td>i32</td></tr></thead><tbody><tr><td>&quot;6m6s3n3s&quot;</td><td>1</td><td>32</td><td>&quot;SAMSUNG&quot;</td><td>5</td><td>4890</td><td>1</td><td>176.080002</td><td>37.549999</td><td>256.160004</td><td>&quot;1&quot;</td><td>&quot;1&quot;</td><td>255.070007</td><td>0.03</td><td>0.0</td><td>1</td><td>0</td><td>0</td><td>0</td><td>1</td><td>0</td><td>0</td><td>1</td><td>0</td></tr><tr><td>&quot;6twk3n3s&quot;</td><td>1</td><td>32</td><td>&quot;中兴&quot;</td><td>3</td><td>899</td><td>1</td><td>28.75</td><td>0.43</td><td>45.540001</td><td>&quot;1&quot;</td><td>&quot;0&quot;</td><td>45.540001</td><td>0.0</td><td>0.1</td><td>1</td><td>0</td><td>0</td><td>0</td><td>1</td><td>0</td><td>0</td><td>1</td><td>0</td></tr><tr><td>&quot;mm7pjcxf&quot;</td><td>1</td><td>66</td><td>&quot;华立时代&quot;</td><td>2</td><td>330</td><td>0</td><td>11.5</td><td>0.0</td><td>0.0</td><td>&quot;0&quot;</td><td>&quot;0&quot;</td><td>0.0</td><td>0.0</td><td>8.0</td><td>0</td><td>0</td><td>0</td><td>0</td><td>0</td><td>0</td><td>0</td><td>1</td><td>0</td></tr><tr><td>&quot;fq5m3q1g&quot;</td><td>2</td><td>31</td><td>&quot;SAMSUNG&quot;</td><td>1</td><td>299</td><td>0</td><td>233.580002</td><td>0.25</td><td>0.0</td><td>&quot;0&quot;</td><td>&quot;0&quot;</td><td>0.0</td><td>0.0</td><td>38.0</td><td>0</td><td>0</td><td>0</td><td>0</td><td>0</td><td>0</td><td>0</td><td>1</td><td>0</td></tr><tr><td>&quot;4kkhjsib&quot;</td><td>1</td><td>50</td><td>&quot;SAMSUNG&quot;</td><td>1</td><td>199</td><td>0</td><td>13.92</td><td>0.0</td><td>0.0</td><td>&quot;0&quot;</td><td>&quot;0&quot;</td><td>0.0</td><td>0.0</td><td>0.0</td><td>1</td><td>0</td><td>0</td><td>0</td><td>0</td><td>0</td><td>1</td><td>1</td><td>0</td></tr><tr><td>&quot;iltc4wv5&quot;</td><td>1</td><td>39</td><td>&quot;华为&quot;</td><td>3</td><td>1090</td><td>1</td><td>11.9</td><td>0.0</td><td>911.450012</td><td>&quot;1&quot;</td><td>&quot;0&quot;</td><td>911.450012</td><td>0.0</td><td>6.2</td><td>1</td><td>0</td><td>0</td><td>0</td><td>1</td><td>0</td><td>0</td><td>1</td><td>0</td></tr><tr><td>&quot;efqbk0gj&quot;</td><td>4</td><td>54</td><td>&quot;世纪星宇&quot;</td><td>2</td><td>399</td><td>1</td><td>38.68</td><td>0.0</td><td>0.0</td><td>&quot;0&quot;</td><td>&quot;0&quot;</td><td>0.0</td><td>0.0</td><td>0.0</td><td>0</td><td>0</td><td>0</td><td>0</td><td>0</td><td>0</td><td>0</td><td>1</td><td>0</td></tr><tr><td>&quot;bvdlk0dq&quot;</td><td>1</td><td>39</td><td>&quot;华为&quot;</td><td>3</td><td>838</td><td>1</td><td>40.98</td><td>23.43</td><td>86.5</td><td>&quot;1&quot;</td><td>&quot;0&quot;</td><td>86.5</td><td>0.0</td><td>66.559998</td><td>1</td><td>0</td><td>0</td><td>0</td><td>1</td><td>0</td><td>1</td><td>1</td><td>0</td></tr><tr><td>&quot;hbvgl0f1&quot;</td><td>4</td><td>31</td><td>&quot;中兴&quot;</td><td>1</td><td>199</td><td>0</td><td>31.030001</td><td>16.15</td><td>0.0</td><td>&quot;0&quot;</td><td>&quot;0&quot;</td><td>0.0</td><td>0.0</td><td>6.0</td><td>1</td><td>0</td><td>0</td><td>0</td><td>0</td><td>0</td><td>1</td><td>1</td><td>0</td></tr><tr><td>&quot;fana3pks&quot;</td><td>2</td><td>42</td><td>&quot;SAMSUNG&quot;</td><td>2</td><td>599</td><td>1</td><td>13.47</td><td>234.179993</td><td>88.010002</td><td>&quot;1&quot;</td><td>&quot;1&quot;</td><td>87.739998</td><td>0.03</td><td>276.450012</td><td>1</td><td>0</td><td>0</td><td>0</td><td>1</td><td>0</td><td>0</td><td>1</td><td>0</td></tr><tr><td>&quot;eospjcuj&quot;</td><td>1</td><td>69</td><td>&quot;广信&quot;</td><td>2</td><td>599</td><td>0</td><td>0.0</td><td>0.0</td><td>0.0</td><td>&quot;0&quot;</td><td>&quot;0&quot;</td><td>0.0</td><td>0.0</td><td>8.2</td><td>0</td><td>0</td><td>0</td><td>0</td><td>0</td><td>0</td><td>0</td><td>1</td><td>0</td></tr><tr><td>&quot;knjg3a5a&quot;</td><td>2</td><td>46</td><td>&quot;华为&quot;</td><td>3</td><td>990</td><td>1</td><td>1.98</td><td>20.129999</td><td>51.619999</td><td>&quot;0&quot;</td><td>&quot;1&quot;</td><td>0.0</td><td>51.619999</td><td>0.0</td><td>1</td><td>0</td><td>0</td><td>0</td><td>1</td><td>0</td><td>0</td><td>1</td><td>0</td></tr><tr><td>&hellip;</td><td>&hellip;</td><td>&hellip;</td><td>&hellip;</td><td>&hellip;</td><td>&hellip;</td><td>&hellip;</td><td>&hellip;</td><td>&hellip;</td><td>&hellip;</td><td>&hellip;</td><td>&hellip;</td><td>&hellip;</td><td>&hellip;</td><td>&hellip;</td><td>&hellip;</td><td>&hellip;</td><td>&hellip;</td><td>&hellip;</td><td>&hellip;</td><td>&hellip;</td><td>&hellip;</td><td>&hellip;</td><td>&hellip;</td></tr><tr><td>&quot;n4304pov&quot;</td><td>6</td><td>62</td><td>&quot;华为&quot;</td><td>3</td><td>838</td><td>1</td><td>6.45</td><td>0.28</td><td>157.710007</td><td>&quot;1&quot;</td><td>&quot;0&quot;</td><td>157.589996</td><td>0.0</td><td>38.0</td><td>0</td><td>0</td><td>0</td><td>0</td><td>1</td><td>0</td><td>0</td><td>1</td><td>0</td></tr><tr><td>&quot;jomk5rvu&quot;</td><td>6</td><td>52</td><td>&quot;华为&quot;</td><td>4</td><td>1890</td><td>1</td><td>74.580002</td><td>34.119999</td><td>18.49</td><td>&quot;1&quot;</td><td>&quot;0&quot;</td><td>18.48</td><td>0.0</td><td>25.0</td><td>0</td><td>0</td><td>0</td><td>0</td><td>1</td><td>0</td><td>0</td><td>1</td><td>0</td></tr><tr><td>&quot;5z4hjhs7&quot;</td><td>1</td><td>40</td><td>&quot;小米&quot;</td><td>4</td><td>2399</td><td>1</td><td>113.25</td><td>47.98</td><td>389.399994</td><td>&quot;1&quot;</td><td>&quot;1&quot;</td><td>382.579987</td><td>6.83</td><td>20.1</td><td>1</td><td>0</td><td>0</td><td>0</td><td>1</td><td>0</td><td>0</td><td>1</td><td>0</td></tr><tr><td>&quot;iau7455x&quot;</td><td>5</td><td>30</td><td>&quot;SAMSUNG&quot;</td><td>3</td><td>890</td><td>1</td><td>27.77</td><td>0.0</td><td>751.450012</td><td>&quot;1&quot;</td><td>&quot;0&quot;</td><td>751.450012</td><td>0.0</td><td>5.56</td><td>1</td><td>0</td><td>0</td><td>0</td><td>1</td><td>0</td><td>1</td><td>1</td><td>0</td></tr><tr><td>&quot;8p49jd8d&quot;</td><td>5</td><td>26</td><td>&quot;优思&quot;</td><td>2</td><td>678</td><td>0</td><td>66.25</td><td>102.919998</td><td>1.27</td><td>&quot;0&quot;</td><td>&quot;1&quot;</td><td>0.0</td><td>1.27</td><td>53.0</td><td>1</td><td>0</td><td>0</td><td>0</td><td>0</td><td>0</td><td>0</td><td>1</td><td>0</td></tr><tr><td>&quot;hjuo4xbt&quot;</td><td>1</td><td>30</td><td>&quot;SAMSUNG&quot;</td><td>4</td><td>2980</td><td>1</td><td>79.25</td><td>9.73</td><td>292.209991</td><td>&quot;1&quot;</td><td>&quot;0&quot;</td><td>292.209991</td><td>0.0</td><td>75.389999</td><td>1</td><td>0</td><td>0</td><td>0</td><td>1</td><td>0</td><td>0</td><td>1</td><td>0</td></tr><tr><td>&quot;lihc3hxv&quot;</td><td>2</td><td>29</td><td>&quot;SAMSUNG&quot;</td><td>2</td><td>499</td><td>1</td><td>33.700001</td><td>0.0</td><td>0.0</td><td>&quot;0&quot;</td><td>&quot;0&quot;</td><td>0.0</td><td>0.0</td><td>7.55</td><td>1</td><td>0</td><td>0</td><td>0</td><td>0</td><td>0</td><td>0</td><td>1</td><td>0</td></tr><tr><td>&quot;fjeyknj4&quot;</td><td>1</td><td>27</td><td>&quot;广信&quot;</td><td>1</td><td>199</td><td>0</td><td>153.729996</td><td>5.82</td><td>0.0</td><td>&quot;0&quot;</td><td>&quot;0&quot;</td><td>0.0</td><td>0.0</td><td>24.01</td><td>1</td><td>0</td><td>0</td><td>0</td><td>0</td><td>0</td><td>0</td><td>1</td><td>0</td></tr><tr><td>&quot;6lvo2c9o&quot;</td><td>2</td><td>18</td><td>&quot;苹果&quot;</td><td>5</td><td>5288</td><td>1</td><td>311.720001</td><td>98.32</td><td>2920.26001</td><td>&quot;1&quot;</td><td>&quot;1&quot;</td><td>2920.26001</td><td>0.0</td><td>34.299999</td><td>0</td><td>0</td><td>0</td><td>0</td><td>1</td><td>0</td><td>0</td><td>1</td><td>0</td></tr><tr><td>&quot;k42g3uo6&quot;</td><td>2</td><td>31</td><td>&quot;葳朗&quot;</td><td>2</td><td>399</td><td>1</td><td>12.58</td><td>40.98</td><td>43.34</td><td>&quot;1&quot;</td><td>&quot;1&quot;</td><td>41.48</td><td>1.86</td><td>105.650002</td><td>0</td><td>0</td><td>0</td><td>0</td><td>0</td><td>0</td><td>1</td><td>1</td><td>0</td></tr><tr><td>&quot;8uxw3i8t&quot;</td><td>5</td><td>44</td><td>&quot;酷派&quot;</td><td>3</td><td>899</td><td>1</td><td>7.28</td><td>0.35</td><td>53.279999</td><td>&quot;1&quot;</td><td>&quot;0&quot;</td><td>53.279999</td><td>0.0</td><td>21.68</td><td>1</td><td>0</td><td>0</td><td>0</td><td>1</td><td>0</td><td>0</td><td>1</td><td>0</td></tr><tr><td>&quot;cxc9k0gj&quot;</td><td>2</td><td>59</td><td>&quot;SAMSUNG&quot;</td><td>4</td><td>1698</td><td>1</td><td>20.15</td><td>11.58</td><td>128.699997</td><td>&quot;1&quot;</td><td>&quot;0&quot;</td><td>128.699997</td><td>0.0</td><td>65.389999</td><td>1</td><td>0</td><td>0</td><td>0</td><td>0</td><td>0</td><td>0</td><td>1</td><td>0</td></tr></tbody></table></div>"
      ],
      "text/plain": [
       "shape: (302_904, 24)\n",
       "┌────────────┬────────────┬─────┬────────────┬───┬────────────┬────────────┬───────────┬───────────┐\n",
       "│ client_nbr ┆ register_d ┆ age ┆ phone_bran ┆ … ┆ card_phone ┆ rural_flag ┆ employ_fl ┆ student_f │\n",
       "│ ---        ┆ istrict    ┆ --- ┆ d          ┆   ┆ _flag      ┆ ---        ┆ ag        ┆ lag       │\n",
       "│ str        ┆ ---        ┆ i64 ┆ ---        ┆   ┆ ---        ┆ i32        ┆ ---       ┆ ---       │\n",
       "│            ┆ i32        ┆     ┆ str        ┆   ┆ i32        ┆            ┆ i32       ┆ i32       │\n",
       "╞════════════╪════════════╪═════╪════════════╪═══╪════════════╪════════════╪═══════════╪═══════════╡\n",
       "│ 6m6s3n3s   ┆ 1          ┆ 32  ┆ SAMSUNG    ┆ … ┆ 0          ┆ 0          ┆ 1         ┆ 0         │\n",
       "│ 6twk3n3s   ┆ 1          ┆ 32  ┆ 中兴       ┆ … ┆ 0          ┆ 0          ┆ 1         ┆ 0         │\n",
       "│ mm7pjcxf   ┆ 1          ┆ 66  ┆ 华立时代   ┆ … ┆ 0          ┆ 0          ┆ 1         ┆ 0         │\n",
       "│ fq5m3q1g   ┆ 2          ┆ 31  ┆ SAMSUNG    ┆ … ┆ 0          ┆ 0          ┆ 1         ┆ 0         │\n",
       "│ …          ┆ …          ┆ …   ┆ …          ┆ … ┆ …          ┆ …          ┆ …         ┆ …         │\n",
       "│ 6lvo2c9o   ┆ 2          ┆ 18  ┆ 苹果       ┆ … ┆ 0          ┆ 0          ┆ 1         ┆ 0         │\n",
       "│ k42g3uo6   ┆ 2          ┆ 31  ┆ 葳朗       ┆ … ┆ 0          ┆ 1          ┆ 1         ┆ 0         │\n",
       "│ 8uxw3i8t   ┆ 5          ┆ 44  ┆ 酷派       ┆ … ┆ 0          ┆ 0          ┆ 1         ┆ 0         │\n",
       "│ cxc9k0gj   ┆ 2          ┆ 59  ┆ SAMSUNG    ┆ … ┆ 0          ┆ 0          ┆ 1         ┆ 0         │\n",
       "└────────────┴────────────┴─────┴────────────┴───┴────────────┴────────────┴───────────┴───────────┘"
      ]
     },
     "execution_count": 49,
     "metadata": {},
     "output_type": "execute_result"
    }
   ],
   "source": [
    "df_user_info = pl.read_parquet('../../data/processed/user_info.parquet')\n",
    "df_user_info"
   ]
  },
  {
   "cell_type": "code",
   "execution_count": 61,
   "id": "cbcca08b",
   "metadata": {},
   "outputs": [
    {
     "data": {
      "text/html": [
       "<div><style>\n",
       ".dataframe > thead > tr > th,\n",
       ".dataframe > tbody > tr > td {\n",
       "  text-align: right;\n",
       "}\n",
       "</style>\n",
       "<small>shape: (302_904, 29)</small><table border=\"1\" class=\"dataframe\"><thead><tr><th>client_nbr</th><th>register_district_1</th><th>register_district_2</th><th>register_district_3</th><th>register_district_4</th><th>register_district_5</th><th>register_district_6</th><th>age</th><th>phone_brand</th><th>phone_level</th><th>phone_price</th><th>evdo_support_flag</th><th>mou_local</th><th>mou_dist</th><th>network_vol</th><th>evdo_use_flag</th><th>onex_use_flag</th><th>evdo_vol</th><th>onex_vol</th><th>arpu</th><th>e9_service_flag</th><th>e6_service_flag</th><th>e9_service_premium_flag</th><th>8card_service_flag</th><th>smart_phone_flag</th><th>card_phone_flag</th><th>rural_flag</th><th>employ_flag</th><th>student_flag</th></tr><tr><td>str</td><td>u8</td><td>u8</td><td>u8</td><td>u8</td><td>u8</td><td>u8</td><td>i64</td><td>str</td><td>i32</td><td>i32</td><td>i64</td><td>f32</td><td>f32</td><td>f32</td><td>str</td><td>str</td><td>f32</td><td>f32</td><td>f32</td><td>i64</td><td>i64</td><td>i64</td><td>i32</td><td>i32</td><td>i32</td><td>i32</td><td>i32</td><td>i32</td></tr></thead><tbody><tr><td>&quot;6m6s3n3s&quot;</td><td>1</td><td>0</td><td>0</td><td>0</td><td>0</td><td>0</td><td>32</td><td>&quot;SAMSUNG&quot;</td><td>5</td><td>4890</td><td>1</td><td>176.080002</td><td>37.549999</td><td>256.160004</td><td>&quot;1&quot;</td><td>&quot;1&quot;</td><td>255.070007</td><td>0.03</td><td>0.0</td><td>1</td><td>0</td><td>0</td><td>0</td><td>1</td><td>0</td><td>0</td><td>1</td><td>0</td></tr><tr><td>&quot;6twk3n3s&quot;</td><td>1</td><td>0</td><td>0</td><td>0</td><td>0</td><td>0</td><td>32</td><td>&quot;中兴&quot;</td><td>3</td><td>899</td><td>1</td><td>28.75</td><td>0.43</td><td>45.540001</td><td>&quot;1&quot;</td><td>&quot;0&quot;</td><td>45.540001</td><td>0.0</td><td>0.1</td><td>1</td><td>0</td><td>0</td><td>0</td><td>1</td><td>0</td><td>0</td><td>1</td><td>0</td></tr><tr><td>&quot;mm7pjcxf&quot;</td><td>1</td><td>0</td><td>0</td><td>0</td><td>0</td><td>0</td><td>66</td><td>&quot;华立时代&quot;</td><td>2</td><td>330</td><td>0</td><td>11.5</td><td>0.0</td><td>0.0</td><td>&quot;0&quot;</td><td>&quot;0&quot;</td><td>0.0</td><td>0.0</td><td>8.0</td><td>0</td><td>0</td><td>0</td><td>0</td><td>0</td><td>0</td><td>0</td><td>1</td><td>0</td></tr><tr><td>&quot;fq5m3q1g&quot;</td><td>0</td><td>1</td><td>0</td><td>0</td><td>0</td><td>0</td><td>31</td><td>&quot;SAMSUNG&quot;</td><td>1</td><td>299</td><td>0</td><td>233.580002</td><td>0.25</td><td>0.0</td><td>&quot;0&quot;</td><td>&quot;0&quot;</td><td>0.0</td><td>0.0</td><td>38.0</td><td>0</td><td>0</td><td>0</td><td>0</td><td>0</td><td>0</td><td>0</td><td>1</td><td>0</td></tr><tr><td>&quot;4kkhjsib&quot;</td><td>1</td><td>0</td><td>0</td><td>0</td><td>0</td><td>0</td><td>50</td><td>&quot;SAMSUNG&quot;</td><td>1</td><td>199</td><td>0</td><td>13.92</td><td>0.0</td><td>0.0</td><td>&quot;0&quot;</td><td>&quot;0&quot;</td><td>0.0</td><td>0.0</td><td>0.0</td><td>1</td><td>0</td><td>0</td><td>0</td><td>0</td><td>0</td><td>1</td><td>1</td><td>0</td></tr><tr><td>&quot;iltc4wv5&quot;</td><td>1</td><td>0</td><td>0</td><td>0</td><td>0</td><td>0</td><td>39</td><td>&quot;华为&quot;</td><td>3</td><td>1090</td><td>1</td><td>11.9</td><td>0.0</td><td>911.450012</td><td>&quot;1&quot;</td><td>&quot;0&quot;</td><td>911.450012</td><td>0.0</td><td>6.2</td><td>1</td><td>0</td><td>0</td><td>0</td><td>1</td><td>0</td><td>0</td><td>1</td><td>0</td></tr><tr><td>&quot;efqbk0gj&quot;</td><td>0</td><td>0</td><td>0</td><td>1</td><td>0</td><td>0</td><td>54</td><td>&quot;世纪星宇&quot;</td><td>2</td><td>399</td><td>1</td><td>38.68</td><td>0.0</td><td>0.0</td><td>&quot;0&quot;</td><td>&quot;0&quot;</td><td>0.0</td><td>0.0</td><td>0.0</td><td>0</td><td>0</td><td>0</td><td>0</td><td>0</td><td>0</td><td>0</td><td>1</td><td>0</td></tr><tr><td>&quot;bvdlk0dq&quot;</td><td>1</td><td>0</td><td>0</td><td>0</td><td>0</td><td>0</td><td>39</td><td>&quot;华为&quot;</td><td>3</td><td>838</td><td>1</td><td>40.98</td><td>23.43</td><td>86.5</td><td>&quot;1&quot;</td><td>&quot;0&quot;</td><td>86.5</td><td>0.0</td><td>66.559998</td><td>1</td><td>0</td><td>0</td><td>0</td><td>1</td><td>0</td><td>1</td><td>1</td><td>0</td></tr><tr><td>&quot;hbvgl0f1&quot;</td><td>0</td><td>0</td><td>0</td><td>1</td><td>0</td><td>0</td><td>31</td><td>&quot;中兴&quot;</td><td>1</td><td>199</td><td>0</td><td>31.030001</td><td>16.15</td><td>0.0</td><td>&quot;0&quot;</td><td>&quot;0&quot;</td><td>0.0</td><td>0.0</td><td>6.0</td><td>1</td><td>0</td><td>0</td><td>0</td><td>0</td><td>0</td><td>1</td><td>1</td><td>0</td></tr><tr><td>&quot;fana3pks&quot;</td><td>0</td><td>1</td><td>0</td><td>0</td><td>0</td><td>0</td><td>42</td><td>&quot;SAMSUNG&quot;</td><td>2</td><td>599</td><td>1</td><td>13.47</td><td>234.179993</td><td>88.010002</td><td>&quot;1&quot;</td><td>&quot;1&quot;</td><td>87.739998</td><td>0.03</td><td>276.450012</td><td>1</td><td>0</td><td>0</td><td>0</td><td>1</td><td>0</td><td>0</td><td>1</td><td>0</td></tr><tr><td>&quot;eospjcuj&quot;</td><td>1</td><td>0</td><td>0</td><td>0</td><td>0</td><td>0</td><td>69</td><td>&quot;广信&quot;</td><td>2</td><td>599</td><td>0</td><td>0.0</td><td>0.0</td><td>0.0</td><td>&quot;0&quot;</td><td>&quot;0&quot;</td><td>0.0</td><td>0.0</td><td>8.2</td><td>0</td><td>0</td><td>0</td><td>0</td><td>0</td><td>0</td><td>0</td><td>1</td><td>0</td></tr><tr><td>&quot;knjg3a5a&quot;</td><td>0</td><td>1</td><td>0</td><td>0</td><td>0</td><td>0</td><td>46</td><td>&quot;华为&quot;</td><td>3</td><td>990</td><td>1</td><td>1.98</td><td>20.129999</td><td>51.619999</td><td>&quot;0&quot;</td><td>&quot;1&quot;</td><td>0.0</td><td>51.619999</td><td>0.0</td><td>1</td><td>0</td><td>0</td><td>0</td><td>1</td><td>0</td><td>0</td><td>1</td><td>0</td></tr><tr><td>&hellip;</td><td>&hellip;</td><td>&hellip;</td><td>&hellip;</td><td>&hellip;</td><td>&hellip;</td><td>&hellip;</td><td>&hellip;</td><td>&hellip;</td><td>&hellip;</td><td>&hellip;</td><td>&hellip;</td><td>&hellip;</td><td>&hellip;</td><td>&hellip;</td><td>&hellip;</td><td>&hellip;</td><td>&hellip;</td><td>&hellip;</td><td>&hellip;</td><td>&hellip;</td><td>&hellip;</td><td>&hellip;</td><td>&hellip;</td><td>&hellip;</td><td>&hellip;</td><td>&hellip;</td><td>&hellip;</td><td>&hellip;</td></tr><tr><td>&quot;n4304pov&quot;</td><td>0</td><td>0</td><td>0</td><td>0</td><td>0</td><td>1</td><td>62</td><td>&quot;华为&quot;</td><td>3</td><td>838</td><td>1</td><td>6.45</td><td>0.28</td><td>157.710007</td><td>&quot;1&quot;</td><td>&quot;0&quot;</td><td>157.589996</td><td>0.0</td><td>38.0</td><td>0</td><td>0</td><td>0</td><td>0</td><td>1</td><td>0</td><td>0</td><td>1</td><td>0</td></tr><tr><td>&quot;jomk5rvu&quot;</td><td>0</td><td>0</td><td>0</td><td>0</td><td>0</td><td>1</td><td>52</td><td>&quot;华为&quot;</td><td>4</td><td>1890</td><td>1</td><td>74.580002</td><td>34.119999</td><td>18.49</td><td>&quot;1&quot;</td><td>&quot;0&quot;</td><td>18.48</td><td>0.0</td><td>25.0</td><td>0</td><td>0</td><td>0</td><td>0</td><td>1</td><td>0</td><td>0</td><td>1</td><td>0</td></tr><tr><td>&quot;5z4hjhs7&quot;</td><td>1</td><td>0</td><td>0</td><td>0</td><td>0</td><td>0</td><td>40</td><td>&quot;小米&quot;</td><td>4</td><td>2399</td><td>1</td><td>113.25</td><td>47.98</td><td>389.399994</td><td>&quot;1&quot;</td><td>&quot;1&quot;</td><td>382.579987</td><td>6.83</td><td>20.1</td><td>1</td><td>0</td><td>0</td><td>0</td><td>1</td><td>0</td><td>0</td><td>1</td><td>0</td></tr><tr><td>&quot;iau7455x&quot;</td><td>0</td><td>0</td><td>0</td><td>0</td><td>1</td><td>0</td><td>30</td><td>&quot;SAMSUNG&quot;</td><td>3</td><td>890</td><td>1</td><td>27.77</td><td>0.0</td><td>751.450012</td><td>&quot;1&quot;</td><td>&quot;0&quot;</td><td>751.450012</td><td>0.0</td><td>5.56</td><td>1</td><td>0</td><td>0</td><td>0</td><td>1</td><td>0</td><td>1</td><td>1</td><td>0</td></tr><tr><td>&quot;8p49jd8d&quot;</td><td>0</td><td>0</td><td>0</td><td>0</td><td>1</td><td>0</td><td>26</td><td>&quot;优思&quot;</td><td>2</td><td>678</td><td>0</td><td>66.25</td><td>102.919998</td><td>1.27</td><td>&quot;0&quot;</td><td>&quot;1&quot;</td><td>0.0</td><td>1.27</td><td>53.0</td><td>1</td><td>0</td><td>0</td><td>0</td><td>0</td><td>0</td><td>0</td><td>1</td><td>0</td></tr><tr><td>&quot;hjuo4xbt&quot;</td><td>1</td><td>0</td><td>0</td><td>0</td><td>0</td><td>0</td><td>30</td><td>&quot;SAMSUNG&quot;</td><td>4</td><td>2980</td><td>1</td><td>79.25</td><td>9.73</td><td>292.209991</td><td>&quot;1&quot;</td><td>&quot;0&quot;</td><td>292.209991</td><td>0.0</td><td>75.389999</td><td>1</td><td>0</td><td>0</td><td>0</td><td>1</td><td>0</td><td>0</td><td>1</td><td>0</td></tr><tr><td>&quot;lihc3hxv&quot;</td><td>0</td><td>1</td><td>0</td><td>0</td><td>0</td><td>0</td><td>29</td><td>&quot;SAMSUNG&quot;</td><td>2</td><td>499</td><td>1</td><td>33.700001</td><td>0.0</td><td>0.0</td><td>&quot;0&quot;</td><td>&quot;0&quot;</td><td>0.0</td><td>0.0</td><td>7.55</td><td>1</td><td>0</td><td>0</td><td>0</td><td>0</td><td>0</td><td>0</td><td>1</td><td>0</td></tr><tr><td>&quot;fjeyknj4&quot;</td><td>1</td><td>0</td><td>0</td><td>0</td><td>0</td><td>0</td><td>27</td><td>&quot;广信&quot;</td><td>1</td><td>199</td><td>0</td><td>153.729996</td><td>5.82</td><td>0.0</td><td>&quot;0&quot;</td><td>&quot;0&quot;</td><td>0.0</td><td>0.0</td><td>24.01</td><td>1</td><td>0</td><td>0</td><td>0</td><td>0</td><td>0</td><td>0</td><td>1</td><td>0</td></tr><tr><td>&quot;6lvo2c9o&quot;</td><td>0</td><td>1</td><td>0</td><td>0</td><td>0</td><td>0</td><td>18</td><td>&quot;苹果&quot;</td><td>5</td><td>5288</td><td>1</td><td>311.720001</td><td>98.32</td><td>2920.26001</td><td>&quot;1&quot;</td><td>&quot;1&quot;</td><td>2920.26001</td><td>0.0</td><td>34.299999</td><td>0</td><td>0</td><td>0</td><td>0</td><td>1</td><td>0</td><td>0</td><td>1</td><td>0</td></tr><tr><td>&quot;k42g3uo6&quot;</td><td>0</td><td>1</td><td>0</td><td>0</td><td>0</td><td>0</td><td>31</td><td>&quot;葳朗&quot;</td><td>2</td><td>399</td><td>1</td><td>12.58</td><td>40.98</td><td>43.34</td><td>&quot;1&quot;</td><td>&quot;1&quot;</td><td>41.48</td><td>1.86</td><td>105.650002</td><td>0</td><td>0</td><td>0</td><td>0</td><td>0</td><td>0</td><td>1</td><td>1</td><td>0</td></tr><tr><td>&quot;8uxw3i8t&quot;</td><td>0</td><td>0</td><td>0</td><td>0</td><td>1</td><td>0</td><td>44</td><td>&quot;酷派&quot;</td><td>3</td><td>899</td><td>1</td><td>7.28</td><td>0.35</td><td>53.279999</td><td>&quot;1&quot;</td><td>&quot;0&quot;</td><td>53.279999</td><td>0.0</td><td>21.68</td><td>1</td><td>0</td><td>0</td><td>0</td><td>1</td><td>0</td><td>0</td><td>1</td><td>0</td></tr><tr><td>&quot;cxc9k0gj&quot;</td><td>0</td><td>1</td><td>0</td><td>0</td><td>0</td><td>0</td><td>59</td><td>&quot;SAMSUNG&quot;</td><td>4</td><td>1698</td><td>1</td><td>20.15</td><td>11.58</td><td>128.699997</td><td>&quot;1&quot;</td><td>&quot;0&quot;</td><td>128.699997</td><td>0.0</td><td>65.389999</td><td>1</td><td>0</td><td>0</td><td>0</td><td>0</td><td>0</td><td>0</td><td>1</td><td>0</td></tr></tbody></table></div>"
      ],
      "text/plain": [
       "shape: (302_904, 29)\n",
       "┌───────────┬───────────┬───────────┬───────────┬───┬───────────┬───────────┬───────────┬──────────┐\n",
       "│ client_nb ┆ register_ ┆ register_ ┆ register_ ┆ … ┆ card_phon ┆ rural_fla ┆ employ_fl ┆ student_ │\n",
       "│ r         ┆ district_ ┆ district_ ┆ district_ ┆   ┆ e_flag    ┆ g         ┆ ag        ┆ flag     │\n",
       "│ ---       ┆ 1         ┆ 2         ┆ 3         ┆   ┆ ---       ┆ ---       ┆ ---       ┆ ---      │\n",
       "│ str       ┆ ---       ┆ ---       ┆ ---       ┆   ┆ i32       ┆ i32       ┆ i32       ┆ i32      │\n",
       "│           ┆ u8        ┆ u8        ┆ u8        ┆   ┆           ┆           ┆           ┆          │\n",
       "╞═══════════╪═══════════╪═══════════╪═══════════╪═══╪═══════════╪═══════════╪═══════════╪══════════╡\n",
       "│ 6m6s3n3s  ┆ 1         ┆ 0         ┆ 0         ┆ … ┆ 0         ┆ 0         ┆ 1         ┆ 0        │\n",
       "│ 6twk3n3s  ┆ 1         ┆ 0         ┆ 0         ┆ … ┆ 0         ┆ 0         ┆ 1         ┆ 0        │\n",
       "│ mm7pjcxf  ┆ 1         ┆ 0         ┆ 0         ┆ … ┆ 0         ┆ 0         ┆ 1         ┆ 0        │\n",
       "│ fq5m3q1g  ┆ 0         ┆ 1         ┆ 0         ┆ … ┆ 0         ┆ 0         ┆ 1         ┆ 0        │\n",
       "│ …         ┆ …         ┆ …         ┆ …         ┆ … ┆ …         ┆ …         ┆ …         ┆ …        │\n",
       "│ 6lvo2c9o  ┆ 0         ┆ 1         ┆ 0         ┆ … ┆ 0         ┆ 0         ┆ 1         ┆ 0        │\n",
       "│ k42g3uo6  ┆ 0         ┆ 1         ┆ 0         ┆ … ┆ 0         ┆ 1         ┆ 1         ┆ 0        │\n",
       "│ 8uxw3i8t  ┆ 0         ┆ 0         ┆ 0         ┆ … ┆ 0         ┆ 0         ┆ 1         ┆ 0        │\n",
       "│ cxc9k0gj  ┆ 0         ┆ 1         ┆ 0         ┆ … ┆ 0         ┆ 0         ┆ 1         ┆ 0        │\n",
       "└───────────┴───────────┴───────────┴───────────┴───┴───────────┴───────────┴───────────┴──────────┘"
      ]
     },
     "execution_count": 61,
     "metadata": {},
     "output_type": "execute_result"
    }
   ],
   "source": [
    "df_user_info.to_dummies(\n",
    "    ['register_district', ]\n",
    ")"
   ]
  },
  {
   "cell_type": "code",
   "execution_count": null,
   "id": "516f4f41",
   "metadata": {},
   "outputs": [],
   "source": []
  },
  {
   "cell_type": "code",
   "execution_count": 59,
   "id": "c74a2aba",
   "metadata": {},
   "outputs": [
    {
     "data": {
      "text/plain": [
       "301034"
      ]
     },
     "execution_count": 59,
     "metadata": {},
     "output_type": "execute_result"
    }
   ],
   "source": [
    "df_user_info['employ_flag'].sum()"
   ]
  },
  {
   "cell_type": "code",
   "execution_count": 58,
   "id": "ed197bb1",
   "metadata": {},
   "outputs": [
    {
     "data": {
      "text/html": [
       "<div><style>\n",
       ".dataframe > thead > tr > th,\n",
       ".dataframe > tbody > tr > td {\n",
       "  text-align: right;\n",
       "}\n",
       "</style>\n",
       "<small>shape: (20, 2)</small><table border=\"1\" class=\"dataframe\"><thead><tr><th>phone_brand</th><th>counts</th></tr><tr><td>str</td><td>u32</td></tr></thead><tbody><tr><td>&quot;华为&quot;</td><td>65491</td></tr><tr><td>&quot;SAMSUNG&quot;</td><td>51637</td></tr><tr><td>&quot;酷派&quot;</td><td>33631</td></tr><tr><td>&quot;中兴&quot;</td><td>30172</td></tr><tr><td>&quot;海信&quot;</td><td>19762</td></tr><tr><td>&quot;蓝天&quot;</td><td>13933</td></tr><tr><td>&quot;广信&quot;</td><td>11669</td></tr><tr><td>&quot;联想&quot;</td><td>9997</td></tr><tr><td>&quot;同威&quot;</td><td>7054</td></tr><tr><td>&quot;HTC&quot;</td><td>6348</td></tr><tr><td>&quot;苹果&quot;</td><td>4050</td></tr><tr><td>&quot;天语&quot;</td><td>3698</td></tr><tr><td>&quot;MOTO&quot;</td><td>3678</td></tr><tr><td>&quot;博瑞&quot;</td><td>3676</td></tr><tr><td>&quot;TCL&quot;</td><td>2912</td></tr><tr><td>&quot;易丰&quot;</td><td>2401</td></tr><tr><td>&quot;LG&quot;</td><td>2186</td></tr><tr><td>&quot;展翼&quot;</td><td>2100</td></tr><tr><td>&quot;小米&quot;</td><td>1890</td></tr><tr><td>&quot;天元&quot;</td><td>1803</td></tr></tbody></table></div>"
      ],
      "text/plain": [
       "shape: (20, 2)\n",
       "┌─────────────┬────────┐\n",
       "│ phone_brand ┆ counts │\n",
       "│ ---         ┆ ---    │\n",
       "│ str         ┆ u32    │\n",
       "╞═════════════╪════════╡\n",
       "│ 华为        ┆ 65491  │\n",
       "│ SAMSUNG     ┆ 51637  │\n",
       "│ 酷派        ┆ 33631  │\n",
       "│ 中兴        ┆ 30172  │\n",
       "│ …           ┆ …      │\n",
       "│ LG          ┆ 2186   │\n",
       "│ 展翼        ┆ 2100   │\n",
       "│ 小米        ┆ 1890   │\n",
       "│ 天元        ┆ 1803   │\n",
       "└─────────────┴────────┘"
      ]
     },
     "execution_count": 58,
     "metadata": {},
     "output_type": "execute_result"
    }
   ],
   "source": [
    "df_user_info['phone_brand'].value_counts(sort=True).head(20)"
   ]
  },
  {
   "cell_type": "code",
   "execution_count": null,
   "id": "b7670c48",
   "metadata": {},
   "outputs": [],
   "source": []
  }
 ],
 "metadata": {
  "kernelspec": {
   "display_name": "Poetry",
   "language": "python",
   "name": "poetry-kernel"
  },
  "language_info": {
   "codemirror_mode": {
    "name": "ipython",
    "version": 3
   },
   "file_extension": ".py",
   "mimetype": "text/x-python",
   "name": "python",
   "nbconvert_exporter": "python",
   "pygments_lexer": "ipython3",
   "version": "3.11.4"
  }
 },
 "nbformat": 4,
 "nbformat_minor": 5
}
