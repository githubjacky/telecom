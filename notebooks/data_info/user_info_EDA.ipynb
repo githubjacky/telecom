{
 "cells": [
  {
   "cell_type": "code",
   "execution_count": null,
   "id": "df431830",
   "metadata": {},
   "outputs": [],
   "source": [
    "from sqlalchemy import create_engine\n",
    "\n",
    "\n",
    "engine = create_engine('mysql+pyodbc://telecom')\n",
    "%load_ext sql\n",
    "%sql engine\n",
    "\n",
    "\n",
    "%config SqlMagic.autopolars = True"
   ]
  },
  {
   "cell_type": "code",
   "execution_count": 6,
   "id": "fdcf65cb-ddda-4bdb-84fd-5f5481e63f5e",
   "metadata": {},
   "outputs": [
    {
     "data": {
      "text/html": [
       "<span style=\"None\">Running query in &#x27;mysql+pyodbc://telecom&#x27;</span>"
      ],
      "text/plain": [
       "Running query in 'mysql+pyodbc://telecom'"
      ]
     },
     "metadata": {},
     "output_type": "display_data"
    },
    {
     "data": {
      "text/html": [
       "<span style=\"color: green\">302904 rows affected.</span>"
      ],
      "text/plain": [
       "302904 rows affected."
      ]
     },
     "metadata": {},
     "output_type": "display_data"
    },
    {
     "data": {
      "text/html": [
       "<div><style>\n",
       ".dataframe > thead > tr > th,\n",
       ".dataframe > tbody > tr > td {\n",
       "  text-align: right;\n",
       "}\n",
       "</style>\n",
       "<small>shape: (302_904, 24)</small><table border=\"1\" class=\"dataframe\"><thead><tr><th>serv_id</th><th>client_nbr</th><th>born_area_code</th><th>register_district</th><th>age</th><th>phone_brand</th><th>phone_level</th><th>phone_price</th><th>evdo_support_flag</th><th>arpu</th><th>mou_total</th><th>mou_local</th><th>mou_dist</th><th>network_usage_traffic</th><th>network_usage_time</th><th>e9_service_flag</th><th>e6_service_flag</th><th>e9_service_premium_flag</th><th>8card_service_flag</th><th>smart_phone_flag</th><th>card_phone_flag</th><th>rural_flag</th><th>employ_flag</th><th>student_flag</th></tr><tr><td>str</td><td>str</td><td>str</td><td>str</td><td>i64</td><td>str</td><td>str</td><td>i64</td><td>i64</td><td>f64</td><td>f64</td><td>f64</td><td>f64</td><td>f64</td><td>f64</td><td>i64</td><td>i64</td><td>i64</td><td>i64</td><td>i64</td><td>i64</td><td>i64</td><td>i64</td><td>i64</td></tr></thead><tbody><tr><td>&quot;9uxt3ojw&quot;</td><td>&quot;6m6s3n3s&quot;</td><td>&quot;510626&quot;</td><td>&quot;德阳现业&quot;</td><td>32</td><td>&quot;SAMSUNG&quot;</td><td>&quot;超高端&quot;</td><td>4890</td><td>1</td><td>0.0</td><td>350.25</td><td>176.080002</td><td>37.549999</td><td>256.160004</td><td>6398.870117</td><td>1</td><td>0</td><td>0</td><td>0</td><td>1</td><td>0</td><td>0</td><td>1</td><td>0</td></tr><tr><td>&quot;a2nl3ojo&quot;</td><td>&quot;6twk3n3s&quot;</td><td>&quot;510626&quot;</td><td>&quot;德阳现业&quot;</td><td>32</td><td>&quot;中兴&quot;</td><td>&quot;中端&quot;</td><td>899</td><td>1</td><td>0.1</td><td>59.950001</td><td>28.75</td><td>0.43</td><td>45.540001</td><td>13991.799805</td><td>1</td><td>0</td><td>0</td><td>0</td><td>1</td><td>0</td><td>0</td><td>1</td><td>0</td></tr><tr><td>&quot;90893o09&quot;</td><td>&quot;mm7pjcxf&quot;</td><td>&quot;510602&quot;</td><td>&quot;德阳现业&quot;</td><td>66</td><td>&quot;华立时代&quot;</td><td>&quot;低端&quot;</td><td>330</td><td>0</td><td>8.0</td><td>21.82</td><td>11.5</td><td>0.0</td><td>0.0</td><td>0.0</td><td>0</td><td>0</td><td>0</td><td>0</td><td>0</td><td>0</td><td>0</td><td>1</td><td>0</td></tr><tr><td>&quot;8sih3omm&quot;</td><td>&quot;fq5m3q1g&quot;</td><td>&quot;510623&quot;</td><td>&quot;广汉&quot;</td><td>31</td><td>&quot;SAMSUNG&quot;</td><td>&quot;超低端&quot;</td><td>299</td><td>0</td><td>38.0</td><td>344.850006</td><td>233.580002</td><td>0.25</td><td>0.0</td><td>0.0</td><td>0</td><td>0</td><td>0</td><td>0</td><td>0</td><td>0</td><td>0</td><td>1</td><td>0</td></tr><tr><td>&quot;a2vx3ogx&quot;</td><td>&quot;4kkhjsib&quot;</td><td>&quot;510602&quot;</td><td>&quot;德阳现业&quot;</td><td>50</td><td>&quot;SAMSUNG&quot;</td><td>&quot;超低端&quot;</td><td>199</td><td>0</td><td>0.0</td><td>381.600006</td><td>13.92</td><td>0.0</td><td>0.0</td><td>0.0</td><td>1</td><td>0</td><td>0</td><td>0</td><td>0</td><td>0</td><td>1</td><td>1</td><td>0</td></tr><tr><td>&quot;980t3oml&quot;</td><td>&quot;iltc4wv5&quot;</td><td>&quot;510602&quot;</td><td>&quot;德阳现业&quot;</td><td>39</td><td>&quot;华为&quot;</td><td>&quot;中端&quot;</td><td>1090</td><td>1</td><td>6.2</td><td>11.9</td><td>11.9</td><td>0.0</td><td>911.450012</td><td>28410.199219</td><td>1</td><td>0</td><td>0</td><td>0</td><td>1</td><td>0</td><td>0</td><td>1</td><td>0</td></tr><tr><td>&quot;aie93o5u&quot;</td><td>&quot;efqbk0gj&quot;</td><td>&quot;510625&quot;</td><td>&quot;什邡&quot;</td><td>54</td><td>&quot;世纪星宇&quot;</td><td>&quot;低端&quot;</td><td>399</td><td>1</td><td>0.0</td><td>162.830002</td><td>38.68</td><td>0.0</td><td>0.0</td><td>0.0</td><td>0</td><td>0</td><td>0</td><td>0</td><td>0</td><td>0</td><td>0</td><td>1</td><td>0</td></tr><tr><td>&quot;aaoh3o8r&quot;</td><td>&quot;bvdlk0dq&quot;</td><td>&quot;510623&quot;</td><td>&quot;德阳现业&quot;</td><td>39</td><td>&quot;华为&quot;</td><td>&quot;中端&quot;</td><td>838</td><td>1</td><td>66.559998</td><td>158.350006</td><td>40.98</td><td>23.43</td><td>86.5</td><td>19410.599609</td><td>1</td><td>0</td><td>0</td><td>0</td><td>1</td><td>0</td><td>1</td><td>1</td><td>0</td></tr><tr><td>&quot;aih13o5t&quot;</td><td>&quot;hbvgl0f1&quot;</td><td>&quot;510682&quot;</td><td>&quot;什邡&quot;</td><td>31</td><td>&quot;中兴&quot;</td><td>&quot;超低端&quot;</td><td>199</td><td>0</td><td>6.0</td><td>53.900002</td><td>31.030001</td><td>16.15</td><td>0.0</td><td>0.0</td><td>1</td><td>0</td><td>0</td><td>0</td><td>0</td><td>0</td><td>1</td><td>1</td><td>0</td></tr><tr><td>&quot;a31h3oph&quot;</td><td>&quot;fana3pks&quot;</td><td>&quot;513437&quot;</td><td>&quot;广汉&quot;</td><td>42</td><td>&quot;SAMSUNG&quot;</td><td>&quot;低端&quot;</td><td>599</td><td>1</td><td>276.450012</td><td>1492.02002</td><td>13.47</td><td>234.179993</td><td>88.010002</td><td>15352.099609</td><td>1</td><td>0</td><td>0</td><td>0</td><td>1</td><td>0</td><td>0</td><td>1</td><td>0</td></tr><tr><td>&quot;aau13oju&quot;</td><td>&quot;eospjcuj&quot;</td><td>&quot;510602&quot;</td><td>&quot;德阳现业&quot;</td><td>69</td><td>&quot;广信&quot;</td><td>&quot;低端&quot;</td><td>599</td><td>0</td><td>8.2</td><td>2.75</td><td>0.0</td><td>0.0</td><td>0.0</td><td>0.0</td><td>0</td><td>0</td><td>0</td><td>0</td><td>0</td><td>0</td><td>0</td><td>1</td><td>0</td></tr><tr><td>&quot;9nop3omp&quot;</td><td>&quot;knjg3a5a&quot;</td><td>&quot;510681&quot;</td><td>&quot;广汉&quot;</td><td>46</td><td>&quot;华为&quot;</td><td>&quot;中端&quot;</td><td>990</td><td>1</td><td>0.0</td><td>51.029999</td><td>1.98</td><td>20.129999</td><td>51.619999</td><td>1559.300049</td><td>1</td><td>0</td><td>0</td><td>0</td><td>1</td><td>0</td><td>0</td><td>1</td><td>0</td></tr><tr><td>&hellip;</td><td>&hellip;</td><td>&hellip;</td><td>&hellip;</td><td>&hellip;</td><td>&hellip;</td><td>&hellip;</td><td>&hellip;</td><td>&hellip;</td><td>&hellip;</td><td>&hellip;</td><td>&hellip;</td><td>&hellip;</td><td>&hellip;</td><td>&hellip;</td><td>&hellip;</td><td>&hellip;</td><td>&hellip;</td><td>&hellip;</td><td>&hellip;</td><td>&hellip;</td><td>&hellip;</td><td>&hellip;</td><td>&hellip;</td></tr><tr><td>&quot;9f7qndci&quot;</td><td>&quot;n4304pov&quot;</td><td>&quot;510602&quot;</td><td>&quot;罗江&quot;</td><td>62</td><td>&quot;华为&quot;</td><td>&quot;中端&quot;</td><td>838</td><td>1</td><td>38.0</td><td>9.9</td><td>6.45</td><td>0.28</td><td>157.710007</td><td>13259.799805</td><td>0</td><td>0</td><td>0</td><td>0</td><td>1</td><td>0</td><td>0</td><td>1</td><td>0</td></tr><tr><td>&quot;ahsmndfc&quot;</td><td>&quot;jomk5rvu&quot;</td><td>&quot;510602&quot;</td><td>&quot;罗江&quot;</td><td>52</td><td>&quot;华为&quot;</td><td>&quot;高端&quot;</td><td>1890</td><td>1</td><td>25.0</td><td>201.779999</td><td>74.580002</td><td>34.119999</td><td>18.49</td><td>1748.420044</td><td>0</td><td>0</td><td>0</td><td>0</td><td>1</td><td>0</td><td>0</td><td>1</td><td>0</td></tr><tr><td>&quot;8s2endqc&quot;</td><td>&quot;5z4hjhs7&quot;</td><td>&quot;512901&quot;</td><td>&quot;德阳现业&quot;</td><td>40</td><td>&quot;小米&quot;</td><td>&quot;高端&quot;</td><td>2399</td><td>1</td><td>20.1</td><td>304.220001</td><td>113.25</td><td>47.98</td><td>389.399994</td><td>27120.800781</td><td>1</td><td>0</td><td>0</td><td>0</td><td>1</td><td>0</td><td>0</td><td>1</td><td>0</td></tr><tr><td>&quot;8s2endqg&quot;</td><td>&quot;iau7455x&quot;</td><td>&quot;510622&quot;</td><td>&quot;绵竹&quot;</td><td>30</td><td>&quot;SAMSUNG&quot;</td><td>&quot;中端&quot;</td><td>890</td><td>1</td><td>5.56</td><td>38.82</td><td>27.77</td><td>0.0</td><td>751.450012</td><td>43498.800781</td><td>1</td><td>0</td><td>0</td><td>0</td><td>1</td><td>0</td><td>1</td><td>1</td><td>0</td></tr><tr><td>&quot;97hyndqc&quot;</td><td>&quot;8p49jd8d&quot;</td><td>&quot;510683&quot;</td><td>&quot;绵竹&quot;</td><td>26</td><td>&quot;优思&quot;</td><td>&quot;低端&quot;</td><td>678</td><td>0</td><td>53.0</td><td>191.100006</td><td>66.25</td><td>102.919998</td><td>1.27</td><td>637.700012</td><td>1</td><td>0</td><td>0</td><td>0</td><td>0</td><td>0</td><td>0</td><td>1</td><td>0</td></tr><tr><td>&quot;9mxindq9&quot;</td><td>&quot;hjuo4xbt&quot;</td><td>&quot;510603&quot;</td><td>&quot;德阳现业&quot;</td><td>30</td><td>&quot;SAMSUNG&quot;</td><td>&quot;高端&quot;</td><td>2980</td><td>1</td><td>75.389999</td><td>153.850006</td><td>79.25</td><td>9.73</td><td>292.209991</td><td>15603.0</td><td>1</td><td>0</td><td>0</td><td>0</td><td>1</td><td>0</td><td>0</td><td>1</td><td>0</td></tr><tr><td>&quot;aa2undqg&quot;</td><td>&quot;lihc3hxv&quot;</td><td>&quot;510681&quot;</td><td>&quot;广汉&quot;</td><td>29</td><td>&quot;SAMSUNG&quot;</td><td>&quot;低端&quot;</td><td>499</td><td>1</td><td>7.55</td><td>114.230003</td><td>33.700001</td><td>0.0</td><td>0.0</td><td>0.0</td><td>1</td><td>0</td><td>0</td><td>0</td><td>0</td><td>0</td><td>0</td><td>1</td><td>0</td></tr><tr><td>&quot;8s2endt2&quot;</td><td>&quot;fjeyknj4&quot;</td><td>&quot;510603&quot;</td><td>&quot;德阳现业&quot;</td><td>27</td><td>&quot;广信&quot;</td><td>&quot;超低端&quot;</td><td>199</td><td>0</td><td>24.01</td><td>284.779999</td><td>153.729996</td><td>5.82</td><td>0.0</td><td>0.0</td><td>1</td><td>0</td><td>0</td><td>0</td><td>0</td><td>0</td><td>0</td><td>1</td><td>0</td></tr><tr><td>&quot;8s56nd9k&quot;</td><td>&quot;6lvo2c9o&quot;</td><td>&quot;500382&quot;</td><td>&quot;广汉&quot;</td><td>18</td><td>&quot;苹果&quot;</td><td>&quot;超高端&quot;</td><td>5288</td><td>1</td><td>34.299999</td><td>574.719971</td><td>311.720001</td><td>98.32</td><td>2920.26001</td><td>1167.079956</td><td>0</td><td>0</td><td>0</td><td>0</td><td>1</td><td>0</td><td>0</td><td>1</td><td>0</td></tr><tr><td>&quot;a2fund9l&quot;</td><td>&quot;k42g3uo6&quot;</td><td>&quot;510602&quot;</td><td>&quot;广汉&quot;</td><td>31</td><td>&quot;葳朗&quot;</td><td>&quot;低端&quot;</td><td>399</td><td>1</td><td>105.650002</td><td>1053.400024</td><td>12.58</td><td>40.98</td><td>43.34</td><td>32304.400391</td><td>0</td><td>0</td><td>0</td><td>0</td><td>0</td><td>0</td><td>1</td><td>1</td><td>0</td></tr><tr><td>&quot;apl6ndfa&quot;</td><td>&quot;8uxw3i8t&quot;</td><td>&quot;510622&quot;</td><td>&quot;绵竹&quot;</td><td>44</td><td>&quot;酷派&quot;</td><td>&quot;中端&quot;</td><td>899</td><td>1</td><td>21.68</td><td>14.78</td><td>7.28</td><td>0.35</td><td>53.279999</td><td>38487.398438</td><td>1</td><td>0</td><td>0</td><td>0</td><td>1</td><td>0</td><td>0</td><td>1</td><td>0</td></tr><tr><td>&quot;9n0andi0&quot;</td><td>&quot;cxc9k0gj&quot;</td><td>&quot;510211&quot;</td><td>&quot;广汉&quot;</td><td>59</td><td>&quot;SAMSUNG&quot;</td><td>&quot;高端&quot;</td><td>1698</td><td>1</td><td>65.389999</td><td>82.580002</td><td>20.15</td><td>11.58</td><td>128.699997</td><td>1103.469971</td><td>1</td><td>0</td><td>0</td><td>0</td><td>0</td><td>0</td><td>0</td><td>1</td><td>0</td></tr></tbody></table></div>"
      ],
      "text/plain": [
       "shape: (302_904, 24)\n",
       "┌──────────┬───────────┬───────────┬───────────┬───┬───────────┬───────────┬───────────┬───────────┐\n",
       "│ serv_id  ┆ client_nb ┆ born_area ┆ register_ ┆ … ┆ card_phon ┆ rural_fla ┆ employ_fl ┆ student_f │\n",
       "│ ---      ┆ r         ┆ _code     ┆ district  ┆   ┆ e_flag    ┆ g         ┆ ag        ┆ lag       │\n",
       "│ str      ┆ ---       ┆ ---       ┆ ---       ┆   ┆ ---       ┆ ---       ┆ ---       ┆ ---       │\n",
       "│          ┆ str       ┆ str       ┆ str       ┆   ┆ i64       ┆ i64       ┆ i64       ┆ i64       │\n",
       "╞══════════╪═══════════╪═══════════╪═══════════╪═══╪═══════════╪═══════════╪═══════════╪═══════════╡\n",
       "│ 9uxt3ojw ┆ 6m6s3n3s  ┆ 510626    ┆ 德阳现业  ┆ … ┆ 0         ┆ 0         ┆ 1         ┆ 0         │\n",
       "│ a2nl3ojo ┆ 6twk3n3s  ┆ 510626    ┆ 德阳现业  ┆ … ┆ 0         ┆ 0         ┆ 1         ┆ 0         │\n",
       "│ 90893o09 ┆ mm7pjcxf  ┆ 510602    ┆ 德阳现业  ┆ … ┆ 0         ┆ 0         ┆ 1         ┆ 0         │\n",
       "│ 8sih3omm ┆ fq5m3q1g  ┆ 510623    ┆ 广汉      ┆ … ┆ 0         ┆ 0         ┆ 1         ┆ 0         │\n",
       "│ …        ┆ …         ┆ …         ┆ …         ┆ … ┆ …         ┆ …         ┆ …         ┆ …         │\n",
       "│ 8s56nd9k ┆ 6lvo2c9o  ┆ 500382    ┆ 广汉      ┆ … ┆ 0         ┆ 0         ┆ 1         ┆ 0         │\n",
       "│ a2fund9l ┆ k42g3uo6  ┆ 510602    ┆ 广汉      ┆ … ┆ 0         ┆ 1         ┆ 1         ┆ 0         │\n",
       "│ apl6ndfa ┆ 8uxw3i8t  ┆ 510622    ┆ 绵竹      ┆ … ┆ 0         ┆ 0         ┆ 1         ┆ 0         │\n",
       "│ 9n0andi0 ┆ cxc9k0gj  ┆ 510211    ┆ 广汉      ┆ … ┆ 0         ┆ 0         ┆ 1         ┆ 0         │\n",
       "└──────────┴───────────┴───────────┴───────────┴───┴───────────┴───────────┴───────────┴───────────┘"
      ]
     },
     "execution_count": 6,
     "metadata": {},
     "output_type": "execute_result"
    }
   ],
   "source": [
    "df = %sql SELECT * FROM clean_user_info\n",
    "df"
   ]
  },
  {
   "cell_type": "code",
   "execution_count": null,
   "id": "12cdbb11-d096-407c-90c5-f1383a705b83",
   "metadata": {},
   "outputs": [],
   "source": [
    "def plot_cate(col):\n",
    "    cat = list(df[col].unique())\n",
    "    map = {\n",
    "        "
   ]
  },
  {
   "cell_type": "code",
   "execution_count": 39,
   "id": "44c68236-36e3-4466-bd63-15c7f86831f1",
   "metadata": {},
   "outputs": [],
   "source": [
    "def dis_trans(x):\n",
    "    if x == '广汉': return 1\n",
    "    elif x == '中江': return 2\n",
    "    elif x == '绵竹': return 3\n",
    "    elif x == '什邡': return 4\n",
    "    elif x == '德阳现业': return 5\n",
    "    else: return 6"
   ]
  },
  {
   "cell_type": "code",
   "execution_count": 11,
   "id": "6cec4bb2-36e4-4159-987e-bd4582d2e842",
   "metadata": {},
   "outputs": [],
   "source": [
    "import seaborn as sns\n",
    "sns.set(font=\"Liberation\")"
   ]
  },
  {
   "cell_type": "code",
   "execution_count": null,
   "id": "b7670c48",
   "metadata": {},
   "outputs": [],
   "source": []
  }
 ],
 "metadata": {
  "kernelspec": {
   "display_name": "Poetry",
   "language": "python",
   "name": "poetry-kernel"
  },
  "language_info": {
   "codemirror_mode": {
    "name": "ipython",
    "version": 3
   },
   "file_extension": ".py",
   "mimetype": "text/x-python",
   "name": "python",
   "nbconvert_exporter": "python",
   "pygments_lexer": "ipython3",
   "version": "3.11.4"
  }
 },
 "nbformat": 4,
 "nbformat_minor": 5
}
