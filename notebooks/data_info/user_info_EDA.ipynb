{
 "cells": [
  {
   "cell_type": "code",
   "execution_count": 1,
   "id": "df431830",
   "metadata": {},
   "outputs": [],
   "source": [
    "from pathlib import Path\n",
    "import polars as pl\n",
    "\n",
    "\n",
    "# data_dir = Path('../../data/processed')"
   ]
  },
  {
   "cell_type": "code",
   "execution_count": 5,
   "id": "fdcf65cb-ddda-4bdb-84fd-5f5481e63f5e",
   "metadata": {},
   "outputs": [
    {
     "data": {
      "text/html": [
       "<div><style>\n",
       ".dataframe > thead > tr > th,\n",
       ".dataframe > tbody > tr > td {\n",
       "  text-align: right;\n",
       "}\n",
       "</style>\n",
       "<small>shape: (80_000, 8)</small><table border=\"1\" class=\"dataframe\"><thead><tr><th>time</th><th>day_of_week</th><th>calling_nbr</th><th>calling_area_code</th><th>duration</th><th>called_area_code</th><th>called_nbr</th><th>cell_id</th></tr><tr><td>i64</td><td>i32</td><td>str</td><td>str</td><td>i32</td><td>str</td><td>str</td><td>str</td></tr></thead><tbody><tr><td>18</td><td>5</td><td>&quot;ebno42gn&quot;</td><td>&quot;0838&quot;</td><td>27</td><td>&quot;0838&quot;</td><td>&quot;5jas41ub&quot;</td><td>&quot;3A39&quot;</td></tr><tr><td>7</td><td>7</td><td>&quot;j19rfv01&quot;</td><td>&quot;0838&quot;</td><td>31</td><td>&quot;0838&quot;</td><td>&quot;3jougl2q&quot;</td><td>&quot;3696&quot;</td></tr><tr><td>18</td><td>2</td><td>&quot;87l5k084&quot;</td><td>&quot;0838&quot;</td><td>26</td><td>&quot;0838&quot;</td><td>&quot;62fdk083&quot;</td><td>&quot;39FC&quot;</td></tr><tr><td>20</td><td>5</td><td>&quot;k4ax38g6&quot;</td><td>&quot;0838&quot;</td><td>35</td><td>&quot;0838&quot;</td><td>&quot;a8wvf0lh&quot;</td><td>&quot;3A6B&quot;</td></tr><tr><td>15</td><td>7</td><td>&quot;e04k3aar&quot;</td><td>&quot;0838&quot;</td><td>7</td><td>&quot;0838&quot;</td><td>&quot;m1g7fg3z&quot;</td><td>&quot;3B17&quot;</td></tr><tr><td>12</td><td>6</td><td>&quot;h24ekfl0&quot;</td><td>&quot;0838&quot;</td><td>22</td><td>&quot;0838&quot;</td><td>&quot;ltnnfg3z&quot;</td><td>&quot;36A5&quot;</td></tr><tr><td>11</td><td>7</td><td>&quot;laigly26&quot;</td><td>&quot;0838&quot;</td><td>59</td><td>&quot;0838&quot;</td><td>&quot;6tixjhmo&quot;</td><td>&quot;1F81&quot;</td></tr><tr><td>14</td><td>6</td><td>&quot;im252t0l&quot;</td><td>&quot;0838&quot;</td><td>74</td><td>&quot;0838&quot;</td><td>&quot;kooclxfy&quot;</td><td>&quot;3CC1&quot;</td></tr><tr><td>6</td><td>2</td><td>&quot;3r51jddu&quot;</td><td>&quot;0838&quot;</td><td>15</td><td>&quot;0838&quot;</td><td>&quot;96xc54qd&quot;</td><td>&quot;377E&quot;</td></tr><tr><td>15</td><td>5</td><td>&quot;motc3n17&quot;</td><td>&quot;0838&quot;</td><td>4968</td><td>&quot;0838&quot;</td><td>&quot;9c18lxo5&quot;</td><td>&quot;36B0&quot;</td></tr><tr><td>10</td><td>5</td><td>&quot;9epx2k29&quot;</td><td>&quot;0838&quot;</td><td>73</td><td>&quot;0838&quot;</td><td>&quot;njqw5rnj&quot;</td><td>&quot;1053&quot;</td></tr><tr><td>16</td><td>5</td><td>&quot;efh23alv&quot;</td><td>&quot;0838&quot;</td><td>35</td><td>&quot;0838&quot;</td><td>&quot;ie5bb6pp&quot;</td><td>&quot;35AE&quot;</td></tr><tr><td>&hellip;</td><td>&hellip;</td><td>&hellip;</td><td>&hellip;</td><td>&hellip;</td><td>&hellip;</td><td>&hellip;</td><td>&hellip;</td></tr><tr><td>17</td><td>6</td><td>&quot;i6hffvm9&quot;</td><td>&quot;0838&quot;</td><td>13</td><td>&quot;0838&quot;</td><td>&quot;n4bc67mj&quot;</td><td>&quot;3586&quot;</td></tr><tr><td>15</td><td>5</td><td>&quot;kjyc4ha2&quot;</td><td>&quot;0838&quot;</td><td>25</td><td>&quot;0838&quot;</td><td>&quot;fero4ha0&quot;</td><td>&quot;36CC&quot;</td></tr><tr><td>19</td><td>7</td><td>&quot;g90k5rq8&quot;</td><td>&quot;0838&quot;</td><td>10</td><td>&quot;0838&quot;</td><td>&quot;dss43pyn&quot;</td><td>&quot;36B7&quot;</td></tr><tr><td>11</td><td>7</td><td>&quot;gcr83hv0&quot;</td><td>&quot;0838&quot;</td><td>29</td><td>&quot;0838&quot;</td><td>&quot;6mes5rq4&quot;</td><td>&quot;349D&quot;</td></tr><tr><td>16</td><td>6</td><td>&quot;k1omkfl2&quot;</td><td>&quot;0838&quot;</td><td>101</td><td>&quot;0838&quot;</td><td>&quot;eyng4a97&quot;</td><td>&quot;3520&quot;</td></tr><tr><td>15</td><td>5</td><td>&quot;dhbo4p5b&quot;</td><td>&quot;0838&quot;</td><td>93</td><td>&quot;0838&quot;</td><td>&quot;7ozo4plw&quot;</td><td>&quot;009D&quot;</td></tr><tr><td>11</td><td>3</td><td>&quot;khksly26&quot;</td><td>&quot;0838&quot;</td><td>18</td><td>&quot;0838&quot;</td><td>&quot;a77gly21&quot;</td><td>&quot;36B2&quot;</td></tr><tr><td>15</td><td>6</td><td>&quot;nc4d3nvr&quot;</td><td>&quot;0838&quot;</td><td>229</td><td>&quot;0838&quot;</td><td>&quot;l6t5jhxy&quot;</td><td>&quot;3C65&quot;</td></tr><tr><td>17</td><td>1</td><td>&quot;jwtc41ui&quot;</td><td>&quot;0838&quot;</td><td>36</td><td>&quot;0838&quot;</td><td>&quot;gea1jd8g&quot;</td><td>&quot;355E&quot;</td></tr><tr><td>17</td><td>1</td><td>&quot;2z8k4pdi&quot;</td><td>&quot;0838&quot;</td><td>11</td><td>&quot;0838&quot;</td><td>&quot;ltlw8k1f&quot;</td><td>&quot;38A5&quot;</td></tr><tr><td>18</td><td>7</td><td>&quot;am3b2v69&quot;</td><td>&quot;0838&quot;</td><td>62</td><td>&quot;0838&quot;</td><td>&quot;l37w3a2i&quot;</td><td>&quot;3B17&quot;</td></tr><tr><td>16</td><td>7</td><td>&quot;koxtjcxe&quot;</td><td>&quot;0838&quot;</td><td>56</td><td>&quot;0838&quot;</td><td>&quot;8r1zg3bx&quot;</td><td>&quot;36F6&quot;</td></tr></tbody></table></div>"
      ],
      "text/plain": [
       "shape: (80_000, 8)\n",
       "┌──────┬─────────────┬─────────────┬──────────────┬──────────┬──────────────┬────────────┬─────────┐\n",
       "│ time ┆ day_of_week ┆ calling_nbr ┆ calling_area ┆ duration ┆ called_area_ ┆ called_nbr ┆ cell_id │\n",
       "│ ---  ┆ ---         ┆ ---         ┆ _code        ┆ ---      ┆ code         ┆ ---        ┆ ---     │\n",
       "│ i64  ┆ i32         ┆ str         ┆ ---          ┆ i32      ┆ ---          ┆ str        ┆ str     │\n",
       "│      ┆             ┆             ┆ str          ┆          ┆ str          ┆            ┆         │\n",
       "╞══════╪═════════════╪═════════════╪══════════════╪══════════╪══════════════╪════════════╪═════════╡\n",
       "│ 18   ┆ 5           ┆ ebno42gn    ┆ 0838         ┆ 27       ┆ 0838         ┆ 5jas41ub   ┆ 3A39    │\n",
       "│ 7    ┆ 7           ┆ j19rfv01    ┆ 0838         ┆ 31       ┆ 0838         ┆ 3jougl2q   ┆ 3696    │\n",
       "│ 18   ┆ 2           ┆ 87l5k084    ┆ 0838         ┆ 26       ┆ 0838         ┆ 62fdk083   ┆ 39FC    │\n",
       "│ 20   ┆ 5           ┆ k4ax38g6    ┆ 0838         ┆ 35       ┆ 0838         ┆ a8wvf0lh   ┆ 3A6B    │\n",
       "│ …    ┆ …           ┆ …           ┆ …            ┆ …        ┆ …            ┆ …          ┆ …       │\n",
       "│ 17   ┆ 1           ┆ jwtc41ui    ┆ 0838         ┆ 36       ┆ 0838         ┆ gea1jd8g   ┆ 355E    │\n",
       "│ 17   ┆ 1           ┆ 2z8k4pdi    ┆ 0838         ┆ 11       ┆ 0838         ┆ ltlw8k1f   ┆ 38A5    │\n",
       "│ 18   ┆ 7           ┆ am3b2v69    ┆ 0838         ┆ 62       ┆ 0838         ┆ l37w3a2i   ┆ 3B17    │\n",
       "│ 16   ┆ 7           ┆ koxtjcxe    ┆ 0838         ┆ 56       ┆ 0838         ┆ 8r1zg3bx   ┆ 36F6    │\n",
       "└──────┴─────────────┴─────────────┴──────────────┴──────────┴──────────────┴────────────┴─────────┘"
      ]
     },
     "execution_count": 5,
     "metadata": {},
     "output_type": "execute_result"
    }
   ],
   "source": [
    "df_user_info = pl.read_parquet('../../data/processed/network_sample.parquet')\n",
    "df_user_info"
   ]
  },
  {
   "cell_type": "code",
   "execution_count": 2,
   "id": "9bbf1c48",
   "metadata": {},
   "outputs": [
    {
     "ename": "FileNotFoundError",
     "evalue": "No such file or directory: ../../data/processed/user_info.parquet",
     "output_type": "error",
     "traceback": [
      "\u001b[0;31m---------------------------------------------------------------------------\u001b[0m",
      "\u001b[0;31mFileNotFoundError\u001b[0m                         Traceback (most recent call last)",
      "Cell \u001b[0;32mIn[2], line 1\u001b[0m\n\u001b[0;32m----> 1\u001b[0m df_user_info \u001b[38;5;241m=\u001b[39m \u001b[43mpl\u001b[49m\u001b[38;5;241;43m.\u001b[39;49m\u001b[43mread_parquet\u001b[49m\u001b[43m(\u001b[49m\u001b[38;5;124;43m'\u001b[39;49m\u001b[38;5;124;43m../../data/processed/user_info.parquet\u001b[39;49m\u001b[38;5;124;43m'\u001b[39;49m\u001b[43m)\u001b[49m\n\u001b[1;32m      2\u001b[0m df_user_info\n",
      "File \u001b[0;32m/usr/local/lib/python3.11/site-packages/polars/io/parquet/functions.py:132\u001b[0m, in \u001b[0;36mread_parquet\u001b[0;34m(source, columns, n_rows, use_pyarrow, memory_map, storage_options, parallel, row_count_name, row_count_offset, low_memory, pyarrow_options, use_statistics, rechunk)\u001b[0m\n\u001b[1;32m    121\u001b[0m     \u001b[38;5;28;01mimport\u001b[39;00m \u001b[38;5;21;01mpyarrow\u001b[39;00m\u001b[38;5;21;01m.\u001b[39;00m\u001b[38;5;21;01mparquet\u001b[39;00m\n\u001b[1;32m    123\u001b[0m     \u001b[38;5;28;01mreturn\u001b[39;00m from_arrow(  \u001b[38;5;66;03m# type: ignore[return-value]\u001b[39;00m\n\u001b[1;32m    124\u001b[0m         pa\u001b[38;5;241m.\u001b[39mparquet\u001b[38;5;241m.\u001b[39mread_table(\n\u001b[1;32m    125\u001b[0m             source_prep,\n\u001b[0;32m   (...)\u001b[0m\n\u001b[1;32m    129\u001b[0m         )\n\u001b[1;32m    130\u001b[0m     )\n\u001b[0;32m--> 132\u001b[0m \u001b[38;5;28;01mreturn\u001b[39;00m \u001b[43mpl\u001b[49m\u001b[38;5;241;43m.\u001b[39;49m\u001b[43mDataFrame\u001b[49m\u001b[38;5;241;43m.\u001b[39;49m\u001b[43m_read_parquet\u001b[49m\u001b[43m(\u001b[49m\n\u001b[1;32m    133\u001b[0m \u001b[43m    \u001b[49m\u001b[43msource_prep\u001b[49m\u001b[43m,\u001b[49m\n\u001b[1;32m    134\u001b[0m \u001b[43m    \u001b[49m\u001b[43mcolumns\u001b[49m\u001b[38;5;241;43m=\u001b[39;49m\u001b[43mcolumns\u001b[49m\u001b[43m,\u001b[49m\n\u001b[1;32m    135\u001b[0m \u001b[43m    \u001b[49m\u001b[43mn_rows\u001b[49m\u001b[38;5;241;43m=\u001b[39;49m\u001b[43mn_rows\u001b[49m\u001b[43m,\u001b[49m\n\u001b[1;32m    136\u001b[0m \u001b[43m    \u001b[49m\u001b[43mparallel\u001b[49m\u001b[38;5;241;43m=\u001b[39;49m\u001b[43mparallel\u001b[49m\u001b[43m,\u001b[49m\n\u001b[1;32m    137\u001b[0m \u001b[43m    \u001b[49m\u001b[43mrow_count_name\u001b[49m\u001b[38;5;241;43m=\u001b[39;49m\u001b[43mrow_count_name\u001b[49m\u001b[43m,\u001b[49m\n\u001b[1;32m    138\u001b[0m \u001b[43m    \u001b[49m\u001b[43mrow_count_offset\u001b[49m\u001b[38;5;241;43m=\u001b[39;49m\u001b[43mrow_count_offset\u001b[49m\u001b[43m,\u001b[49m\n\u001b[1;32m    139\u001b[0m \u001b[43m    \u001b[49m\u001b[43mlow_memory\u001b[49m\u001b[38;5;241;43m=\u001b[39;49m\u001b[43mlow_memory\u001b[49m\u001b[43m,\u001b[49m\n\u001b[1;32m    140\u001b[0m \u001b[43m    \u001b[49m\u001b[43muse_statistics\u001b[49m\u001b[38;5;241;43m=\u001b[39;49m\u001b[43muse_statistics\u001b[49m\u001b[43m,\u001b[49m\n\u001b[1;32m    141\u001b[0m \u001b[43m    \u001b[49m\u001b[43mrechunk\u001b[49m\u001b[38;5;241;43m=\u001b[39;49m\u001b[43mrechunk\u001b[49m\u001b[43m,\u001b[49m\n\u001b[1;32m    142\u001b[0m \u001b[43m\u001b[49m\u001b[43m)\u001b[49m\n",
      "File \u001b[0;32m/usr/local/lib/python3.11/site-packages/polars/dataframe/frame.py:852\u001b[0m, in \u001b[0;36mDataFrame._read_parquet\u001b[0;34m(cls, source, columns, n_rows, parallel, row_count_name, row_count_offset, low_memory, use_statistics, rechunk)\u001b[0m\n\u001b[1;32m    850\u001b[0m projection, columns \u001b[38;5;241m=\u001b[39m handle_projection_columns(columns)\n\u001b[1;32m    851\u001b[0m \u001b[38;5;28mself\u001b[39m \u001b[38;5;241m=\u001b[39m \u001b[38;5;28mcls\u001b[39m\u001b[38;5;241m.\u001b[39m\u001b[38;5;21m__new__\u001b[39m(\u001b[38;5;28mcls\u001b[39m)\n\u001b[0;32m--> 852\u001b[0m \u001b[38;5;28mself\u001b[39m\u001b[38;5;241m.\u001b[39m_df \u001b[38;5;241m=\u001b[39m \u001b[43mPyDataFrame\u001b[49m\u001b[38;5;241;43m.\u001b[39;49m\u001b[43mread_parquet\u001b[49m\u001b[43m(\u001b[49m\n\u001b[1;32m    853\u001b[0m \u001b[43m    \u001b[49m\u001b[43msource\u001b[49m\u001b[43m,\u001b[49m\n\u001b[1;32m    854\u001b[0m \u001b[43m    \u001b[49m\u001b[43mcolumns\u001b[49m\u001b[43m,\u001b[49m\n\u001b[1;32m    855\u001b[0m \u001b[43m    \u001b[49m\u001b[43mprojection\u001b[49m\u001b[43m,\u001b[49m\n\u001b[1;32m    856\u001b[0m \u001b[43m    \u001b[49m\u001b[43mn_rows\u001b[49m\u001b[43m,\u001b[49m\n\u001b[1;32m    857\u001b[0m \u001b[43m    \u001b[49m\u001b[43mparallel\u001b[49m\u001b[43m,\u001b[49m\n\u001b[1;32m    858\u001b[0m \u001b[43m    \u001b[49m\u001b[43m_prepare_row_count_args\u001b[49m\u001b[43m(\u001b[49m\u001b[43mrow_count_name\u001b[49m\u001b[43m,\u001b[49m\u001b[43m \u001b[49m\u001b[43mrow_count_offset\u001b[49m\u001b[43m)\u001b[49m\u001b[43m,\u001b[49m\n\u001b[1;32m    859\u001b[0m \u001b[43m    \u001b[49m\u001b[43mlow_memory\u001b[49m\u001b[38;5;241;43m=\u001b[39;49m\u001b[43mlow_memory\u001b[49m\u001b[43m,\u001b[49m\n\u001b[1;32m    860\u001b[0m \u001b[43m    \u001b[49m\u001b[43muse_statistics\u001b[49m\u001b[38;5;241;43m=\u001b[39;49m\u001b[43muse_statistics\u001b[49m\u001b[43m,\u001b[49m\n\u001b[1;32m    861\u001b[0m \u001b[43m    \u001b[49m\u001b[43mrechunk\u001b[49m\u001b[38;5;241;43m=\u001b[39;49m\u001b[43mrechunk\u001b[49m\u001b[43m,\u001b[49m\n\u001b[1;32m    862\u001b[0m \u001b[43m\u001b[49m\u001b[43m)\u001b[49m\n\u001b[1;32m    863\u001b[0m \u001b[38;5;28;01mreturn\u001b[39;00m \u001b[38;5;28mself\u001b[39m\n",
      "\u001b[0;31mFileNotFoundError\u001b[0m: No such file or directory: ../../data/processed/user_info.parquet"
     ]
    }
   ],
   "source": [
    "df_user_info = pl.read_parquet('../../data/processed/user_info.parquet')\n",
    "df_user_info"
   ]
  },
  {
   "cell_type": "code",
   "execution_count": 7,
   "id": "cbcca08b",
   "metadata": {},
   "outputs": [
    {
     "data": {
      "text/html": [
       "<div><style>\n",
       ".dataframe > thead > tr > th,\n",
       ".dataframe > tbody > tr > td {\n",
       "  text-align: right;\n",
       "}\n",
       "</style>\n",
       "<small>shape: (302_904, 29)</small><table border=\"1\" class=\"dataframe\"><thead><tr><th>client_nbr</th><th>register_district_中江</th><th>register_district_什邡</th><th>register_district_广汉</th><th>register_district_德阳现业</th><th>register_district_绵竹</th><th>register_district_罗江</th><th>age</th><th>phone_brand</th><th>phone_level</th><th>phone_price</th><th>evdo_support_flag</th><th>mou_local</th><th>mou_dist</th><th>network_vol</th><th>evdo_use_flag</th><th>onex_use_flag</th><th>evdo_vol</th><th>onex_vol</th><th>arpu</th><th>e9_service_flag</th><th>e6_service_flag</th><th>e9_service_premium_flag</th><th>8card_service_flag</th><th>smart_phone_flag</th><th>card_phone_flag</th><th>rural_flag</th><th>employ_flag</th><th>student_flag</th></tr><tr><td>str</td><td>u8</td><td>u8</td><td>u8</td><td>u8</td><td>u8</td><td>u8</td><td>i64</td><td>str</td><td>i32</td><td>i32</td><td>i64</td><td>f32</td><td>f32</td><td>f32</td><td>i64</td><td>i64</td><td>f32</td><td>f32</td><td>f32</td><td>i64</td><td>i64</td><td>i64</td><td>i32</td><td>i32</td><td>i32</td><td>i32</td><td>i32</td><td>i32</td></tr></thead><tbody><tr><td>&quot;6m6s3n3s&quot;</td><td>0</td><td>0</td><td>0</td><td>1</td><td>0</td><td>0</td><td>32</td><td>&quot;SAMSUNG&quot;</td><td>5</td><td>4890</td><td>1</td><td>176.080002</td><td>37.549999</td><td>256.160004</td><td>1</td><td>1</td><td>255.070007</td><td>0.03</td><td>0.0</td><td>1</td><td>0</td><td>0</td><td>0</td><td>1</td><td>0</td><td>0</td><td>1</td><td>0</td></tr><tr><td>&quot;6twk3n3s&quot;</td><td>0</td><td>0</td><td>0</td><td>1</td><td>0</td><td>0</td><td>32</td><td>&quot;中兴&quot;</td><td>3</td><td>899</td><td>1</td><td>28.75</td><td>0.43</td><td>45.540001</td><td>1</td><td>0</td><td>45.540001</td><td>0.0</td><td>0.1</td><td>1</td><td>0</td><td>0</td><td>0</td><td>1</td><td>0</td><td>0</td><td>1</td><td>0</td></tr><tr><td>&quot;mm7pjcxf&quot;</td><td>0</td><td>0</td><td>0</td><td>1</td><td>0</td><td>0</td><td>66</td><td>&quot;华立时代&quot;</td><td>2</td><td>330</td><td>0</td><td>11.5</td><td>0.0</td><td>0.0</td><td>0</td><td>0</td><td>0.0</td><td>0.0</td><td>8.0</td><td>0</td><td>0</td><td>0</td><td>0</td><td>0</td><td>0</td><td>0</td><td>1</td><td>0</td></tr><tr><td>&quot;fq5m3q1g&quot;</td><td>0</td><td>0</td><td>1</td><td>0</td><td>0</td><td>0</td><td>31</td><td>&quot;SAMSUNG&quot;</td><td>1</td><td>299</td><td>0</td><td>233.580002</td><td>0.25</td><td>0.0</td><td>0</td><td>0</td><td>0.0</td><td>0.0</td><td>38.0</td><td>0</td><td>0</td><td>0</td><td>0</td><td>0</td><td>0</td><td>0</td><td>1</td><td>0</td></tr><tr><td>&quot;4kkhjsib&quot;</td><td>0</td><td>0</td><td>0</td><td>1</td><td>0</td><td>0</td><td>50</td><td>&quot;SAMSUNG&quot;</td><td>1</td><td>199</td><td>0</td><td>13.92</td><td>0.0</td><td>0.0</td><td>0</td><td>0</td><td>0.0</td><td>0.0</td><td>0.0</td><td>1</td><td>0</td><td>0</td><td>0</td><td>0</td><td>0</td><td>1</td><td>1</td><td>0</td></tr><tr><td>&quot;iltc4wv5&quot;</td><td>0</td><td>0</td><td>0</td><td>1</td><td>0</td><td>0</td><td>39</td><td>&quot;华为&quot;</td><td>3</td><td>1090</td><td>1</td><td>11.9</td><td>0.0</td><td>911.450012</td><td>1</td><td>0</td><td>911.450012</td><td>0.0</td><td>6.2</td><td>1</td><td>0</td><td>0</td><td>0</td><td>1</td><td>0</td><td>0</td><td>1</td><td>0</td></tr><tr><td>&quot;efqbk0gj&quot;</td><td>0</td><td>1</td><td>0</td><td>0</td><td>0</td><td>0</td><td>54</td><td>&quot;世纪星宇&quot;</td><td>2</td><td>399</td><td>1</td><td>38.68</td><td>0.0</td><td>0.0</td><td>0</td><td>0</td><td>0.0</td><td>0.0</td><td>0.0</td><td>0</td><td>0</td><td>0</td><td>0</td><td>0</td><td>0</td><td>0</td><td>1</td><td>0</td></tr><tr><td>&quot;bvdlk0dq&quot;</td><td>0</td><td>0</td><td>0</td><td>1</td><td>0</td><td>0</td><td>39</td><td>&quot;华为&quot;</td><td>3</td><td>838</td><td>1</td><td>40.98</td><td>23.43</td><td>86.5</td><td>1</td><td>0</td><td>86.5</td><td>0.0</td><td>66.559998</td><td>1</td><td>0</td><td>0</td><td>0</td><td>1</td><td>0</td><td>1</td><td>1</td><td>0</td></tr><tr><td>&quot;hbvgl0f1&quot;</td><td>0</td><td>1</td><td>0</td><td>0</td><td>0</td><td>0</td><td>31</td><td>&quot;中兴&quot;</td><td>1</td><td>199</td><td>0</td><td>31.030001</td><td>16.15</td><td>0.0</td><td>0</td><td>0</td><td>0.0</td><td>0.0</td><td>6.0</td><td>1</td><td>0</td><td>0</td><td>0</td><td>0</td><td>0</td><td>1</td><td>1</td><td>0</td></tr><tr><td>&quot;fana3pks&quot;</td><td>0</td><td>0</td><td>1</td><td>0</td><td>0</td><td>0</td><td>42</td><td>&quot;SAMSUNG&quot;</td><td>2</td><td>599</td><td>1</td><td>13.47</td><td>234.179993</td><td>88.010002</td><td>1</td><td>1</td><td>87.739998</td><td>0.03</td><td>276.450012</td><td>1</td><td>0</td><td>0</td><td>0</td><td>1</td><td>0</td><td>0</td><td>1</td><td>0</td></tr><tr><td>&quot;eospjcuj&quot;</td><td>0</td><td>0</td><td>0</td><td>1</td><td>0</td><td>0</td><td>69</td><td>&quot;广信&quot;</td><td>2</td><td>599</td><td>0</td><td>0.0</td><td>0.0</td><td>0.0</td><td>0</td><td>0</td><td>0.0</td><td>0.0</td><td>8.2</td><td>0</td><td>0</td><td>0</td><td>0</td><td>0</td><td>0</td><td>0</td><td>1</td><td>0</td></tr><tr><td>&quot;knjg3a5a&quot;</td><td>0</td><td>0</td><td>1</td><td>0</td><td>0</td><td>0</td><td>46</td><td>&quot;华为&quot;</td><td>3</td><td>990</td><td>1</td><td>1.98</td><td>20.129999</td><td>51.619999</td><td>0</td><td>1</td><td>0.0</td><td>51.619999</td><td>0.0</td><td>1</td><td>0</td><td>0</td><td>0</td><td>1</td><td>0</td><td>0</td><td>1</td><td>0</td></tr><tr><td>&hellip;</td><td>&hellip;</td><td>&hellip;</td><td>&hellip;</td><td>&hellip;</td><td>&hellip;</td><td>&hellip;</td><td>&hellip;</td><td>&hellip;</td><td>&hellip;</td><td>&hellip;</td><td>&hellip;</td><td>&hellip;</td><td>&hellip;</td><td>&hellip;</td><td>&hellip;</td><td>&hellip;</td><td>&hellip;</td><td>&hellip;</td><td>&hellip;</td><td>&hellip;</td><td>&hellip;</td><td>&hellip;</td><td>&hellip;</td><td>&hellip;</td><td>&hellip;</td><td>&hellip;</td><td>&hellip;</td><td>&hellip;</td></tr><tr><td>&quot;n4304pov&quot;</td><td>0</td><td>0</td><td>0</td><td>0</td><td>0</td><td>1</td><td>62</td><td>&quot;华为&quot;</td><td>3</td><td>838</td><td>1</td><td>6.45</td><td>0.28</td><td>157.710007</td><td>1</td><td>0</td><td>157.589996</td><td>0.0</td><td>38.0</td><td>0</td><td>0</td><td>0</td><td>0</td><td>1</td><td>0</td><td>0</td><td>1</td><td>0</td></tr><tr><td>&quot;jomk5rvu&quot;</td><td>0</td><td>0</td><td>0</td><td>0</td><td>0</td><td>1</td><td>52</td><td>&quot;华为&quot;</td><td>4</td><td>1890</td><td>1</td><td>74.580002</td><td>34.119999</td><td>18.49</td><td>1</td><td>0</td><td>18.48</td><td>0.0</td><td>25.0</td><td>0</td><td>0</td><td>0</td><td>0</td><td>1</td><td>0</td><td>0</td><td>1</td><td>0</td></tr><tr><td>&quot;5z4hjhs7&quot;</td><td>0</td><td>0</td><td>0</td><td>1</td><td>0</td><td>0</td><td>40</td><td>&quot;小米&quot;</td><td>4</td><td>2399</td><td>1</td><td>113.25</td><td>47.98</td><td>389.399994</td><td>1</td><td>1</td><td>382.579987</td><td>6.83</td><td>20.1</td><td>1</td><td>0</td><td>0</td><td>0</td><td>1</td><td>0</td><td>0</td><td>1</td><td>0</td></tr><tr><td>&quot;iau7455x&quot;</td><td>0</td><td>0</td><td>0</td><td>0</td><td>1</td><td>0</td><td>30</td><td>&quot;SAMSUNG&quot;</td><td>3</td><td>890</td><td>1</td><td>27.77</td><td>0.0</td><td>751.450012</td><td>1</td><td>0</td><td>751.450012</td><td>0.0</td><td>5.56</td><td>1</td><td>0</td><td>0</td><td>0</td><td>1</td><td>0</td><td>1</td><td>1</td><td>0</td></tr><tr><td>&quot;8p49jd8d&quot;</td><td>0</td><td>0</td><td>0</td><td>0</td><td>1</td><td>0</td><td>26</td><td>&quot;优思&quot;</td><td>2</td><td>678</td><td>0</td><td>66.25</td><td>102.919998</td><td>1.27</td><td>0</td><td>1</td><td>0.0</td><td>1.27</td><td>53.0</td><td>1</td><td>0</td><td>0</td><td>0</td><td>0</td><td>0</td><td>0</td><td>1</td><td>0</td></tr><tr><td>&quot;hjuo4xbt&quot;</td><td>0</td><td>0</td><td>0</td><td>1</td><td>0</td><td>0</td><td>30</td><td>&quot;SAMSUNG&quot;</td><td>4</td><td>2980</td><td>1</td><td>79.25</td><td>9.73</td><td>292.209991</td><td>1</td><td>0</td><td>292.209991</td><td>0.0</td><td>75.389999</td><td>1</td><td>0</td><td>0</td><td>0</td><td>1</td><td>0</td><td>0</td><td>1</td><td>0</td></tr><tr><td>&quot;lihc3hxv&quot;</td><td>0</td><td>0</td><td>1</td><td>0</td><td>0</td><td>0</td><td>29</td><td>&quot;SAMSUNG&quot;</td><td>2</td><td>499</td><td>1</td><td>33.700001</td><td>0.0</td><td>0.0</td><td>0</td><td>0</td><td>0.0</td><td>0.0</td><td>7.55</td><td>1</td><td>0</td><td>0</td><td>0</td><td>0</td><td>0</td><td>0</td><td>1</td><td>0</td></tr><tr><td>&quot;fjeyknj4&quot;</td><td>0</td><td>0</td><td>0</td><td>1</td><td>0</td><td>0</td><td>27</td><td>&quot;广信&quot;</td><td>1</td><td>199</td><td>0</td><td>153.729996</td><td>5.82</td><td>0.0</td><td>0</td><td>0</td><td>0.0</td><td>0.0</td><td>24.01</td><td>1</td><td>0</td><td>0</td><td>0</td><td>0</td><td>0</td><td>0</td><td>1</td><td>0</td></tr><tr><td>&quot;6lvo2c9o&quot;</td><td>0</td><td>0</td><td>1</td><td>0</td><td>0</td><td>0</td><td>18</td><td>&quot;苹果&quot;</td><td>5</td><td>5288</td><td>1</td><td>311.720001</td><td>98.32</td><td>2920.26001</td><td>1</td><td>1</td><td>2920.26001</td><td>0.0</td><td>34.299999</td><td>0</td><td>0</td><td>0</td><td>0</td><td>1</td><td>0</td><td>0</td><td>1</td><td>0</td></tr><tr><td>&quot;k42g3uo6&quot;</td><td>0</td><td>0</td><td>1</td><td>0</td><td>0</td><td>0</td><td>31</td><td>&quot;葳朗&quot;</td><td>2</td><td>399</td><td>1</td><td>12.58</td><td>40.98</td><td>43.34</td><td>1</td><td>1</td><td>41.48</td><td>1.86</td><td>105.650002</td><td>0</td><td>0</td><td>0</td><td>0</td><td>0</td><td>0</td><td>1</td><td>1</td><td>0</td></tr><tr><td>&quot;8uxw3i8t&quot;</td><td>0</td><td>0</td><td>0</td><td>0</td><td>1</td><td>0</td><td>44</td><td>&quot;酷派&quot;</td><td>3</td><td>899</td><td>1</td><td>7.28</td><td>0.35</td><td>53.279999</td><td>1</td><td>0</td><td>53.279999</td><td>0.0</td><td>21.68</td><td>1</td><td>0</td><td>0</td><td>0</td><td>1</td><td>0</td><td>0</td><td>1</td><td>0</td></tr><tr><td>&quot;cxc9k0gj&quot;</td><td>0</td><td>0</td><td>1</td><td>0</td><td>0</td><td>0</td><td>59</td><td>&quot;SAMSUNG&quot;</td><td>4</td><td>1698</td><td>1</td><td>20.15</td><td>11.58</td><td>128.699997</td><td>1</td><td>0</td><td>128.699997</td><td>0.0</td><td>65.389999</td><td>1</td><td>0</td><td>0</td><td>0</td><td>0</td><td>0</td><td>0</td><td>1</td><td>0</td></tr></tbody></table></div>"
      ],
      "text/plain": [
       "shape: (302_904, 29)\n",
       "┌───────────┬───────────┬───────────┬───────────┬───┬───────────┬───────────┬───────────┬──────────┐\n",
       "│ client_nb ┆ register_ ┆ register_ ┆ register_ ┆ … ┆ card_phon ┆ rural_fla ┆ employ_fl ┆ student_ │\n",
       "│ r         ┆ district_ ┆ district_ ┆ district_ ┆   ┆ e_flag    ┆ g         ┆ ag        ┆ flag     │\n",
       "│ ---       ┆ 中江      ┆ 什邡      ┆ 广汉      ┆   ┆ ---       ┆ ---       ┆ ---       ┆ ---      │\n",
       "│ str       ┆ ---       ┆ ---       ┆ ---       ┆   ┆ i32       ┆ i32       ┆ i32       ┆ i32      │\n",
       "│           ┆ u8        ┆ u8        ┆ u8        ┆   ┆           ┆           ┆           ┆          │\n",
       "╞═══════════╪═══════════╪═══════════╪═══════════╪═══╪═══════════╪═══════════╪═══════════╪══════════╡\n",
       "│ 6m6s3n3s  ┆ 0         ┆ 0         ┆ 0         ┆ … ┆ 0         ┆ 0         ┆ 1         ┆ 0        │\n",
       "│ 6twk3n3s  ┆ 0         ┆ 0         ┆ 0         ┆ … ┆ 0         ┆ 0         ┆ 1         ┆ 0        │\n",
       "│ mm7pjcxf  ┆ 0         ┆ 0         ┆ 0         ┆ … ┆ 0         ┆ 0         ┆ 1         ┆ 0        │\n",
       "│ fq5m3q1g  ┆ 0         ┆ 0         ┆ 1         ┆ … ┆ 0         ┆ 0         ┆ 1         ┆ 0        │\n",
       "│ …         ┆ …         ┆ …         ┆ …         ┆ … ┆ …         ┆ …         ┆ …         ┆ …        │\n",
       "│ 6lvo2c9o  ┆ 0         ┆ 0         ┆ 1         ┆ … ┆ 0         ┆ 0         ┆ 1         ┆ 0        │\n",
       "│ k42g3uo6  ┆ 0         ┆ 0         ┆ 1         ┆ … ┆ 0         ┆ 1         ┆ 1         ┆ 0        │\n",
       "│ 8uxw3i8t  ┆ 0         ┆ 0         ┆ 0         ┆ … ┆ 0         ┆ 0         ┆ 1         ┆ 0        │\n",
       "│ cxc9k0gj  ┆ 0         ┆ 0         ┆ 1         ┆ … ┆ 0         ┆ 0         ┆ 1         ┆ 0        │\n",
       "└───────────┴───────────┴───────────┴───────────┴───┴───────────┴───────────┴───────────┴──────────┘"
      ]
     },
     "execution_count": 7,
     "metadata": {},
     "output_type": "execute_result"
    }
   ],
   "source": [
    "df_user_info.to_dummies(\n",
    "    ['register_district', ]\n",
    ")"
   ]
  },
  {
   "cell_type": "code",
   "execution_count": null,
   "id": "e9a244f9",
   "metadata": {},
   "outputs": [],
   "source": [
    "df_u"
   ]
  },
  {
   "cell_type": "code",
   "execution_count": null,
   "id": "516f4f41",
   "metadata": {},
   "outputs": [],
   "source": []
  },
  {
   "cell_type": "code",
   "execution_count": 59,
   "id": "c74a2aba",
   "metadata": {},
   "outputs": [
    {
     "data": {
      "text/plain": [
       "301034"
      ]
     },
     "execution_count": 59,
     "metadata": {},
     "output_type": "execute_result"
    }
   ],
   "source": [
    "df_user_info['employ_flag'].sum()"
   ]
  },
  {
   "cell_type": "code",
   "execution_count": 58,
   "id": "ed197bb1",
   "metadata": {},
   "outputs": [
    {
     "data": {
      "text/html": [
       "<div><style>\n",
       ".dataframe > thead > tr > th,\n",
       ".dataframe > tbody > tr > td {\n",
       "  text-align: right;\n",
       "}\n",
       "</style>\n",
       "<small>shape: (20, 2)</small><table border=\"1\" class=\"dataframe\"><thead><tr><th>phone_brand</th><th>counts</th></tr><tr><td>str</td><td>u32</td></tr></thead><tbody><tr><td>&quot;华为&quot;</td><td>65491</td></tr><tr><td>&quot;SAMSUNG&quot;</td><td>51637</td></tr><tr><td>&quot;酷派&quot;</td><td>33631</td></tr><tr><td>&quot;中兴&quot;</td><td>30172</td></tr><tr><td>&quot;海信&quot;</td><td>19762</td></tr><tr><td>&quot;蓝天&quot;</td><td>13933</td></tr><tr><td>&quot;广信&quot;</td><td>11669</td></tr><tr><td>&quot;联想&quot;</td><td>9997</td></tr><tr><td>&quot;同威&quot;</td><td>7054</td></tr><tr><td>&quot;HTC&quot;</td><td>6348</td></tr><tr><td>&quot;苹果&quot;</td><td>4050</td></tr><tr><td>&quot;天语&quot;</td><td>3698</td></tr><tr><td>&quot;MOTO&quot;</td><td>3678</td></tr><tr><td>&quot;博瑞&quot;</td><td>3676</td></tr><tr><td>&quot;TCL&quot;</td><td>2912</td></tr><tr><td>&quot;易丰&quot;</td><td>2401</td></tr><tr><td>&quot;LG&quot;</td><td>2186</td></tr><tr><td>&quot;展翼&quot;</td><td>2100</td></tr><tr><td>&quot;小米&quot;</td><td>1890</td></tr><tr><td>&quot;天元&quot;</td><td>1803</td></tr></tbody></table></div>"
      ],
      "text/plain": [
       "shape: (20, 2)\n",
       "┌─────────────┬────────┐\n",
       "│ phone_brand ┆ counts │\n",
       "│ ---         ┆ ---    │\n",
       "│ str         ┆ u32    │\n",
       "╞═════════════╪════════╡\n",
       "│ 华为        ┆ 65491  │\n",
       "│ SAMSUNG     ┆ 51637  │\n",
       "│ 酷派        ┆ 33631  │\n",
       "│ 中兴        ┆ 30172  │\n",
       "│ …           ┆ …      │\n",
       "│ LG          ┆ 2186   │\n",
       "│ 展翼        ┆ 2100   │\n",
       "│ 小米        ┆ 1890   │\n",
       "│ 天元        ┆ 1803   │\n",
       "└─────────────┴────────┘"
      ]
     },
     "execution_count": 58,
     "metadata": {},
     "output_type": "execute_result"
    }
   ],
   "source": [
    "df_user_info['phone_brand'].value_counts(sort=True).head(20)"
   ]
  },
  {
   "cell_type": "code",
   "execution_count": null,
   "id": "b7670c48",
   "metadata": {},
   "outputs": [],
   "source": []
  }
 ],
 "metadata": {
  "kernelspec": {
   "display_name": "Poetry",
   "language": "python",
   "name": "poetry-kernel"
  },
  "language_info": {
   "codemirror_mode": {
    "name": "ipython",
    "version": 3
   },
   "file_extension": ".py",
   "mimetype": "text/x-python",
   "name": "python",
   "nbconvert_exporter": "python",
   "pygments_lexer": "ipython3",
   "version": "3.11.4"
  }
 },
 "nbformat": 4,
 "nbformat_minor": 5
}
