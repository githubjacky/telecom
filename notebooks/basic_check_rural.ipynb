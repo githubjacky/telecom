{
 "cells": [
  {
   "cell_type": "code",
   "execution_count": 4,
   "id": "e76ea302",
   "metadata": {},
   "outputs": [],
   "source": [
    "import os\n",
    "os.chdir('/home/r12323011/.config/zsh')"
   ]
  },
  {
   "cell_type": "code",
   "execution_count": 6,
   "id": "f842ab4d",
   "metadata": {},
   "outputs": [
    {
     "name": "stdout",
     "output_type": "stream",
     "text": [
      "#!/bin/sh\n",
      "\n",
      "\n",
      "\n",
      "# ~/ Clean-up\n",
      "export XDG_DATA_HOME=\"$HOME/.local/share\"\n",
      "export XDG_CONFIG_HOME=\"$HOME/.config\"\n",
      "export XDG_CACHE_HOME=\"$HOME/.cache\"\n",
      "export XDG_STATE_HOME=\"$HOME/.local/state\"\n",
      "export XDG_DOCUMENTS_DIR=\"$HOME/document\"\n",
      "export XDG_DOWNLOAD_DIR=\"$HOME/Downloads\"\n",
      "export XDG_MUSIC_DIR=\"$HOME/document/music\"\n",
      "export XDG_VIDEOS_DIR=\"$HOME/document/video\"\n",
      "\n",
      "export ZDOTDIR=\"$HOME/.config/zsh\"\n",
      "\n",
      "# export DOCKER_HOST=unix:///run/user/1206/docker.sock\n",
      "\n",
      "# export path variable\n",
      "export PATH=\"$HOME/.local/bin\":$PATH\n",
      "export PATH=\"$HOME/.config/rofi/bin\":$PATH\n",
      "export PATH=\"$XDG_DATA_HOME/npm/bin\":$PATH\n",
      "export PATH=\"/Applications/Stata/StataSE.app/Contents/MacOS\":$PATH\n",
      "# export PATH=\"/opt/miniconda3/bin\":$PATH\n",
      "export PATH=/Users/jacky/mambaforge/bin:$PATH\n",
      "export PATH=/opt/homebrew/bin:$PATH\n",
      "export PATH=${PATH}:/usr/local/mysql/bin\n",
      "\n",
      "# export PATH=/home/r12323011/bin:$PATH\n",
      "\n",
      "#default program\n",
      "export EDITOR=\"/home/r12323011/.local/bin/neovim\"\n",
      "export VISUAL=\"/opt/homebrew/bin/nvim\"\n",
      "export TERMINAL=\"/opt/homebrew/bin/alacritty\"\n",
      "export BROWSER=\"firefox\"\n",
      "export _JAVA_AWT_WM_NONREPARENTING=1\n",
      "\n",
      "\n",
      "# chinese input layout\n",
      "export LANG=\"en_US.UTF-8\"\n",
      "export LC_CTYPE=\"en_US.UTF-8\"\n",
      "export XMODIFIERS=\"@im=gcin\"\n",
      "export GCIN_XIM=\"gcin\"\n",
      "export GTK_IM_MODULE=\"gcin\"\n",
      "export QT_IM_MODULE=\"gcin\"\n",
      "\n",
      "\n",
      "# disable dot file\n",
      "export LESSHISTFILE=-\n",
      "export XINITRC=\"$XDG_CONFIG_HOME/X11/xinitrc\"\n",
      "export XAUTHORITY=\"$XDG_CONFIG_HOME/X11/xauthority\"\n",
      "export NPM_CONFIG_USERCONFIG=\"$XDG_CONFIG_HOME/npm/npmrc\"\n",
      "export GNUPGHOME=\"$XDG_DATA_HOME/gnupg\"\n",
      "export PASSWORD_STORE_DIR=\"$XDG_DATA_HOME/password-store\"\n",
      "export STARSHIP_CONFIG=\"$XDG_CONFIG_HOME/starship/config.toml\"\n",
      "export STARSHIP_CACHE=\"$XDG_CACHE_HOME/starship/\"\n",
      "export IPYTHONDIR=\"$XDG_CONFIG_HOME/ipython\"\n",
      "export JUPYTER_CONFIG_DIR=\"$XDG_CONFIG_HOME/jupyter\"\n",
      "export CONDARC=\"$HOME/mambaforge/.condarc\"\n",
      "export SSB_HOME=\"$XDG_DATA_HOME/zoom\"\n",
      "export NOTMUCH_CONFIG=\"$XDG_CONFIG_HOME/notmuch/notmuchrc\"\n",
      "export NMBGIT=\"$XDG_DATA_HOME/notmuch/nmbug\"\n",
      "export GTK2_RC_FILES=\"$XDG_CONFIG_HOME/gtk-2.0/gtkrc\"\n",
      "#export _JAVA_OPTIONS=-\n",
      "#Djava.util.prefs.userRoot=\"$XDG_CONFIG_HOME\"/java\n",
      "export WINEARCH=win64\n",
      "export WINEPREFIX=\"$XDG_DATA_HOME/wineprefixes/default\"\n",
      "\n",
      "\n",
      "# application\n",
      "export JULIA_NUM_THREADS=6\n",
      "\n",
      "export OVERRIDE_ODBCJL_CONFIG=true\n",
      "export ODBCINI=\"$HOME/.odbc.ini\"\n",
      "export ODBCSYSINI=\"/opt/homebrew/etc\"\n"
     ]
    }
   ],
   "source": [
    "cat zshenv"
   ]
  },
  {
   "cell_type": "code",
   "execution_count": 1,
   "id": "ffde568d-df55-4be8-905a-30b359f2ebf3",
   "metadata": {
    "execution": {
     "iopub.execute_input": "2023-11-16T14:01:59.455970Z",
     "iopub.status.busy": "2023-11-16T14:01:59.455686Z",
     "iopub.status.idle": "2023-11-16T14:01:59.514622Z",
     "shell.execute_reply": "2023-11-16T14:01:59.513057Z",
     "shell.execute_reply.started": "2023-11-16T14:01:59.455931Z"
    },
    "tags": []
   },
   "outputs": [],
   "source": [
    "import os\n",
    "os.chdir('..'"
   ]
  },
  {
   "cell_type": "code",
   "execution_count": 3,
   "id": "ebdf664b-29d8-4fcd-891e-d6f06f42163c",
   "metadata": {
    "execution": {
     "iopub.execute_input": "2023-11-16T14:03:24.679394Z",
     "iopub.status.busy": "2023-11-16T14:03:24.678909Z",
     "iopub.status.idle": "2023-11-16T14:03:24.817599Z",
     "shell.execute_reply": "2023-11-16T14:03:24.816703Z",
     "shell.execute_reply.started": "2023-11-16T14:03:24.679357Z"
    },
    "tags": []
   },
   "outputs": [
    {
     "data": {
      "text/plain": [
       "<CUDA Device 2>"
      ]
     },
     "execution_count": 3,
     "metadata": {},
     "output_type": "execute_result"
    }
   ],
   "source": [
    "import cupy\n",
    "cupy.cuda.Device(2).use()"
   ]
  },
  {
   "cell_type": "code",
   "execution_count": 4,
   "id": "f50460dc-8c9d-4f6a-9833-b0ced981bdc0",
   "metadata": {
    "execution": {
     "iopub.execute_input": "2023-11-16T14:03:26.900338Z",
     "iopub.status.busy": "2023-11-16T14:03:26.899554Z",
     "iopub.status.idle": "2023-11-16T14:03:29.653180Z",
     "shell.execute_reply": "2023-11-16T14:03:29.652049Z",
     "shell.execute_reply.started": "2023-11-16T14:03:26.900253Z"
    },
    "tags": []
   },
   "outputs": [
    {
     "data": {
      "text/plain": [
       "Index(['serv_id', 'client_nbr', 'born_area_code', 'register_district', 'age',\n",
       "       'male_flag', 'tenure', 'phone_brand', 'phone_level', 'phone_price',\n",
       "       'evdo_support_flag', 'arpu', 'mou_total', 'mou_local_callout',\n",
       "       'mou_dist_callout', 'network_usage_time', 'use_evdo_flag',\n",
       "       'use_onex_flag', 'e9_service_flag', 'e6_service_flag',\n",
       "       'e9_service_premium_flag', '8card_service_flag', 'smart_phone_flag',\n",
       "       'card_phone_flag', 'govern_worker_flag', 'business_purpose_flag',\n",
       "       'red_mark_flag', 'payment_flag', 'govern_cluster_flag',\n",
       "       'govern_industry_flag', 'vpn_support_flag', 'rural_flag', 'employ_flag',\n",
       "       'student_flag'],\n",
       "      dtype='object')"
      ]
     },
     "execution_count": 4,
     "metadata": {},
     "output_type": "execute_result"
    }
   ],
   "source": [
    "import cudf\n",
    "\n",
    "df = cudf.read_csv('data/processed/201308/clean_user_info.csv')\n",
    "df.columns"
   ]
  },
  {
   "cell_type": "markdown",
   "id": "9e5d8f51-0ec8-48a3-bf97-15ae9693721c",
   "metadata": {},
   "source": [
    "## Is there any interesting characteristic of rural flag?"
   ]
  },
  {
   "cell_type": "code",
   "execution_count": 5,
   "id": "d46b7d2e-965d-4620-a5ec-97aa0be10e5f",
   "metadata": {
    "execution": {
     "iopub.execute_input": "2023-11-16T14:03:33.198079Z",
     "iopub.status.busy": "2023-11-16T14:03:33.196867Z",
     "iopub.status.idle": "2023-11-16T14:03:33.265423Z",
     "shell.execute_reply": "2023-11-16T14:03:33.264397Z",
     "shell.execute_reply.started": "2023-11-16T14:03:33.197988Z"
    },
    "tags": []
   },
   "outputs": [
    {
     "data": {
      "text/plain": [
       "rural_flag\n",
       "0    180982\n",
       "1    121900\n",
       "dtype: int64"
      ]
     },
     "execution_count": 5,
     "metadata": {},
     "output_type": "execute_result"
    }
   ],
   "source": [
    "df.groupby('rural_flag').size()"
   ]
  },
  {
   "cell_type": "code",
   "execution_count": 6,
   "id": "a11012a4-a748-464f-9354-225c43b253d6",
   "metadata": {
    "execution": {
     "iopub.execute_input": "2023-11-16T14:03:34.589711Z",
     "iopub.status.busy": "2023-11-16T14:03:34.588938Z",
     "iopub.status.idle": "2023-11-16T14:03:34.642518Z",
     "shell.execute_reply": "2023-11-16T14:03:34.641510Z",
     "shell.execute_reply.started": "2023-11-16T14:03:34.589629Z"
    },
    "tags": []
   },
   "outputs": [
    {
     "data": {
      "text/html": [
       "<div>\n",
       "<style scoped>\n",
       "    .dataframe tbody tr th:only-of-type {\n",
       "        vertical-align: middle;\n",
       "    }\n",
       "\n",
       "    .dataframe tbody tr th {\n",
       "        vertical-align: top;\n",
       "    }\n",
       "\n",
       "    .dataframe thead th {\n",
       "        text-align: right;\n",
       "    }\n",
       "</style>\n",
       "<table border=\"1\" class=\"dataframe\">\n",
       "  <thead>\n",
       "    <tr style=\"text-align: right;\">\n",
       "      <th>rural_flag</th>\n",
       "      <th>0</th>\n",
       "      <th>1</th>\n",
       "    </tr>\n",
       "  </thead>\n",
       "  <tbody>\n",
       "    <tr>\n",
       "      <th>age</th>\n",
       "      <td>39.507222</td>\n",
       "      <td>40.110090</td>\n",
       "    </tr>\n",
       "    <tr>\n",
       "      <th>male_flag</th>\n",
       "      <td>0.611867</td>\n",
       "      <td>0.708843</td>\n",
       "    </tr>\n",
       "    <tr>\n",
       "      <th>tenure</th>\n",
       "      <td>62.234880</td>\n",
       "      <td>48.144553</td>\n",
       "    </tr>\n",
       "    <tr>\n",
       "      <th>phone_price</th>\n",
       "      <td>1023.572543</td>\n",
       "      <td>773.520320</td>\n",
       "    </tr>\n",
       "    <tr>\n",
       "      <th>evdo_support_flag</th>\n",
       "      <td>0.782945</td>\n",
       "      <td>0.750295</td>\n",
       "    </tr>\n",
       "    <tr>\n",
       "      <th>arpu</th>\n",
       "      <td>38.634005</td>\n",
       "      <td>34.669552</td>\n",
       "    </tr>\n",
       "    <tr>\n",
       "      <th>mou_total</th>\n",
       "      <td>256.660471</td>\n",
       "      <td>214.099081</td>\n",
       "    </tr>\n",
       "    <tr>\n",
       "      <th>mou_local_callout</th>\n",
       "      <td>90.983764</td>\n",
       "      <td>77.659357</td>\n",
       "    </tr>\n",
       "    <tr>\n",
       "      <th>mou_dist_callout</th>\n",
       "      <td>30.545063</td>\n",
       "      <td>22.976069</td>\n",
       "    </tr>\n",
       "    <tr>\n",
       "      <th>network_usage_time</th>\n",
       "      <td>5820.882741</td>\n",
       "      <td>5417.360902</td>\n",
       "    </tr>\n",
       "    <tr>\n",
       "      <th>use_evdo_flag</th>\n",
       "      <td>0.668531</td>\n",
       "      <td>0.640221</td>\n",
       "    </tr>\n",
       "    <tr>\n",
       "      <th>use_onex_flag</th>\n",
       "      <td>0.202307</td>\n",
       "      <td>0.196194</td>\n",
       "    </tr>\n",
       "    <tr>\n",
       "      <th>e9_service_flag</th>\n",
       "      <td>0.653402</td>\n",
       "      <td>0.722584</td>\n",
       "    </tr>\n",
       "    <tr>\n",
       "      <th>e6_service_flag</th>\n",
       "      <td>0.022726</td>\n",
       "      <td>0.047678</td>\n",
       "    </tr>\n",
       "    <tr>\n",
       "      <th>e9_service_premium_flag</th>\n",
       "      <td>0.001619</td>\n",
       "      <td>0.000213</td>\n",
       "    </tr>\n",
       "    <tr>\n",
       "      <th>8card_service_flag</th>\n",
       "      <td>0.004597</td>\n",
       "      <td>0.014463</td>\n",
       "    </tr>\n",
       "    <tr>\n",
       "      <th>smart_phone_flag</th>\n",
       "      <td>0.663917</td>\n",
       "      <td>0.619057</td>\n",
       "    </tr>\n",
       "    <tr>\n",
       "      <th>card_phone_flag</th>\n",
       "      <td>0.000017</td>\n",
       "      <td>0.000000</td>\n",
       "    </tr>\n",
       "    <tr>\n",
       "      <th>govern_worker_flag</th>\n",
       "      <td>0.393094</td>\n",
       "      <td>0.346136</td>\n",
       "    </tr>\n",
       "    <tr>\n",
       "      <th>business_purpose_flag</th>\n",
       "      <td>0.033738</td>\n",
       "      <td>0.041632</td>\n",
       "    </tr>\n",
       "    <tr>\n",
       "      <th>red_mark_flag</th>\n",
       "      <td>0.001177</td>\n",
       "      <td>0.000090</td>\n",
       "    </tr>\n",
       "    <tr>\n",
       "      <th>payment_flag</th>\n",
       "      <td>1.000000</td>\n",
       "      <td>1.000000</td>\n",
       "    </tr>\n",
       "    <tr>\n",
       "      <th>govern_cluster_flag</th>\n",
       "      <td>0.033711</td>\n",
       "      <td>0.010345</td>\n",
       "    </tr>\n",
       "    <tr>\n",
       "      <th>govern_industry_flag</th>\n",
       "      <td>0.875457</td>\n",
       "      <td>0.930681</td>\n",
       "    </tr>\n",
       "    <tr>\n",
       "      <th>vpn_support_flag</th>\n",
       "      <td>0.682493</td>\n",
       "      <td>0.823741</td>\n",
       "    </tr>\n",
       "    <tr>\n",
       "      <th>employ_flag</th>\n",
       "      <td>0.992060</td>\n",
       "      <td>0.996448</td>\n",
       "    </tr>\n",
       "    <tr>\n",
       "      <th>student_flag</th>\n",
       "      <td>0.090340</td>\n",
       "      <td>0.058827</td>\n",
       "    </tr>\n",
       "  </tbody>\n",
       "</table>\n",
       "</div>"
      ],
      "text/plain": [
       "rural_flag                         0            1\n",
       "age                        39.507222    40.110090\n",
       "male_flag                   0.611867     0.708843\n",
       "tenure                     62.234880    48.144553\n",
       "phone_price              1023.572543   773.520320\n",
       "evdo_support_flag           0.782945     0.750295\n",
       "arpu                       38.634005    34.669552\n",
       "mou_total                 256.660471   214.099081\n",
       "mou_local_callout          90.983764    77.659357\n",
       "mou_dist_callout           30.545063    22.976069\n",
       "network_usage_time       5820.882741  5417.360902\n",
       "use_evdo_flag               0.668531     0.640221\n",
       "use_onex_flag               0.202307     0.196194\n",
       "e9_service_flag             0.653402     0.722584\n",
       "e6_service_flag             0.022726     0.047678\n",
       "e9_service_premium_flag     0.001619     0.000213\n",
       "8card_service_flag          0.004597     0.014463\n",
       "smart_phone_flag            0.663917     0.619057\n",
       "card_phone_flag             0.000017     0.000000\n",
       "govern_worker_flag          0.393094     0.346136\n",
       "business_purpose_flag       0.033738     0.041632\n",
       "red_mark_flag               0.001177     0.000090\n",
       "payment_flag                1.000000     1.000000\n",
       "govern_cluster_flag         0.033711     0.010345\n",
       "govern_industry_flag        0.875457     0.930681\n",
       "vpn_support_flag            0.682493     0.823741\n",
       "employ_flag                 0.992060     0.996448\n",
       "student_flag                0.090340     0.058827"
      ]
     },
     "execution_count": 6,
     "metadata": {},
     "output_type": "execute_result"
    }
   ],
   "source": [
    "target_cols = [\n",
    "    'age', 'male_flag', 'tenure', 'phone_level', 'phone_price', 'evdo_support_flag',\n",
    "    'arpu', 'mou_total', 'mou_local_callout', 'mou_dist_callout', 'network_usage_time',\n",
    "    'use_evdo_flag', 'use_onex_flag', 'e9_service_flag', 'e6_service_flag','e9_service_premium_flag', \n",
    "    '8card_service_flag', 'smart_phone_flag', 'card_phone_flag', 'govern_worker_flag', 'business_purpose_flag',\n",
    "    'red_mark_flag', 'payment_flag', 'govern_cluster_flag', 'govern_industry_flag', 'vpn_support_flag',\n",
    "    'employ_flag', 'student_flag'\n",
    "]\n",
    "\n",
    "df_rural_stats = df.groupby(by='rural_flag')[target_cols].mean(numeric_only=False).transpose()\n",
    "df_rural_stats"
   ]
  }
 ],
 "metadata": {
  "kernelspec": {
   "display_name": "telecom-nsIEgWXL-py3.10",
   "language": "python",
   "name": "python3"
  },
  "language_info": {
   "codemirror_mode": {
    "name": "ipython",
    "version": 3
   },
   "file_extension": ".py",
   "mimetype": "text/x-python",
   "name": "python",
   "nbconvert_exporter": "python",
   "pygments_lexer": "ipython3",
   "version": "3.10.12"
  },
  "toc-showcode": false
 },
 "nbformat": 4,
 "nbformat_minor": 5
}
