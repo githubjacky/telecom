{
 "cells": [
  {
   "cell_type": "code",
   "execution_count": 1,
   "id": "ffde568d-df55-4be8-905a-30b359f2ebf3",
   "metadata": {
    "execution": {
     "iopub.execute_input": "2023-11-10T18:09:26.754268Z",
     "iopub.status.busy": "2023-11-10T18:09:26.753760Z",
     "iopub.status.idle": "2023-11-10T18:09:26.797530Z",
     "shell.execute_reply": "2023-11-10T18:09:26.796106Z",
     "shell.execute_reply.started": "2023-11-10T18:09:26.754230Z"
    },
    "tags": []
   },
   "outputs": [],
   "source": [
    "import os\n",
    "os.chdir('..')"
   ]
  },
  {
   "cell_type": "code",
   "execution_count": 3,
   "id": "f50460dc-8c9d-4f6a-9833-b0ced981bdc0",
   "metadata": {
    "execution": {
     "iopub.execute_input": "2023-11-10T18:09:33.988356Z",
     "iopub.status.busy": "2023-11-10T18:09:33.987353Z",
     "iopub.status.idle": "2023-11-10T18:09:34.044286Z",
     "shell.execute_reply": "2023-11-10T18:09:34.043203Z",
     "shell.execute_reply.started": "2023-11-10T18:09:33.988272Z"
    },
    "tags": []
   },
   "outputs": [
    {
     "data": {
      "text/plain": [
       "Index(['serv_id', 'client_nbr', 'born_area_code', 'register_district', 'age',\n",
       "       'male_flag', 'tenure', 'phone_brand', 'phone_level', 'phone_price',\n",
       "       'evdo_support_flag', 'arpu', 'mou_total', 'mou_local_callout',\n",
       "       'mou_dist_callout', 'network_usage_time', 'use_evdo_flag',\n",
       "       'use_onex_flag', 'e9_service_flag', 'e6_service_flag',\n",
       "       'e9_service_premium_flag', '8card_service_flag', 'smart_phone_flag',\n",
       "       'card_phone_flag', 'rural_flag', 'employ_flag', 'student_flag'],\n",
       "      dtype='object')"
      ]
     },
     "execution_count": 3,
     "metadata": {},
     "output_type": "execute_result"
    }
   ],
   "source": [
    "import cudf\n",
    "\n",
    "df = cudf.read_csv('data/processed/201308/clean_user_info.csv')\n",
    "df.columns"
   ]
  },
  {
   "cell_type": "markdown",
   "id": "9e5d8f51-0ec8-48a3-bf97-15ae9693721c",
   "metadata": {},
   "source": [
    "## Is there any interesting characteristic of rural flag?"
   ]
  },
  {
   "cell_type": "code",
   "execution_count": 4,
   "id": "d46b7d2e-965d-4620-a5ec-97aa0be10e5f",
   "metadata": {
    "execution": {
     "iopub.execute_input": "2023-11-10T18:09:40.075431Z",
     "iopub.status.busy": "2023-11-10T18:09:40.074540Z",
     "iopub.status.idle": "2023-11-10T18:09:40.123178Z",
     "shell.execute_reply": "2023-11-10T18:09:40.122069Z",
     "shell.execute_reply.started": "2023-11-10T18:09:40.075369Z"
    },
    "tags": []
   },
   "outputs": [
    {
     "data": {
      "text/plain": [
       "rural_flag\n",
       "1    121904\n",
       "0    181000\n",
       "dtype: int32"
      ]
     },
     "execution_count": 4,
     "metadata": {},
     "output_type": "execute_result"
    }
   ],
   "source": [
    "df.groupby('rural_flag').size()"
   ]
  },
  {
   "cell_type": "code",
   "execution_count": 5,
   "id": "a11012a4-a748-464f-9354-225c43b253d6",
   "metadata": {
    "execution": {
     "iopub.execute_input": "2023-11-10T18:09:54.008581Z",
     "iopub.status.busy": "2023-11-10T18:09:54.007846Z",
     "iopub.status.idle": "2023-11-10T18:09:54.068526Z",
     "shell.execute_reply": "2023-11-10T18:09:54.067569Z",
     "shell.execute_reply.started": "2023-11-10T18:09:54.008501Z"
    },
    "tags": []
   },
   "outputs": [
    {
     "data": {
      "text/html": [
       "<div>\n",
       "<style scoped>\n",
       "    .dataframe tbody tr th:only-of-type {\n",
       "        vertical-align: middle;\n",
       "    }\n",
       "\n",
       "    .dataframe tbody tr th {\n",
       "        vertical-align: top;\n",
       "    }\n",
       "\n",
       "    .dataframe thead th {\n",
       "        text-align: right;\n",
       "    }\n",
       "</style>\n",
       "<table border=\"1\" class=\"dataframe\">\n",
       "  <thead>\n",
       "    <tr style=\"text-align: right;\">\n",
       "      <th>rural_flag</th>\n",
       "      <th>1</th>\n",
       "      <th>0</th>\n",
       "    </tr>\n",
       "  </thead>\n",
       "  <tbody>\n",
       "    <tr>\n",
       "      <th>age</th>\n",
       "      <td>40.110201</td>\n",
       "      <td>39.506497</td>\n",
       "    </tr>\n",
       "    <tr>\n",
       "      <th>male_flag</th>\n",
       "      <td>0.708845</td>\n",
       "      <td>0.611890</td>\n",
       "    </tr>\n",
       "    <tr>\n",
       "      <th>tenure</th>\n",
       "      <td>48.148297</td>\n",
       "      <td>62.234779</td>\n",
       "    </tr>\n",
       "    <tr>\n",
       "      <th>phone_price</th>\n",
       "      <td>773.521509</td>\n",
       "      <td>1023.594829</td>\n",
       "    </tr>\n",
       "    <tr>\n",
       "      <th>evdo_support_flag</th>\n",
       "      <td>0.750287</td>\n",
       "      <td>0.782945</td>\n",
       "    </tr>\n",
       "    <tr>\n",
       "      <th>arpu</th>\n",
       "      <td>34.668720</td>\n",
       "      <td>38.633111</td>\n",
       "    </tr>\n",
       "    <tr>\n",
       "      <th>mou_total</th>\n",
       "      <td>214.092172</td>\n",
       "      <td>256.635557</td>\n",
       "    </tr>\n",
       "    <tr>\n",
       "      <th>mou_local_callout</th>\n",
       "      <td>77.656840</td>\n",
       "      <td>90.974877</td>\n",
       "    </tr>\n",
       "    <tr>\n",
       "      <th>mou_dist_callout</th>\n",
       "      <td>22.975315</td>\n",
       "      <td>30.542029</td>\n",
       "    </tr>\n",
       "    <tr>\n",
       "      <th>network_usage_time</th>\n",
       "      <td>5417.235087</td>\n",
       "      <td>5820.652112</td>\n",
       "    </tr>\n",
       "    <tr>\n",
       "      <th>use_evdo_flag</th>\n",
       "      <td>0.640209</td>\n",
       "      <td>0.668530</td>\n",
       "    </tr>\n",
       "    <tr>\n",
       "      <th>use_onex_flag</th>\n",
       "      <td>0.196187</td>\n",
       "      <td>0.202293</td>\n",
       "    </tr>\n",
       "    <tr>\n",
       "      <th>e9_service_flag</th>\n",
       "      <td>0.722577</td>\n",
       "      <td>0.653370</td>\n",
       "    </tr>\n",
       "    <tr>\n",
       "      <th>e6_service_flag</th>\n",
       "      <td>0.047677</td>\n",
       "      <td>0.022724</td>\n",
       "    </tr>\n",
       "    <tr>\n",
       "      <th>e9_service_premium_flag</th>\n",
       "      <td>0.000213</td>\n",
       "      <td>0.001619</td>\n",
       "    </tr>\n",
       "    <tr>\n",
       "      <th>8card_service_flag</th>\n",
       "      <td>0.014462</td>\n",
       "      <td>0.004597</td>\n",
       "    </tr>\n",
       "    <tr>\n",
       "      <th>smart_phone_flag</th>\n",
       "      <td>0.619053</td>\n",
       "      <td>0.663923</td>\n",
       "    </tr>\n",
       "    <tr>\n",
       "      <th>card_phone_flag</th>\n",
       "      <td>0.000000</td>\n",
       "      <td>0.000017</td>\n",
       "    </tr>\n",
       "    <tr>\n",
       "      <th>employ_flag</th>\n",
       "      <td>0.996448</td>\n",
       "      <td>0.992061</td>\n",
       "    </tr>\n",
       "    <tr>\n",
       "      <th>student_flag</th>\n",
       "      <td>0.058825</td>\n",
       "      <td>0.090365</td>\n",
       "    </tr>\n",
       "  </tbody>\n",
       "</table>\n",
       "</div>"
      ],
      "text/plain": [
       "rural_flag                         1            0\n",
       "age                        40.110201    39.506497\n",
       "male_flag                   0.708845     0.611890\n",
       "tenure                     48.148297    62.234779\n",
       "phone_price               773.521509  1023.594829\n",
       "evdo_support_flag           0.750287     0.782945\n",
       "arpu                       34.668720    38.633111\n",
       "mou_total                 214.092172   256.635557\n",
       "mou_local_callout          77.656840    90.974877\n",
       "mou_dist_callout           22.975315    30.542029\n",
       "network_usage_time       5417.235087  5820.652112\n",
       "use_evdo_flag               0.640209     0.668530\n",
       "use_onex_flag               0.196187     0.202293\n",
       "e9_service_flag             0.722577     0.653370\n",
       "e6_service_flag             0.047677     0.022724\n",
       "e9_service_premium_flag     0.000213     0.001619\n",
       "8card_service_flag          0.014462     0.004597\n",
       "smart_phone_flag            0.619053     0.663923\n",
       "card_phone_flag             0.000000     0.000017\n",
       "employ_flag                 0.996448     0.992061\n",
       "student_flag                0.058825     0.090365"
      ]
     },
     "execution_count": 5,
     "metadata": {},
     "output_type": "execute_result"
    }
   ],
   "source": [
    "target_cols = [\n",
    "    'age', 'male_flag', 'tenure', 'phone_level', 'phone_price', 'evdo_support_flag',\n",
    "    'arpu', 'mou_total', 'mou_local_callout', 'mou_dist_callout', 'network_usage_time',\n",
    "    'use_evdo_flag', 'use_onex_flag', 'e9_service_flag', 'e6_service_flag','e9_service_premium_flag', \n",
    "    '8card_service_flag', 'smart_phone_flag', 'card_phone_flag', 'employ_flag', 'student_flag'\n",
    "]\n",
    "\n",
    "df_rural_stats = df.groupby(by='rural_flag')[target_cols].mean(numeric_only=False).transpose()\n",
    "df_rural_stats"
   ]
  }
 ],
 "metadata": {
  "kernelspec": {
   "display_name": "Poetry",
   "language": "python",
   "name": "poetry-kernel"
  },
  "language_info": {
   "codemirror_mode": {
    "name": "ipython",
    "version": 3
   },
   "file_extension": ".py",
   "mimetype": "text/x-python",
   "name": "python",
   "nbconvert_exporter": "python",
   "pygments_lexer": "ipython3",
   "version": "3.10.13"
  },
  "toc-showcode": false
 },
 "nbformat": 4,
 "nbformat_minor": 5
}
